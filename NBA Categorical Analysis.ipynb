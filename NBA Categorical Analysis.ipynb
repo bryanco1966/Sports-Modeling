{
 "cells": [
  {
   "cell_type": "code",
   "execution_count": 93,
   "metadata": {},
   "outputs": [],
   "source": [
    "from sklearn.ensemble import AdaBoostClassifier, RandomForestClassifier\n",
    "from sklearn.model_selection import train_test_split, cross_val_score\n",
    "import pandas as pd\n",
    "import numpy as np\n",
    "from sklearn.metrics import classification_report, confusion_matrix\n",
    "import matplotlib.pyplot as plt\n",
    "from sklearn.svm import SVC\n",
    "from sklearn.preprocessing import StandardScaler, PolynomialFeatures\n",
    "from sklearn.linear_model import LogisticRegressionCV\n",
    "from sklearn.model_selection import GridSearchCV\n",
    "from sklearn.naive_bayes import GaussianNB\n",
    "from datatools import DataGrapher\n",
    "\n",
    "\n",
    "%matplotlib inline"
   ]
  },
  {
   "cell_type": "code",
   "execution_count": 94,
   "metadata": {},
   "outputs": [],
   "source": [
    "#Bring in the data\n",
    "\n",
    "nba = pd.read_csv('./data/nba_analysis_data.csv')\n",
    "nba.dropna(inplace = True)"
   ]
  },
  {
   "cell_type": "code",
   "execution_count": 95,
   "metadata": {},
   "outputs": [],
   "source": [
    "#seperate test from train\n",
    "\n",
    "nba_train = nba[nba.test == 0]\n",
    "nba_test = nba[nba.test ==1]  #scott tarlow scotttarlow@gmail.com\n",
    "#learn a domain"
   ]
  },
  {
   "cell_type": "code",
   "execution_count": 96,
   "metadata": {},
   "outputs": [],
   "source": [
    "nba_train = nba_train[nba_train.playoff_game == 1]\n",
    "nba_test = nba_test[nba_test.playoff_game == 1]"
   ]
  },
  {
   "cell_type": "code",
   "execution_count": 97,
   "metadata": {},
   "outputs": [],
   "source": [
    "\n",
    "X_train = nba_train.drop(columns = ['cover','home_win_margin', \n",
    "                        'date', 'dataset','line_cv', \n",
    "                       'home_starter5', 'teams', 'away_team',\n",
    "                       'away_starter2', 'away_starter3',\n",
    "                       'away_starter4', 'away_starter5',\n",
    "                       'ref_1', 'ref_3', 'crew_referees',\n",
    "                      'away_pace', 'away_spread',\n",
    "                        'away_line_cv',  'away_cover',\n",
    "                       'home_payout', 'away_payout'])\n",
    "\n",
    "\n",
    "#X = nba[features]\n",
    "y_train = nba_train['cover']"
   ]
  },
  {
   "cell_type": "code",
   "execution_count": 98,
   "metadata": {},
   "outputs": [],
   "source": [
    "X_test= nba_test.drop(columns = ['cover','home_win_margin', \n",
    "                        'date', 'dataset','line_cv', \n",
    "                       'home_starter5', 'teams', 'away_team',\n",
    "                       'away_starter2', 'away_starter3',\n",
    "                       'away_starter4', 'away_starter5',\n",
    "                       'ref_1', 'ref_3', 'crew_referees',\n",
    "                      'away_pace', 'away_spread',\n",
    "                        'away_line_cv',  'away_cover',\n",
    "                       'home_payout', 'away_payout'])\n",
    "\n",
    "y_test = nba_test.away_cover"
   ]
  },
  {
   "cell_type": "code",
   "execution_count": 99,
   "metadata": {},
   "outputs": [
    {
     "data": {
      "text/plain": [
       "(150, 141)"
      ]
     },
     "execution_count": 99,
     "metadata": {},
     "output_type": "execute_result"
    }
   ],
   "source": [
    "\n",
    "X_test.shape"
   ]
  },
  {
   "cell_type": "code",
   "execution_count": 100,
   "metadata": {},
   "outputs": [
    {
     "data": {
      "text/plain": [
       "(711, 141)"
      ]
     },
     "execution_count": 100,
     "metadata": {},
     "output_type": "execute_result"
    }
   ],
   "source": [
    "X_train.shape"
   ]
  },
  {
   "cell_type": "code",
   "execution_count": null,
   "metadata": {},
   "outputs": [],
   "source": []
  },
  {
   "cell_type": "code",
   "execution_count": 101,
   "metadata": {},
   "outputs": [],
   "source": [
    "\n",
    "#create interactions and squared terms\n",
    "poly = PolynomialFeatures(degree = 2, interaction_only= True)\n",
    "X_poly = poly.fit_transform(X_train)\n",
    "X_poly_test = poly.transform(X_test)\n",
    "X_poly = pd.DataFrame(X_poly, \n",
    "                      columns = poly.get_feature_names(X_train.columns))\n",
    "X_poly_test = pd.DataFrame(X_poly_test, \n",
    "                           columns = poly.get_feature_names(X_test.columns))\n"
   ]
  },
  {
   "cell_type": "code",
   "execution_count": 102,
   "metadata": {
    "scrolled": true
   },
   "outputs": [],
   "source": [
    "\n",
    "#scaling data to use in various other methods\n",
    "ss = StandardScaler()\n",
    "X_train_scaled = ss.fit_transform(X_poly)\n",
    "X_test_scaled = ss.transform(X_poly_test)"
   ]
  },
  {
   "cell_type": "code",
   "execution_count": 103,
   "metadata": {},
   "outputs": [],
   "source": [
    "from sklearn.decomposition import PCA"
   ]
  },
  {
   "cell_type": "code",
   "execution_count": 104,
   "metadata": {},
   "outputs": [],
   "source": [
    "pc = PCA(n_components=150)\n",
    "X_train_pc = pc.fit_transform(X_train_scaled)\n",
    "X_test_pc = pc.transform(X_test_scaled)\n"
   ]
  },
  {
   "cell_type": "code",
   "execution_count": 105,
   "metadata": {
    "scrolled": false
   },
   "outputs": [
    {
     "name": "stdout",
     "output_type": "stream",
     "text": [
      "Explained variance:             [0.11605178 0.10547111 0.05089098 0.04630991 0.04418123 0.03226407\n",
      " 0.03122277 0.03027212 0.0297601  0.02739417 0.02522088 0.02432342\n",
      " 0.02282019 0.02073935 0.02031913 0.01850723 0.01694509 0.01685441\n",
      " 0.01578199 0.01559065 0.01406564 0.01302763 0.01270907 0.01217285\n",
      " 0.01116591 0.01061875 0.00937953 0.00913724 0.00885982 0.00882896\n",
      " 0.00815489 0.00776667 0.00706363 0.00698982 0.0068722  0.00603972\n",
      " 0.0059722  0.0059047  0.0052635  0.00480752 0.00451206 0.004295\n",
      " 0.00408115 0.00396346 0.00370775 0.00361237 0.00341703 0.00316936\n",
      " 0.00299835 0.00297487 0.00285736 0.00257099 0.00241353 0.00225634\n",
      " 0.0022061  0.00215527 0.00205229 0.00184508 0.00181428 0.00178352\n",
      " 0.00172155 0.00157376 0.00148907 0.00148598 0.00141488 0.00134987\n",
      " 0.00125466 0.00115305 0.00111102 0.0010635  0.00103203 0.00097812\n",
      " 0.00093445 0.00089971 0.00089352 0.00086451 0.00083399 0.00080924\n",
      " 0.00076036 0.00073483 0.00071046 0.00069523 0.00066266 0.00062962\n",
      " 0.00062251 0.00059246 0.00056409 0.00054556 0.00052591 0.00052346\n",
      " 0.00050513 0.00047329 0.00046971 0.00046593 0.00045145 0.00044107\n",
      " 0.00043351 0.00042592 0.0004046  0.00037972 0.00036769 0.00036454\n",
      " 0.00035244 0.00034309 0.00032856 0.00032154 0.00031279 0.00030501\n",
      " 0.00029981 0.00029169 0.00027958 0.00027388 0.00026708 0.00025893\n",
      " 0.00025345 0.00025059 0.00024443 0.00023642 0.0002349  0.00022996\n",
      " 0.00022279 0.00022064 0.00021312 0.00020418 0.0002011  0.00019672\n",
      " 0.00019611 0.00019008 0.00018993 0.00018687 0.00018295 0.0001738\n",
      " 0.00017159 0.00016977 0.00016228 0.0001602  0.0001592  0.00015596\n",
      " 0.00015288 0.00014891 0.00014619 0.00014354 0.00014306 0.00013974\n",
      " 0.00013543 0.00013239 0.00012646 0.00012491 0.00012327 0.00012233]\n",
      "Cumulative explained variance:  [0.11605178 0.22152289 0.27241387 0.31872379 0.36290502 0.39516908\n",
      " 0.42639185 0.45666397 0.48642407 0.51381825 0.53903912 0.56336254\n",
      " 0.58618273 0.60692208 0.62724121 0.64574845 0.66269354 0.67954795\n",
      " 0.69532994 0.71092059 0.72498623 0.73801387 0.75072293 0.76289579\n",
      " 0.7740617  0.78468045 0.79405999 0.80319722 0.81205704 0.82088601\n",
      " 0.8290409  0.83680756 0.8438712  0.85086101 0.85773321 0.86377293\n",
      " 0.86974513 0.87564983 0.88091333 0.88572084 0.8902329  0.8945279\n",
      " 0.89860905 0.90257251 0.90628026 0.90989263 0.91330966 0.91647902\n",
      " 0.91947737 0.92245224 0.9253096  0.92788058 0.93029411 0.93255045\n",
      " 0.93475654 0.93691181 0.9389641  0.94080919 0.94262347 0.94440699\n",
      " 0.94612854 0.9477023  0.94919137 0.95067735 0.95209223 0.9534421\n",
      " 0.95469676 0.95584981 0.95696084 0.95802434 0.95905637 0.96003448\n",
      " 0.96096894 0.96186865 0.96276217 0.96362668 0.96446067 0.96526991\n",
      " 0.96603027 0.9667651  0.96747556 0.96817079 0.96883345 0.96946307\n",
      " 0.97008558 0.97067804 0.97124213 0.97178769 0.9723136  0.97283707\n",
      " 0.9733422  0.97381549 0.97428519 0.97475113 0.97520258 0.97564365\n",
      " 0.97607716 0.97650308 0.97690768 0.9772874  0.97765509 0.97801963\n",
      " 0.97837207 0.97871516 0.97904372 0.97936526 0.97967805 0.97998306\n",
      " 0.98028286 0.98057456 0.98085414 0.98112802 0.9813951  0.98165403\n",
      " 0.98190748 0.98215807 0.9824025  0.98263892 0.98287382 0.98310378\n",
      " 0.98332657 0.98354721 0.98376033 0.9839645  0.98416561 0.98436232\n",
      " 0.98455844 0.98474852 0.98493844 0.98512531 0.98530826 0.98548207\n",
      " 0.98565366 0.98582343 0.98598571 0.98614591 0.98630511 0.98646106\n",
      " 0.98661395 0.98676285 0.98690905 0.98705259 0.98719565 0.9873354\n",
      " 0.98747083 0.98760322 0.98772968 0.98785459 0.98797786 0.98810019]\n"
     ]
    }
   ],
   "source": [
    "var_exp = pc.explained_variance_ratio_\n",
    "print('Explained variance:            ', var_exp)\n",
    "\n",
    "cum_var_exp = np.cumsum(var_exp)\n",
    "print('Cumulative explained variance: ', cum_var_exp)"
   ]
  },
  {
   "cell_type": "code",
   "execution_count": 106,
   "metadata": {
    "scrolled": true
   },
   "outputs": [
    {
     "name": "stderr",
     "output_type": "stream",
     "text": [
      "/Users/bryancombs/anaconda3/lib/python3.6/site-packages/sklearn/linear_model/sag.py:334: ConvergenceWarning: The max_iter was reached which means the coef_ did not converge\n",
      "  \"the coef_ did not converge\", ConvergenceWarning)\n",
      "/Users/bryancombs/anaconda3/lib/python3.6/site-packages/sklearn/linear_model/sag.py:334: ConvergenceWarning: The max_iter was reached which means the coef_ did not converge\n",
      "  \"the coef_ did not converge\", ConvergenceWarning)\n",
      "/Users/bryancombs/anaconda3/lib/python3.6/site-packages/sklearn/linear_model/sag.py:334: ConvergenceWarning: The max_iter was reached which means the coef_ did not converge\n",
      "  \"the coef_ did not converge\", ConvergenceWarning)\n",
      "/Users/bryancombs/anaconda3/lib/python3.6/site-packages/sklearn/linear_model/sag.py:334: ConvergenceWarning: The max_iter was reached which means the coef_ did not converge\n",
      "  \"the coef_ did not converge\", ConvergenceWarning)\n",
      "/Users/bryancombs/anaconda3/lib/python3.6/site-packages/sklearn/linear_model/sag.py:334: ConvergenceWarning: The max_iter was reached which means the coef_ did not converge\n",
      "  \"the coef_ did not converge\", ConvergenceWarning)\n",
      "/Users/bryancombs/anaconda3/lib/python3.6/site-packages/sklearn/linear_model/sag.py:334: ConvergenceWarning: The max_iter was reached which means the coef_ did not converge\n",
      "  \"the coef_ did not converge\", ConvergenceWarning)\n"
     ]
    },
    {
     "data": {
      "text/plain": [
       "0.6751054852320675"
      ]
     },
     "execution_count": 106,
     "metadata": {},
     "output_type": "execute_result"
    }
   ],
   "source": [
    "lr = LogisticRegressionCV(Cs=[1000000, 100000] , \n",
    "                          penalty='l2', \n",
    "                          solver ='saga', \n",
    "                          cv =5 )\n",
    "lr.fit(X_train_pc, y_train)\n",
    "lr.score(X_train_pc, y_train)"
   ]
  },
  {
   "cell_type": "code",
   "execution_count": 107,
   "metadata": {
    "scrolled": false
   },
   "outputs": [
    {
     "data": {
      "text/plain": [
       "0.54"
      ]
     },
     "execution_count": 107,
     "metadata": {},
     "output_type": "execute_result"
    }
   ],
   "source": [
    "lr.score(X_test_pc, y_test)"
   ]
  },
  {
   "cell_type": "code",
   "execution_count": 108,
   "metadata": {},
   "outputs": [],
   "source": [
    "y_hat_lr = lr.predict(X_train_pc)\n",
    "y_hat_lrp = lr.predict_proba(X_train_pc)\n",
    "y_hat_lrt = lr.predict(X_test_pc)"
   ]
  },
  {
   "cell_type": "code",
   "execution_count": 109,
   "metadata": {
    "scrolled": true
   },
   "outputs": [
    {
     "name": "stdout",
     "output_type": "stream",
     "text": [
      "              precision    recall  f1-score   support\n",
      "\n",
      "           0       0.65      0.67      0.66       333\n",
      "           1       0.70      0.68      0.69       378\n",
      "\n",
      "   micro avg       0.68      0.68      0.68       711\n",
      "   macro avg       0.67      0.67      0.67       711\n",
      "weighted avg       0.68      0.68      0.68       711\n",
      "\n"
     ]
    }
   ],
   "source": [
    "print(classification_report(y_train, y_hat_lr))"
   ]
  },
  {
   "cell_type": "code",
   "execution_count": 110,
   "metadata": {},
   "outputs": [
    {
     "data": {
      "text/plain": [
       "array([[223, 110],\n",
       "       [121, 257]])"
      ]
     },
     "execution_count": 110,
     "metadata": {},
     "output_type": "execute_result"
    }
   ],
   "source": [
    "confusion_matrix( y_train, y_hat_lr)"
   ]
  },
  {
   "cell_type": "code",
   "execution_count": 111,
   "metadata": {},
   "outputs": [
    {
     "data": {
      "text/plain": [
       "array([[49, 24],\n",
       "       [45, 32]])"
      ]
     },
     "execution_count": 111,
     "metadata": {},
     "output_type": "execute_result"
    }
   ],
   "source": [
    "confusion_matrix( y_test, y_hat_lrt)"
   ]
  },
  {
   "cell_type": "markdown",
   "metadata": {},
   "source": [
    "### Naive Bayes\n",
    "\n",
    "Model seems to work best with bare bones information.  More information confused the model."
   ]
  },
  {
   "cell_type": "code",
   "execution_count": 151,
   "metadata": {
    "scrolled": true
   },
   "outputs": [],
   "source": [
    "nb = GaussianNB()\n",
    "nb_params = {\n",
    "    'var_smoothing' : [.9,1,.7 ] \n",
    "    }"
   ]
  },
  {
   "cell_type": "code",
   "execution_count": null,
   "metadata": {},
   "outputs": [],
   "source": []
  },
  {
   "cell_type": "code",
   "execution_count": 152,
   "metadata": {
    "scrolled": true
   },
   "outputs": [
    {
     "name": "stdout",
     "output_type": "stream",
     "text": [
      "0.8471177944862155\n",
      "{'var_smoothing': 1}\n"
     ]
    },
    {
     "name": "stderr",
     "output_type": "stream",
     "text": [
      "/Users/bryancombs/anaconda3/lib/python3.6/site-packages/sklearn/model_selection/_split.py:1943: FutureWarning: You should specify a value for 'cv' instead of relying on the default value. The default value will change from 3 to 5 in version 0.22.\n",
      "  warnings.warn(CV_WARNING, FutureWarning)\n"
     ]
    }
   ],
   "source": [
    "gs = GridSearchCV(nb, param_grid=nb_params, scoring='precision')\n",
    "gs.fit(X_train_pc, y_train)\n",
    "print(gs.best_score_)\n",
    "print(gs.best_params_)"
   ]
  },
  {
   "cell_type": "code",
   "execution_count": 153,
   "metadata": {},
   "outputs": [
    {
     "data": {
      "text/plain": [
       "0.25"
      ]
     },
     "execution_count": 153,
     "metadata": {},
     "output_type": "execute_result"
    }
   ],
   "source": [
    "gs.score(X_test_pc, y_test)"
   ]
  },
  {
   "cell_type": "code",
   "execution_count": 154,
   "metadata": {},
   "outputs": [],
   "source": [
    "y_hat_nb = gs.predict(X_train_pc)\n",
    "y_hat_nbp = gs.predict_proba(X_train_pc)\n",
    "y_hat_nbt = gs.predict(X_test_pc)"
   ]
  },
  {
   "cell_type": "code",
   "execution_count": 148,
   "metadata": {
    "scrolled": false
   },
   "outputs": [
    {
     "name": "stdout",
     "output_type": "stream",
     "text": [
      "              precision    recall  f1-score   support\n",
      "\n",
      "           0       0.47      0.98      0.64       333\n",
      "           1       0.71      0.03      0.06       378\n",
      "\n",
      "   micro avg       0.48      0.48      0.48       711\n",
      "   macro avg       0.59      0.51      0.35       711\n",
      "weighted avg       0.60      0.48      0.33       711\n",
      "\n"
     ]
    }
   ],
   "source": [
    "print(classification_report(y_train, y_hat_nb))"
   ]
  },
  {
   "cell_type": "code",
   "execution_count": 149,
   "metadata": {
    "scrolled": true
   },
   "outputs": [
    {
     "data": {
      "text/plain": [
       "array([[328,   5],\n",
       "       [366,  12]])"
      ]
     },
     "execution_count": 149,
     "metadata": {},
     "output_type": "execute_result"
    }
   ],
   "source": [
    "confusion_matrix( y_train, y_hat_nb)"
   ]
  },
  {
   "cell_type": "code",
   "execution_count": 150,
   "metadata": {},
   "outputs": [
    {
     "data": {
      "text/plain": [
       "array([[70,  3],\n",
       "       [76,  1]])"
      ]
     },
     "execution_count": 150,
     "metadata": {},
     "output_type": "execute_result"
    }
   ],
   "source": [
    "confusion_matrix( y_test, y_hat_nbt)"
   ]
  },
  {
   "cell_type": "code",
   "execution_count": 119,
   "metadata": {},
   "outputs": [],
   "source": [
    "from keras.models import Sequential\n",
    "from keras.layers import Dense\n",
    "from keras.utils import to_categorical"
   ]
  },
  {
   "cell_type": "code",
   "execution_count": 120,
   "metadata": {},
   "outputs": [],
   "source": [
    "model = Sequential()\n",
    "model.add(Dense(100, \n",
    "                activation = 'relu',\n",
    "                input_dim = X_train_pc.shape[1]))\n",
    "#model.add(Dense(200, activation = 'relu'))\n",
    "\n",
    "#model.add(Dense(10, activation = 'relu'))\n",
    "model.add(Dense(1, activation = 'sigmoid')) #output layer "
   ]
  },
  {
   "cell_type": "code",
   "execution_count": null,
   "metadata": {},
   "outputs": [],
   "source": []
  },
  {
   "cell_type": "raw",
   "metadata": {},
   "source": []
  },
  {
   "cell_type": "code",
   "execution_count": 121,
   "metadata": {},
   "outputs": [
    {
     "name": "stdout",
     "output_type": "stream",
     "text": [
      "Train on 711 samples, validate on 150 samples\n",
      "Epoch 1/4\n",
      "711/711 [==============================] - 0s 380us/step - loss: 2.1489 - acc: 0.5007 - val_loss: 2.2036 - val_acc: 0.4667\n",
      "Epoch 2/4\n",
      "711/711 [==============================] - 0s 18us/step - loss: 1.4694 - acc: 0.5387 - val_loss: 2.0466 - val_acc: 0.4600\n",
      "Epoch 3/4\n",
      "711/711 [==============================] - 0s 17us/step - loss: 1.0891 - acc: 0.5893 - val_loss: 1.9642 - val_acc: 0.4800\n",
      "Epoch 4/4\n",
      "711/711 [==============================] - 0s 19us/step - loss: 0.8953 - acc: 0.6315 - val_loss: 1.9256 - val_acc: 0.4867\n"
     ]
    },
    {
     "data": {
      "text/plain": [
       "<keras.callbacks.History at 0x1a65bef4e0>"
      ]
     },
     "execution_count": 121,
     "metadata": {},
     "output_type": "execute_result"
    }
   ],
   "source": [
    "model.compile(loss = 'binary_crossentropy', optimizer='adam',\n",
    "              metrics = ['accuracy'])\n",
    "model.fit(X_train_pc, \n",
    "          y_train, epochs =4, \n",
    "          batch_size= 128, \n",
    "          validation_data=(X_test_pc, y_test))"
   ]
  },
  {
   "cell_type": "code",
   "execution_count": 122,
   "metadata": {},
   "outputs": [],
   "source": [
    "y_hat_nn = model.predict(X_train_pc)\n",
    "y_hat_nnp = model.predict_proba(X_train_pc)"
   ]
  },
  {
   "cell_type": "code",
   "execution_count": 123,
   "metadata": {
    "scrolled": true
   },
   "outputs": [],
   "source": [
    "rf = RandomForestClassifier()\n",
    "rf_params = {'max_depth' : [140,120],\n",
    "             'min_samples_split' : [200,190]}"
   ]
  },
  {
   "cell_type": "code",
   "execution_count": 124,
   "metadata": {
    "scrolled": true
   },
   "outputs": [
    {
     "name": "stderr",
     "output_type": "stream",
     "text": [
      "/Users/bryancombs/anaconda3/lib/python3.6/site-packages/sklearn/model_selection/_split.py:1943: FutureWarning: You should specify a value for 'cv' instead of relying on the default value. The default value will change from 3 to 5 in version 0.22.\n",
      "  warnings.warn(CV_WARNING, FutureWarning)\n",
      "/Users/bryancombs/anaconda3/lib/python3.6/site-packages/sklearn/ensemble/forest.py:248: FutureWarning: The default value of n_estimators will change from 10 in version 0.20 to 100 in 0.22.\n",
      "  \"10 in version 0.20 to 100 in 0.22.\", FutureWarning)\n",
      "/Users/bryancombs/anaconda3/lib/python3.6/site-packages/sklearn/ensemble/forest.py:248: FutureWarning: The default value of n_estimators will change from 10 in version 0.20 to 100 in 0.22.\n",
      "  \"10 in version 0.20 to 100 in 0.22.\", FutureWarning)\n",
      "/Users/bryancombs/anaconda3/lib/python3.6/site-packages/sklearn/ensemble/forest.py:248: FutureWarning: The default value of n_estimators will change from 10 in version 0.20 to 100 in 0.22.\n",
      "  \"10 in version 0.20 to 100 in 0.22.\", FutureWarning)\n",
      "/Users/bryancombs/anaconda3/lib/python3.6/site-packages/sklearn/ensemble/forest.py:248: FutureWarning: The default value of n_estimators will change from 10 in version 0.20 to 100 in 0.22.\n",
      "  \"10 in version 0.20 to 100 in 0.22.\", FutureWarning)\n",
      "/Users/bryancombs/anaconda3/lib/python3.6/site-packages/sklearn/ensemble/forest.py:248: FutureWarning: The default value of n_estimators will change from 10 in version 0.20 to 100 in 0.22.\n",
      "  \"10 in version 0.20 to 100 in 0.22.\", FutureWarning)\n",
      "/Users/bryancombs/anaconda3/lib/python3.6/site-packages/sklearn/ensemble/forest.py:248: FutureWarning: The default value of n_estimators will change from 10 in version 0.20 to 100 in 0.22.\n",
      "  \"10 in version 0.20 to 100 in 0.22.\", FutureWarning)\n",
      "/Users/bryancombs/anaconda3/lib/python3.6/site-packages/sklearn/ensemble/forest.py:248: FutureWarning: The default value of n_estimators will change from 10 in version 0.20 to 100 in 0.22.\n",
      "  \"10 in version 0.20 to 100 in 0.22.\", FutureWarning)\n",
      "/Users/bryancombs/anaconda3/lib/python3.6/site-packages/sklearn/ensemble/forest.py:248: FutureWarning: The default value of n_estimators will change from 10 in version 0.20 to 100 in 0.22.\n",
      "  \"10 in version 0.20 to 100 in 0.22.\", FutureWarning)\n",
      "/Users/bryancombs/anaconda3/lib/python3.6/site-packages/sklearn/ensemble/forest.py:248: FutureWarning: The default value of n_estimators will change from 10 in version 0.20 to 100 in 0.22.\n",
      "  \"10 in version 0.20 to 100 in 0.22.\", FutureWarning)\n",
      "/Users/bryancombs/anaconda3/lib/python3.6/site-packages/sklearn/ensemble/forest.py:248: FutureWarning: The default value of n_estimators will change from 10 in version 0.20 to 100 in 0.22.\n",
      "  \"10 in version 0.20 to 100 in 0.22.\", FutureWarning)\n",
      "/Users/bryancombs/anaconda3/lib/python3.6/site-packages/sklearn/ensemble/forest.py:248: FutureWarning: The default value of n_estimators will change from 10 in version 0.20 to 100 in 0.22.\n",
      "  \"10 in version 0.20 to 100 in 0.22.\", FutureWarning)\n",
      "/Users/bryancombs/anaconda3/lib/python3.6/site-packages/sklearn/ensemble/forest.py:248: FutureWarning: The default value of n_estimators will change from 10 in version 0.20 to 100 in 0.22.\n",
      "  \"10 in version 0.20 to 100 in 0.22.\", FutureWarning)\n"
     ]
    },
    {
     "name": "stdout",
     "output_type": "stream",
     "text": [
      "0.5175808720112518\n",
      "{'max_depth': 120, 'min_samples_split': 190}\n"
     ]
    },
    {
     "name": "stderr",
     "output_type": "stream",
     "text": [
      "/Users/bryancombs/anaconda3/lib/python3.6/site-packages/sklearn/ensemble/forest.py:248: FutureWarning: The default value of n_estimators will change from 10 in version 0.20 to 100 in 0.22.\n",
      "  \"10 in version 0.20 to 100 in 0.22.\", FutureWarning)\n"
     ]
    }
   ],
   "source": [
    "gs = GridSearchCV(rf, param_grid=rf_params)\n",
    "gs.fit(X_train_pc, y_train)\n",
    "print(gs.best_score_)\n",
    "print(gs.best_params_)"
   ]
  },
  {
   "cell_type": "code",
   "execution_count": 125,
   "metadata": {
    "scrolled": false
   },
   "outputs": [
    {
     "data": {
      "text/plain": [
       "0.5266666666666666"
      ]
     },
     "execution_count": 125,
     "metadata": {},
     "output_type": "execute_result"
    }
   ],
   "source": [
    "gs.score(X_test_pc, y_test)"
   ]
  },
  {
   "cell_type": "code",
   "execution_count": 126,
   "metadata": {},
   "outputs": [],
   "source": [
    "y_hat_rf = gs.predict(X_train_pc)\n",
    "y_hat_rfp = gs.predict_proba(X_train_pc)"
   ]
  },
  {
   "cell_type": "code",
   "execution_count": 127,
   "metadata": {},
   "outputs": [],
   "source": [
    "y_hat_rft = gs.predict(X_test_pc)"
   ]
  },
  {
   "cell_type": "code",
   "execution_count": 128,
   "metadata": {},
   "outputs": [
    {
     "name": "stdout",
     "output_type": "stream",
     "text": [
      "              precision    recall  f1-score   support\n",
      "\n",
      "           0       0.70      0.42      0.53       333\n",
      "           1       0.62      0.84      0.71       378\n",
      "\n",
      "   micro avg       0.64      0.64      0.64       711\n",
      "   macro avg       0.66      0.63      0.62       711\n",
      "weighted avg       0.66      0.64      0.63       711\n",
      "\n"
     ]
    }
   ],
   "source": [
    "print(classification_report(y_train, y_hat_rf))"
   ]
  },
  {
   "cell_type": "code",
   "execution_count": 129,
   "metadata": {
    "scrolled": true
   },
   "outputs": [
    {
     "data": {
      "text/plain": [
       "array([[141, 192],\n",
       "       [ 61, 317]])"
      ]
     },
     "execution_count": 129,
     "metadata": {},
     "output_type": "execute_result"
    }
   ],
   "source": [
    "confusion_matrix( y_train, y_hat_rf)"
   ]
  },
  {
   "cell_type": "code",
   "execution_count": 130,
   "metadata": {},
   "outputs": [
    {
     "data": {
      "text/plain": [
       "array([[33, 40],\n",
       "       [31, 46]])"
      ]
     },
     "execution_count": 130,
     "metadata": {},
     "output_type": "execute_result"
    }
   ],
   "source": [
    "confusion_matrix( y_test, y_hat_rft)"
   ]
  },
  {
   "cell_type": "code",
   "execution_count": 131,
   "metadata": {},
   "outputs": [],
   "source": [
    "# import xgboost as xgb\n",
    "# # read in data\n",
    "# dtrain = xgb.DMatrix('demo/data/agaricus.txt.train')\n",
    "# dtest = xgb.DMatrix('demo/data/agaricus.txt.test')\n",
    "# # specify parameters via map\n",
    "# param = {'max_depth':2, 'eta':1, 'silent':1, 'objective':'binary:logistic' }\n",
    "# num_round = 2\n",
    "# bst = xgb.train(param, dtrain, num_round)\n",
    "# # make prediction\n",
    "# preds = bst.predict(dtest)"
   ]
  },
  {
   "cell_type": "code",
   "execution_count": 132,
   "metadata": {},
   "outputs": [],
   "source": [
    "#modifying train and testing data to allow for changing prob thresholds and printing the \n",
    "#roc curves \n",
    "#Random Forest\n",
    "nba_train.loc[:, 'actual_y'] = y_train\n",
    "nba_train.loc[:, 'predicted_label_rf'] = y_hat_rf\n",
    "nba_train.loc[:, 'predicted_proba_rfp'] = y_hat_rfp[:, 1]\n",
    "\n",
    "#Bayesian\n",
    "\n",
    "nba_train.loc[:, 'predicted_label_nb'] = y_hat_nb\n",
    "nba_train.loc[:, 'predicted_proba_nbp'] = y_hat_nbp[:, 1]\n",
    "\n",
    "nba_train.loc[:, 'predicted_label_lr'] = y_hat_lr\n",
    "nba_train.loc[:, 'predicted_proba_lrp'] = y_hat_lrp[:, 1]"
   ]
  },
  {
   "cell_type": "code",
   "execution_count": 133,
   "metadata": {},
   "outputs": [],
   "source": [
    "from sklearn.metrics import roc_curve, auc"
   ]
  },
  {
   "cell_type": "code",
   "execution_count": 134,
   "metadata": {},
   "outputs": [],
   "source": [
    "fpr, tpr, _ = roc_curve(y_train, nba_train['predicted_proba_lrp'])\n",
    "roc_auc = auc(fpr, tpr)"
   ]
  },
  {
   "cell_type": "code",
   "execution_count": 135,
   "metadata": {},
   "outputs": [
    {
     "data": {
      "image/png": "[encoded data removed]",
      "text/plain": [
       "<matplotlib.figure.Figure at 0x109066208>"
      ]
     },
     "metadata": {},
     "output_type": "display_data"
    }
   ],
   "source": [
    "# Plot \n",
    "plt.figure(figsize = (12,7))\n",
    "line_width = 3\n",
    "\n",
    "plt.plot(fpr, tpr, lw = line_width, color=\"darkorange\", label = \"ROC Curve %.2f\" % roc_auc)\n",
    "plt.plot([0,1], [0, 1], lw = line_width, linestyle=\"--\", color=\"navy\")\n",
    "\n",
    "plt.xlim([0.0, 1.0])\n",
    "plt.ylim([0.0, 1.05])\n",
    "plt.xlabel('False Positive Rate')\n",
    "plt.ylabel('True Positive Rate')\n",
    "plt.title('ROC')\n",
    "plt.legend(loc=\"lower right\")\n",
    "plt.show()"
   ]
  },
  {
   "cell_type": "code",
   "execution_count": 136,
   "metadata": {},
   "outputs": [
    {
     "name": "stdout",
     "output_type": "stream",
     "text": [
      "Test  0.4\n",
      "Return of Home Games:  27.60199999999999\n",
      "Test  0.41\n",
      "Return of Home Games:  29.60199999999999\n",
      "Test  0.42\n",
      "Return of Home Games:  31.692999999999998\n",
      "Test  0.43\n",
      "Return of Home Games:  38.693\n",
      "Test  0.44\n",
      "Return of Home Games:  46.96599999999999\n",
      "Test  0.45\n",
      "Return of Home Games:  53.42099999999999\n",
      "Test  0.46\n",
      "Return of Home Games:  69.60299999999998\n",
      "Test  0.47\n",
      "Return of Home Games:  80.33099999999999\n",
      "Test  0.48\n",
      "Return of Home Games:  83.96899999999998\n",
      "Test  0.49\n",
      "Return of Home Games:  101.78799999999997\n",
      "Test  0.5\n",
      "Return of Home Games:  104.15299999999998\n",
      "Test  0.51\n",
      "Return of Home Games:  112.60899999999998\n",
      "Test  0.52\n",
      "Return of Home Games:  116.88399999999999\n",
      "Test  0.53\n",
      "Return of Home Games:  125.97699999999998\n",
      "Test  0.54\n",
      "Return of Home Games:  122.25299999999999\n",
      "Test  0.55\n",
      "Return of Home Games:  113.62\n",
      "Test  0.56\n",
      "Return of Home Games:  98.441\n",
      "Test  0.57\n",
      "Return of Home Games:  84.80699999999999\n",
      "Test  0.58\n",
      "Return of Home Games:  59.26499999999999\n",
      "Test  0.59\n",
      "Return of Home Games:  45.44899999999999\n",
      "Test  0.6\n",
      "Return of Home Games:  30.269\n",
      "Test  0.61\n",
      "Return of Home Games:  18.634\n",
      "Test  0.62\n",
      "Return of Home Games:  11.726\n",
      "Test  0.63\n",
      "Return of Home Games:  7.181\n",
      "Test  0.64\n",
      "Return of Home Games:  5.454\n"
     ]
    }
   ],
   "source": [
    "for prob in range(40, 65, 1):\n",
    "    proba = prob/100\n",
    "    \n",
    "    nba_train.loc[:, 'predicted_label']= nba_train['predicted_proba_rfp'].map(\n",
    "    lambda p: 1 if p > proba else 0)\n",
    "    \n",
    "#     X_train.loc[:, 'predicted_label']= X_train['predicted_proba_rfp'].map(\n",
    "#     lambda p: 1 if p > proba else 0)\n",
    "    \n",
    "#    results = X_test[X_test['predicted_label']==1]\n",
    "    print('Test  ' + str(proba))\n",
    "#     print (confusion_matrix(y_test, nba['predicted_label']))\n",
    "    results_neg = nba_train[nba_train['predicted_label']==1]\n",
    "    print (\"Return of Home Games: \", results_neg.home_payout.sum())\n",
    "#     print(' Train  ' + str(proba))\n",
    "#     print(confusion_matrix(y_train, X_train['predicted_label']))"
   ]
  },
  {
   "cell_type": "code",
   "execution_count": null,
   "metadata": {},
   "outputs": [],
   "source": []
  },
  {
   "cell_type": "code",
   "execution_count": null,
   "metadata": {},
   "outputs": [],
   "source": []
  }
 ],
 "metadata": {
  "kernelspec": {
   "display_name": "Python 3",
   "language": "python",
   "name": "python3"
  },
  "language_info": {
   "codemirror_mode": {
    "name": "ipython",
    "version": 3
   },
   "file_extension": ".py",
   "mimetype": "text/x-python",
   "name": "python",
   "nbconvert_exporter": "python",
   "pygments_lexer": "ipython3",
   "version": "3.6.6"
  }
 },
 "nbformat": 4,
 "nbformat_minor": 2
}
