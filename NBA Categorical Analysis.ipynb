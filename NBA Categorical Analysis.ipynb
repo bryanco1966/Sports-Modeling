{
 "cells": [
  {
   "cell_type": "code",
   "execution_count": 133,
   "metadata": {},
   "outputs": [],
   "source": [
    "from sklearn.ensemble import AdaBoostClassifier, RandomForestClassifier\n",
    "from sklearn.model_selection import train_test_split, cross_val_score\n",
    "import pandas as pd\n",
    "import numpy as np\n",
    "from sklearn.metrics import classification_report, confusion_matrix\n",
    "import matplotlib.pyplot as plt\n",
    "from sklearn.svm import SVC\n",
    "from sklearn.preprocessing import StandardScaler, PolynomialFeatures\n",
    "from sklearn.linear_model import LogisticRegressionCV\n",
    "from sklearn.model_selection import GridSearchCV\n",
    "from sklearn.naive_bayes import GaussianNB\n",
    "from datatools import DataGrapher\n",
    "\n",
    "\n",
    "%matplotlib inline"
   ]
  },
  {
   "cell_type": "code",
   "execution_count": 134,
   "metadata": {},
   "outputs": [],
   "source": [
    "#Bring in the data\n",
    "\n",
    "nba = pd.read_csv('./data/nba_analysis_data.csv')\n",
    "nba.dropna(inplace = True)"
   ]
  },
  {
   "cell_type": "code",
   "execution_count": 135,
   "metadata": {},
   "outputs": [],
   "source": [
    "#seperate test from train\n",
    "\n",
    "nba_train = nba[nba.test == 0]\n",
    "nba_test = nba[nba.test ==1]  #scott tarlow scotttarlow@gmail.com\n",
    "#learn a domain"
   ]
  },
  {
   "cell_type": "code",
   "execution_count": 136,
   "metadata": {},
   "outputs": [],
   "source": [
    "nba_train = nba_train[nba_train.playoff_game == 1]\n",
    "nba_test = nba_test[nba_test.playoff_game == 1]"
   ]
  },
  {
   "cell_type": "code",
   "execution_count": 137,
   "metadata": {},
   "outputs": [],
   "source": [
    "\n",
    "X_train = nba_train.drop(columns = ['cover','home_win_margin', \n",
    "                        'date', 'dataset','line_cv', \n",
    "                        'home_starter5', 'teams', 'away_team',\n",
    "                        'away_starter2', 'away_starter3',\n",
    "                        'away_starter4', 'away_starter5',\n",
    "                        'ref_1', 'ref_3', 'crew_referees',\n",
    "                        'away_pace', 'away_spread',\n",
    "                        'away_line_cv',  'away_cover',\n",
    "                        'home_payout', 'away_payout', 'over', 'under',\n",
    "                        'total_score', 'total_diff'         ])\n",
    "\n",
    "\n",
    "#X = nba[features]\n",
    "y_train = nba_train['cover']"
   ]
  },
  {
   "cell_type": "code",
   "execution_count": 138,
   "metadata": {},
   "outputs": [],
   "source": [
    "X_test= nba_test.drop(columns = ['cover','home_win_margin', \n",
    "                        'date', 'dataset','line_cv', \n",
    "                        'home_starter5', 'teams', 'away_team',\n",
    "                        'away_starter2', 'away_starter3',\n",
    "                        'away_starter4', 'away_starter5',\n",
    "                        'ref_1', 'ref_3', 'crew_referees',\n",
    "                        'away_pace', 'away_spread',\n",
    "                        'away_line_cv',  'away_cover',\n",
    "                        'home_payout', 'away_payout', 'over', 'under',\n",
    "                        'total_score', 'total_diff',       ])\n",
    "\n",
    "y_test = nba_test.away_cover"
   ]
  },
  {
   "cell_type": "code",
   "execution_count": 139,
   "metadata": {},
   "outputs": [
    {
     "data": {
      "text/plain": [
       "(150, 126)"
      ]
     },
     "execution_count": 139,
     "metadata": {},
     "output_type": "execute_result"
    }
   ],
   "source": [
    "\n",
    "X_test.shape"
   ]
  },
  {
   "cell_type": "code",
   "execution_count": 140,
   "metadata": {},
   "outputs": [
    {
     "data": {
      "text/plain": [
       "(711, 126)"
      ]
     },
     "execution_count": 140,
     "metadata": {},
     "output_type": "execute_result"
    }
   ],
   "source": [
    "X_train.shape"
   ]
  },
  {
   "cell_type": "code",
   "execution_count": null,
   "metadata": {},
   "outputs": [],
   "source": []
  },
  {
   "cell_type": "code",
   "execution_count": 141,
   "metadata": {},
   "outputs": [],
   "source": [
    "\n",
    "# #create interactions  tested but did not help the model\n",
    "# poly = PolynomialFeatures(degree = 2, interaction_only= True)\n",
    "# X_poly = poly.fit_transform(X_train)\n",
    "# X_poly_test = poly.transform(X_test)\n",
    "# X_poly = pd.DataFrame(X_poly, \n",
    "#                       columns = poly.get_feature_names(X_train.columns))\n",
    "# X_poly_test = pd.DataFrame(X_poly_test, \n",
    "#                            columns = poly.get_feature_names(X_test.columns))\n"
   ]
  },
  {
   "cell_type": "code",
   "execution_count": 142,
   "metadata": {
    "scrolled": true
   },
   "outputs": [
    {
     "name": "stderr",
     "output_type": "stream",
     "text": [
      "/Users/bryancombs/anaconda3/lib/python3.6/site-packages/sklearn/preprocessing/data.py:617: DataConversionWarning: Data with input dtype int64, float64 were all converted to float64 by StandardScaler.\n",
      "  return self.partial_fit(X, y)\n",
      "/Users/bryancombs/anaconda3/lib/python3.6/site-packages/sklearn/base.py:462: DataConversionWarning: Data with input dtype int64, float64 were all converted to float64 by StandardScaler.\n",
      "  return self.fit(X, **fit_params).transform(X)\n",
      "/Users/bryancombs/anaconda3/lib/python3.6/site-packages/ipykernel_launcher.py:5: DataConversionWarning: Data with input dtype int64, float64 were all converted to float64 by StandardScaler.\n",
      "  \"\"\"\n"
     ]
    }
   ],
   "source": [
    "\n",
    "#scaling data to use in various other methods\n",
    "ss = StandardScaler()\n",
    "X_train_scaled = ss.fit_transform(X_train)\n",
    "X_test_scaled = ss.transform(X_test)"
   ]
  },
  {
   "cell_type": "code",
   "execution_count": 143,
   "metadata": {},
   "outputs": [],
   "source": [
    "from sklearn.decomposition import PCA"
   ]
  },
  {
   "cell_type": "code",
   "execution_count": 144,
   "metadata": {},
   "outputs": [],
   "source": [
    "pc = PCA(n_components=80)\n",
    "X_train_pc = pc.fit_transform(X_train_scaled)\n",
    "X_test_pc = pc.transform(X_test_scaled)\n"
   ]
  },
  {
   "cell_type": "code",
   "execution_count": 145,
   "metadata": {
    "scrolled": true
   },
   "outputs": [
    {
     "name": "stdout",
     "output_type": "stream",
     "text": [
      "Explained variance:             [0.12516624 0.11211871 0.06562074 0.04696526 0.04225086 0.03914961\n",
      " 0.03589683 0.0335322  0.0330731  0.02887377 0.02826089 0.02606838\n",
      " 0.02466281 0.0202689  0.01855282 0.01807258 0.01737527 0.01555985\n",
      " 0.01482064 0.01389915 0.01367511 0.01275023 0.0113291  0.01105182\n",
      " 0.01027463 0.00958681 0.00919624 0.00880109 0.00852177 0.00801577\n",
      " 0.00762347 0.00736163 0.00663125 0.00638194 0.0061221  0.00558273\n",
      " 0.00555084 0.00516962 0.00490417 0.00443793 0.00433656 0.00412803\n",
      " 0.00393973 0.0035874  0.00349444 0.00333675 0.00314843 0.00295742\n",
      " 0.00290552 0.00271631 0.00262093 0.0024927  0.00229733 0.0021585\n",
      " 0.00208578 0.0019955  0.00195832 0.0017789  0.00171916 0.0016916\n",
      " 0.001466   0.00144012 0.00137015 0.00123623 0.00116705 0.00112485\n",
      " 0.00105784 0.00104258 0.00102522 0.00094303 0.00087334 0.00084813\n",
      " 0.00079926 0.00077858 0.00071252 0.0006775  0.00061175 0.00051285\n",
      " 0.00041875 0.00038991]\n",
      "Cumulative explained variance:  [0.12516624 0.23728495 0.30290569 0.34987096 0.39212182 0.43127142\n",
      " 0.46716825 0.50070045 0.53377356 0.56264733 0.59090821 0.61697659\n",
      " 0.6416394  0.6619083  0.68046112 0.6985337  0.71590897 0.73146882\n",
      " 0.74628946 0.76018861 0.77386372 0.78661395 0.79794305 0.80899487\n",
      " 0.81926951 0.82885631 0.83805256 0.84685365 0.85537542 0.86339119\n",
      " 0.87101466 0.8783763  0.88500755 0.89138949 0.8975116  0.90309432\n",
      " 0.90864517 0.91381479 0.91871896 0.92315689 0.92749345 0.93162148\n",
      " 0.93556121 0.93914861 0.94264305 0.9459798  0.94912823 0.95208565\n",
      " 0.95499118 0.95770749 0.96032842 0.96282112 0.96511846 0.96727696\n",
      " 0.96936274 0.97135823 0.97331655 0.97509545 0.97681461 0.97850621\n",
      " 0.97997221 0.98141233 0.98278248 0.98401871 0.98518576 0.98631061\n",
      " 0.98736845 0.98841103 0.98943625 0.99037928 0.99125262 0.99210075\n",
      " 0.99290001 0.99367858 0.9943911  0.9950686  0.99568035 0.9961932\n",
      " 0.99661195 0.99700186]\n"
     ]
    }
   ],
   "source": [
    "var_exp = pc.explained_variance_ratio_\n",
    "print('Explained variance:            ', var_exp)\n",
    "\n",
    "cum_var_exp = np.cumsum(var_exp)\n",
    "print('Cumulative explained variance: ', cum_var_exp)"
   ]
  },
  {
   "cell_type": "markdown",
   "metadata": {},
   "source": [
    "### Logistic Regression\n",
    "\n",
    "The first model I tested out was the logistic regression "
   ]
  },
  {
   "cell_type": "code",
   "execution_count": 146,
   "metadata": {
    "scrolled": true
   },
   "outputs": [
    {
     "name": "stderr",
     "output_type": "stream",
     "text": [
      "/Users/bryancombs/anaconda3/lib/python3.6/site-packages/sklearn/linear_model/logistic.py:1917: ChangedBehaviorWarning: The long-standing behavior to use the accuracy score has changed. The scoring parameter is now used. This warning will disappear in version 0.22.\n",
      "  ChangedBehaviorWarning)\n"
     ]
    },
    {
     "data": {
      "text/plain": [
       "0.6634146341463415"
      ]
     },
     "execution_count": 146,
     "metadata": {},
     "output_type": "execute_result"
    }
   ],
   "source": [
    "lr = LogisticRegressionCV(Cs=[  100000  ] , \n",
    "                          max_iter=10000,\n",
    "                          tol = .001,\n",
    "                          scoring='precision',\n",
    "                          penalty='l2', \n",
    "                          solver ='saga', \n",
    "                          cv =5 )\n",
    "lr.fit(X_train_pc, y_train)\n",
    "lr.score(X_train_pc, y_train)"
   ]
  },
  {
   "cell_type": "code",
   "execution_count": 147,
   "metadata": {
    "scrolled": false
   },
   "outputs": [
    {
     "name": "stderr",
     "output_type": "stream",
     "text": [
      "/Users/bryancombs/anaconda3/lib/python3.6/site-packages/sklearn/linear_model/logistic.py:1917: ChangedBehaviorWarning: The long-standing behavior to use the accuracy score has changed. The scoring parameter is now used. This warning will disappear in version 0.22.\n",
      "  ChangedBehaviorWarning)\n"
     ]
    },
    {
     "data": {
      "text/plain": [
       "0.576271186440678"
      ]
     },
     "execution_count": 147,
     "metadata": {},
     "output_type": "execute_result"
    }
   ],
   "source": [
    "lr.score(X_test_pc, y_test)"
   ]
  },
  {
   "cell_type": "code",
   "execution_count": 148,
   "metadata": {},
   "outputs": [],
   "source": [
    "y_hat_lr = lr.predict(X_train_pc)\n",
    "y_hat_lrp = lr.predict_proba(X_train_pc)\n",
    "y_hat_lrt = lr.predict(X_test_pc)"
   ]
  },
  {
   "cell_type": "code",
   "execution_count": 149,
   "metadata": {
    "scrolled": true
   },
   "outputs": [
    {
     "name": "stdout",
     "output_type": "stream",
     "text": [
      "              precision    recall  f1-score   support\n",
      "\n",
      "           0       0.65      0.59      0.62       333\n",
      "           1       0.66      0.72      0.69       378\n",
      "\n",
      "   micro avg       0.66      0.66      0.66       711\n",
      "   macro avg       0.66      0.65      0.65       711\n",
      "weighted avg       0.66      0.66      0.66       711\n",
      "\n"
     ]
    }
   ],
   "source": [
    "print(classification_report(y_train, y_hat_lr))"
   ]
  },
  {
   "cell_type": "code",
   "execution_count": 150,
   "metadata": {},
   "outputs": [
    {
     "data": {
      "text/plain": [
       "array([[195, 138],\n",
       "       [106, 272]])"
      ]
     },
     "execution_count": 150,
     "metadata": {},
     "output_type": "execute_result"
    }
   ],
   "source": [
    "confusion_matrix( y_train, y_hat_lr)"
   ]
  },
  {
   "cell_type": "code",
   "execution_count": 151,
   "metadata": {},
   "outputs": [
    {
     "data": {
      "text/plain": [
       "array([[48, 25],\n",
       "       [43, 34]])"
      ]
     },
     "execution_count": 151,
     "metadata": {},
     "output_type": "execute_result"
    }
   ],
   "source": [
    "confusion_matrix( y_test, y_hat_lrt)"
   ]
  },
  {
   "cell_type": "markdown",
   "metadata": {},
   "source": [
    "### Support Vector Machine\n",
    "\n",
    "The second model I tested is the Support Vector Machine Model I "
   ]
  },
  {
   "cell_type": "code",
   "execution_count": 152,
   "metadata": {
    "scrolled": true
   },
   "outputs": [],
   "source": [
    "svc = SVC(probability=True)\n",
    "svc_params = {\n",
    "    'kernel' : ['linear'  ], \n",
    "    'C'      : [.4, .5, .3]\n",
    "    }"
   ]
  },
  {
   "cell_type": "code",
   "execution_count": null,
   "metadata": {},
   "outputs": [],
   "source": []
  },
  {
   "cell_type": "code",
   "execution_count": 153,
   "metadata": {
    "scrolled": true
   },
   "outputs": [
    {
     "name": "stdout",
     "output_type": "stream",
     "text": [
      "0.5569536038617146\n",
      "{'C': 0.3, 'kernel': 'linear'}\n"
     ]
    }
   ],
   "source": [
    "gs = GridSearchCV(svc, \n",
    "                  param_grid=svc_params, \n",
    "                  scoring='precision', \n",
    "                  cv = 5)\n",
    "gs.fit(X_train_pc, y_train)\n",
    "print(gs.best_score_)\n",
    "print(gs.best_params_)"
   ]
  },
  {
   "cell_type": "code",
   "execution_count": 154,
   "metadata": {
    "scrolled": true
   },
   "outputs": [
    {
     "data": {
      "text/plain": [
       "0.5454545454545454"
      ]
     },
     "execution_count": 154,
     "metadata": {},
     "output_type": "execute_result"
    }
   ],
   "source": [
    "gs.score(X_test_pc, y_test)"
   ]
  },
  {
   "cell_type": "code",
   "execution_count": 155,
   "metadata": {},
   "outputs": [],
   "source": [
    "y_hat_svc = gs.predict(X_train_pc)\n",
    "y_hat_svcp = gs.predict_proba(X_train_pc)\n",
    "y_hat_svct = gs.predict(X_test_pc)"
   ]
  },
  {
   "cell_type": "code",
   "execution_count": 156,
   "metadata": {
    "scrolled": false
   },
   "outputs": [
    {
     "name": "stdout",
     "output_type": "stream",
     "text": [
      "              precision    recall  f1-score   support\n",
      "\n",
      "           0       0.65      0.56      0.60       333\n",
      "           1       0.65      0.73      0.69       378\n",
      "\n",
      "   micro avg       0.65      0.65      0.65       711\n",
      "   macro avg       0.65      0.65      0.65       711\n",
      "weighted avg       0.65      0.65      0.65       711\n",
      "\n"
     ]
    }
   ],
   "source": [
    "print(classification_report(y_train, y_hat_svc))"
   ]
  },
  {
   "cell_type": "code",
   "execution_count": 157,
   "metadata": {
    "scrolled": true
   },
   "outputs": [
    {
     "data": {
      "text/plain": [
       "array([[186, 147],\n",
       "       [101, 277]])"
      ]
     },
     "execution_count": 157,
     "metadata": {},
     "output_type": "execute_result"
    }
   ],
   "source": [
    "confusion_matrix( y_train, y_hat_svc)"
   ]
  },
  {
   "cell_type": "code",
   "execution_count": 158,
   "metadata": {},
   "outputs": [
    {
     "data": {
      "text/plain": [
       "array([[43, 30],\n",
       "       [41, 36]])"
      ]
     },
     "execution_count": 158,
     "metadata": {},
     "output_type": "execute_result"
    }
   ],
   "source": [
    "confusion_matrix( y_test, y_hat_svct)"
   ]
  },
  {
   "cell_type": "markdown",
   "metadata": {},
   "source": [
    "### Neural Network"
   ]
  },
  {
   "cell_type": "code",
   "execution_count": 159,
   "metadata": {},
   "outputs": [],
   "source": [
    "from keras.models import Sequential\n",
    "from keras.layers import Dense, Dropout\n",
    "from keras.utils import to_categorical\n",
    "from keras import regularizers"
   ]
  },
  {
   "cell_type": "code",
   "execution_count": 160,
   "metadata": {},
   "outputs": [],
   "source": [
    "model = Sequential()\n",
    "model.add(Dense(70, \n",
    "                activation = 'relu',\n",
    "                input_dim = X_train_pc.shape[1],\n",
    "                kernel_regularizer=regularizers.l2(0.01)))\n",
    "model.add(Dropout(0.5))\n",
    "\n",
    "#model.add(Dense(10, activation = 'relu'))\n",
    "model.add(Dense(1, activation = 'sigmoid')) #output layer "
   ]
  },
  {
   "cell_type": "code",
   "execution_count": null,
   "metadata": {},
   "outputs": [],
   "source": []
  },
  {
   "cell_type": "raw",
   "metadata": {},
   "source": []
  },
  {
   "cell_type": "code",
   "execution_count": 161,
   "metadata": {},
   "outputs": [
    {
     "name": "stdout",
     "output_type": "stream",
     "text": [
      "Train on 711 samples, validate on 150 samples\n",
      "Epoch 1/15\n",
      "711/711 [==============================] - 1s 912us/step - loss: 2.0333 - acc: 0.4571 - val_loss: 1.8293 - val_acc: 0.4733\n",
      "Epoch 2/15\n",
      "711/711 [==============================] - 0s 23us/step - loss: 1.9080 - acc: 0.4782 - val_loss: 1.6937 - val_acc: 0.4867\n",
      "Epoch 3/15\n",
      "711/711 [==============================] - 0s 24us/step - loss: 1.7740 - acc: 0.4965 - val_loss: 1.5757 - val_acc: 0.4933\n",
      "Epoch 4/15\n",
      "711/711 [==============================] - 0s 24us/step - loss: 1.6885 - acc: 0.4937 - val_loss: 1.4806 - val_acc: 0.5133\n",
      "Epoch 5/15\n",
      "711/711 [==============================] - 0s 23us/step - loss: 1.6079 - acc: 0.4937 - val_loss: 1.4072 - val_acc: 0.5133\n",
      "Epoch 6/15\n",
      "711/711 [==============================] - 0s 24us/step - loss: 1.4859 - acc: 0.5274 - val_loss: 1.3518 - val_acc: 0.5333\n",
      "Epoch 7/15\n",
      "711/711 [==============================] - 0s 24us/step - loss: 1.4519 - acc: 0.5063 - val_loss: 1.3092 - val_acc: 0.5400\n",
      "Epoch 8/15\n",
      "711/711 [==============================] - 0s 24us/step - loss: 1.4050 - acc: 0.5134 - val_loss: 1.2728 - val_acc: 0.5333\n",
      "Epoch 9/15\n",
      "711/711 [==============================] - 0s 24us/step - loss: 1.3247 - acc: 0.5316 - val_loss: 1.2430 - val_acc: 0.5200\n",
      "Epoch 10/15\n",
      "711/711 [==============================] - 0s 22us/step - loss: 1.2763 - acc: 0.5415 - val_loss: 1.2172 - val_acc: 0.5133\n",
      "Epoch 11/15\n",
      "711/711 [==============================] - 0s 24us/step - loss: 1.2744 - acc: 0.5387 - val_loss: 1.1957 - val_acc: 0.5000\n",
      "Epoch 12/15\n",
      "711/711 [==============================] - 0s 22us/step - loss: 1.2017 - acc: 0.5626 - val_loss: 1.1746 - val_acc: 0.5000\n",
      "Epoch 13/15\n",
      "711/711 [==============================] - 0s 21us/step - loss: 1.2065 - acc: 0.5570 - val_loss: 1.1533 - val_acc: 0.5067\n",
      "Epoch 14/15\n",
      "711/711 [==============================] - 0s 25us/step - loss: 1.1648 - acc: 0.5570 - val_loss: 1.1336 - val_acc: 0.5067\n",
      "Epoch 15/15\n",
      "711/711 [==============================] - 0s 22us/step - loss: 1.1354 - acc: 0.5471 - val_loss: 1.1146 - val_acc: 0.5067\n"
     ]
    },
    {
     "data": {
      "text/plain": [
       "<keras.callbacks.History at 0x1a43d33780>"
      ]
     },
     "execution_count": 161,
     "metadata": {},
     "output_type": "execute_result"
    }
   ],
   "source": [
    "model.compile(loss = 'binary_crossentropy', optimizer='adam',\n",
    "              metrics = ['accuracy'])\n",
    "model.fit(X_train_pc, \n",
    "          y_train, epochs =15, \n",
    "          batch_size= 128, \n",
    "          validation_data=(X_test_pc, y_test))"
   ]
  },
  {
   "cell_type": "code",
   "execution_count": 162,
   "metadata": {},
   "outputs": [],
   "source": [
    "y_hat_nn = model.predict(X_train_pc)\n",
    "y_hat_nnp = model.predict_proba(X_train_pc)"
   ]
  },
  {
   "cell_type": "code",
   "execution_count": 163,
   "metadata": {},
   "outputs": [
    {
     "data": {
      "text/plain": [
       "array([[0.3877135 ],\n",
       "       [0.46229407],\n",
       "       [0.7450822 ],\n",
       "       [0.52712166],\n",
       "       [0.40380841],\n",
       "       [0.63601077],\n",
       "       [0.62945706],\n",
       "       [0.51109535],\n",
       "       [0.32619336],\n",
       "       [0.368478  ],\n",
       "       [0.60637355],\n",
       "       [0.5663985 ],\n",
       "       [0.42625862],\n",
       "       [0.56440854],\n",
       "       [0.7577236 ],\n",
       "       [0.70322716],\n",
       "       [0.61817497],\n",
       "       [0.7534342 ],\n",
       "       [0.36378917],\n",
       "       [0.30326644],\n",
       "       [0.45972946],\n",
       "       [0.36861184],\n",
       "       [0.3974966 ],\n",
       "       [0.32171425],\n",
       "       [0.42503527],\n",
       "       [0.4228787 ],\n",
       "       [0.67985094],\n",
       "       [0.7392366 ],\n",
       "       [0.58693403],\n",
       "       [0.41517338],\n",
       "       [0.554958  ],\n",
       "       [0.6797381 ],\n",
       "       [0.62157214],\n",
       "       [0.63832843],\n",
       "       [0.5348606 ],\n",
       "       [0.685529  ],\n",
       "       [0.45066455],\n",
       "       [0.5270019 ],\n",
       "       [0.6072458 ],\n",
       "       [0.5134937 ],\n",
       "       [0.52752584],\n",
       "       [0.49239704],\n",
       "       [0.42843232],\n",
       "       [0.47170356],\n",
       "       [0.6070025 ],\n",
       "       [0.5062667 ],\n",
       "       [0.31890455],\n",
       "       [0.36828557],\n",
       "       [0.43686807],\n",
       "       [0.54478747],\n",
       "       [0.6121605 ],\n",
       "       [0.70525724],\n",
       "       [0.5111956 ],\n",
       "       [0.2622502 ],\n",
       "       [0.44539183],\n",
       "       [0.41739127],\n",
       "       [0.33787104],\n",
       "       [0.47530583],\n",
       "       [0.47751194],\n",
       "       [0.5987198 ],\n",
       "       [0.5060745 ],\n",
       "       [0.3525332 ],\n",
       "       [0.63900936],\n",
       "       [0.43070152],\n",
       "       [0.573847  ],\n",
       "       [0.4698592 ],\n",
       "       [0.36987904],\n",
       "       [0.73398376],\n",
       "       [0.74384534],\n",
       "       [0.5896257 ],\n",
       "       [0.43515328],\n",
       "       [0.43402672],\n",
       "       [0.5508993 ],\n",
       "       [0.7537748 ],\n",
       "       [0.7562855 ],\n",
       "       [0.8087305 ],\n",
       "       [0.5866648 ],\n",
       "       [0.63130605],\n",
       "       [0.7630004 ],\n",
       "       [0.8788436 ],\n",
       "       [0.8327264 ],\n",
       "       [0.7162465 ],\n",
       "       [0.5110592 ],\n",
       "       [0.49822232],\n",
       "       [0.44821346],\n",
       "       [0.33267483],\n",
       "       [0.45490795],\n",
       "       [0.50531155],\n",
       "       [0.5083243 ],\n",
       "       [0.5713123 ],\n",
       "       [0.6083205 ],\n",
       "       [0.75871354],\n",
       "       [0.49143702],\n",
       "       [0.38365993],\n",
       "       [0.52526015],\n",
       "       [0.58839625],\n",
       "       [0.43062606],\n",
       "       [0.34146616],\n",
       "       [0.3804779 ],\n",
       "       [0.4013403 ],\n",
       "       [0.433633  ],\n",
       "       [0.57323366],\n",
       "       [0.5530734 ],\n",
       "       [0.57069653],\n",
       "       [0.5107906 ],\n",
       "       [0.44264805],\n",
       "       [0.6988309 ],\n",
       "       [0.6721502 ],\n",
       "       [0.49829838],\n",
       "       [0.44330513],\n",
       "       [0.5159449 ],\n",
       "       [0.6485758 ],\n",
       "       [0.7156215 ],\n",
       "       [0.5812824 ],\n",
       "       [0.34116897],\n",
       "       [0.44131157],\n",
       "       [0.33546907],\n",
       "       [0.26252186],\n",
       "       [0.40649492],\n",
       "       [0.5801413 ],\n",
       "       [0.47658098],\n",
       "       [0.5150595 ],\n",
       "       [0.38185334],\n",
       "       [0.45122644],\n",
       "       [0.2520938 ],\n",
       "       [0.32045063],\n",
       "       [0.5405294 ],\n",
       "       [0.40623036],\n",
       "       [0.46373475],\n",
       "       [0.4792433 ],\n",
       "       [0.4675971 ],\n",
       "       [0.3818813 ],\n",
       "       [0.4483542 ],\n",
       "       [0.46293336],\n",
       "       [0.35190344],\n",
       "       [0.7389559 ],\n",
       "       [0.48826888],\n",
       "       [0.2974938 ],\n",
       "       [0.27215788],\n",
       "       [0.47505194],\n",
       "       [0.39957246],\n",
       "       [0.65708196],\n",
       "       [0.66731673],\n",
       "       [0.63955253],\n",
       "       [0.55954295],\n",
       "       [0.5477581 ],\n",
       "       [0.5486118 ],\n",
       "       [0.4605434 ],\n",
       "       [0.4192917 ],\n",
       "       [0.49496543],\n",
       "       [0.4948375 ],\n",
       "       [0.5598987 ],\n",
       "       [0.43360817],\n",
       "       [0.665631  ],\n",
       "       [0.6451422 ],\n",
       "       [0.5676404 ],\n",
       "       [0.6205294 ],\n",
       "       [0.42691368],\n",
       "       [0.75676996],\n",
       "       [0.6573133 ],\n",
       "       [0.54016656],\n",
       "       [0.6214994 ],\n",
       "       [0.6949865 ],\n",
       "       [0.67192423],\n",
       "       [0.6561687 ],\n",
       "       [0.697133  ],\n",
       "       [0.44424486],\n",
       "       [0.63502944],\n",
       "       [0.42911255],\n",
       "       [0.7516848 ],\n",
       "       [0.5894579 ],\n",
       "       [0.76846015],\n",
       "       [0.27800593],\n",
       "       [0.40637374],\n",
       "       [0.36810365],\n",
       "       [0.35867372],\n",
       "       [0.61233926],\n",
       "       [0.4519953 ],\n",
       "       [0.4337556 ],\n",
       "       [0.44591057],\n",
       "       [0.68285686],\n",
       "       [0.59161794],\n",
       "       [0.4995645 ],\n",
       "       [0.42499813],\n",
       "       [0.5414669 ],\n",
       "       [0.4599246 ],\n",
       "       [0.5105938 ],\n",
       "       [0.5772391 ],\n",
       "       [0.5137707 ],\n",
       "       [0.4551916 ],\n",
       "       [0.40466142],\n",
       "       [0.45737377],\n",
       "       [0.6330552 ],\n",
       "       [0.57971525],\n",
       "       [0.6498053 ],\n",
       "       [0.73907596],\n",
       "       [0.18309136],\n",
       "       [0.5201489 ],\n",
       "       [0.47442487],\n",
       "       [0.61725986],\n",
       "       [0.5168041 ],\n",
       "       [0.5786421 ],\n",
       "       [0.52769345],\n",
       "       [0.65340894],\n",
       "       [0.7567405 ],\n",
       "       [0.7232292 ],\n",
       "       [0.5601    ],\n",
       "       [0.38388088],\n",
       "       [0.3988943 ],\n",
       "       [0.27568325],\n",
       "       [0.51474226],\n",
       "       [0.4671229 ],\n",
       "       [0.600495  ],\n",
       "       [0.5986385 ],\n",
       "       [0.5033083 ],\n",
       "       [0.55374295],\n",
       "       [0.64196974],\n",
       "       [0.36607102],\n",
       "       [0.3837802 ],\n",
       "       [0.5776674 ],\n",
       "       [0.5845475 ],\n",
       "       [0.35198337],\n",
       "       [0.537826  ],\n",
       "       [0.57402337],\n",
       "       [0.5531085 ],\n",
       "       [0.57392466],\n",
       "       [0.7008231 ],\n",
       "       [0.7116428 ],\n",
       "       [0.62516266],\n",
       "       [0.47909865],\n",
       "       [0.36019307],\n",
       "       [0.40047085],\n",
       "       [0.5159404 ],\n",
       "       [0.6402652 ],\n",
       "       [0.5302277 ],\n",
       "       [0.62967867],\n",
       "       [0.62535393],\n",
       "       [0.794118  ],\n",
       "       [0.4426094 ],\n",
       "       [0.38727188],\n",
       "       [0.39879423],\n",
       "       [0.53100973],\n",
       "       [0.36086765],\n",
       "       [0.51923054],\n",
       "       [0.5130159 ],\n",
       "       [0.53515285],\n",
       "       [0.7708517 ],\n",
       "       [0.6246682 ],\n",
       "       [0.6627137 ],\n",
       "       [0.70841384],\n",
       "       [0.6814317 ],\n",
       "       [0.58138335],\n",
       "       [0.67621094],\n",
       "       [0.716737  ],\n",
       "       [0.5862695 ],\n",
       "       [0.42040136],\n",
       "       [0.5881159 ],\n",
       "       [0.6618421 ],\n",
       "       [0.6335025 ],\n",
       "       [0.60009575],\n",
       "       [0.5692492 ],\n",
       "       [0.6651974 ],\n",
       "       [0.55564964],\n",
       "       [0.6329396 ],\n",
       "       [0.73003536],\n",
       "       [0.47552007],\n",
       "       [0.5797659 ],\n",
       "       [0.59937656],\n",
       "       [0.47265926],\n",
       "       [0.38196117],\n",
       "       [0.43261117],\n",
       "       [0.7763887 ],\n",
       "       [0.5371978 ],\n",
       "       [0.646738  ],\n",
       "       [0.5520289 ],\n",
       "       [0.4698301 ],\n",
       "       [0.6959824 ],\n",
       "       [0.60437894],\n",
       "       [0.51377845],\n",
       "       [0.39222652],\n",
       "       [0.52408016],\n",
       "       [0.68647766],\n",
       "       [0.5565074 ],\n",
       "       [0.39160544],\n",
       "       [0.56735355],\n",
       "       [0.6391805 ],\n",
       "       [0.6373431 ],\n",
       "       [0.8506196 ],\n",
       "       [0.69496816],\n",
       "       [0.6498772 ],\n",
       "       [0.22886832],\n",
       "       [0.6341747 ],\n",
       "       [0.46650055],\n",
       "       [0.6088171 ],\n",
       "       [0.21286003],\n",
       "       [0.14867415],\n",
       "       [0.2509894 ],\n",
       "       [0.55303144],\n",
       "       [0.48775065],\n",
       "       [0.3614088 ],\n",
       "       [0.28702375],\n",
       "       [0.51533383],\n",
       "       [0.5917596 ],\n",
       "       [0.49545106],\n",
       "       [0.4830864 ],\n",
       "       [0.5468342 ],\n",
       "       [0.52914566],\n",
       "       [0.5859713 ],\n",
       "       [0.5281723 ],\n",
       "       [0.4101682 ],\n",
       "       [0.71329165],\n",
       "       [0.41282585],\n",
       "       [0.5799184 ],\n",
       "       [0.5217585 ],\n",
       "       [0.6238867 ],\n",
       "       [0.65960765],\n",
       "       [0.50571775],\n",
       "       [0.4354863 ],\n",
       "       [0.42171073],\n",
       "       [0.30234787],\n",
       "       [0.61647767],\n",
       "       [0.58918536],\n",
       "       [0.6788546 ],\n",
       "       [0.7440752 ],\n",
       "       [0.347332  ],\n",
       "       [0.3747695 ],\n",
       "       [0.67323536],\n",
       "       [0.36803016],\n",
       "       [0.5070945 ],\n",
       "       [0.5863602 ],\n",
       "       [0.536056  ],\n",
       "       [0.56563133],\n",
       "       [0.38598305],\n",
       "       [0.44828033],\n",
       "       [0.41160384],\n",
       "       [0.7058379 ],\n",
       "       [0.53039896],\n",
       "       [0.5794744 ],\n",
       "       [0.44433182],\n",
       "       [0.3407492 ],\n",
       "       [0.32498527],\n",
       "       [0.36895916],\n",
       "       [0.5110768 ],\n",
       "       [0.4932536 ],\n",
       "       [0.38449213],\n",
       "       [0.233773  ],\n",
       "       [0.34820646],\n",
       "       [0.5826471 ],\n",
       "       [0.4712366 ],\n",
       "       [0.54900116],\n",
       "       [0.44576812],\n",
       "       [0.590795  ],\n",
       "       [0.521958  ],\n",
       "       [0.6146492 ],\n",
       "       [0.5320035 ],\n",
       "       [0.41617054],\n",
       "       [0.598754  ],\n",
       "       [0.57913   ],\n",
       "       [0.33177295],\n",
       "       [0.6085317 ],\n",
       "       [0.465698  ],\n",
       "       [0.48767745],\n",
       "       [0.7043822 ],\n",
       "       [0.65138817],\n",
       "       [0.68673253],\n",
       "       [0.51087606],\n",
       "       [0.68297184],\n",
       "       [0.6417385 ],\n",
       "       [0.48678827],\n",
       "       [0.45541245],\n",
       "       [0.51663065],\n",
       "       [0.27929288],\n",
       "       [0.38533682],\n",
       "       [0.5099238 ],\n",
       "       [0.48352838],\n",
       "       [0.4904942 ],\n",
       "       [0.52273595],\n",
       "       [0.512965  ],\n",
       "       [0.67895615],\n",
       "       [0.538595  ],\n",
       "       [0.7148001 ],\n",
       "       [0.3696092 ],\n",
       "       [0.6430111 ],\n",
       "       [0.58727   ],\n",
       "       [0.44659317],\n",
       "       [0.5731316 ],\n",
       "       [0.59378195],\n",
       "       [0.41912085],\n",
       "       [0.4400523 ],\n",
       "       [0.50312   ],\n",
       "       [0.5088012 ],\n",
       "       [0.45893782],\n",
       "       [0.53388846],\n",
       "       [0.46734264],\n",
       "       [0.6845882 ],\n",
       "       [0.72443444],\n",
       "       [0.6352897 ],\n",
       "       [0.4321711 ],\n",
       "       [0.71158814],\n",
       "       [0.45902368],\n",
       "       [0.40271452],\n",
       "       [0.5657805 ],\n",
       "       [0.78043216],\n",
       "       [0.7978875 ],\n",
       "       [0.76206464],\n",
       "       [0.5635539 ],\n",
       "       [0.68075895],\n",
       "       [0.61615264],\n",
       "       [0.52460504],\n",
       "       [0.74029523],\n",
       "       [0.74991584],\n",
       "       [0.5807129 ],\n",
       "       [0.60295296],\n",
       "       [0.51407254],\n",
       "       [0.7235658 ],\n",
       "       [0.6474843 ],\n",
       "       [0.46477032],\n",
       "       [0.40653867],\n",
       "       [0.41199395],\n",
       "       [0.5176203 ],\n",
       "       [0.42313248],\n",
       "       [0.5353834 ],\n",
       "       [0.4780981 ],\n",
       "       [0.57680833],\n",
       "       [0.5024777 ],\n",
       "       [0.42522433],\n",
       "       [0.413601  ],\n",
       "       [0.58577937],\n",
       "       [0.58418256],\n",
       "       [0.54082763],\n",
       "       [0.7423057 ],\n",
       "       [0.7924882 ],\n",
       "       [0.82908636],\n",
       "       [0.50391346],\n",
       "       [0.45011684],\n",
       "       [0.5055631 ],\n",
       "       [0.26405752],\n",
       "       [0.12817897],\n",
       "       [0.17576338],\n",
       "       [0.40123412],\n",
       "       [0.40547544],\n",
       "       [0.37458235],\n",
       "       [0.26607925],\n",
       "       [0.23667002],\n",
       "       [0.6066614 ],\n",
       "       [0.7505526 ],\n",
       "       [0.67065376],\n",
       "       [0.58962077],\n",
       "       [0.5361557 ],\n",
       "       [0.699973  ],\n",
       "       [0.60928446],\n",
       "       [0.6416351 ],\n",
       "       [0.45623586],\n",
       "       [0.5690748 ],\n",
       "       [0.5385223 ],\n",
       "       [0.6597008 ],\n",
       "       [0.55067253],\n",
       "       [0.6321846 ],\n",
       "       [0.4256181 ],\n",
       "       [0.40405333],\n",
       "       [0.26349998],\n",
       "       [0.23499952],\n",
       "       [0.358136  ],\n",
       "       [0.47061676],\n",
       "       [0.7064507 ],\n",
       "       [0.33597544],\n",
       "       [0.4517512 ],\n",
       "       [0.33810684],\n",
       "       [0.5150662 ],\n",
       "       [0.4251317 ],\n",
       "       [0.40854356],\n",
       "       [0.27063832],\n",
       "       [0.56314665],\n",
       "       [0.5986158 ],\n",
       "       [0.42620727],\n",
       "       [0.65159804],\n",
       "       [0.5377261 ],\n",
       "       [0.73815626],\n",
       "       [0.59352267],\n",
       "       [0.5236749 ],\n",
       "       [0.46971577],\n",
       "       [0.5173258 ],\n",
       "       [0.4896098 ],\n",
       "       [0.46370232],\n",
       "       [0.623268  ],\n",
       "       [0.52678925],\n",
       "       [0.4752622 ],\n",
       "       [0.7125251 ],\n",
       "       [0.39912447],\n",
       "       [0.6747195 ],\n",
       "       [0.6439633 ],\n",
       "       [0.7042874 ],\n",
       "       [0.31633493],\n",
       "       [0.4058442 ],\n",
       "       [0.30515772],\n",
       "       [0.45414653],\n",
       "       [0.666323  ],\n",
       "       [0.7491681 ],\n",
       "       [0.5269163 ],\n",
       "       [0.49371296],\n",
       "       [0.6080468 ],\n",
       "       [0.6020271 ],\n",
       "       [0.2103448 ],\n",
       "       [0.18326527],\n",
       "       [0.34983787],\n",
       "       [0.45673868],\n",
       "       [0.51250714],\n",
       "       [0.27897537],\n",
       "       [0.18451527],\n",
       "       [0.5129511 ],\n",
       "       [0.55019975],\n",
       "       [0.5992774 ],\n",
       "       [0.5350515 ],\n",
       "       [0.46428075],\n",
       "       [0.6586213 ],\n",
       "       [0.71057034],\n",
       "       [0.819086  ],\n",
       "       [0.6033783 ],\n",
       "       [0.59376717],\n",
       "       [0.2671133 ],\n",
       "       [0.51078326],\n",
       "       [0.40705743],\n",
       "       [0.4321894 ],\n",
       "       [0.5496177 ],\n",
       "       [0.43340996],\n",
       "       [0.37055874],\n",
       "       [0.53175646],\n",
       "       [0.4351615 ],\n",
       "       [0.53232664],\n",
       "       [0.4442087 ],\n",
       "       [0.4202317 ],\n",
       "       [0.286646  ],\n",
       "       [0.57474524],\n",
       "       [0.3556489 ],\n",
       "       [0.23754379],\n",
       "       [0.4329151 ],\n",
       "       [0.53392   ],\n",
       "       [0.39091474],\n",
       "       [0.64847344],\n",
       "       [0.6058612 ],\n",
       "       [0.602039  ],\n",
       "       [0.7584351 ],\n",
       "       [0.7323688 ],\n",
       "       [0.74467915],\n",
       "       [0.4376224 ],\n",
       "       [0.36343685],\n",
       "       [0.5560112 ],\n",
       "       [0.4444003 ],\n",
       "       [0.5050199 ],\n",
       "       [0.40347505],\n",
       "       [0.28152925],\n",
       "       [0.62580025],\n",
       "       [0.4599421 ],\n",
       "       [0.48040503],\n",
       "       [0.50445944],\n",
       "       [0.6948342 ],\n",
       "       [0.72559184],\n",
       "       [0.68260384],\n",
       "       [0.44353056],\n",
       "       [0.49982804],\n",
       "       [0.49538308],\n",
       "       [0.46866047],\n",
       "       [0.5641205 ],\n",
       "       [0.40620986],\n",
       "       [0.6146855 ],\n",
       "       [0.40570083],\n",
       "       [0.44724926],\n",
       "       [0.43216518],\n",
       "       [0.36055633],\n",
       "       [0.48365444],\n",
       "       [0.4020103 ],\n",
       "       [0.4063875 ],\n",
       "       [0.58575034],\n",
       "       [0.42000303],\n",
       "       [0.5469509 ],\n",
       "       [0.67115605],\n",
       "       [0.66781163],\n",
       "       [0.5947557 ],\n",
       "       [0.30108452],\n",
       "       [0.49518055],\n",
       "       [0.17142823],\n",
       "       [0.58219165],\n",
       "       [0.6848694 ],\n",
       "       [0.63682765],\n",
       "       [0.41694266],\n",
       "       [0.38911143],\n",
       "       [0.4570394 ],\n",
       "       [0.48757994],\n",
       "       [0.5442037 ],\n",
       "       [0.27228206],\n",
       "       [0.5121186 ],\n",
       "       [0.44386476],\n",
       "       [0.56976444],\n",
       "       [0.6188688 ],\n",
       "       [0.5977334 ],\n",
       "       [0.604051  ],\n",
       "       [0.6715593 ],\n",
       "       [0.17040944],\n",
       "       [0.2058105 ],\n",
       "       [0.4065657 ],\n",
       "       [0.27300832],\n",
       "       [0.19708312],\n",
       "       [0.40328488],\n",
       "       [0.46003038],\n",
       "       [0.2868297 ],\n",
       "       [0.17372449],\n",
       "       [0.4066704 ],\n",
       "       [0.49051982],\n",
       "       [0.6802012 ],\n",
       "       [0.70528513],\n",
       "       [0.57733697],\n",
       "       [0.45955002],\n",
       "       [0.4039428 ],\n",
       "       [0.483978  ],\n",
       "       [0.41002548],\n",
       "       [0.49526924],\n",
       "       [0.40464282],\n",
       "       [0.70276713],\n",
       "       [0.44835663],\n",
       "       [0.5668583 ],\n",
       "       [0.57443595],\n",
       "       [0.56359416],\n",
       "       [0.37694806],\n",
       "       [0.5591079 ],\n",
       "       [0.71349865],\n",
       "       [0.57367843],\n",
       "       [0.59953725],\n",
       "       [0.2780361 ],\n",
       "       [0.3605377 ],\n",
       "       [0.3621713 ],\n",
       "       [0.6425742 ],\n",
       "       [0.62806505],\n",
       "       [0.66060686],\n",
       "       [0.73232055],\n",
       "       [0.70422643],\n",
       "       [0.44037175],\n",
       "       [0.41353574],\n",
       "       [0.33906204],\n",
       "       [0.4199092 ],\n",
       "       [0.4743061 ],\n",
       "       [0.5033013 ],\n",
       "       [0.31887907],\n",
       "       [0.3528547 ],\n",
       "       [0.4594714 ],\n",
       "       [0.7565799 ],\n",
       "       [0.61420274],\n",
       "       [0.7563451 ],\n",
       "       [0.5787233 ],\n",
       "       [0.5089379 ],\n",
       "       [0.49127424],\n",
       "       [0.3484523 ],\n",
       "       [0.55929714],\n",
       "       [0.5444796 ],\n",
       "       [0.60467666],\n",
       "       [0.8085657 ],\n",
       "       [0.5416119 ],\n",
       "       [0.48930383],\n",
       "       [0.2709089 ],\n",
       "       [0.6493945 ],\n",
       "       [0.51367813],\n",
       "       [0.46483722],\n",
       "       [0.38502637],\n",
       "       [0.83289295],\n",
       "       [0.4633052 ],\n",
       "       [0.4646508 ],\n",
       "       [0.631626  ],\n",
       "       [0.61409736],\n",
       "       [0.8058878 ],\n",
       "       [0.28613243],\n",
       "       [0.62886304],\n",
       "       [0.5272719 ],\n",
       "       [0.27114907],\n",
       "       [0.40583155],\n",
       "       [0.4978027 ],\n",
       "       [0.50521225],\n",
       "       [0.8649041 ],\n",
       "       [0.72139114],\n",
       "       [0.7659993 ],\n",
       "       [0.32724765],\n",
       "       [0.42064142],\n",
       "       [0.48566282],\n",
       "       [0.69888556],\n",
       "       [0.40024665],\n",
       "       [0.53666234],\n",
       "       [0.4079832 ],\n",
       "       [0.7328514 ],\n",
       "       [0.88714397],\n",
       "       [0.35739347],\n",
       "       [0.46045056],\n",
       "       [0.34561038],\n",
       "       [0.5557021 ],\n",
       "       [0.257526  ],\n",
       "       [0.43015978],\n",
       "       [0.59643584],\n",
       "       [0.6643594 ],\n",
       "       [0.6817492 ],\n",
       "       [0.6414918 ],\n",
       "       [0.4941321 ],\n",
       "       [0.6085147 ],\n",
       "       [0.65469646],\n",
       "       [0.54065883],\n",
       "       [0.5208858 ],\n",
       "       [0.6587059 ],\n",
       "       [0.7972214 ],\n",
       "       [0.51984733],\n",
       "       [0.6040503 ],\n",
       "       [0.6703909 ],\n",
       "       [0.6478238 ],\n",
       "       [0.8911857 ],\n",
       "       [0.5885855 ],\n",
       "       [0.6404781 ]], dtype=float32)"
      ]
     },
     "execution_count": 163,
     "metadata": {},
     "output_type": "execute_result"
    }
   ],
   "source": [
    "y_hat_nnp"
   ]
  },
  {
   "cell_type": "code",
   "execution_count": null,
   "metadata": {
    "scrolled": true
   },
   "outputs": [],
   "source": []
  },
  {
   "cell_type": "code",
   "execution_count": 164,
   "metadata": {
    "scrolled": true
   },
   "outputs": [
    {
     "name": "stdout",
     "output_type": "stream",
     "text": [
      "0.5354917264650206\n",
      "{'max_depth': 80, 'min_samples_split': 200, 'n_estimators': 200}\n"
     ]
    }
   ],
   "source": [
    "rf = RandomForestClassifier()\n",
    "rf_params = {'n_estimators'      : [200, 150],\n",
    "             'max_depth'         : [80,90],\n",
    "             'min_samples_split' : [200,210]}\n",
    "\n",
    "gs = GridSearchCV(rf, \n",
    "                  param_grid=rf_params,\n",
    "                  scoring='precision',\n",
    "                 cv = 5)\n",
    "gs.fit(X_train_pc, y_train)\n",
    "print(gs.best_score_)\n",
    "print(gs.best_params_)\n",
    "\n"
   ]
  },
  {
   "cell_type": "code",
   "execution_count": 165,
   "metadata": {
    "scrolled": false
   },
   "outputs": [
    {
     "data": {
      "text/plain": [
       "0.5603448275862069"
      ]
     },
     "execution_count": 165,
     "metadata": {},
     "output_type": "execute_result"
    }
   ],
   "source": [
    "gs.score(X_test_pc, y_test)"
   ]
  },
  {
   "cell_type": "code",
   "execution_count": 166,
   "metadata": {},
   "outputs": [],
   "source": [
    "y_hat_rf = gs.predict(X_train_pc)\n",
    "y_hat_rfp = gs.predict_proba(X_train_pc)"
   ]
  },
  {
   "cell_type": "code",
   "execution_count": 167,
   "metadata": {},
   "outputs": [],
   "source": [
    "y_hat_rft = gs.predict(X_test_pc)"
   ]
  },
  {
   "cell_type": "code",
   "execution_count": 168,
   "metadata": {},
   "outputs": [
    {
     "name": "stdout",
     "output_type": "stream",
     "text": [
      "              precision    recall  f1-score   support\n",
      "\n",
      "           0       0.65      0.30      0.41        73\n",
      "           1       0.56      0.84      0.67        77\n",
      "\n",
      "   micro avg       0.58      0.58      0.58       150\n",
      "   macro avg       0.60      0.57      0.54       150\n",
      "weighted avg       0.60      0.58      0.55       150\n",
      "\n"
     ]
    }
   ],
   "source": [
    "print(classification_report(y_test, y_hat_rft))"
   ]
  },
  {
   "cell_type": "code",
   "execution_count": 169,
   "metadata": {
    "scrolled": true
   },
   "outputs": [
    {
     "data": {
      "text/plain": [
       "array([[164, 169],\n",
       "       [  6, 372]])"
      ]
     },
     "execution_count": 169,
     "metadata": {},
     "output_type": "execute_result"
    }
   ],
   "source": [
    "confusion_matrix( y_train, y_hat_rf)"
   ]
  },
  {
   "cell_type": "code",
   "execution_count": 170,
   "metadata": {},
   "outputs": [
    {
     "data": {
      "text/plain": [
       "array([[22, 51],\n",
       "       [12, 65]])"
      ]
     },
     "execution_count": 170,
     "metadata": {},
     "output_type": "execute_result"
    }
   ],
   "source": [
    "confusion_matrix( y_test, y_hat_rft)"
   ]
  },
  {
   "cell_type": "code",
   "execution_count": 171,
   "metadata": {},
   "outputs": [],
   "source": [
    "# import xgboost as xgb\n",
    "# # read in data\n",
    "# dtrain = xgb.DMatrix('demo/data/agaricus.txt.train')\n",
    "# dtest = xgb.DMatrix('demo/data/agaricus.txt.test')\n",
    "# # specify parameters via map\n",
    "# param = {'max_depth':2, 'eta':1, 'silent':1, 'objective':'binary:logistic' }\n",
    "# num_round = 2\n",
    "# bst = xgb.train(param, dtrain, num_round)\n",
    "# # make prediction\n",
    "# preds = bst.predict(dtest)"
   ]
  },
  {
   "cell_type": "code",
   "execution_count": 172,
   "metadata": {},
   "outputs": [],
   "source": [
    "#modifying train and testing data to allow for changing prob thresholds and printing the \n",
    "#roc curves \n",
    "#Random Forest\n",
    "nba_train.loc[:, 'actual_y'] = y_train\n",
    "nba_train.loc[:, 'predicted_label_rf'] = y_hat_rf\n",
    "nba_train.loc[:, 'predicted_proba_rfp'] = y_hat_rfp[:, 1]\n",
    "\n",
    "#Bayesian\n",
    "\n",
    "nba_train.loc[:, 'predicted_label_svc'] = y_hat_svc\n",
    "nba_train.loc[:, 'predicted_proba_svcp'] = y_hat_svcp[:, 1]\n",
    "\n",
    "nba_train.loc[:, 'predicted_label_lr'] = y_hat_lr\n",
    "nba_train.loc[:, 'predicted_proba_lrp'] = y_hat_lrp[:, 1]"
   ]
  },
  {
   "cell_type": "code",
   "execution_count": 173,
   "metadata": {},
   "outputs": [],
   "source": [
    "from sklearn.metrics import roc_curve, auc"
   ]
  },
  {
   "cell_type": "code",
   "execution_count": 174,
   "metadata": {},
   "outputs": [],
   "source": [
    "fpr, tpr, _ = roc_curve(y_train, nba_train['predicted_proba_lrp'])\n",
    "roc_auc = auc(fpr, tpr)"
   ]
  },
  {
   "cell_type": "code",
   "execution_count": 175,
   "metadata": {},
   "outputs": [],
   "source": [
    "fpr1, tpr1, _ = roc_curve(y_train, nba_train['predicted_proba_rfp'])\n",
    "roc_auc1 = auc(fpr1, tpr1)"
   ]
  },
  {
   "cell_type": "code",
   "execution_count": 176,
   "metadata": {},
   "outputs": [
    {
     "data": {
      "image/png": "[encoded data removed]",
      "text/plain": [
       "<matplotlib.figure.Figure at 0x1a43d1c6d8>"
      ]
     },
     "metadata": {},
     "output_type": "display_data"
    }
   ],
   "source": [
    "# Plot \n",
    "plt.figure(figsize = (12,7))\n",
    "line_width = 3\n",
    "\n",
    "plt.plot(fpr, tpr, lw = line_width, color=\"darkorange\", \n",
    "         label = \"Log Reg ROC Curve %.2f\" % roc_auc)\n",
    "plt.plot(fpr1, tpr1, lw = line_width, color=\"red\", \n",
    "         label = \"Random Forest ROC Curve %.2f\" % roc_auc1)\n",
    "plt.plot([0,1], [0, 1], lw = line_width, linestyle=\"--\", color=\"navy\")\n",
    "\n",
    "plt.xlim([0.0, 1.0])\n",
    "plt.ylim([0.0, 1.05])\n",
    "plt.xlabel('False Positive Rate')\n",
    "plt.ylabel('True Positive Rate')\n",
    "plt.title('ROC Curve on Training Data')\n",
    "plt.legend(loc=\"lower right\")\n",
    "plt.show()"
   ]
  },
  {
   "cell_type": "code",
   "execution_count": 177,
   "metadata": {},
   "outputs": [
    {
     "name": "stdout",
     "output_type": "stream",
     "text": [
      "Test  0.4\n",
      "Return of Home Games:  24.60199999999999\n",
      "Test  0.41\n",
      "Return of Home Games:  24.60199999999999\n",
      "Test  0.42\n",
      "Return of Home Games:  24.60199999999999\n",
      "Test  0.43\n",
      "Return of Home Games:  24.60199999999999\n",
      "Test  0.44\n",
      "Return of Home Games:  25.60199999999999\n",
      "Test  0.45\n",
      "Return of Home Games:  27.60199999999999\n",
      "Test  0.46\n",
      "Return of Home Games:  38.60199999999999\n",
      "Test  0.47\n",
      "Return of Home Games:  58.60199999999999\n",
      "Test  0.48\n",
      "Return of Home Games:  84.60199999999998\n",
      "Test  0.49\n",
      "Return of Home Games:  128.96599999999998\n",
      "Test  0.5\n",
      "Return of Home Games:  175.148\n",
      "Test  0.51\n",
      "Return of Home Games:  205.786\n",
      "Test  0.52\n",
      "Return of Home Games:  235.78699999999998\n",
      "Test  0.53\n",
      "Return of Home Games:  250.516\n",
      "Test  0.54\n",
      "Return of Home Games:  234.974\n",
      "Test  0.55\n",
      "Return of Home Games:  195.16100000000006\n",
      "Test  0.56\n",
      "Return of Home Games:  136.804\n",
      "Test  0.57\n",
      "Return of Home Games:  98.89900000000002\n",
      "Test  0.58\n",
      "Return of Home Games:  54.53999999999999\n",
      "Test  0.59\n",
      "Return of Home Games:  29.088\n",
      "Test  0.6\n",
      "Return of Home Games:  10.908000000000003\n",
      "Test  0.61\n",
      "Return of Home Games:  4.545\n",
      "Test  0.62\n",
      "Return of Home Games:  1.818\n",
      "Test  0.63\n",
      "Return of Home Games:  0.909\n",
      "Test  0.64\n",
      "Return of Home Games:  0.909\n"
     ]
    }
   ],
   "source": [
    "for prob in range(40, 65, 1):\n",
    "    proba = prob/100\n",
    "    \n",
    "    nba_train.loc[:, 'predicted_label']= nba_train['predicted_proba_rfp'].map(\n",
    "    lambda p: 1 if p > proba else 0)\n",
    "    \n",
    "#     X_train.loc[:, 'predicted_label']= X_train['predicted_proba_rfp'].map(\n",
    "#     lambda p: 1 if p > proba else 0)\n",
    "    \n",
    "#    results = X_test[X_test['predicted_label']==1]\n",
    "    print('Test  ' + str(proba))\n",
    "#     print (confusion_matrix(y_test, nba['predicted_label']))\n",
    "    results_neg = nba_train[nba_train['predicted_label']==1]\n",
    "    print (\"Return of Home Games: \", results_neg.home_payout.sum())\n",
    "#     print(' Train  ' + str(proba))\n",
    "#     print(confusion_matrix(y_train, X_train['predicted_label']))"
   ]
  },
  {
   "cell_type": "code",
   "execution_count": null,
   "metadata": {},
   "outputs": [],
   "source": []
  },
  {
   "cell_type": "code",
   "execution_count": 178,
   "metadata": {},
   "outputs": [
    {
     "name": "stderr",
     "output_type": "stream",
     "text": [
      "/Users/bryancombs/anaconda3/lib/python3.6/site-packages/sklearn/ensemble/forest.py:248: FutureWarning: The default value of n_estimators will change from 10 in version 0.20 to 100 in 0.22.\n",
      "  \"10 in version 0.20 to 100 in 0.22.\", FutureWarning)\n"
     ]
    },
    {
     "data": {
      "text/html": [
       "<div>\n",
       "<style scoped>\n",
       "    .dataframe tbody tr th:only-of-type {\n",
       "        vertical-align: middle;\n",
       "    }\n",
       "\n",
       "    .dataframe tbody tr th {\n",
       "        vertical-align: top;\n",
       "    }\n",
       "\n",
       "    .dataframe thead th {\n",
       "        text-align: right;\n",
       "    }\n",
       "</style>\n",
       "<table border=\"1\" class=\"dataframe\">\n",
       "  <thead>\n",
       "    <tr style=\"text-align: right;\">\n",
       "      <th></th>\n",
       "      <th>Feature Scores</th>\n",
       "    </tr>\n",
       "  </thead>\n",
       "  <tbody>\n",
       "    <tr>\n",
       "      <th>mov_5_line_cv</th>\n",
       "      <td>0.021103</td>\n",
       "    </tr>\n",
       "    <tr>\n",
       "      <th>mov_5_away_assists</th>\n",
       "      <td>0.021038</td>\n",
       "    </tr>\n",
       "    <tr>\n",
       "      <th>mov_5_away_def_eff</th>\n",
       "      <td>0.019567</td>\n",
       "    </tr>\n",
       "    <tr>\n",
       "      <th>away_win_pct</th>\n",
       "      <td>0.017376</td>\n",
       "    </tr>\n",
       "    <tr>\n",
       "      <th>mov_5_home_win_margin</th>\n",
       "      <td>0.016053</td>\n",
       "    </tr>\n",
       "    <tr>\n",
       "      <th>last_or</th>\n",
       "      <td>0.015814</td>\n",
       "    </tr>\n",
       "    <tr>\n",
       "      <th>lastaway_score</th>\n",
       "      <td>0.015733</td>\n",
       "    </tr>\n",
       "    <tr>\n",
       "      <th>mov_5_away_spread</th>\n",
       "      <td>0.015598</td>\n",
       "    </tr>\n",
       "    <tr>\n",
       "      <th>mov_5_pts</th>\n",
       "      <td>0.015485</td>\n",
       "    </tr>\n",
       "    <tr>\n",
       "      <th>mov_5_away_pace</th>\n",
       "      <td>0.015432</td>\n",
       "    </tr>\n",
       "    <tr>\n",
       "      <th>lastaway_def_eff</th>\n",
       "      <td>0.014971</td>\n",
       "    </tr>\n",
       "    <tr>\n",
       "      <th>mov_5_away_fouls</th>\n",
       "      <td>0.014537</td>\n",
       "    </tr>\n",
       "    <tr>\n",
       "      <th>mov_5_home_score</th>\n",
       "      <td>0.014086</td>\n",
       "    </tr>\n",
       "    <tr>\n",
       "      <th>last_oeff</th>\n",
       "      <td>0.013951</td>\n",
       "    </tr>\n",
       "    <tr>\n",
       "      <th>lastaway_3p</th>\n",
       "      <td>0.013621</td>\n",
       "    </tr>\n",
       "    <tr>\n",
       "      <th>mov_5_away_fg</th>\n",
       "      <td>0.013538</td>\n",
       "    </tr>\n",
       "    <tr>\n",
       "      <th>lastaway_fg</th>\n",
       "      <td>0.013333</td>\n",
       "    </tr>\n",
       "    <tr>\n",
       "      <th>mov_5_or</th>\n",
       "      <td>0.013159</td>\n",
       "    </tr>\n",
       "    <tr>\n",
       "      <th>eff_ratio2</th>\n",
       "      <td>0.012656</td>\n",
       "    </tr>\n",
       "    <tr>\n",
       "      <th>last_home_score</th>\n",
       "      <td>0.012523</td>\n",
       "    </tr>\n",
       "    <tr>\n",
       "      <th>mov_5_away_line_cv</th>\n",
       "      <td>0.012499</td>\n",
       "    </tr>\n",
       "    <tr>\n",
       "      <th>mov_5_st</th>\n",
       "      <td>0.012045</td>\n",
       "    </tr>\n",
       "    <tr>\n",
       "      <th>mov_5_fg</th>\n",
       "      <td>0.011384</td>\n",
       "    </tr>\n",
       "    <tr>\n",
       "      <th>mov_5_away_win_margin</th>\n",
       "      <td>0.011332</td>\n",
       "    </tr>\n",
       "    <tr>\n",
       "      <th>home_score_margin</th>\n",
       "      <td>0.011323</td>\n",
       "    </tr>\n",
       "    <tr>\n",
       "      <th>last_line_cv</th>\n",
       "      <td>0.011314</td>\n",
       "    </tr>\n",
       "    <tr>\n",
       "      <th>mov_5_bl</th>\n",
       "      <td>0.011247</td>\n",
       "    </tr>\n",
       "    <tr>\n",
       "      <th>mov_5_a</th>\n",
       "      <td>0.011141</td>\n",
       "    </tr>\n",
       "    <tr>\n",
       "      <th>home_ave_win_margin</th>\n",
       "      <td>0.011126</td>\n",
       "    </tr>\n",
       "    <tr>\n",
       "      <th>eff_ratio4</th>\n",
       "      <td>0.010848</td>\n",
       "    </tr>\n",
       "    <tr>\n",
       "      <th>...</th>\n",
       "      <td>...</td>\n",
       "    </tr>\n",
       "    <tr>\n",
       "      <th>lastaway_turnovers</th>\n",
       "      <td>0.004425</td>\n",
       "    </tr>\n",
       "    <tr>\n",
       "      <th>lastaway_fga</th>\n",
       "      <td>0.004361</td>\n",
       "    </tr>\n",
       "    <tr>\n",
       "      <th>last_spread</th>\n",
       "      <td>0.004267</td>\n",
       "    </tr>\n",
       "    <tr>\n",
       "      <th>last_home_win_margin</th>\n",
       "      <td>0.004230</td>\n",
       "    </tr>\n",
       "    <tr>\n",
       "      <th>mov_5_away_cover</th>\n",
       "      <td>0.004019</td>\n",
       "    </tr>\n",
       "    <tr>\n",
       "      <th>lastaway_win</th>\n",
       "      <td>0.003696</td>\n",
       "    </tr>\n",
       "    <tr>\n",
       "      <th>total</th>\n",
       "      <td>0.003567</td>\n",
       "    </tr>\n",
       "    <tr>\n",
       "      <th>mov_5_ot1</th>\n",
       "      <td>0.003500</td>\n",
       "    </tr>\n",
       "    <tr>\n",
       "      <th>mov_5_away_ot1</th>\n",
       "      <td>0.003442</td>\n",
       "    </tr>\n",
       "    <tr>\n",
       "      <th>mov_5_min</th>\n",
       "      <td>0.003198</td>\n",
       "    </tr>\n",
       "    <tr>\n",
       "      <th>mov_5_under</th>\n",
       "      <td>0.003118</td>\n",
       "    </tr>\n",
       "    <tr>\n",
       "      <th>mov_5_away_score</th>\n",
       "      <td>0.002837</td>\n",
       "    </tr>\n",
       "    <tr>\n",
       "      <th>mov_5_fga</th>\n",
       "      <td>0.002794</td>\n",
       "    </tr>\n",
       "    <tr>\n",
       "      <th>home_conference</th>\n",
       "      <td>0.001742</td>\n",
       "    </tr>\n",
       "    <tr>\n",
       "      <th>mov_5_win</th>\n",
       "      <td>0.001736</td>\n",
       "    </tr>\n",
       "    <tr>\n",
       "      <th>in_conference_game</th>\n",
       "      <td>0.001519</td>\n",
       "    </tr>\n",
       "    <tr>\n",
       "      <th>mov_5_over</th>\n",
       "      <td>0.001295</td>\n",
       "    </tr>\n",
       "    <tr>\n",
       "      <th>high_alt</th>\n",
       "      <td>0.001101</td>\n",
       "    </tr>\n",
       "    <tr>\n",
       "      <th>last_under</th>\n",
       "      <td>0.000542</td>\n",
       "    </tr>\n",
       "    <tr>\n",
       "      <th>last_over</th>\n",
       "      <td>0.000541</td>\n",
       "    </tr>\n",
       "    <tr>\n",
       "      <th>last_min</th>\n",
       "      <td>0.000520</td>\n",
       "    </tr>\n",
       "    <tr>\n",
       "      <th>lastaway_min</th>\n",
       "      <td>0.000424</td>\n",
       "    </tr>\n",
       "    <tr>\n",
       "      <th>away_conference</th>\n",
       "      <td>0.000378</td>\n",
       "    </tr>\n",
       "    <tr>\n",
       "      <th>last_win</th>\n",
       "      <td>0.000362</td>\n",
       "    </tr>\n",
       "    <tr>\n",
       "      <th>test</th>\n",
       "      <td>0.000000</td>\n",
       "    </tr>\n",
       "    <tr>\n",
       "      <th>lastaway_ot1</th>\n",
       "      <td>0.000000</td>\n",
       "    </tr>\n",
       "    <tr>\n",
       "      <th>last_ot1</th>\n",
       "      <td>0.000000</td>\n",
       "    </tr>\n",
       "    <tr>\n",
       "      <th>playoff_game</th>\n",
       "      <td>0.000000</td>\n",
       "    </tr>\n",
       "    <tr>\n",
       "      <th>mov_5_away_min</th>\n",
       "      <td>0.000000</td>\n",
       "    </tr>\n",
       "    <tr>\n",
       "      <th>lastaway_cover</th>\n",
       "      <td>0.000000</td>\n",
       "    </tr>\n",
       "  </tbody>\n",
       "</table>\n",
       "<p>126 rows × 1 columns</p>\n",
       "</div>"
      ],
      "text/plain": [
       "                       Feature Scores\n",
       "mov_5_line_cv                0.021103\n",
       "mov_5_away_assists           0.021038\n",
       "mov_5_away_def_eff           0.019567\n",
       "away_win_pct                 0.017376\n",
       "mov_5_home_win_margin        0.016053\n",
       "last_or                      0.015814\n",
       "lastaway_score               0.015733\n",
       "mov_5_away_spread            0.015598\n",
       "mov_5_pts                    0.015485\n",
       "mov_5_away_pace              0.015432\n",
       "lastaway_def_eff             0.014971\n",
       "mov_5_away_fouls             0.014537\n",
       "mov_5_home_score             0.014086\n",
       "last_oeff                    0.013951\n",
       "lastaway_3p                  0.013621\n",
       "mov_5_away_fg                0.013538\n",
       "lastaway_fg                  0.013333\n",
       "mov_5_or                     0.013159\n",
       "eff_ratio2                   0.012656\n",
       "last_home_score              0.012523\n",
       "mov_5_away_line_cv           0.012499\n",
       "mov_5_st                     0.012045\n",
       "mov_5_fg                     0.011384\n",
       "mov_5_away_win_margin        0.011332\n",
       "home_score_margin            0.011323\n",
       "last_line_cv                 0.011314\n",
       "mov_5_bl                     0.011247\n",
       "mov_5_a                      0.011141\n",
       "home_ave_win_margin          0.011126\n",
       "eff_ratio4                   0.010848\n",
       "...                               ...\n",
       "lastaway_turnovers           0.004425\n",
       "lastaway_fga                 0.004361\n",
       "last_spread                  0.004267\n",
       "last_home_win_margin         0.004230\n",
       "mov_5_away_cover             0.004019\n",
       "lastaway_win                 0.003696\n",
       "total                        0.003567\n",
       "mov_5_ot1                    0.003500\n",
       "mov_5_away_ot1               0.003442\n",
       "mov_5_min                    0.003198\n",
       "mov_5_under                  0.003118\n",
       "mov_5_away_score             0.002837\n",
       "mov_5_fga                    0.002794\n",
       "home_conference              0.001742\n",
       "mov_5_win                    0.001736\n",
       "in_conference_game           0.001519\n",
       "mov_5_over                   0.001295\n",
       "high_alt                     0.001101\n",
       "last_under                   0.000542\n",
       "last_over                    0.000541\n",
       "last_min                     0.000520\n",
       "lastaway_min                 0.000424\n",
       "away_conference              0.000378\n",
       "last_win                     0.000362\n",
       "test                         0.000000\n",
       "lastaway_ot1                 0.000000\n",
       "last_ot1                     0.000000\n",
       "playoff_game                 0.000000\n",
       "mov_5_away_min               0.000000\n",
       "lastaway_cover               0.000000\n",
       "\n",
       "[126 rows x 1 columns]"
      ]
     },
     "execution_count": 178,
     "metadata": {},
     "output_type": "execute_result"
    }
   ],
   "source": [
    "rf = RandomForestClassifier()\n",
    "rf.fit(X_train, y_train)\n",
    "rf.feature_importances_\n",
    "\n",
    "feature_scores = pd.DataFrame(rf.feature_importances_,\n",
    "                            index = X_train.columns,\n",
    "                            columns=['Feature Scores']).sort_values(\n",
    "                            'Feature Scores',ascending=False)\n",
    "\n",
    "feature_scores"
   ]
  },
  {
   "cell_type": "code",
   "execution_count": 179,
   "metadata": {},
   "outputs": [
    {
     "data": {
      "text/plain": [
       "0.9831223628691983"
      ]
     },
     "execution_count": 179,
     "metadata": {},
     "output_type": "execute_result"
    }
   ],
   "source": [
    "rf.score(X_train, y_train)"
   ]
  },
  {
   "cell_type": "code",
   "execution_count": 180,
   "metadata": {},
   "outputs": [
    {
     "data": {
      "text/plain": [
       "0.5066666666666667"
      ]
     },
     "execution_count": 180,
     "metadata": {},
     "output_type": "execute_result"
    }
   ],
   "source": [
    "rf.score(X_test, y_test)"
   ]
  },
  {
   "cell_type": "code",
   "execution_count": null,
   "metadata": {},
   "outputs": [],
   "source": []
  }
 ],
 "metadata": {
  "kernelspec": {
   "display_name": "Python 3",
   "language": "python",
   "name": "python3"
  },
  "language_info": {
   "codemirror_mode": {
    "name": "ipython",
    "version": 3
   },
   "file_extension": ".py",
   "mimetype": "text/x-python",
   "name": "python",
   "nbconvert_exporter": "python",
   "pygments_lexer": "ipython3",
   "version": "3.6.6"
  }
 },
 "nbformat": 4,
 "nbformat_minor": 2
}
