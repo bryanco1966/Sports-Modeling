{
 "cells": [
  {
   "cell_type": "code",
   "execution_count": 656,
   "metadata": {},
   "outputs": [],
   "source": [
    "from sklearn.ensemble import AdaBoostClassifier, RandomForestClassifier\n",
    "from sklearn.model_selection import train_test_split, cross_val_score\n",
    "import pandas as pd\n",
    "import numpy as np\n",
    "from sklearn.metrics import classification_report, confusion_matrix\n",
    "import matplotlib.pyplot as plt\n",
    "from sklearn.svm import SVC\n",
    "from sklearn.preprocessing import StandardScaler, PolynomialFeatures\n",
    "from sklearn.linear_model import LogisticRegressionCV\n",
    "from sklearn.model_selection import GridSearchCV\n",
    "from sklearn.naive_bayes import GaussianNB\n",
    "from datatools import DataGrapher\n",
    "\n",
    "\n",
    "%matplotlib inline"
   ]
  },
  {
   "cell_type": "code",
   "execution_count": 657,
   "metadata": {},
   "outputs": [],
   "source": [
    "#Bring in the data\n",
    "\n",
    "nba = pd.read_csv('./data/nba_analysis_data.csv')\n",
    "nba.dropna(inplace = True)"
   ]
  },
  {
   "cell_type": "code",
   "execution_count": null,
   "metadata": {},
   "outputs": [],
   "source": [
    "nba_test = pd.read_csv('./data/nba_test_analysis_data.csv')\n",
    "nba_test = pd"
   ]
  },
  {
   "cell_type": "code",
   "execution_count": 658,
   "metadata": {},
   "outputs": [],
   "source": [
    "features = ['home_payout', 'away_payout','feature_1', 'feature_2', \n",
    "            'feature_3' ,'feature_4', 'feature_5', 'feature_6',\n",
    "            'feature_7', 'feature_8', \n",
    "            'feature_9','feature_10', 'feature_11', 'feature_12', \n",
    "            'feature_13', 'feature_14', 'feature_15', 'feature_16',\n",
    "            'feature_17', 'feature_18', 'feature_19']"
   ]
  },
  {
   "cell_type": "code",
   "execution_count": 659,
   "metadata": {},
   "outputs": [],
   "source": [
    "nba = nba[nba.lastaway_win == 1]"
   ]
  },
  {
   "cell_type": "code",
   "execution_count": 660,
   "metadata": {},
   "outputs": [],
   "source": [
    "\n",
    "X_train = nba.drop(columns = ['cover','home_win_margin', \n",
    "                        'date', 'dataset','line_cv',\n",
    "                       'home_starter5', 'win_margin_ratio',\n",
    "                       'away_starter2', 'away_starter3',\n",
    "                       'away_starter4', 'away_starter5',\n",
    "                       'ref_1', 'ref_3', 'crew_referees',\n",
    "                      'away_pace', 'away_spread',\n",
    "                        'away_line_cv',  'away_cover','feature_1', \n",
    "            'feature_2', \n",
    "            'feature_3' ,'feature_4', 'feature_5', 'feature_6',\n",
    "            'feature_7', 'feature_8', 'teams', 'away_team',\n",
    "            'feature_9','feature_10', 'feature_11', 'feature_12', \n",
    "            'feature_13', 'feature_14', 'feature_15', 'feature_16',\n",
    "            'feature_17', 'feature_18', 'feature_19',\n",
    "                       'home_payout', 'away_payout'])\n",
    "\n",
    "\n",
    "#X = nba[features]\n",
    "y_train = nba['away_cover']"
   ]
  },
  {
   "cell_type": "code",
   "execution_count": null,
   "metadata": {},
   "outputs": [],
   "source": [
    "X_test= nba_test.drop('cover','home_win_margin', \n",
    "                        'date', 'dataset','line_cv',\n",
    "                       'home_starter5', 'win_margin_ratio',\n",
    "                       'away_starter2', 'away_starter3',\n",
    "                       'away_starter4', 'away_starter5',\n",
    "                       'ref_1', 'ref_3', 'crew_referees',\n",
    "                      'away_pace', 'away_spread',\n",
    "                        'away_line_cv',  'away_cover','feature_1', \n",
    "            'feature_2', \n",
    "            'feature_3' ,'feature_4', 'feature_5', 'feature_6',\n",
    "            'feature_7', 'feature_8', 'teams', 'away_team',\n",
    "            'feature_9','feature_10', 'feature_11', 'feature_12', \n",
    "            'feature_13', 'feature_14', 'feature_15', 'feature_16',\n",
    "            'feature_17', 'feature_18', 'feature_19',\n",
    "                       'home_payout', 'away_payout')\n",
    "\n",
    "y_test = nba_test.away_cover"
   ]
  },
  {
   "cell_type": "code",
   "execution_count": 661,
   "metadata": {},
   "outputs": [
    {
     "data": {
      "text/plain": [
       "(830, 206)"
      ]
     },
     "execution_count": 661,
     "metadata": {},
     "output_type": "execute_result"
    }
   ],
   "source": [
    "\n",
    "nba.shape"
   ]
  },
  {
   "cell_type": "code",
   "execution_count": 662,
   "metadata": {
    "scrolled": true
   },
   "outputs": [
    {
     "data": {
      "text/plain": [
       "(array([], dtype=int64), array([], dtype=int64))"
      ]
     },
     "execution_count": 662,
     "metadata": {},
     "output_type": "execute_result"
    }
   ],
   "source": [
    "np.where(X.values >= np.finfo(np.float64).max)"
   ]
  },
  {
   "cell_type": "code",
   "execution_count": 663,
   "metadata": {},
   "outputs": [],
   "source": [
    "\n",
    "#create interactions and squared terms\n",
    "poly = PolynomialFeatures(degree = 2)\n",
    "X_poly = poly.fit_transform(X_train)\n",
    "X_poly_test = poly.transform(X_test)\n",
    "X_poly = pd.DataFrame(X_poly, \n",
    "                      columns = poly.get_feature_names(X_train.columns))\n",
    "X_poly_test = pd.DataFrame(X_poly_test, \n",
    "                           columns = poly.get_feature_names(X_test.columns))\n"
   ]
  },
  {
   "cell_type": "code",
   "execution_count": 666,
   "metadata": {
    "scrolled": true
   },
   "outputs": [],
   "source": [
    "\n",
    "#scaling data to use in various other methods\n",
    "ss = StandardScaler()\n",
    "X_train_scaled = ss.fit_transform(X_poly)\n",
    "X_test_scaled = ss.transform(X_poly_test)"
   ]
  },
  {
   "cell_type": "code",
   "execution_count": 667,
   "metadata": {},
   "outputs": [],
   "source": [
    "from sklearn.decomposition import PCA"
   ]
  },
  {
   "cell_type": "code",
   "execution_count": 668,
   "metadata": {},
   "outputs": [],
   "source": [
    "pc = PCA(n_components=300)\n",
    "X_train_pc = pc.fit_transform(X_train_scaled)\n",
    "X_test_pc = pc.transform(X_test_scaled)\n"
   ]
  },
  {
   "cell_type": "code",
   "execution_count": 669,
   "metadata": {
    "scrolled": false
   },
   "outputs": [
    {
     "name": "stdout",
     "output_type": "stream",
     "text": [
      "Explained variance:             [8.82917057e-02 5.84870256e-02 4.80600005e-02 3.77899684e-02\n",
      " 3.45485386e-02 3.20764829e-02 2.85602855e-02 2.54742865e-02\n",
      " 2.49062213e-02 2.26417564e-02 2.19524311e-02 2.10534465e-02\n",
      " 1.91258306e-02 1.73275127e-02 1.68747001e-02 1.58384929e-02\n",
      " 1.48170538e-02 1.43344838e-02 1.36764363e-02 1.31948350e-02\n",
      " 1.26450388e-02 1.23476011e-02 1.21978452e-02 1.15485120e-02\n",
      " 1.14015068e-02 1.11789487e-02 1.10233406e-02 1.07883202e-02\n",
      " 1.03542744e-02 1.01046614e-02 9.89349712e-03 9.50696421e-03\n",
      " 9.35557728e-03 9.04167960e-03 8.87227692e-03 8.44177468e-03\n",
      " 8.29153483e-03 7.98794418e-03 7.88667545e-03 7.74038258e-03\n",
      " 7.48510581e-03 7.23195170e-03 7.02694749e-03 6.82025827e-03\n",
      " 6.70400110e-03 6.36364308e-03 6.21697690e-03 6.05284639e-03\n",
      " 5.78691434e-03 5.54263026e-03 5.29331476e-03 5.12352245e-03\n",
      " 5.02485803e-03 4.88896817e-03 4.68214555e-03 4.45055477e-03\n",
      " 4.33564614e-03 4.12647149e-03 3.87435391e-03 3.80000216e-03\n",
      " 3.47612092e-03 3.43799351e-03 3.22820180e-03 3.14899770e-03\n",
      " 3.03757052e-03 2.78729984e-03 2.74496013e-03 2.65041683e-03\n",
      " 2.50635053e-03 2.45708985e-03 2.34813576e-03 2.17114585e-03\n",
      " 2.14851098e-03 2.05208263e-03 1.94017936e-03 1.88586020e-03\n",
      " 1.85267884e-03 1.78056226e-03 1.71057886e-03 1.62727764e-03\n",
      " 1.55739792e-03 1.45341023e-03 1.41922752e-03 1.38465813e-03\n",
      " 1.31213535e-03 1.24885264e-03 1.23052154e-03 1.14783493e-03\n",
      " 1.10516434e-03 1.03912710e-03 1.02495759e-03 1.01587466e-03\n",
      " 9.91864528e-04 9.42224672e-04 9.00474743e-04 8.85228293e-04\n",
      " 8.53249400e-04 8.26277713e-04 7.77857219e-04 7.70927365e-04\n",
      " 7.57675195e-04 7.43713288e-04 7.05062980e-04 6.77003224e-04\n",
      " 6.63594779e-04 6.55402313e-04 6.25045542e-04 6.12726189e-04\n",
      " 5.91486981e-04 5.85876639e-04 5.78773981e-04 5.60318742e-04\n",
      " 5.47443804e-04 5.43437328e-04 5.41231402e-04 5.21312470e-04\n",
      " 5.15279221e-04 5.02528618e-04 4.82861674e-04 4.75175997e-04\n",
      " 4.62400929e-04 4.55675354e-04 4.54600846e-04 4.41870221e-04\n",
      " 4.30547293e-04 4.15005552e-04 4.13951576e-04 4.10656163e-04\n",
      " 3.98837606e-04 3.93457652e-04 3.87033867e-04 3.80232053e-04\n",
      " 3.72490393e-04 3.61025964e-04 3.57567775e-04 3.50118482e-04\n",
      " 3.48017674e-04 3.38360806e-04 3.36083256e-04 3.27128852e-04\n",
      " 3.24408216e-04 3.18460824e-04 3.11600328e-04 3.05175597e-04\n",
      " 2.99640031e-04 2.94038925e-04 2.89455427e-04 2.87134157e-04\n",
      " 2.85608121e-04 2.79495783e-04 2.74365551e-04 2.68902815e-04\n",
      " 2.64982957e-04 2.61442627e-04 2.60492822e-04 2.56254417e-04\n",
      " 2.53396192e-04 2.47043821e-04 2.44216743e-04 2.37838135e-04\n",
      " 2.35639737e-04 2.33493522e-04 2.32608675e-04 2.28465375e-04\n",
      " 2.26307090e-04 2.23189555e-04 2.17864414e-04 2.15569604e-04\n",
      " 2.13456890e-04 2.11492582e-04 2.07545173e-04 2.05843673e-04\n",
      " 2.02929550e-04 1.98583395e-04 1.96911424e-04 1.92946623e-04\n",
      " 1.90648016e-04 1.89602905e-04 1.88898834e-04 1.86145473e-04\n",
      " 1.85191632e-04 1.82242713e-04 1.78972782e-04 1.76712783e-04\n",
      " 1.74855633e-04 1.73783871e-04 1.69103414e-04 1.67730078e-04\n",
      " 1.65761990e-04 1.63237201e-04 1.62572839e-04 1.62073389e-04\n",
      " 1.60720999e-04 1.57515167e-04 1.56376799e-04 1.55507521e-04\n",
      " 1.52375930e-04 1.50819508e-04 1.49205159e-04 1.48426247e-04\n",
      " 1.45552391e-04 1.44551728e-04 1.42959816e-04 1.41597609e-04\n",
      " 1.38900402e-04 1.37049356e-04 1.34816034e-04 1.33969610e-04\n",
      " 1.32512343e-04 1.31137296e-04 1.28971227e-04 1.28773994e-04\n",
      " 1.27059081e-04 1.25869642e-04 1.24910473e-04 1.24672620e-04\n",
      " 1.22453023e-04 1.21875926e-04 1.20782814e-04 1.19068758e-04\n",
      " 1.17861998e-04 1.15837968e-04 1.15264269e-04 1.14138948e-04\n",
      " 1.13208832e-04 1.10945257e-04 1.09982428e-04 1.09098173e-04\n",
      " 1.08983678e-04 1.08025536e-04 1.06576087e-04 1.05507940e-04\n",
      " 1.03962712e-04 1.03456130e-04 1.02594036e-04 1.01218156e-04\n",
      " 9.94297045e-05 9.88595330e-05 9.70392607e-05 9.67542713e-05\n",
      " 9.58268082e-05 9.42902258e-05 9.37259840e-05 9.26599826e-05\n",
      " 9.11342261e-05 9.08967804e-05 8.96517838e-05 8.93967984e-05\n",
      " 8.79804875e-05 8.77918305e-05 8.68723595e-05 8.56544785e-05\n",
      " 8.45233305e-05 8.38819997e-05 8.32301226e-05 8.21559640e-05\n",
      " 8.12748464e-05 8.10339970e-05 8.06911911e-05 7.97349424e-05\n",
      " 7.91138288e-05 7.78176374e-05 7.68227169e-05 7.66998661e-05\n",
      " 7.48431756e-05 7.42185000e-05 7.38711219e-05 7.18704618e-05\n",
      " 7.16852369e-05 7.09824509e-05 7.04802977e-05 7.00810073e-05\n",
      " 6.96329371e-05 6.91242413e-05 6.76308442e-05 6.73043637e-05\n",
      " 6.70242726e-05 6.60665312e-05 6.56528554e-05 6.43453167e-05\n",
      " 6.36988214e-05 6.31198145e-05 6.20393614e-05 6.15679199e-05\n",
      " 6.09617681e-05 6.04854316e-05 5.95447327e-05 5.89684247e-05\n",
      " 5.83736429e-05 5.75459491e-05 5.73552598e-05 5.66632663e-05\n",
      " 5.61681123e-05 5.56774164e-05 5.53191633e-05 5.48791661e-05\n",
      " 5.36853234e-05 5.30033250e-05 5.24307648e-05 5.19987026e-05]\n",
      "Cumulative explained variance:  [0.08829171 0.14677873 0.19483873 0.2326287  0.26717724 0.29925372\n",
      " 0.32781401 0.35328829 0.37819451 0.40083627 0.4227887  0.44384215\n",
      " 0.46296798 0.48029549 0.49717019 0.51300869 0.52782574 0.54216022\n",
      " 0.55583666 0.56903149 0.58167653 0.59402413 0.60622198 0.61777049\n",
      " 0.629172   0.64035095 0.65137429 0.66216261 0.67251688 0.68262154\n",
      " 0.69251504 0.702022   0.71137758 0.72041926 0.72929154 0.73773331\n",
      " 0.74602485 0.75401279 0.76189947 0.76963985 0.77712496 0.78435691\n",
      " 0.79138386 0.79820411 0.80490811 0.81127176 0.81748873 0.82354158\n",
      " 0.8293285  0.83487113 0.84016444 0.84528796 0.85031282 0.85520179\n",
      " 0.85988393 0.86433449 0.86867014 0.87279661 0.87667096 0.88047096\n",
      " 0.88394708 0.88738508 0.89061328 0.89376228 0.89679985 0.89958715\n",
      " 0.90233211 0.90498252 0.90748887 0.90994596 0.9122941  0.91446525\n",
      " 0.91661376 0.91866584 0.92060602 0.92249188 0.92434456 0.92612512\n",
      " 0.9278357  0.92946298 0.93102037 0.93247378 0.93389301 0.93527767\n",
      " 0.93658981 0.93783866 0.93906918 0.94021702 0.94132218 0.94236131\n",
      " 0.94338626 0.94440214 0.945394   0.94633623 0.9472367  0.94812193\n",
      " 0.94897518 0.94980146 0.95057932 0.95135024 0.95210792 0.95285163\n",
      " 0.95355669 0.9542337  0.95489729 0.95555269 0.95617774 0.95679047\n",
      " 0.95738195 0.95796783 0.9585466  0.95910692 0.95965437 0.9601978\n",
      " 0.96073904 0.96126035 0.96177563 0.96227816 0.96276102 0.96323619\n",
      " 0.96369859 0.96415427 0.96460887 0.96505074 0.96548129 0.96589629\n",
      " 0.96631024 0.9667209  0.96711974 0.9675132  0.96790023 0.96828046\n",
      " 0.96865295 0.96901398 0.96937155 0.96972166 0.97006968 0.97040804\n",
      " 0.97074413 0.97107126 0.97139566 0.97171412 0.97202572 0.9723309\n",
      " 0.97263054 0.97292458 0.97321403 0.97350117 0.97378678 0.97406627\n",
      " 0.97434064 0.97460954 0.97487452 0.97513597 0.97539646 0.97565271\n",
      " 0.97590611 0.97615315 0.97639737 0.97663521 0.97687085 0.97710434\n",
      " 0.97733695 0.97756542 0.97779172 0.97801491 0.97823278 0.97844835\n",
      " 0.9786618  0.9788733  0.97908084 0.97928669 0.97948961 0.9796882\n",
      " 0.97988511 0.98007806 0.9802687  0.98045831 0.98064721 0.98083335\n",
      " 0.98101854 0.98120079 0.98137976 0.98155647 0.98173133 0.98190511\n",
      " 0.98207421 0.98224194 0.98240771 0.98257094 0.98273352 0.98289559\n",
      " 0.98305631 0.98321383 0.9833702  0.98352571 0.98367809 0.98382891\n",
      " 0.98397811 0.98412654 0.98427209 0.98441664 0.9845596  0.9847012\n",
      " 0.9848401  0.98497715 0.98511196 0.98524593 0.98537845 0.98550958\n",
      " 0.98563855 0.98576733 0.98589439 0.98602026 0.98614517 0.98626984\n",
      " 0.98639229 0.98651417 0.98663495 0.98675402 0.98687188 0.98698772\n",
      " 0.98710299 0.98721712 0.98733033 0.98744128 0.98755126 0.98766036\n",
      " 0.98776934 0.98787737 0.98798394 0.98808945 0.98819341 0.98829687\n",
      " 0.98839947 0.98850068 0.98860011 0.98869897 0.98879601 0.98889277\n",
      " 0.98898859 0.98908288 0.98917661 0.98926927 0.9893604  0.9894513\n",
      " 0.98954095 0.98963035 0.98971833 0.98980612 0.98989299 0.98997865\n",
      " 0.99006317 0.99014705 0.99023028 0.99031244 0.99039371 0.99047475\n",
      " 0.99055544 0.99063517 0.99071429 0.99079211 0.99086893 0.99094563\n",
      " 0.99102047 0.99109469 0.99116856 0.99124043 0.99131212 0.9913831\n",
      " 0.99145358 0.99152366 0.99159329 0.99166242 0.99173005 0.99179735\n",
      " 0.99186438 0.99193044 0.9919961  0.99206044 0.99212414 0.99218726\n",
      " 0.9922493  0.99231087 0.99237183 0.99243231 0.99249186 0.99255083\n",
      " 0.9926092  0.99266675 0.9927241  0.99278077 0.99283693 0.99289261\n",
      " 0.99294793 0.99300281 0.9930565  0.9931095  0.99316193 0.99321393]\n"
     ]
    }
   ],
   "source": [
    "var_exp = pc.explained_variance_ratio_\n",
    "print('Explained variance:            ', var_exp)\n",
    "\n",
    "cum_var_exp = np.cumsum(var_exp)\n",
    "print('Cumulative explained variance: ', cum_var_exp)"
   ]
  },
  {
   "cell_type": "code",
   "execution_count": 670,
   "metadata": {
    "scrolled": true
   },
   "outputs": [
    {
     "data": {
      "text/plain": [
       "0.7636655948553055"
      ]
     },
     "execution_count": 670,
     "metadata": {},
     "output_type": "execute_result"
    }
   ],
   "source": [
    "lr = LogisticRegressionCV(Cs=[.0001, .001] , \n",
    "                          penalty='l2', \n",
    "                          solver ='lbfgs', \n",
    "                          cv =5 )\n",
    "lr.fit(X_train_pc, y_train)\n",
    "lr.score(X_train_pc, y_train)"
   ]
  },
  {
   "cell_type": "code",
   "execution_count": 671,
   "metadata": {
    "scrolled": false
   },
   "outputs": [
    {
     "data": {
      "text/plain": [
       "0.5913461538461539"
      ]
     },
     "execution_count": 671,
     "metadata": {},
     "output_type": "execute_result"
    }
   ],
   "source": [
    "lr.score(X_test_pc, y_test)"
   ]
  },
  {
   "cell_type": "code",
   "execution_count": 672,
   "metadata": {},
   "outputs": [],
   "source": [
    "y_hat_lr = lr.predict(X_train_pc)\n",
    "y_hat_lrp = lr.predict_proba(X_train_pc)\n"
   ]
  },
  {
   "cell_type": "code",
   "execution_count": 673,
   "metadata": {
    "scrolled": true
   },
   "outputs": [
    {
     "name": "stdout",
     "output_type": "stream",
     "text": [
      "              precision    recall  f1-score   support\n",
      "\n",
      "           0       0.61      0.64      0.62       110\n",
      "           1       0.57      0.54      0.55        98\n",
      "\n",
      "   micro avg       0.59      0.59      0.59       208\n",
      "   macro avg       0.59      0.59      0.59       208\n",
      "weighted avg       0.59      0.59      0.59       208\n",
      "\n"
     ]
    }
   ],
   "source": [
    "print(classification_report(y_train, y_hat_lr))"
   ]
  },
  {
   "cell_type": "code",
   "execution_count": 674,
   "metadata": {},
   "outputs": [
    {
     "data": {
      "text/plain": [
       "array([[70, 40],\n",
       "       [45, 53]])"
      ]
     },
     "execution_count": 674,
     "metadata": {},
     "output_type": "execute_result"
    }
   ],
   "source": [
    "confusion_matrix( y_train, y_hat_lr)"
   ]
  },
  {
   "cell_type": "markdown",
   "metadata": {},
   "source": [
    "### Naive Bayes\n",
    "\n",
    "Model seems to work best with bare bones information.  More information confused the model."
   ]
  },
  {
   "cell_type": "code",
   "execution_count": 675,
   "metadata": {
    "scrolled": true
   },
   "outputs": [],
   "source": [
    "nb = GaussianNB()\n",
    "nb_params = {\n",
    "    'var_smoothing' : [.05,.1,.15 ] \n",
    "    }"
   ]
  },
  {
   "cell_type": "code",
   "execution_count": null,
   "metadata": {},
   "outputs": [],
   "source": []
  },
  {
   "cell_type": "code",
   "execution_count": 676,
   "metadata": {},
   "outputs": [
    {
     "name": "stdout",
     "output_type": "stream",
     "text": [
      "0.48159144691898315\n",
      "{'var_smoothing': 0.1}\n"
     ]
    },
    {
     "name": "stderr",
     "output_type": "stream",
     "text": [
      "/Users/bryancombs/anaconda3/lib/python3.6/site-packages/sklearn/model_selection/_split.py:1943: FutureWarning: You should specify a value for 'cv' instead of relying on the default value. The default value will change from 3 to 5 in version 0.22.\n",
      "  warnings.warn(CV_WARNING, FutureWarning)\n"
     ]
    }
   ],
   "source": [
    "gs = GridSearchCV(nb, param_grid=nb_params, scoring='precision')\n",
    "gs.fit(X_train_pc, y_train)\n",
    "print(gs.best_score_)\n",
    "print(gs.best_params_)"
   ]
  },
  {
   "cell_type": "code",
   "execution_count": 677,
   "metadata": {},
   "outputs": [
    {
     "data": {
      "text/plain": [
       "0.5882352941176471"
      ]
     },
     "execution_count": 677,
     "metadata": {},
     "output_type": "execute_result"
    }
   ],
   "source": [
    "gs.score(X_test_pc, y_test)"
   ]
  },
  {
   "cell_type": "code",
   "execution_count": 678,
   "metadata": {},
   "outputs": [],
   "source": [
    "y_hat_nb = gs.predict(X_train_pc)\n",
    "y_hat_nbp = gs.predict_proba(X_train_pc)"
   ]
  },
  {
   "cell_type": "code",
   "execution_count": 679,
   "metadata": {
    "scrolled": false
   },
   "outputs": [
    {
     "name": "stdout",
     "output_type": "stream",
     "text": [
      "              precision    recall  f1-score   support\n",
      "\n",
      "           0       0.57      0.81      0.67       110\n",
      "           1       0.59      0.31      0.40        98\n",
      "\n",
      "   micro avg       0.57      0.57      0.57       208\n",
      "   macro avg       0.58      0.56      0.53       208\n",
      "weighted avg       0.58      0.57      0.54       208\n",
      "\n"
     ]
    }
   ],
   "source": [
    "print(classification_report(y_test, y_hat_nb))"
   ]
  },
  {
   "cell_type": "code",
   "execution_count": 680,
   "metadata": {},
   "outputs": [
    {
     "data": {
      "text/plain": [
       "array([[89, 21],\n",
       "       [68, 30]])"
      ]
     },
     "execution_count": 680,
     "metadata": {},
     "output_type": "execute_result"
    }
   ],
   "source": [
    "confusion_matrix( y_train, y_hat_nb)"
   ]
  },
  {
   "cell_type": "code",
   "execution_count": 681,
   "metadata": {},
   "outputs": [],
   "source": [
    "from keras.models import Sequential\n",
    "from keras.layers import Dense\n",
    "from keras.utils import to_categorical"
   ]
  },
  {
   "cell_type": "code",
   "execution_count": 682,
   "metadata": {},
   "outputs": [],
   "source": [
    "model = Sequential()\n",
    "model.add(Dense(300, \n",
    "                activation = 'relu',\n",
    "                input_dim = X_train_scaled.shape[1]))\n",
    "#model.add(Dense(200, activation = 'relu'))\n",
    "\n",
    "#model.add(Dense(10, activation = 'relu'))\n",
    "model.add(Dense(1, activation = 'sigmoid')) #output layer "
   ]
  },
  {
   "cell_type": "code",
   "execution_count": null,
   "metadata": {},
   "outputs": [],
   "source": []
  },
  {
   "cell_type": "raw",
   "metadata": {},
   "source": []
  },
  {
   "cell_type": "code",
   "execution_count": 683,
   "metadata": {},
   "outputs": [
    {
     "name": "stdout",
     "output_type": "stream",
     "text": [
      "Train on 622 samples, validate on 208 samples\n",
      "Epoch 1/15\n",
      "622/622 [==============================] - 1s 2ms/step - loss: 3.0134 - acc: 0.5064 - val_loss: 3.5816 - val_acc: 0.5048\n",
      "Epoch 2/15\n",
      "622/622 [==============================] - 1s 873us/step - loss: 2.7704 - acc: 0.6238 - val_loss: 3.2331 - val_acc: 0.5192\n",
      "Epoch 3/15\n",
      "622/622 [==============================] - 0s 754us/step - loss: 1.5742 - acc: 0.7251 - val_loss: 2.7778 - val_acc: 0.5625\n",
      "Epoch 4/15\n",
      "622/622 [==============================] - 1s 824us/step - loss: 1.3745 - acc: 0.7653 - val_loss: 2.8339 - val_acc: 0.5577\n",
      "Epoch 5/15\n",
      "622/622 [==============================] - 1s 814us/step - loss: 0.9216 - acc: 0.8457 - val_loss: 3.0197 - val_acc: 0.5288\n",
      "Epoch 6/15\n",
      "622/622 [==============================] - 0s 719us/step - loss: 0.6882 - acc: 0.8617 - val_loss: 2.5012 - val_acc: 0.6058\n",
      "Epoch 7/15\n",
      "622/622 [==============================] - 1s 863us/step - loss: 0.5099 - acc: 0.9132 - val_loss: 2.6589 - val_acc: 0.5913\n",
      "Epoch 8/15\n",
      "622/622 [==============================] - 0s 748us/step - loss: 0.3722 - acc: 0.9405 - val_loss: 2.6627 - val_acc: 0.5817\n",
      "Epoch 9/15\n",
      "622/622 [==============================] - 0s 751us/step - loss: 0.3111 - acc: 0.9566 - val_loss: 2.6381 - val_acc: 0.5625\n",
      "Epoch 10/15\n",
      "622/622 [==============================] - 0s 761us/step - loss: 0.2503 - acc: 0.9711 - val_loss: 2.9062 - val_acc: 0.5577\n",
      "Epoch 11/15\n",
      "622/622 [==============================] - 1s 806us/step - loss: 0.2445 - acc: 0.9775 - val_loss: 2.8040 - val_acc: 0.5385\n",
      "Epoch 12/15\n",
      "622/622 [==============================] - 0s 796us/step - loss: 0.2354 - acc: 0.9791 - val_loss: 2.8208 - val_acc: 0.5240\n",
      "Epoch 13/15\n",
      "622/622 [==============================] - 0s 800us/step - loss: 0.2140 - acc: 0.9871 - val_loss: 2.8248 - val_acc: 0.5385\n",
      "Epoch 14/15\n",
      "622/622 [==============================] - 0s 722us/step - loss: 0.2148 - acc: 0.9855 - val_loss: 2.8267 - val_acc: 0.5240\n",
      "Epoch 15/15\n",
      "622/622 [==============================] - 0s 790us/step - loss: 0.2104 - acc: 0.9871 - val_loss: 2.7864 - val_acc: 0.5385\n"
     ]
    },
    {
     "data": {
      "text/plain": [
       "<keras.callbacks.History at 0x1a216c18d0>"
      ]
     },
     "execution_count": 683,
     "metadata": {},
     "output_type": "execute_result"
    }
   ],
   "source": [
    "model.compile(loss = 'binary_crossentropy', optimizer='adam',\n",
    "              metrics = ['accuracy', 'precision'])\n",
    "model.fit(X_train_scaled, \n",
    "          y_train, epochs =4, \n",
    "          batch_size= 128, \n",
    "          validation_data=(X_test_scaled, y_test))"
   ]
  },
  {
   "cell_type": "code",
   "execution_count": 612,
   "metadata": {},
   "outputs": [],
   "source": [
    "y_hat_nn = model.predict(X_train_scaled)\n",
    "y_hat_nnp = model.predict_proba(X_train_scaled)"
   ]
  },
  {
   "cell_type": "code",
   "execution_count": 685,
   "metadata": {
    "scrolled": true
   },
   "outputs": [],
   "source": [
    "rf = RandomForestClassifier()\n",
    "rf_params = {'max_depth' : [50,120],\n",
    "             'min_samples_split' : [125, 150]}"
   ]
  },
  {
   "cell_type": "code",
   "execution_count": 687,
   "metadata": {
    "scrolled": false
   },
   "outputs": [
    {
     "name": "stderr",
     "output_type": "stream",
     "text": [
      "/Users/bryancombs/anaconda3/lib/python3.6/site-packages/sklearn/model_selection/_split.py:1943: FutureWarning: You should specify a value for 'cv' instead of relying on the default value. The default value will change from 3 to 5 in version 0.22.\n",
      "  warnings.warn(CV_WARNING, FutureWarning)\n",
      "/Users/bryancombs/anaconda3/lib/python3.6/site-packages/sklearn/ensemble/forest.py:248: FutureWarning: The default value of n_estimators will change from 10 in version 0.20 to 100 in 0.22.\n",
      "  \"10 in version 0.20 to 100 in 0.22.\", FutureWarning)\n",
      "/Users/bryancombs/anaconda3/lib/python3.6/site-packages/sklearn/ensemble/forest.py:248: FutureWarning: The default value of n_estimators will change from 10 in version 0.20 to 100 in 0.22.\n",
      "  \"10 in version 0.20 to 100 in 0.22.\", FutureWarning)\n",
      "/Users/bryancombs/anaconda3/lib/python3.6/site-packages/sklearn/ensemble/forest.py:248: FutureWarning: The default value of n_estimators will change from 10 in version 0.20 to 100 in 0.22.\n",
      "  \"10 in version 0.20 to 100 in 0.22.\", FutureWarning)\n",
      "/Users/bryancombs/anaconda3/lib/python3.6/site-packages/sklearn/ensemble/forest.py:248: FutureWarning: The default value of n_estimators will change from 10 in version 0.20 to 100 in 0.22.\n",
      "  \"10 in version 0.20 to 100 in 0.22.\", FutureWarning)\n",
      "/Users/bryancombs/anaconda3/lib/python3.6/site-packages/sklearn/ensemble/forest.py:248: FutureWarning: The default value of n_estimators will change from 10 in version 0.20 to 100 in 0.22.\n",
      "  \"10 in version 0.20 to 100 in 0.22.\", FutureWarning)\n",
      "/Users/bryancombs/anaconda3/lib/python3.6/site-packages/sklearn/ensemble/forest.py:248: FutureWarning: The default value of n_estimators will change from 10 in version 0.20 to 100 in 0.22.\n",
      "  \"10 in version 0.20 to 100 in 0.22.\", FutureWarning)\n",
      "/Users/bryancombs/anaconda3/lib/python3.6/site-packages/sklearn/ensemble/forest.py:248: FutureWarning: The default value of n_estimators will change from 10 in version 0.20 to 100 in 0.22.\n",
      "  \"10 in version 0.20 to 100 in 0.22.\", FutureWarning)\n",
      "/Users/bryancombs/anaconda3/lib/python3.6/site-packages/sklearn/ensemble/forest.py:248: FutureWarning: The default value of n_estimators will change from 10 in version 0.20 to 100 in 0.22.\n",
      "  \"10 in version 0.20 to 100 in 0.22.\", FutureWarning)\n",
      "/Users/bryancombs/anaconda3/lib/python3.6/site-packages/sklearn/ensemble/forest.py:248: FutureWarning: The default value of n_estimators will change from 10 in version 0.20 to 100 in 0.22.\n",
      "  \"10 in version 0.20 to 100 in 0.22.\", FutureWarning)\n"
     ]
    },
    {
     "name": "stdout",
     "output_type": "stream",
     "text": [
      "0.5482315112540193\n",
      "{'max_depth': 120, 'min_samples_split': 150}\n"
     ]
    },
    {
     "name": "stderr",
     "output_type": "stream",
     "text": [
      "/Users/bryancombs/anaconda3/lib/python3.6/site-packages/sklearn/ensemble/forest.py:248: FutureWarning: The default value of n_estimators will change from 10 in version 0.20 to 100 in 0.22.\n",
      "  \"10 in version 0.20 to 100 in 0.22.\", FutureWarning)\n",
      "/Users/bryancombs/anaconda3/lib/python3.6/site-packages/sklearn/ensemble/forest.py:248: FutureWarning: The default value of n_estimators will change from 10 in version 0.20 to 100 in 0.22.\n",
      "  \"10 in version 0.20 to 100 in 0.22.\", FutureWarning)\n",
      "/Users/bryancombs/anaconda3/lib/python3.6/site-packages/sklearn/ensemble/forest.py:248: FutureWarning: The default value of n_estimators will change from 10 in version 0.20 to 100 in 0.22.\n",
      "  \"10 in version 0.20 to 100 in 0.22.\", FutureWarning)\n",
      "/Users/bryancombs/anaconda3/lib/python3.6/site-packages/sklearn/ensemble/forest.py:248: FutureWarning: The default value of n_estimators will change from 10 in version 0.20 to 100 in 0.22.\n",
      "  \"10 in version 0.20 to 100 in 0.22.\", FutureWarning)\n"
     ]
    }
   ],
   "source": [
    "gs = GridSearchCV(rf, param_grid=rf_params)\n",
    "gs.fit(X_train_pc, y_train)\n",
    "print(gs.best_score_)\n",
    "print(gs.best_params_)"
   ]
  },
  {
   "cell_type": "code",
   "execution_count": 688,
   "metadata": {
    "scrolled": false
   },
   "outputs": [
    {
     "data": {
      "text/plain": [
       "0.5625"
      ]
     },
     "execution_count": 688,
     "metadata": {},
     "output_type": "execute_result"
    }
   ],
   "source": [
    "gs.score(X_test_pc, y_test)"
   ]
  },
  {
   "cell_type": "code",
   "execution_count": 690,
   "metadata": {},
   "outputs": [],
   "source": [
    "y_hat_rf = gs.predict(X_train_pc)\n",
    "y_hat_rfp = gs.predict_proba(X_train_pc)"
   ]
  },
  {
   "cell_type": "code",
   "execution_count": null,
   "metadata": {},
   "outputs": [],
   "source": []
  },
  {
   "cell_type": "code",
   "execution_count": 691,
   "metadata": {},
   "outputs": [
    {
     "name": "stdout",
     "output_type": "stream",
     "text": [
      "              precision    recall  f1-score   support\n",
      "\n",
      "           0       0.57      0.67      0.62       110\n",
      "           1       0.54      0.44      0.49        98\n",
      "\n",
      "   micro avg       0.56      0.56      0.56       208\n",
      "   macro avg       0.56      0.56      0.55       208\n",
      "weighted avg       0.56      0.56      0.56       208\n",
      "\n"
     ]
    }
   ],
   "source": [
    "print(classification_report(y_test, y_hat_rf))"
   ]
  },
  {
   "cell_type": "code",
   "execution_count": 692,
   "metadata": {},
   "outputs": [
    {
     "data": {
      "text/plain": [
       "array([[74, 36],\n",
       "       [55, 43]])"
      ]
     },
     "execution_count": 692,
     "metadata": {},
     "output_type": "execute_result"
    }
   ],
   "source": [
    "confusion_matrix( y_test, y_hat_rf)"
   ]
  },
  {
   "cell_type": "code",
   "execution_count": 693,
   "metadata": {},
   "outputs": [
    {
     "name": "stderr",
     "output_type": "stream",
     "text": [
      "/Users/bryancombs/anaconda3/lib/python3.6/site-packages/pandas/core/indexing.py:357: SettingWithCopyWarning: \n",
      "A value is trying to be set on a copy of a slice from a DataFrame.\n",
      "Try using .loc[row_indexer,col_indexer] = value instead\n",
      "\n",
      "See the caveats in the documentation: http://pandas.pydata.org/pandas-docs/stable/indexing.html#indexing-view-versus-copy\n",
      "  self.obj[key] = _infer_fill_value(value)\n",
      "/Users/bryancombs/anaconda3/lib/python3.6/site-packages/pandas/core/indexing.py:621: SettingWithCopyWarning: \n",
      "A value is trying to be set on a copy of a slice from a DataFrame.\n",
      "Try using .loc[row_indexer,col_indexer] = value instead\n",
      "\n",
      "See the caveats in the documentation: http://pandas.pydata.org/pandas-docs/stable/indexing.html#indexing-view-versus-copy\n",
      "  self.obj[item_labels[indexer[info_axis]]] = value\n",
      "/Users/bryancombs/anaconda3/lib/python3.6/site-packages/pandas/core/indexing.py:537: SettingWithCopyWarning: \n",
      "A value is trying to be set on a copy of a slice from a DataFrame.\n",
      "Try using .loc[row_indexer,col_indexer] = value instead\n",
      "\n",
      "See the caveats in the documentation: http://pandas.pydata.org/pandas-docs/stable/indexing.html#indexing-view-versus-copy\n",
      "  self.obj[item] = s\n"
     ]
    }
   ],
   "source": [
    "#modifying train and testing data to allow for changing prob thresholds and printing the \n",
    "#roc curves \n",
    "#Random Forest\n",
    "nba.loc[:, 'actual_y'] = y_train\n",
    "nba.loc[:, 'predicted_label_rf'] = y_hat_rf\n",
    "nba.loc[:, 'predicted_proba_rfp'] = y_hat_rfp[:, 1]\n",
    "\n",
    "#Bayesian\n",
    "\n",
    "nba.loc[:, 'predicted_label_nb'] = y_hat_nb\n",
    "nba.loc[:, 'predicted_proba_nbp'] = y_hat_nbp[:, 1]\n",
    "\n",
    "nba.loc[:, 'predicted_label_lr'] = y_hat_lr\n",
    "nba.loc[:, 'predicted_proba_lrp'] = y_hat_lrp[:, 1]"
   ]
  },
  {
   "cell_type": "code",
   "execution_count": 694,
   "metadata": {},
   "outputs": [],
   "source": [
    "from sklearn.metrics import roc_curve, auc"
   ]
  },
  {
   "cell_type": "code",
   "execution_count": 697,
   "metadata": {},
   "outputs": [],
   "source": [
    "fpr, tpr, _ = roc_curve(y_test, X_test['predicted_proba_lrp'])\n",
    "roc_auc = auc(fpr, tpr)"
   ]
  },
  {
   "cell_type": "code",
   "execution_count": 698,
   "metadata": {},
   "outputs": [
    {
     "data": {
      "image/png": "[encoded data removed]",
      "text/plain": [
       "<matplotlib.figure.Figure at 0x1a71714c18>"
      ]
     },
     "metadata": {},
     "output_type": "display_data"
    }
   ],
   "source": [
    "# Plot \n",
    "plt.figure(figsize = (12,7))\n",
    "line_width = 3\n",
    "\n",
    "plt.plot(fpr, tpr, lw = line_width, color=\"darkorange\", label = \"ROC Curve %.2f\" % roc_auc)\n",
    "plt.plot([0,1], [0, 1], lw = line_width, linestyle=\"--\", color=\"navy\")\n",
    "\n",
    "plt.xlim([0.0, 1.0])\n",
    "plt.ylim([0.0, 1.05])\n",
    "plt.xlabel('False Positive Rate')\n",
    "plt.ylabel('True Positive Rate')\n",
    "plt.title('ROC')\n",
    "plt.legend(loc=\"lower right\")\n",
    "plt.show()"
   ]
  },
  {
   "cell_type": "code",
   "execution_count": null,
   "metadata": {},
   "outputs": [],
   "source": [
    "conditions = [\n",
    "    (nba['line_cv'] <0), \n",
    "    (nba['line_cv'] > 0),\n",
    "    (nba['line_cv'] == 0)]\n",
    "choices = [.909, -1, 0]\n",
    "nba['away_payout'] = np.select(conditions, choices)"
   ]
  },
  {
   "cell_type": "code",
   "execution_count": null,
   "metadata": {},
   "outputs": [],
   "source": [
    "#test payouts\n",
    "conditions = [\n",
    "    (nba_test['line_cv'] <0), \n",
    "    (nba_test['line_cv'] > 0),\n",
    "    (nba_test['line_cv'] == 0)]\n",
    "choices = [.909, -1, 0]\n",
    "nba_test['away_payout'] = np.select(conditions, choices)"
   ]
  },
  {
   "cell_type": "code",
   "execution_count": 623,
   "metadata": {},
   "outputs": [
    {
     "name": "stderr",
     "output_type": "stream",
     "text": [
      "/Users/bryancombs/anaconda3/lib/python3.6/site-packages/pandas/core/indexing.py:357: SettingWithCopyWarning: \n",
      "A value is trying to be set on a copy of a slice from a DataFrame.\n",
      "Try using .loc[row_indexer,col_indexer] = value instead\n",
      "\n",
      "See the caveats in the documentation: http://pandas.pydata.org/pandas-docs/stable/indexing.html#indexing-view-versus-copy\n",
      "  self.obj[key] = _infer_fill_value(value)\n",
      "/Users/bryancombs/anaconda3/lib/python3.6/site-packages/pandas/core/indexing.py:537: SettingWithCopyWarning: \n",
      "A value is trying to be set on a copy of a slice from a DataFrame.\n",
      "Try using .loc[row_indexer,col_indexer] = value instead\n",
      "\n",
      "See the caveats in the documentation: http://pandas.pydata.org/pandas-docs/stable/indexing.html#indexing-view-versus-copy\n",
      "  self.obj[item] = s\n"
     ]
    },
    {
     "name": "stdout",
     "output_type": "stream",
     "text": [
      "Test  0.4\n",
      "[[ 79 184]\n",
      " [ 95 195]]\n",
      "Test  0.41\n",
      "[[ 82 181]\n",
      " [ 96 194]]\n",
      "Test  0.42\n",
      "[[ 84 179]\n",
      " [102 188]]\n",
      "Test  0.43\n",
      "[[ 88 175]\n",
      " [106 184]]\n",
      "Test  0.44\n",
      "[[ 94 169]\n",
      " [107 183]]\n",
      "Test  0.45\n",
      "[[101 162]\n",
      " [112 178]]\n",
      "Test  0.46\n",
      "[[102 161]\n",
      " [115 175]]\n",
      "Test  0.47\n",
      "[[102 161]\n",
      " [120 170]]\n",
      "Test  0.48\n",
      "[[105 158]\n",
      " [126 164]]\n",
      "Test  0.49\n",
      "[[113 150]\n",
      " [128 162]]\n",
      "Test  0.5\n",
      "[[116 147]\n",
      " [134 156]]\n",
      "Test  0.51\n",
      "[[118 145]\n",
      " [135 155]]\n",
      "Test  0.52\n",
      "[[123 140]\n",
      " [137 153]]\n",
      "Test  0.53\n",
      "[[127 136]\n",
      " [140 150]]\n",
      "Test  0.54\n",
      "[[132 131]\n",
      " [145 145]]\n",
      "Test  0.55\n",
      "[[139 124]\n",
      " [149 141]]\n",
      "Test  0.56\n",
      "[[142 121]\n",
      " [151 139]]\n",
      "Test  0.57\n",
      "[[147 116]\n",
      " [158 132]]\n",
      "Test  0.58\n",
      "[[150 113]\n",
      " [166 124]]\n",
      "Test  0.59\n",
      "[[155 108]\n",
      " [170 120]]\n",
      "Test  0.6\n",
      "[[159 104]\n",
      " [173 117]]\n",
      "Test  0.61\n",
      "[[165  98]\n",
      " [179 111]]\n",
      "Test  0.62\n",
      "[[170  93]\n",
      " [181 109]]\n",
      "Test  0.63\n",
      "[[179  84]\n",
      " [185 105]]\n",
      "Test  0.64\n",
      "[[186  77]\n",
      " [188 102]]\n"
     ]
    }
   ],
   "source": [
    "for prob in range(40, 65, 1):\n",
    "    proba = prob/100\n",
    "    \n",
    "    nba.loc[:, 'predicted_label']= nba['predicted_proba_lrp'].map(\n",
    "    lambda p: 1 if p > proba else 0)\n",
    "    \n",
    "#     X_train.loc[:, 'predicted_label']= X_train['predicted_proba_rfp'].map(\n",
    "#     lambda p: 1 if p > proba else 0)\n",
    "    \n",
    "#    results = X_test[X_test['predicted_label']==1]\n",
    "#     print('Test  ' + str(proba))\n",
    "#     print (confusion_matrix(y_test, nba['predicted_label']))\n",
    "   results_neg = nba[nba['predicted_label']==0]\n",
    "   print (\"Return of Home Games: \", results_neg.home_payout.sum())\n",
    "#     print(' Train  ' + str(proba))\n",
    "#     print(confusion_matrix(y_train, X_train['predicted_label']))"
   ]
  },
  {
   "cell_type": "code",
   "execution_count": null,
   "metadata": {},
   "outputs": [],
   "source": []
  },
  {
   "cell_type": "code",
   "execution_count": null,
   "metadata": {},
   "outputs": [],
   "source": []
  }
 ],
 "metadata": {
  "kernelspec": {
   "display_name": "Python 3",
   "language": "python",
   "name": "python3"
  },
  "language_info": {
   "codemirror_mode": {
    "name": "ipython",
    "version": 3
   },
   "file_extension": ".py",
   "mimetype": "text/x-python",
   "name": "python",
   "nbconvert_exporter": "python",
   "pygments_lexer": "ipython3",
   "version": "3.6.6"
  }
 },
 "nbformat": 4,
 "nbformat_minor": 2
}
