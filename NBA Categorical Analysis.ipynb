{
 "cells": [
  {
   "cell_type": "code",
   "execution_count": 671,
   "metadata": {},
   "outputs": [],
   "source": [
    "from sklearn.ensemble import AdaBoostClassifier, RandomForestClassifier\n",
    "from sklearn.model_selection import train_test_split, cross_val_score\n",
    "import pandas as pd\n",
    "import numpy as np\n",
    "from sklearn.metrics import classification_report, confusion_matrix\n",
    "import matplotlib.pyplot as plt\n",
    "from sklearn.svm import SVC\n",
    "from sklearn.preprocessing import StandardScaler, PolynomialFeatures\n",
    "from sklearn.linear_model import LogisticRegressionCV\n",
    "from sklearn.model_selection import GridSearchCV\n",
    "from sklearn.naive_bayes import GaussianNB\n",
    "from datatools import DataGrapher\n",
    "\n",
    "\n",
    "%matplotlib inline"
   ]
  },
  {
   "cell_type": "code",
   "execution_count": 672,
   "metadata": {},
   "outputs": [],
   "source": [
    "#Bring in the data\n",
    "\n",
    "nba = pd.read_csv('./data/nba_analysis_data.csv')\n",
    "nba.dropna(inplace = True)"
   ]
  },
  {
   "cell_type": "code",
   "execution_count": 673,
   "metadata": {},
   "outputs": [],
   "source": [
    "#seperate test from train\n",
    "\n",
    "nba_train = nba[nba.test == 0]\n",
    "nba_test = nba[nba.test ==1]  #scott tarlow scotttarlow@gmail.com\n",
    "#learn a domain"
   ]
  },
  {
   "cell_type": "code",
   "execution_count": 674,
   "metadata": {},
   "outputs": [],
   "source": [
    "nba_train = nba_train[nba_train.playoff_game == 1]\n",
    "nba_test = nba_test[nba_test.playoff_game == 1]"
   ]
  },
  {
   "cell_type": "code",
   "execution_count": 675,
   "metadata": {},
   "outputs": [],
   "source": [
    "\n",
    "X_train = nba_train.drop(columns = ['cover','home_win_margin', \n",
    "                        'date', 'dataset','line_cv', \n",
    "                        'home_starter5', 'teams', 'away_team',\n",
    "                        'away_starter2', 'away_starter3',\n",
    "                        'away_starter4', 'away_starter5',\n",
    "                        'ref_1', 'ref_3', 'crew_referees',\n",
    "                        'away_pace', 'away_spread',\n",
    "                        'away_line_cv',  'away_cover',\n",
    "                        'home_payout', 'away_payout', 'over', 'under',\n",
    "                        'total_score', 'total_diff'         ])\n",
    "\n",
    "\n",
    "#X = nba[features]\n",
    "y_train = nba_train['cover']"
   ]
  },
  {
   "cell_type": "code",
   "execution_count": 676,
   "metadata": {},
   "outputs": [],
   "source": [
    "X_test= nba_test.drop(columns = ['cover','home_win_margin', \n",
    "                        'date', 'dataset','line_cv', \n",
    "                        'home_starter5', 'teams', 'away_team',\n",
    "                        'away_starter2', 'away_starter3',\n",
    "                        'away_starter4', 'away_starter5',\n",
    "                        'ref_1', 'ref_3', 'crew_referees',\n",
    "                        'away_pace', 'away_spread',\n",
    "                        'away_line_cv',  'away_cover',\n",
    "                        'home_payout', 'away_payout', 'over', 'under',\n",
    "                        'total_score', 'total_diff'       ])\n",
    "\n",
    "y_test = nba_test.away_cover"
   ]
  },
  {
   "cell_type": "code",
   "execution_count": 677,
   "metadata": {},
   "outputs": [
    {
     "data": {
      "text/plain": [
       "(150, 148)"
      ]
     },
     "execution_count": 677,
     "metadata": {},
     "output_type": "execute_result"
    }
   ],
   "source": [
    "\n",
    "X_test.shape"
   ]
  },
  {
   "cell_type": "code",
   "execution_count": 678,
   "metadata": {},
   "outputs": [
    {
     "data": {
      "text/plain": [
       "(711, 148)"
      ]
     },
     "execution_count": 678,
     "metadata": {},
     "output_type": "execute_result"
    }
   ],
   "source": [
    "X_train.shape"
   ]
  },
  {
   "cell_type": "markdown",
   "metadata": {},
   "source": [
    "### Interaction Terms\n",
    "\n",
    "At one point in the modeling process I hoped to get better results by including some interactions in the model.  They did not appear significant and added noise so they were removed, but I left the code in case I wanted to reinsert them later. "
   ]
  },
  {
   "cell_type": "code",
   "execution_count": 679,
   "metadata": {},
   "outputs": [],
   "source": [
    "\n",
    "# #create interactions  tested but did not help the model\n",
    "# poly = PolynomialFeatures(degree = 2, interaction_only= True)\n",
    "# X_poly = poly.fit_transform(X_train)\n",
    "# X_poly_test = poly.transform(X_test)\n",
    "# X_poly = pd.DataFrame(X_poly, \n",
    "#                       columns = poly.get_feature_names(X_train.columns))\n",
    "# X_poly_test = pd.DataFrame(X_poly_test, \n",
    "#                            columns = poly.get_feature_names(X_test.columns))\n"
   ]
  },
  {
   "cell_type": "markdown",
   "metadata": {},
   "source": [
    "### Scale and Transform the data\n",
    "\n",
    "I use standard scaler scale the data and then do a principal components analysis to transform the data.  I do not care about inference in this case only prediction and there is a good deal of correlation between variables. So I decided to transform the data to reduce the number and get orthoginal features without losing much information.  I retain 99% of the variance."
   ]
  },
  {
   "cell_type": "code",
   "execution_count": 680,
   "metadata": {
    "scrolled": true
   },
   "outputs": [
    {
     "name": "stderr",
     "output_type": "stream",
     "text": [
      "/Users/bryancombs/anaconda3/lib/python3.6/site-packages/sklearn/preprocessing/data.py:617: DataConversionWarning: Data with input dtype int64, float64 were all converted to float64 by StandardScaler.\n",
      "  return self.partial_fit(X, y)\n",
      "/Users/bryancombs/anaconda3/lib/python3.6/site-packages/sklearn/base.py:462: DataConversionWarning: Data with input dtype int64, float64 were all converted to float64 by StandardScaler.\n",
      "  return self.fit(X, **fit_params).transform(X)\n",
      "/Users/bryancombs/anaconda3/lib/python3.6/site-packages/ipykernel_launcher.py:5: DataConversionWarning: Data with input dtype int64, float64 were all converted to float64 by StandardScaler.\n",
      "  \"\"\"\n"
     ]
    }
   ],
   "source": [
    "\n",
    "#scaling data to use in various other methods\n",
    "ss = StandardScaler()\n",
    "X_train_scaled = ss.fit_transform(X_train)\n",
    "X_test_scaled = ss.transform(X_test)"
   ]
  },
  {
   "cell_type": "code",
   "execution_count": 681,
   "metadata": {},
   "outputs": [],
   "source": [
    "from sklearn.decomposition import PCA"
   ]
  },
  {
   "cell_type": "code",
   "execution_count": 682,
   "metadata": {},
   "outputs": [],
   "source": [
    "pc = PCA(n_components=70)\n",
    "X_train_pc = pc.fit_transform(X_train_scaled)\n",
    "X_test_pc = pc.transform(X_test_scaled)\n"
   ]
  },
  {
   "cell_type": "code",
   "execution_count": 683,
   "metadata": {
    "scrolled": true
   },
   "outputs": [
    {
     "name": "stdout",
     "output_type": "stream",
     "text": [
      "Explained variance:             [0.11834685 0.104883   0.06266254 0.04411775 0.04018636 0.03734666\n",
      " 0.03476068 0.03171364 0.03139363 0.02753802 0.02744268 0.02399141\n",
      " 0.02344819 0.01998734 0.01883975 0.01781687 0.01662342 0.01571055\n",
      " 0.01524122 0.01448081 0.01423059 0.01298795 0.01231318 0.01210623\n",
      " 0.01140447 0.0102714  0.01001335 0.00975316 0.00923449 0.00848232\n",
      " 0.00833255 0.00792014 0.00744979 0.00729155 0.00692119 0.00671727\n",
      " 0.00622452 0.00601655 0.00566995 0.00522665 0.00491279 0.00467794\n",
      " 0.00460015 0.00420859 0.00404255 0.003902   0.00363442 0.00344472\n",
      " 0.00337061 0.00319925 0.00308048 0.00296615 0.00273094 0.00265915\n",
      " 0.0025538  0.00241487 0.00232505 0.00208454 0.00199289 0.00193616\n",
      " 0.00187553 0.00182429 0.0016813  0.00159422 0.00149084 0.00140558\n",
      " 0.00137027 0.00133912 0.00128009 0.00116461]\n",
      "Cumulative explained variance:  [0.11834685 0.22322985 0.28589239 0.33001014 0.3701965  0.40754316\n",
      " 0.44230384 0.47401748 0.5054111  0.53294913 0.5603918  0.58438321\n",
      " 0.6078314  0.62781874 0.64665849 0.66447536 0.68109878 0.69680932\n",
      " 0.71205054 0.72653135 0.74076194 0.75374988 0.76606306 0.77816929\n",
      " 0.78957376 0.79984517 0.80985852 0.81961168 0.82884617 0.83732849\n",
      " 0.84566104 0.85358118 0.86103097 0.86832252 0.87524371 0.88196098\n",
      " 0.8881855  0.89420205 0.899872   0.90509866 0.91001145 0.91468938\n",
      " 0.91928953 0.92349812 0.92754068 0.93144268 0.9350771  0.93852183\n",
      " 0.94189243 0.94509169 0.94817217 0.95113832 0.95386926 0.95652841\n",
      " 0.95908222 0.96149709 0.96382214 0.96590668 0.96789957 0.96983572\n",
      " 0.97171125 0.97353554 0.97521683 0.97681105 0.97830189 0.97970748\n",
      " 0.98107774 0.98241686 0.98369695 0.98486157]\n"
     ]
    }
   ],
   "source": [
    "var_exp = pc.explained_variance_ratio_\n",
    "print('Explained variance:            ', var_exp)\n",
    "\n",
    "cum_var_exp = np.cumsum(var_exp)\n",
    "print('Cumulative explained variance: ', cum_var_exp)"
   ]
  },
  {
   "cell_type": "markdown",
   "metadata": {},
   "source": [
    "### Logistic Regression\n",
    "\n",
    "The first model I tested out was the logistic regression on good thing about the NBA data is that much of the data seemed to be normally distributed and my transformed features are uncorrelated so I thought"
   ]
  },
  {
   "cell_type": "code",
   "execution_count": 684,
   "metadata": {
    "scrolled": true
   },
   "outputs": [
    {
     "name": "stderr",
     "output_type": "stream",
     "text": [
      "/Users/bryancombs/anaconda3/lib/python3.6/site-packages/sklearn/model_selection/_split.py:1943: FutureWarning: You should specify a value for 'cv' instead of relying on the default value. The default value will change from 3 to 5 in version 0.22.\n",
      "  warnings.warn(CV_WARNING, FutureWarning)\n",
      "/Users/bryancombs/anaconda3/lib/python3.6/site-packages/sklearn/linear_model/sag.py:334: ConvergenceWarning: The max_iter was reached which means the coef_ did not converge\n",
      "  \"the coef_ did not converge\", ConvergenceWarning)\n",
      "/Users/bryancombs/anaconda3/lib/python3.6/site-packages/sklearn/linear_model/sag.py:334: ConvergenceWarning: The max_iter was reached which means the coef_ did not converge\n",
      "  \"the coef_ did not converge\", ConvergenceWarning)\n",
      "/Users/bryancombs/anaconda3/lib/python3.6/site-packages/sklearn/linear_model/sag.py:334: ConvergenceWarning: The max_iter was reached which means the coef_ did not converge\n",
      "  \"the coef_ did not converge\", ConvergenceWarning)\n"
     ]
    },
    {
     "name": "stdout",
     "output_type": "stream",
     "text": [
      "0.6497890295358649\n"
     ]
    },
    {
     "name": "stderr",
     "output_type": "stream",
     "text": [
      "/Users/bryancombs/anaconda3/lib/python3.6/site-packages/sklearn/linear_model/sag.py:334: ConvergenceWarning: The max_iter was reached which means the coef_ did not converge\n",
      "  \"the coef_ did not converge\", ConvergenceWarning)\n"
     ]
    }
   ],
   "source": [
    "lr = LogisticRegressionCV(Cs = [100000],\n",
    "                         max_iter=1000,\n",
    "                         penalty = 'l1',\n",
    "                         tol = .00001,\n",
    "                         solver ='saga' )\n",
    "\n",
    "\n",
    "lr.fit(X_train_pc, y_train)\n",
    "print(lr.score(X_train_pc, y_train))\n"
   ]
  },
  {
   "cell_type": "code",
   "execution_count": 685,
   "metadata": {
    "scrolled": false
   },
   "outputs": [
    {
     "data": {
      "text/plain": [
       "0.5466666666666666"
      ]
     },
     "execution_count": 685,
     "metadata": {},
     "output_type": "execute_result"
    }
   ],
   "source": [
    "lr.score(X_test_pc, y_test)"
   ]
  },
  {
   "cell_type": "code",
   "execution_count": 686,
   "metadata": {},
   "outputs": [],
   "source": [
    "y_hat_lr   = lr.predict(X_train_pc)\n",
    "y_hat_lrp  = lr.predict_proba(X_train_pc)\n",
    "y_hat_lrt  = lr.predict(X_test_pc)\n",
    "y_hat_lrtp = lr.predict_proba(X_test_pc)"
   ]
  },
  {
   "cell_type": "code",
   "execution_count": 687,
   "metadata": {
    "scrolled": false
   },
   "outputs": [
    {
     "name": "stdout",
     "output_type": "stream",
     "text": [
      "              precision    recall  f1-score   support\n",
      "\n",
      "           0       0.63      0.60      0.62       333\n",
      "           1       0.66      0.69      0.68       378\n",
      "\n",
      "   micro avg       0.65      0.65      0.65       711\n",
      "   macro avg       0.65      0.65      0.65       711\n",
      "weighted avg       0.65      0.65      0.65       711\n",
      "\n"
     ]
    }
   ],
   "source": [
    "print(classification_report(y_train, y_hat_lr))"
   ]
  },
  {
   "cell_type": "code",
   "execution_count": 688,
   "metadata": {},
   "outputs": [
    {
     "name": "stdout",
     "output_type": "stream",
     "text": [
      "              precision    recall  f1-score   support\n",
      "\n",
      "           0       0.53      0.67      0.59        73\n",
      "           1       0.58      0.43      0.49        77\n",
      "\n",
      "   micro avg       0.55      0.55      0.55       150\n",
      "   macro avg       0.55      0.55      0.54       150\n",
      "weighted avg       0.55      0.55      0.54       150\n",
      "\n"
     ]
    }
   ],
   "source": [
    "print(classification_report(y_test, y_hat_lrt))"
   ]
  },
  {
   "cell_type": "code",
   "execution_count": 689,
   "metadata": {},
   "outputs": [
    {
     "data": {
      "text/plain": [
       "array([[201, 132],\n",
       "       [117, 261]])"
      ]
     },
     "execution_count": 689,
     "metadata": {},
     "output_type": "execute_result"
    }
   ],
   "source": [
    "confusion_matrix( y_train, y_hat_lr)"
   ]
  },
  {
   "cell_type": "code",
   "execution_count": 690,
   "metadata": {},
   "outputs": [
    {
     "data": {
      "text/plain": [
       "array([[49, 24],\n",
       "       [44, 33]])"
      ]
     },
     "execution_count": 690,
     "metadata": {},
     "output_type": "execute_result"
    }
   ],
   "source": [
    "confusion_matrix( y_test, y_hat_lrt)"
   ]
  },
  {
   "cell_type": "markdown",
   "metadata": {},
   "source": [
    "### Support Vector Machine\n",
    "\n",
    "The second model I tested is the Support Vector Machine Model I "
   ]
  },
  {
   "cell_type": "code",
   "execution_count": 726,
   "metadata": {
    "scrolled": true
   },
   "outputs": [],
   "source": [
    "svc = SVC(probability=True)\n",
    "svc_params = {\n",
    "    'kernel' : ['linear'  ], \n",
    "    'C'      : [.1, .2, .3]\n",
    "    }"
   ]
  },
  {
   "cell_type": "code",
   "execution_count": null,
   "metadata": {},
   "outputs": [],
   "source": []
  },
  {
   "cell_type": "code",
   "execution_count": 727,
   "metadata": {
    "scrolled": true
   },
   "outputs": [
    {
     "name": "stdout",
     "output_type": "stream",
     "text": [
      "0.5654114107668061\n",
      "{'C': 0.2, 'kernel': 'linear'}\n"
     ]
    }
   ],
   "source": [
    "gs = GridSearchCV(svc, \n",
    "                  param_grid=svc_params, \n",
    "                  scoring='precision', \n",
    "                  cv = 5)\n",
    "gs.fit(X_train_pc, y_train)\n",
    "print(gs.best_score_)\n",
    "print(gs.best_params_)"
   ]
  },
  {
   "cell_type": "code",
   "execution_count": 728,
   "metadata": {
    "scrolled": true
   },
   "outputs": [
    {
     "data": {
      "text/plain": [
       "0.5967741935483871"
      ]
     },
     "execution_count": 728,
     "metadata": {},
     "output_type": "execute_result"
    }
   ],
   "source": [
    "gs.score(X_test_pc, y_test)"
   ]
  },
  {
   "cell_type": "code",
   "execution_count": 729,
   "metadata": {},
   "outputs": [],
   "source": [
    "#predict categories and  probabilities for svc model\n",
    "\n",
    "y_hat_svc   = gs.predict(X_train_pc)\n",
    "y_hat_svcp  = gs.predict_proba(X_train_pc)\n",
    "y_hat_svct  = gs.predict(X_test_pc)\n",
    "y_hat_svctp = gs.predict_proba(X_test_pc)"
   ]
  },
  {
   "cell_type": "code",
   "execution_count": 730,
   "metadata": {
    "scrolled": false
   },
   "outputs": [
    {
     "name": "stdout",
     "output_type": "stream",
     "text": [
      "              precision    recall  f1-score   support\n",
      "\n",
      "           0       0.66      0.62      0.64       333\n",
      "           1       0.68      0.72      0.70       378\n",
      "\n",
      "   micro avg       0.67      0.67      0.67       711\n",
      "   macro avg       0.67      0.67      0.67       711\n",
      "weighted avg       0.67      0.67      0.67       711\n",
      "\n"
     ]
    }
   ],
   "source": [
    "print(classification_report(y_train, y_hat_svc))"
   ]
  },
  {
   "cell_type": "code",
   "execution_count": 731,
   "metadata": {},
   "outputs": [
    {
     "name": "stdout",
     "output_type": "stream",
     "text": [
      "              precision    recall  f1-score   support\n",
      "\n",
      "           0       0.55      0.66      0.60        73\n",
      "           1       0.60      0.48      0.53        77\n",
      "\n",
      "   micro avg       0.57      0.57      0.57       150\n",
      "   macro avg       0.57      0.57      0.56       150\n",
      "weighted avg       0.57      0.57      0.56       150\n",
      "\n"
     ]
    }
   ],
   "source": [
    "print(classification_report(y_test, y_hat_svct))"
   ]
  },
  {
   "cell_type": "code",
   "execution_count": 732,
   "metadata": {
    "scrolled": true
   },
   "outputs": [
    {
     "data": {
      "text/plain": [
       "array([[206, 127],\n",
       "       [106, 272]])"
      ]
     },
     "execution_count": 732,
     "metadata": {},
     "output_type": "execute_result"
    }
   ],
   "source": [
    "confusion_matrix( y_train, y_hat_svc)"
   ]
  },
  {
   "cell_type": "code",
   "execution_count": 733,
   "metadata": {},
   "outputs": [
    {
     "data": {
      "text/plain": [
       "array([[48, 25],\n",
       "       [40, 37]])"
      ]
     },
     "execution_count": 733,
     "metadata": {},
     "output_type": "execute_result"
    }
   ],
   "source": [
    "confusion_matrix( y_test, y_hat_svct)"
   ]
  },
  {
   "cell_type": "markdown",
   "metadata": {},
   "source": [
    "### Neural Network\n",
    "\n",
    "I also wanted to try fitting a neural network.  I do not care about the inference implications, but I found that the neural network had to much variance depending on starting weights so I decided not to use it in predictions.  "
   ]
  },
  {
   "cell_type": "code",
   "execution_count": 734,
   "metadata": {},
   "outputs": [],
   "source": [
    "from keras.models import Sequential\n",
    "from keras.layers import Dense, Dropout\n",
    "from keras.utils import to_categorical\n",
    "from keras import regularizers"
   ]
  },
  {
   "cell_type": "code",
   "execution_count": 737,
   "metadata": {},
   "outputs": [],
   "source": [
    "model = Sequential()\n",
    "model.add(Dense(70, \n",
    "                activation = 'relu',\n",
    "                input_dim = X_train_pc.shape[1],\n",
    "                kernel_regularizer=regularizers.l2(0.01)))\n",
    "model.add(Dropout(0.8))\n",
    "\n",
    "#model.add(Dense(10, activation = 'relu'))\n",
    "model.add(Dense(1, activation = 'sigmoid')) #output layer "
   ]
  },
  {
   "cell_type": "code",
   "execution_count": null,
   "metadata": {},
   "outputs": [],
   "source": []
  },
  {
   "cell_type": "raw",
   "metadata": {},
   "source": []
  },
  {
   "cell_type": "code",
   "execution_count": 738,
   "metadata": {},
   "outputs": [
    {
     "name": "stdout",
     "output_type": "stream",
     "text": [
      "Train on 711 samples, validate on 150 samples\n",
      "Epoch 1/50\n",
      "711/711 [==============================] - 1s 1ms/step - loss: 2.1942 - acc: 0.4726 - val_loss: 1.5634 - val_acc: 0.4733\n",
      "Epoch 2/50\n",
      "711/711 [==============================] - 0s 16us/step - loss: 2.0319 - acc: 0.5007 - val_loss: 1.5276 - val_acc: 0.4867\n",
      "Epoch 3/50\n",
      "711/711 [==============================] - 0s 18us/step - loss: 1.9799 - acc: 0.5134 - val_loss: 1.4931 - val_acc: 0.4867\n",
      "Epoch 4/50\n",
      "711/711 [==============================] - 0s 23us/step - loss: 1.9192 - acc: 0.5134 - val_loss: 1.4607 - val_acc: 0.5000\n",
      "Epoch 5/50\n",
      "711/711 [==============================] - 0s 20us/step - loss: 1.8720 - acc: 0.5021 - val_loss: 1.4290 - val_acc: 0.4867\n",
      "Epoch 6/50\n",
      "711/711 [==============================] - 0s 18us/step - loss: 1.7459 - acc: 0.5176 - val_loss: 1.3982 - val_acc: 0.4867\n",
      "Epoch 7/50\n",
      "711/711 [==============================] - 0s 18us/step - loss: 1.7280 - acc: 0.5288 - val_loss: 1.3701 - val_acc: 0.5067\n",
      "Epoch 8/50\n",
      "711/711 [==============================] - 0s 18us/step - loss: 1.7966 - acc: 0.4923 - val_loss: 1.3440 - val_acc: 0.5133\n",
      "Epoch 9/50\n",
      "711/711 [==============================] - 0s 23us/step - loss: 1.6298 - acc: 0.5091 - val_loss: 1.3194 - val_acc: 0.5200\n",
      "Epoch 10/50\n",
      "711/711 [==============================] - 0s 24us/step - loss: 1.6049 - acc: 0.5049 - val_loss: 1.2970 - val_acc: 0.5267\n",
      "Epoch 11/50\n",
      "711/711 [==============================] - 0s 18us/step - loss: 1.5168 - acc: 0.5274 - val_loss: 1.2773 - val_acc: 0.5333\n",
      "Epoch 12/50\n",
      "711/711 [==============================] - 0s 20us/step - loss: 1.5204 - acc: 0.5443 - val_loss: 1.2564 - val_acc: 0.5200\n",
      "Epoch 13/50\n",
      "711/711 [==============================] - 0s 22us/step - loss: 1.5504 - acc: 0.5162 - val_loss: 1.2359 - val_acc: 0.5067\n",
      "Epoch 14/50\n",
      "711/711 [==============================] - 0s 25us/step - loss: 1.4058 - acc: 0.5513 - val_loss: 1.2169 - val_acc: 0.5133\n",
      "Epoch 15/50\n",
      "711/711 [==============================] - 0s 22us/step - loss: 1.4243 - acc: 0.5415 - val_loss: 1.1980 - val_acc: 0.5200\n",
      "Epoch 16/50\n",
      "711/711 [==============================] - 0s 19us/step - loss: 1.4601 - acc: 0.5120 - val_loss: 1.1787 - val_acc: 0.5000\n",
      "Epoch 17/50\n",
      "711/711 [==============================] - 0s 20us/step - loss: 1.4068 - acc: 0.5204 - val_loss: 1.1610 - val_acc: 0.5067\n",
      "Epoch 18/50\n",
      "711/711 [==============================] - 0s 26us/step - loss: 1.2455 - acc: 0.5767 - val_loss: 1.1459 - val_acc: 0.5133\n",
      "Epoch 19/50\n",
      "711/711 [==============================] - 0s 19us/step - loss: 1.2463 - acc: 0.5767 - val_loss: 1.1328 - val_acc: 0.5133\n",
      "Epoch 20/50\n",
      "711/711 [==============================] - 0s 21us/step - loss: 1.3302 - acc: 0.5120 - val_loss: 1.1202 - val_acc: 0.5200\n",
      "Epoch 21/50\n",
      "711/711 [==============================] - 0s 21us/step - loss: 1.2676 - acc: 0.5345 - val_loss: 1.1078 - val_acc: 0.5200\n",
      "Epoch 22/50\n",
      "711/711 [==============================] - 0s 26us/step - loss: 1.1965 - acc: 0.5513 - val_loss: 1.0949 - val_acc: 0.5333\n",
      "Epoch 23/50\n",
      "711/711 [==============================] - 0s 24us/step - loss: 1.1582 - acc: 0.5457 - val_loss: 1.0839 - val_acc: 0.5267\n",
      "Epoch 24/50\n",
      "711/711 [==============================] - 0s 20us/step - loss: 1.1946 - acc: 0.5485 - val_loss: 1.0718 - val_acc: 0.5133\n",
      "Epoch 25/50\n",
      "711/711 [==============================] - 0s 22us/step - loss: 1.1778 - acc: 0.5204 - val_loss: 1.0604 - val_acc: 0.5200\n",
      "Epoch 26/50\n",
      "711/711 [==============================] - 0s 28us/step - loss: 1.1335 - acc: 0.5682 - val_loss: 1.0491 - val_acc: 0.5000\n",
      "Epoch 27/50\n",
      "711/711 [==============================] - 0s 20us/step - loss: 1.1084 - acc: 0.5626 - val_loss: 1.0387 - val_acc: 0.5133\n",
      "Epoch 28/50\n",
      "711/711 [==============================] - 0s 21us/step - loss: 1.1012 - acc: 0.5696 - val_loss: 1.0289 - val_acc: 0.5133\n",
      "Epoch 29/50\n",
      "711/711 [==============================] - 0s 19us/step - loss: 1.0659 - acc: 0.5584 - val_loss: 1.0195 - val_acc: 0.5067\n",
      "Epoch 30/50\n",
      "711/711 [==============================] - 0s 25us/step - loss: 1.0493 - acc: 0.5738 - val_loss: 1.0099 - val_acc: 0.5067\n",
      "Epoch 31/50\n",
      "711/711 [==============================] - 0s 22us/step - loss: 1.0918 - acc: 0.5584 - val_loss: 1.0008 - val_acc: 0.5133\n",
      "Epoch 32/50\n",
      "711/711 [==============================] - 0s 20us/step - loss: 1.0424 - acc: 0.5556 - val_loss: 0.9925 - val_acc: 0.5200\n",
      "Epoch 33/50\n",
      "711/711 [==============================] - 0s 19us/step - loss: 1.0058 - acc: 0.5907 - val_loss: 0.9847 - val_acc: 0.5200\n",
      "Epoch 34/50\n",
      "711/711 [==============================] - 0s 22us/step - loss: 1.0379 - acc: 0.5654 - val_loss: 0.9766 - val_acc: 0.5200\n",
      "Epoch 35/50\n",
      "711/711 [==============================] - 0s 25us/step - loss: 0.9813 - acc: 0.5977 - val_loss: 0.9692 - val_acc: 0.5200\n",
      "Epoch 36/50\n",
      "711/711 [==============================] - 0s 20us/step - loss: 0.9719 - acc: 0.5767 - val_loss: 0.9623 - val_acc: 0.5200\n",
      "Epoch 37/50\n",
      "711/711 [==============================] - 0s 19us/step - loss: 1.0049 - acc: 0.5570 - val_loss: 0.9547 - val_acc: 0.5200\n",
      "Epoch 38/50\n",
      "711/711 [==============================] - 0s 19us/step - loss: 0.9662 - acc: 0.5893 - val_loss: 0.9464 - val_acc: 0.5200\n",
      "Epoch 39/50\n",
      "711/711 [==============================] - 0s 25us/step - loss: 0.9712 - acc: 0.5584 - val_loss: 0.9390 - val_acc: 0.5200\n",
      "Epoch 40/50\n",
      "711/711 [==============================] - 0s 20us/step - loss: 0.8938 - acc: 0.5963 - val_loss: 0.9325 - val_acc: 0.5267\n",
      "Epoch 41/50\n",
      "711/711 [==============================] - 0s 19us/step - loss: 0.9426 - acc: 0.5781 - val_loss: 0.9262 - val_acc: 0.5200\n",
      "Epoch 42/50\n",
      "711/711 [==============================] - 0s 20us/step - loss: 0.9115 - acc: 0.5921 - val_loss: 0.9202 - val_acc: 0.5200\n",
      "Epoch 43/50\n",
      "711/711 [==============================] - 0s 19us/step - loss: 0.8958 - acc: 0.5893 - val_loss: 0.9145 - val_acc: 0.5200\n",
      "Epoch 44/50\n",
      "711/711 [==============================] - 0s 25us/step - loss: 0.8962 - acc: 0.5795 - val_loss: 0.9090 - val_acc: 0.5133\n",
      "Epoch 45/50\n",
      "711/711 [==============================] - 0s 19us/step - loss: 0.8679 - acc: 0.6174 - val_loss: 0.9033 - val_acc: 0.5067\n",
      "Epoch 46/50\n",
      "711/711 [==============================] - 0s 20us/step - loss: 0.8733 - acc: 0.5921 - val_loss: 0.8976 - val_acc: 0.5133\n",
      "Epoch 47/50\n",
      "711/711 [==============================] - 0s 18us/step - loss: 0.8626 - acc: 0.5809 - val_loss: 0.8925 - val_acc: 0.5067\n",
      "Epoch 48/50\n",
      "711/711 [==============================] - 0s 18us/step - loss: 0.8879 - acc: 0.5893 - val_loss: 0.8876 - val_acc: 0.5000\n",
      "Epoch 49/50\n",
      "711/711 [==============================] - 0s 19us/step - loss: 0.8335 - acc: 0.6245 - val_loss: 0.8827 - val_acc: 0.5000\n",
      "Epoch 50/50\n",
      "711/711 [==============================] - 0s 19us/step - loss: 0.8446 - acc: 0.6048 - val_loss: 0.8781 - val_acc: 0.5000\n"
     ]
    },
    {
     "data": {
      "text/plain": [
       "<keras.callbacks.History at 0x1a45819c18>"
      ]
     },
     "execution_count": 738,
     "metadata": {},
     "output_type": "execute_result"
    }
   ],
   "source": [
    "model.compile(loss = 'binary_crossentropy', optimizer='adam',\n",
    "              metrics = ['accuracy'])\n",
    "model.fit(X_train_pc, \n",
    "          y_train, epochs =50, \n",
    "          batch_size= 128, \n",
    "          validation_data=(X_test_pc, y_test))"
   ]
  },
  {
   "cell_type": "code",
   "execution_count": 702,
   "metadata": {},
   "outputs": [],
   "source": [
    "#returns a probability\n",
    "\n",
    "y_hat_nnp = model.predict(X_train_pc)\n",
    "y_hat_nntp = model.predict(X_test_pc)\n"
   ]
  },
  {
   "cell_type": "code",
   "execution_count": 747,
   "metadata": {
    "scrolled": true
   },
   "outputs": [
    {
     "name": "stdout",
     "output_type": "stream",
     "text": [
      "0.5435498006135896\n",
      "{'max_depth': 50, 'min_samples_leaf': 10, 'min_samples_split': 120, 'n_estimators': 70}\n"
     ]
    }
   ],
   "source": [
    "rf = RandomForestClassifier()\n",
    "rf_params = {'n_estimators'      : [70],\n",
    "             'max_depth'         : [50],\n",
    "             'min_samples_split' : [120],\n",
    "             'min_samples_leaf'  : [10] }\n",
    "\n",
    "gs1 = GridSearchCV(rf, \n",
    "                  param_grid=rf_params,\n",
    "                  scoring='precision',\n",
    "                 cv =5)\n",
    "gs1.fit(X_train_pc, y_train)\n",
    "print(gs1.best_score_)\n",
    "print(gs1.best_params_)\n",
    "\n"
   ]
  },
  {
   "cell_type": "code",
   "execution_count": 748,
   "metadata": {
    "scrolled": false
   },
   "outputs": [
    {
     "data": {
      "text/plain": [
       "0.5607476635514018"
      ]
     },
     "execution_count": 748,
     "metadata": {},
     "output_type": "execute_result"
    }
   ],
   "source": [
    "gs1.score(X_test_pc, y_test)"
   ]
  },
  {
   "cell_type": "code",
   "execution_count": 749,
   "metadata": {},
   "outputs": [],
   "source": [
    "y_hat_rf   = gs1.predict(X_train_pc)\n",
    "y_hat_rfp  = gs1.predict_proba(X_train_pc)\n",
    "y_hat_rft  = gs1.predict(X_test_pc)\n",
    "y_hat_rftp = gs1.predict_proba(X_test_pc)"
   ]
  },
  {
   "cell_type": "code",
   "execution_count": 750,
   "metadata": {},
   "outputs": [
    {
     "name": "stdout",
     "output_type": "stream",
     "text": [
      "              precision    recall  f1-score   support\n",
      "\n",
      "           0       0.95      0.64      0.76       333\n",
      "           1       0.75      0.97      0.85       378\n",
      "\n",
      "   micro avg       0.81      0.81      0.81       711\n",
      "   macro avg       0.85      0.80      0.80       711\n",
      "weighted avg       0.84      0.81      0.81       711\n",
      "\n"
     ]
    }
   ],
   "source": [
    "print(classification_report(y_train, y_hat_rf))"
   ]
  },
  {
   "cell_type": "code",
   "execution_count": 751,
   "metadata": {
    "scrolled": true
   },
   "outputs": [
    {
     "name": "stdout",
     "output_type": "stream",
     "text": [
      "              precision    recall  f1-score   support\n",
      "\n",
      "           0       0.60      0.36      0.45        73\n",
      "           1       0.56      0.78      0.65        77\n",
      "\n",
      "   micro avg       0.57      0.57      0.57       150\n",
      "   macro avg       0.58      0.57      0.55       150\n",
      "weighted avg       0.58      0.57      0.55       150\n",
      "\n"
     ]
    }
   ],
   "source": [
    "print(classification_report(y_test, y_hat_rft))"
   ]
  },
  {
   "cell_type": "code",
   "execution_count": 752,
   "metadata": {
    "scrolled": true
   },
   "outputs": [
    {
     "data": {
      "text/plain": [
       "array([[212, 121],\n",
       "       [ 12, 366]])"
      ]
     },
     "execution_count": 752,
     "metadata": {},
     "output_type": "execute_result"
    }
   ],
   "source": [
    "confusion_matrix( y_train, y_hat_rf)"
   ]
  },
  {
   "cell_type": "code",
   "execution_count": 753,
   "metadata": {},
   "outputs": [
    {
     "data": {
      "text/plain": [
       "array([[26, 47],\n",
       "       [17, 60]])"
      ]
     },
     "execution_count": 753,
     "metadata": {},
     "output_type": "execute_result"
    }
   ],
   "source": [
    "confusion_matrix( y_test, y_hat_rft)"
   ]
  },
  {
   "cell_type": "code",
   "execution_count": 757,
   "metadata": {},
   "outputs": [],
   "source": [
    "#modifying train and testing data to allow for changing prob thresholds and printing the \n",
    "#roc curves \n",
    "#Random Forest\n",
    "nba_train.loc[:, 'actual_y'] = y_train\n",
    "nba_train.loc[:, 'predicted_label_rf'] = y_hat_rf\n",
    "nba_train.loc[:, 'predicted_proba_rfp'] = y_hat_rfp[:, 1]\n",
    "\n",
    "#SVC\n",
    "\n",
    "nba_train.loc[:, 'predicted_label_svc'] = y_hat_svc\n",
    "nba_train.loc[:, 'predicted_proba_svcp'] = y_hat_svcp[:, 1]\n",
    "\n",
    "#Logistic\n",
    "nba_train.loc[:, 'predicted_label_lr'] = y_hat_lr\n",
    "nba_train.loc[:, 'predicted_proba_lrp'] = y_hat_lrp[:, 1]\n",
    "\n"
   ]
  },
  {
   "cell_type": "code",
   "execution_count": 758,
   "metadata": {},
   "outputs": [],
   "source": [
    "#Random Forest\n",
    "nba_test.loc[:, 'actual_y'] = y_test\n",
    "nba_test.loc[:, 'predicted_label_rf'] = y_hat_rft\n",
    "nba_test.loc[:, 'predicted_proba_rfp'] = y_hat_rftp[:, 1]\n",
    "\n",
    "#SVC\n",
    "\n",
    "nba_test.loc[:, 'predicted_label_svc'] = y_hat_svct\n",
    "nba_test.loc[:, 'predicted_proba_svcp'] = y_hat_svctp[:, 1]\n",
    "\n",
    "#Logistic\n",
    "nba_test.loc[:, 'predicted_label_lr'] = y_hat_lrt\n",
    "nba_test.loc[:, 'predicted_proba_lrp'] = y_hat_lrtp[:, 1]\n",
    "\n",
    "\n",
    "\n",
    "#Neural Network\n",
    "nba_test.loc[:, 'predicted_proba_nnp'] = y_hat_nntp\n",
    "nba_test.loc[:, 'predicted_label_nn'] = nba_test.predicted_proba_nnp.map(\n",
    "                lambda x: 0 if x<=.5 else 1)\n",
    "\n",
    "\n",
    "\n"
   ]
  },
  {
   "cell_type": "code",
   "execution_count": 759,
   "metadata": {
    "scrolled": true
   },
   "outputs": [
    {
     "name": "stdout",
     "output_type": "stream",
     "text": [
      "predicted_label_svc\n",
      "0   -10.640\n",
      "1     9.633\n",
      "Name: away_payout, dtype: float64\n",
      "predicted_label_svc\n",
      "0     2.723\n",
      "1   -15.184\n",
      "Name: home_payout, dtype: float64\n"
     ]
    }
   ],
   "source": [
    "print(nba_test.groupby(['predicted_label_svc'])['away_payout'].sum())\n",
    "print(nba_test.groupby(['predicted_label_svc'])['home_payout'].sum())"
   ]
  },
  {
   "cell_type": "code",
   "execution_count": 760,
   "metadata": {
    "scrolled": true
   },
   "outputs": [
    {
     "name": "stdout",
     "output_type": "stream",
     "text": [
      "predicted_label_lr\n",
      "0   -8.004\n",
      "1    6.997\n",
      "Name: away_payout, dtype: float64\n",
      "predicted_label_lr\n",
      "0    -0.368\n",
      "1   -12.093\n",
      "Name: home_payout, dtype: float64\n"
     ]
    }
   ],
   "source": [
    "print(nba_test.groupby(['predicted_label_lr'])['away_payout'].sum())\n",
    "print(nba_test.groupby(['predicted_label_lr'])['home_payout'].sum())"
   ]
  },
  {
   "cell_type": "code",
   "execution_count": 715,
   "metadata": {},
   "outputs": [
    {
     "data": {
      "text/plain": [
       "<matplotlib.collections.PathCollection at 0x1a440dd0f0>"
      ]
     },
     "execution_count": 715,
     "metadata": {},
     "output_type": "execute_result"
    },
    {
     "data": {
      "image/png": "[encoded data removed]",
      "text/plain": [
       "<matplotlib.figure.Figure at 0x1a46992940>"
      ]
     },
     "metadata": {},
     "output_type": "display_data"
    }
   ],
   "source": [
    "plt.scatter(nba_test.predicted_label_svc, nba_test.predicted_proba_svcp)"
   ]
  },
  {
   "cell_type": "code",
   "execution_count": 761,
   "metadata": {},
   "outputs": [],
   "source": [
    "from sklearn.metrics import roc_curve, auc"
   ]
  },
  {
   "cell_type": "code",
   "execution_count": 762,
   "metadata": {},
   "outputs": [],
   "source": [
    "fpr, tpr, _ = roc_curve(y_test, nba_test['predicted_proba_lrp'])\n",
    "roc_auc = auc(fpr, tpr)"
   ]
  },
  {
   "cell_type": "code",
   "execution_count": 763,
   "metadata": {},
   "outputs": [],
   "source": [
    "fpr1, tpr1, _ = roc_curve(y_test, nba_test['predicted_proba_svcp'])\n",
    "roc_auc1 = auc(fpr1, tpr1)"
   ]
  },
  {
   "cell_type": "code",
   "execution_count": 764,
   "metadata": {},
   "outputs": [
    {
     "data": {
      "image/png": "[encoded data removed]",
      "text/plain": [
       "<matplotlib.figure.Figure at 0x1a469bdf98>"
      ]
     },
     "metadata": {},
     "output_type": "display_data"
    }
   ],
   "source": [
    "# Plot \n",
    "plt.figure(figsize = (12,7))\n",
    "line_width = 3\n",
    "\n",
    "plt.plot(fpr, tpr, lw = line_width, color=\"darkorange\", \n",
    "         label = \"Log Reg ROC Curve %.2f\" % roc_auc)\n",
    "plt.plot(fpr1, tpr1, lw = line_width, color=\"red\", \n",
    "         label = \"Test ROC Curve %.2f\" % roc_auc1)\n",
    "plt.plot([0,1], [0, 1], lw = line_width, linestyle=\"--\", color=\"navy\")\n",
    "\n",
    "plt.xlim([0.0, 1.0])\n",
    "plt.ylim([0.0, 1.05])\n",
    "plt.xlabel('False Positive Rate')\n",
    "plt.ylabel('True Positive Rate')\n",
    "plt.title('ROC Curve on Training Data')\n",
    "plt.legend(loc=\"lower right\")\n",
    "plt.show()"
   ]
  },
  {
   "cell_type": "code",
   "execution_count": 720,
   "metadata": {},
   "outputs": [
    {
     "name": "stdout",
     "output_type": "stream",
     "text": [
      "Test Logistic Regression :0.4\n",
      "Return of Away Games:  predicted_label_lr\n",
      "0   -2.821\n",
      "1    1.814\n",
      "Name: away_payout, dtype: float64\n",
      "Return of Home Games:  predicted_label_lr\n",
      "0   -2.821\n",
      "1   -9.640\n",
      "Name: home_payout, dtype: float64\n",
      " \n",
      "Test SVC :0.4\n",
      "Return of Away Games SVC:  predicted_label_svc\n",
      "1   -1.007\n",
      "Name: away_payout, dtype: float64\n",
      "Return of Home Games SVC:  predicted_label_svc\n",
      "1   -12.461\n",
      "Name: home_payout, dtype: float64\n",
      "\n",
      "Test Logistic Regression :0.41\n",
      "Return of Away Games:  predicted_label_lr\n",
      "0   -5.821\n",
      "1    4.814\n",
      "Name: away_payout, dtype: float64\n",
      "Return of Home Games:  predicted_label_lr\n",
      "0    -0.094\n",
      "1   -12.367\n",
      "Name: home_payout, dtype: float64\n",
      " \n",
      "Test SVC :0.41\n",
      "Return of Away Games SVC:  predicted_label_svc\n",
      "1   -1.007\n",
      "Name: away_payout, dtype: float64\n",
      "Return of Home Games SVC:  predicted_label_svc\n",
      "1   -12.461\n",
      "Name: home_payout, dtype: float64\n",
      "\n",
      "Test Logistic Regression :0.42\n",
      "Return of Away Games:  predicted_label_lr\n",
      "0   -6.821\n",
      "1    5.814\n",
      "Name: away_payout, dtype: float64\n",
      "Return of Home Games:  predicted_label_lr\n",
      "0     0.815\n",
      "1   -13.276\n",
      "Name: home_payout, dtype: float64\n",
      " \n",
      "Test SVC :0.42\n",
      "Return of Away Games SVC:  predicted_label_svc\n",
      "1   -1.007\n",
      "Name: away_payout, dtype: float64\n",
      "Return of Home Games SVC:  predicted_label_svc\n",
      "1   -12.461\n",
      "Name: home_payout, dtype: float64\n",
      "\n",
      "Test Logistic Regression :0.43\n",
      "Return of Away Games:  predicted_label_lr\n",
      "0   -8.821\n",
      "1    7.814\n",
      "Name: away_payout, dtype: float64\n",
      "Return of Home Games:  predicted_label_lr\n",
      "0     2.633\n",
      "1   -15.094\n",
      "Name: home_payout, dtype: float64\n",
      " \n",
      "Test SVC :0.43\n",
      "Return of Away Games SVC:  predicted_label_svc\n",
      "1   -1.007\n",
      "Name: away_payout, dtype: float64\n",
      "Return of Home Games SVC:  predicted_label_svc\n",
      "1   -12.461\n",
      "Name: home_payout, dtype: float64\n",
      "\n",
      "Test Logistic Regression :0.44\n",
      "Return of Away Games:  predicted_label_lr\n",
      "0   -8.912\n",
      "1    7.905\n",
      "Name: away_payout, dtype: float64\n",
      "Return of Home Games:  predicted_label_lr\n",
      "0     2.542\n",
      "1   -15.003\n",
      "Name: home_payout, dtype: float64\n",
      " \n",
      "Test SVC :0.44\n",
      "Return of Away Games SVC:  predicted_label_svc\n",
      "1   -1.007\n",
      "Name: away_payout, dtype: float64\n",
      "Return of Home Games SVC:  predicted_label_svc\n",
      "1   -12.461\n",
      "Name: home_payout, dtype: float64\n",
      "\n",
      "Test Logistic Regression :0.45\n",
      "Return of Away Games:  predicted_label_lr\n",
      "0   -9.094\n",
      "1    8.087\n",
      "Name: away_payout, dtype: float64\n",
      "Return of Home Games:  predicted_label_lr\n",
      "0     2.360\n",
      "1   -14.821\n",
      "Name: home_payout, dtype: float64\n",
      " \n",
      "Test SVC :0.45\n",
      "Return of Away Games SVC:  predicted_label_svc\n",
      "1   -1.007\n",
      "Name: away_payout, dtype: float64\n",
      "Return of Home Games SVC:  predicted_label_svc\n",
      "1   -12.461\n",
      "Name: home_payout, dtype: float64\n",
      "\n",
      "Test Logistic Regression :0.46\n",
      "Return of Away Games:  predicted_label_lr\n",
      "0   -8.185\n",
      "1    7.178\n",
      "Name: away_payout, dtype: float64\n",
      "Return of Home Games:  predicted_label_lr\n",
      "0     1.360\n",
      "1   -13.821\n",
      "Name: home_payout, dtype: float64\n",
      " \n",
      "Test SVC :0.46\n",
      "Return of Away Games SVC:  predicted_label_svc\n",
      "1   -1.007\n",
      "Name: away_payout, dtype: float64\n",
      "Return of Home Games SVC:  predicted_label_svc\n",
      "1   -12.461\n",
      "Name: home_payout, dtype: float64\n",
      "\n",
      "Test Logistic Regression :0.47\n",
      "Return of Away Games:  predicted_label_lr\n",
      "0   -8.276\n",
      "1    7.269\n",
      "Name: away_payout, dtype: float64\n",
      "Return of Home Games:  predicted_label_lr\n",
      "0     1.269\n",
      "1   -13.730\n",
      "Name: home_payout, dtype: float64\n",
      " \n",
      "Test SVC :0.47\n",
      "Return of Away Games SVC:  predicted_label_svc\n",
      "1   -1.007\n",
      "Name: away_payout, dtype: float64\n",
      "Return of Home Games SVC:  predicted_label_svc\n",
      "1   -12.461\n",
      "Name: home_payout, dtype: float64\n",
      "\n",
      "Test Logistic Regression :0.48\n",
      "Return of Away Games:  predicted_label_lr\n",
      "0   -11.367\n",
      "1    10.360\n",
      "Name: away_payout, dtype: float64\n",
      "Return of Home Games:  predicted_label_lr\n",
      "0     3.905\n",
      "1   -16.366\n",
      "Name: home_payout, dtype: float64\n",
      " \n",
      "Test SVC :0.48\n",
      "Return of Away Games SVC:  predicted_label_svc\n",
      "1   -1.007\n",
      "Name: away_payout, dtype: float64\n",
      "Return of Home Games SVC:  predicted_label_svc\n",
      "1   -12.461\n",
      "Name: home_payout, dtype: float64\n",
      "\n",
      "Test Logistic Regression :0.49\n",
      "Return of Away Games:  predicted_label_lr\n",
      "0   -7.913\n",
      "1    6.906\n",
      "Name: away_payout, dtype: float64\n",
      "Return of Home Games:  predicted_label_lr\n",
      "0    -0.277\n",
      "1   -12.184\n",
      "Name: home_payout, dtype: float64\n",
      " \n",
      "Test SVC :0.49\n",
      "Return of Away Games SVC:  predicted_label_svc\n",
      "1   -1.007\n",
      "Name: away_payout, dtype: float64\n",
      "Return of Home Games SVC:  predicted_label_svc\n",
      "1   -12.461\n",
      "Name: home_payout, dtype: float64\n",
      "\n",
      "Test Logistic Regression :0.5\n",
      "Return of Away Games:  predicted_label_lr\n",
      "0   -8.004\n",
      "1    6.997\n",
      "Name: away_payout, dtype: float64\n",
      "Return of Home Games:  predicted_label_lr\n",
      "0    -0.368\n",
      "1   -12.093\n",
      "Name: home_payout, dtype: float64\n",
      " \n",
      "Test SVC :0.5\n",
      "Return of Away Games SVC:  predicted_label_svc\n",
      "0   -1.000\n",
      "1   -0.007\n",
      "Name: away_payout, dtype: float64\n",
      "Return of Home Games SVC:  predicted_label_svc\n",
      "0     0.909\n",
      "1   -13.370\n",
      "Name: home_payout, dtype: float64\n",
      "\n",
      "Test Logistic Regression :0.51\n",
      "Return of Away Games:  predicted_label_lr\n",
      "0   -10.004\n",
      "1     8.997\n",
      "Name: away_payout, dtype: float64\n",
      "Return of Home Games:  predicted_label_lr\n",
      "0     1.450\n",
      "1   -13.911\n",
      "Name: home_payout, dtype: float64\n",
      " \n",
      "Test SVC :0.51\n",
      "Return of Away Games SVC:  predicted_label_svc\n",
      "0   -1.728\n",
      "1    0.721\n",
      "Name: away_payout, dtype: float64\n",
      "Return of Home Games SVC:  predicted_label_svc\n",
      "0     0.181\n",
      "1   -12.642\n",
      "Name: home_payout, dtype: float64\n",
      "\n",
      "Test Logistic Regression :0.52\n",
      "Return of Away Games:  predicted_label_lr\n",
      "0   -9.095\n",
      "1    8.088\n",
      "Name: away_payout, dtype: float64\n",
      "Return of Home Games:  predicted_label_lr\n",
      "0     0.450\n",
      "1   -12.911\n",
      "Name: home_payout, dtype: float64\n",
      " \n",
      "Test SVC :0.52\n",
      "Return of Away Games SVC:  predicted_label_svc\n",
      "0   -5.547\n",
      "1    4.540\n",
      "Name: away_payout, dtype: float64\n",
      "Return of Home Games SVC:  predicted_label_svc\n",
      "0     2.089\n",
      "1   -14.550\n",
      "Name: home_payout, dtype: float64\n",
      "\n",
      "Test Logistic Regression :0.53\n",
      "Return of Away Games:  predicted_label_lr\n",
      "0   -7.277\n",
      "1    6.270\n",
      "Name: away_payout, dtype: float64\n",
      "Return of Home Games:  predicted_label_lr\n",
      "0    -1.550\n",
      "1   -10.911\n",
      "Name: home_payout, dtype: float64\n",
      " \n",
      "Test SVC :0.53\n",
      "Return of Away Games SVC:  predicted_label_svc\n",
      "0   -9.822\n",
      "1    8.815\n",
      "Name: away_payout, dtype: float64\n",
      "Return of Home Games SVC:  predicted_label_svc\n",
      "0     1.632\n",
      "1   -14.093\n",
      "Name: home_payout, dtype: float64\n",
      "\n",
      "Test Logistic Regression :0.54\n",
      "Return of Away Games:  predicted_label_lr\n",
      "0   -5.459\n",
      "1    4.452\n",
      "Name: away_payout, dtype: float64\n",
      "Return of Home Games:  predicted_label_lr\n",
      "0   -3.550\n",
      "1   -8.911\n",
      "Name: home_payout, dtype: float64\n",
      " \n",
      "Test SVC :0.54\n",
      "Return of Away Games SVC:  predicted_label_svc\n",
      "0   -3.006\n",
      "1    1.999\n",
      "Name: away_payout, dtype: float64\n",
      "Return of Home Games SVC:  predicted_label_svc\n",
      "0   -8.733\n",
      "1   -3.728\n",
      "Name: home_payout, dtype: float64\n",
      "\n",
      "Test Logistic Regression :0.55\n",
      "Return of Away Games:  predicted_label_lr\n",
      "0   -4.550\n",
      "1    3.543\n",
      "Name: away_payout, dtype: float64\n",
      "Return of Home Games:  predicted_label_lr\n",
      "0   -4.550\n",
      "1   -7.911\n",
      "Name: home_payout, dtype: float64\n",
      " \n",
      "Test SVC :0.55\n",
      "Return of Away Games SVC:  predicted_label_svc\n",
      "0   -2.734\n",
      "1    1.727\n",
      "Name: away_payout, dtype: float64\n",
      "Return of Home Games SVC:  predicted_label_svc\n",
      "0   -10.370\n",
      "1    -2.091\n",
      "Name: home_payout, dtype: float64\n",
      "\n",
      "Test Logistic Regression :0.56\n",
      "Return of Away Games:  predicted_label_lr\n",
      "0   -6.641\n",
      "1    5.634\n",
      "Name: away_payout, dtype: float64\n",
      "Return of Home Games:  predicted_label_lr\n",
      "0   -2.823\n",
      "1   -9.638\n",
      "Name: home_payout, dtype: float64\n",
      " \n",
      "Test SVC :0.56\n",
      "Return of Away Games SVC:  predicted_label_svc\n",
      "0   -1.916\n",
      "1    0.909\n",
      "Name: away_payout, dtype: float64\n",
      "Return of Home Games SVC:  predicted_label_svc\n",
      "0   -11.461\n",
      "1    -1.000\n",
      "Name: home_payout, dtype: float64\n",
      "\n",
      "Test Logistic Regression :0.57\n",
      "Return of Away Games:  predicted_label_lr\n",
      "0   -5.914\n",
      "1    4.907\n",
      "Name: away_payout, dtype: float64\n",
      "Return of Home Games:  predicted_label_lr\n",
      "0   -4.005\n",
      "1   -8.456\n",
      "Name: home_payout, dtype: float64\n",
      " \n",
      "Test SVC :0.57\n",
      "Return of Away Games SVC:  predicted_label_svc\n",
      "0   -1.007\n",
      "Name: away_payout, dtype: float64\n",
      "Return of Home Games SVC:  predicted_label_svc\n",
      "0   -12.461\n",
      "Name: home_payout, dtype: float64\n",
      "\n",
      "Test Logistic Regression :0.58\n",
      "Return of Away Games:  predicted_label_lr\n",
      "0   -7.914\n",
      "1    6.907\n",
      "Name: away_payout, dtype: float64\n",
      "Return of Home Games:  predicted_label_lr\n",
      "0    -2.187\n",
      "1   -10.274\n",
      "Name: home_payout, dtype: float64\n",
      " \n",
      "Test SVC :0.58\n",
      "Return of Away Games SVC:  predicted_label_svc\n",
      "0   -1.007\n",
      "Name: away_payout, dtype: float64\n",
      "Return of Home Games SVC:  predicted_label_svc\n",
      "0   -12.461\n",
      "Name: home_payout, dtype: float64\n",
      "\n",
      "Test Logistic Regression :0.59\n",
      "Return of Away Games:  predicted_label_lr\n",
      "0   -7.005\n",
      "1    5.998\n",
      "Name: away_payout, dtype: float64\n",
      "Return of Home Games:  predicted_label_lr\n",
      "0   -3.187\n",
      "1   -9.274\n",
      "Name: home_payout, dtype: float64\n",
      " \n",
      "Test SVC :0.59\n",
      "Return of Away Games SVC:  predicted_label_svc\n",
      "0   -1.007\n",
      "Name: away_payout, dtype: float64\n",
      "Return of Home Games SVC:  predicted_label_svc\n",
      "0   -12.461\n",
      "Name: home_payout, dtype: float64\n",
      "\n"
     ]
    }
   ],
   "source": [
    "for prob in range(40, 60, 1):\n",
    "    proba = prob/100\n",
    "    \n",
    "    nba_test.loc[:, 'predicted_label_lr']= nba_test['predicted_proba_lrp'].map(\n",
    "        lambda p: 1 if p >= proba else 0)\n",
    "    \n",
    "    nba_test.loc[:, 'predicted_label_svc']= nba_test['predicted_proba_svcp'].map(\n",
    "        lambda p: 1 if p >= proba else 0)\n",
    "    \n",
    "\n",
    "    \n",
    "    print('Test Logistic Regression :' + str(proba))\n",
    "\n",
    "    print (\"Return of Away Games: \", nba_test.groupby(\n",
    "        \"predicted_label_lr\").away_payout.sum())\n",
    "    print (\"Return of Home Games: \", nba_test.groupby(\n",
    "        \"predicted_label_lr\").home_payout.sum())\n",
    "    \n",
    "    print (\" \")\n",
    "   \n",
    "    print('Test SVC :' + str(proba))    \n",
    "    print (\"Return of Away Games SVC: \", nba_test.groupby(\n",
    "        \"predicted_label_svc\").away_payout.sum())\n",
    "    print (\"Return of Home Games SVC: \", nba_test.groupby(\n",
    "        \"predicted_label_svc\").home_payout.sum())\n",
    "    print(\"\")\n",
    "    \n",
    "  "
   ]
  },
  {
   "cell_type": "code",
   "execution_count": 721,
   "metadata": {},
   "outputs": [],
   "source": [
    "    nba_test.loc[:, 'predicted_label']= nba_test['predicted_proba_lrp'].map(\n",
    "    lambda p: 1 if .52 < proba else 0)\n",
    "    \n",
    "    nba_test.loc[:, 'predicted_label1']= nba_test['predicted_proba_svcp'].map(\n",
    "    lambda p: 1 if .52 < proba else 0)"
   ]
  },
  {
   "cell_type": "code",
   "execution_count": 722,
   "metadata": {},
   "outputs": [],
   "source": [
    "#Combined \n",
    "nba_test['vote'] = nba_test.predicted_label_svc + nba_test.predicted_label_lr\n",
    "              "
   ]
  },
  {
   "cell_type": "code",
   "execution_count": 723,
   "metadata": {},
   "outputs": [
    {
     "data": {
      "text/plain": [
       "0    0.76\n",
       "1    0.24\n",
       "Name: vote, dtype: float64"
      ]
     },
     "execution_count": 723,
     "metadata": {},
     "output_type": "execute_result"
    }
   ],
   "source": [
    "nba_test.vote.value_counts(normalize = True)"
   ]
  },
  {
   "cell_type": "code",
   "execution_count": 724,
   "metadata": {},
   "outputs": [
    {
     "data": {
      "text/plain": [
       "vote\n",
       "0   -7.005\n",
       "1    5.998\n",
       "Name: away_payout, dtype: float64"
      ]
     },
     "execution_count": 724,
     "metadata": {},
     "output_type": "execute_result"
    }
   ],
   "source": [
    "nba_test.groupby(['vote'])['away_payout'].sum()"
   ]
  },
  {
   "cell_type": "code",
   "execution_count": 725,
   "metadata": {},
   "outputs": [
    {
     "data": {
      "text/plain": [
       "vote\n",
       "0   -3.187\n",
       "1   -9.274\n",
       "Name: home_payout, dtype: float64"
      ]
     },
     "execution_count": 725,
     "metadata": {},
     "output_type": "execute_result"
    }
   ],
   "source": [
    "nba_test.groupby(['vote'])['home_payout'].sum()"
   ]
  },
  {
   "cell_type": "code",
   "execution_count": null,
   "metadata": {},
   "outputs": [],
   "source": []
  }
 ],
 "metadata": {
  "kernelspec": {
   "display_name": "Python 3",
   "language": "python",
   "name": "python3"
  },
  "language_info": {
   "codemirror_mode": {
    "name": "ipython",
    "version": 3
   },
   "file_extension": ".py",
   "mimetype": "text/x-python",
   "name": "python",
   "nbconvert_exporter": "python",
   "pygments_lexer": "ipython3",
   "version": "3.6.6"
  }
 },
 "nbformat": 4,
 "nbformat_minor": 2
}
