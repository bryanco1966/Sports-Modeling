{
 "cells": [
  {
   "cell_type": "code",
   "execution_count": 1,
   "metadata": {},
   "outputs": [],
   "source": [
    "from sklearn.ensemble import AdaBoostClassifier, RandomForestClassifier\n",
    "from sklearn.model_selection import train_test_split, cross_val_score\n",
    "import pandas as pd\n",
    "import numpy as np\n",
    "from sklearn.metrics import classification_report, confusion_matrix\n",
    "import matplotlib.pyplot as plt\n",
    "from sklearn.svm import SVC\n",
    "from sklearn.preprocessing import StandardScaler, PolynomialFeatures\n",
    "from sklearn.linear_model import LogisticRegressionCV\n",
    "from sklearn.model_selection import GridSearchCV\n",
    "from sklearn.naive_bayes import GaussianNB\n",
    "from datatools import DataGrapher\n",
    "\n",
    "\n",
    "%matplotlib inline"
   ]
  },
  {
   "cell_type": "code",
   "execution_count": 2,
   "metadata": {},
   "outputs": [],
   "source": [
    "#Bring in the data\n",
    "\n",
    "nba = pd.read_csv('./data/nba_analysis_data.csv')\n",
    "nba.dropna(inplace = True)"
   ]
  },
  {
   "cell_type": "code",
   "execution_count": 3,
   "metadata": {},
   "outputs": [],
   "source": [
    "#seperate test from train\n",
    "\n",
    "nba_train = nba[nba.test == 0]\n",
    "nba_test = nba[nba.test ==1]  #scott tarlow scotttarlow@gmail.com\n",
    "#learn a domain"
   ]
  },
  {
   "cell_type": "code",
   "execution_count": 4,
   "metadata": {},
   "outputs": [],
   "source": [
    "nba_train = nba_train[nba_train.playoff_game == 1]\n",
    "nba_test = nba_test[nba_test.playoff_game == 1]"
   ]
  },
  {
   "cell_type": "code",
   "execution_count": 5,
   "metadata": {},
   "outputs": [],
   "source": [
    "\n",
    "X_train = nba_train.drop(columns = ['cover','home_win_margin', \n",
    "                        'date', 'dataset','line_cv', \n",
    "                        'home_starter5', 'teams', 'away_team',\n",
    "                        'away_starter2', 'away_starter3',\n",
    "                        'away_starter4', 'away_starter5',\n",
    "                        'ref_1', 'ref_3', 'crew_referees',\n",
    "                        'away_pace', 'away_spread',\n",
    "                        'away_line_cv',  'away_cover',\n",
    "                        'home_payout', 'away_payout', 'over', 'under',\n",
    "                        'total_score', 'total_diff'         ])\n",
    "\n",
    "\n",
    "#X = nba[features]\n",
    "y_train = nba_train['cover']"
   ]
  },
  {
   "cell_type": "code",
   "execution_count": 6,
   "metadata": {},
   "outputs": [],
   "source": [
    "X_test= nba_test.drop(columns = ['cover','home_win_margin', \n",
    "                        'date', 'dataset','line_cv', \n",
    "                        'home_starter5', 'teams', 'away_team',\n",
    "                        'away_starter2', 'away_starter3',\n",
    "                        'away_starter4', 'away_starter5',\n",
    "                        'ref_1', 'ref_3', 'crew_referees',\n",
    "                        'away_pace', 'away_spread',\n",
    "                        'away_line_cv',  'away_cover',\n",
    "                        'home_payout', 'away_payout', 'over', 'under',\n",
    "                        'total_score', 'total_diff'       ])\n",
    "\n",
    "y_test = nba_test.away_cover"
   ]
  },
  {
   "cell_type": "code",
   "execution_count": 7,
   "metadata": {},
   "outputs": [
    {
     "data": {
      "text/plain": [
       "(150, 148)"
      ]
     },
     "execution_count": 7,
     "metadata": {},
     "output_type": "execute_result"
    }
   ],
   "source": [
    "\n",
    "X_test.shape"
   ]
  },
  {
   "cell_type": "code",
   "execution_count": 8,
   "metadata": {},
   "outputs": [
    {
     "data": {
      "text/plain": [
       "(711, 148)"
      ]
     },
     "execution_count": 8,
     "metadata": {},
     "output_type": "execute_result"
    }
   ],
   "source": [
    "X_train.shape"
   ]
  },
  {
   "cell_type": "markdown",
   "metadata": {},
   "source": [
    "### Interaction Terms\n",
    "\n",
    "At one point in the modeling process I hoped to get better results by including some interactions in the model.  They did not appear significant and added noise so they were removed, but I left the code in case I wanted to reinsert them later. "
   ]
  },
  {
   "cell_type": "code",
   "execution_count": 9,
   "metadata": {},
   "outputs": [],
   "source": [
    "\n",
    "# #create interactions  tested but did not help the model\n",
    "# poly = PolynomialFeatures(degree = 2, interaction_only= True)\n",
    "# X_poly = poly.fit_transform(X_train)\n",
    "# X_poly_test = poly.transform(X_test)\n",
    "# X_poly = pd.DataFrame(X_poly, \n",
    "#                       columns = poly.get_feature_names(X_train.columns))\n",
    "# X_poly_test = pd.DataFrame(X_poly_test, \n",
    "#                            columns = poly.get_feature_names(X_test.columns))\n"
   ]
  },
  {
   "cell_type": "markdown",
   "metadata": {},
   "source": [
    "### Scale and Transform the data\n",
    "\n",
    "I use standard scaler scale the data and then do a principal components analysis to transform the data.  I do not care about inference in this case only prediction and there is a good deal of correlation between variables. So I decided to transform the data to reduce the number and get orthoginal features without losing much information.  I retain 99% of the variance."
   ]
  },
  {
   "cell_type": "code",
   "execution_count": 10,
   "metadata": {
    "scrolled": true
   },
   "outputs": [
    {
     "name": "stderr",
     "output_type": "stream",
     "text": [
      "/Users/bryancombs/anaconda3/lib/python3.6/site-packages/sklearn/preprocessing/data.py:617: DataConversionWarning: Data with input dtype int64, float64 were all converted to float64 by StandardScaler.\n",
      "  return self.partial_fit(X, y)\n",
      "/Users/bryancombs/anaconda3/lib/python3.6/site-packages/sklearn/base.py:462: DataConversionWarning: Data with input dtype int64, float64 were all converted to float64 by StandardScaler.\n",
      "  return self.fit(X, **fit_params).transform(X)\n",
      "/Users/bryancombs/anaconda3/lib/python3.6/site-packages/ipykernel_launcher.py:5: DataConversionWarning: Data with input dtype int64, float64 were all converted to float64 by StandardScaler.\n",
      "  \"\"\"\n"
     ]
    }
   ],
   "source": [
    "\n",
    "#scaling data to use in various other methods\n",
    "ss = StandardScaler()\n",
    "X_train_scaled = ss.fit_transform(X_train)\n",
    "X_test_scaled = ss.transform(X_test)"
   ]
  },
  {
   "cell_type": "code",
   "execution_count": 11,
   "metadata": {},
   "outputs": [],
   "source": [
    "from sklearn.decomposition import PCA"
   ]
  },
  {
   "cell_type": "code",
   "execution_count": 12,
   "metadata": {},
   "outputs": [],
   "source": [
    "pc = PCA(n_components=75)\n",
    "X_train_pc = pc.fit_transform(X_train_scaled)\n",
    "X_test_pc = pc.transform(X_test_scaled)\n"
   ]
  },
  {
   "cell_type": "code",
   "execution_count": 13,
   "metadata": {
    "scrolled": true
   },
   "outputs": [
    {
     "name": "stdout",
     "output_type": "stream",
     "text": [
      "Explained variance:             [0.11694139 0.10466322 0.06263363 0.04348807 0.04020162 0.03739641\n",
      " 0.03465436 0.03171007 0.03088486 0.02746436 0.0268335  0.02449559\n",
      " 0.02349233 0.01981358 0.0187899  0.01781639 0.01615334 0.01557077\n",
      " 0.01526551 0.01447885 0.01406536 0.01263087 0.01230269 0.01185432\n",
      " 0.01148084 0.01019796 0.01010359 0.00978173 0.00931831 0.00867519\n",
      " 0.00824706 0.00784966 0.00771266 0.00722275 0.00688001 0.00657454\n",
      " 0.00636737 0.00601614 0.00578821 0.00543573 0.00496192 0.00474887\n",
      " 0.00467484 0.0045144  0.00415594 0.00392611 0.00377081 0.0036287\n",
      " 0.00338606 0.00335798 0.00319686 0.00307144 0.00295852 0.00272001\n",
      " 0.00264951 0.00254457 0.00240447 0.0023217  0.00207763 0.00197976\n",
      " 0.0019091  0.00185137 0.0018229  0.00167727 0.00158738 0.00148908\n",
      " 0.00139441 0.00136833 0.00132081 0.00125975 0.00115425 0.00110094\n",
      " 0.00104171 0.00099819 0.00097247]\n",
      "Cumulative explained variance:  [0.11694139 0.22160461 0.28423824 0.32772631 0.36792792 0.40532433\n",
      " 0.43997869 0.47168876 0.50257363 0.53003799 0.55687149 0.58136708\n",
      " 0.60485941 0.62467299 0.64346289 0.66127928 0.67743262 0.69300339\n",
      " 0.7082689  0.72274774 0.73681311 0.74944398 0.76174667 0.77360099\n",
      " 0.78508183 0.7952798  0.80538338 0.81516512 0.82448343 0.83315861\n",
      " 0.84140567 0.84925533 0.85696799 0.86419074 0.87107075 0.87764529\n",
      " 0.88401266 0.8900288  0.89581701 0.90125274 0.90621466 0.91096353\n",
      " 0.91563837 0.92015277 0.92430872 0.92823483 0.93200564 0.93563434\n",
      " 0.9390204  0.94237837 0.94557523 0.94864667 0.9516052  0.95432521\n",
      " 0.95697472 0.95951929 0.96192376 0.96424546 0.96632308 0.96830284\n",
      " 0.97021194 0.97206332 0.97388622 0.97556349 0.97715087 0.97863994\n",
      " 0.98003435 0.98140268 0.98272349 0.98398324 0.98513749 0.98623843\n",
      " 0.98728014 0.98827833 0.9892508 ]\n"
     ]
    }
   ],
   "source": [
    "var_exp = pc.explained_variance_ratio_\n",
    "print('Explained variance:            ', var_exp)\n",
    "\n",
    "cum_var_exp = np.cumsum(var_exp)\n",
    "print('Cumulative explained variance: ', cum_var_exp)"
   ]
  },
  {
   "cell_type": "markdown",
   "metadata": {},
   "source": [
    "### Logistic Regression\n",
    "\n",
    "The first model I tested out was the logistic regression on good thing about the NBA data is that much of the data seemed to be normally distributed and my transformed features are uncorrelated so I thought"
   ]
  },
  {
   "cell_type": "code",
   "execution_count": 14,
   "metadata": {
    "scrolled": true
   },
   "outputs": [
    {
     "name": "stderr",
     "output_type": "stream",
     "text": [
      "/Users/bryancombs/anaconda3/lib/python3.6/site-packages/sklearn/model_selection/_split.py:1943: FutureWarning: You should specify a value for 'cv' instead of relying on the default value. The default value will change from 3 to 5 in version 0.22.\n",
      "  warnings.warn(CV_WARNING, FutureWarning)\n",
      "/Users/bryancombs/anaconda3/lib/python3.6/site-packages/sklearn/linear_model/sag.py:334: ConvergenceWarning: The max_iter was reached which means the coef_ did not converge\n",
      "  \"the coef_ did not converge\", ConvergenceWarning)\n",
      "/Users/bryancombs/anaconda3/lib/python3.6/site-packages/sklearn/linear_model/sag.py:334: ConvergenceWarning: The max_iter was reached which means the coef_ did not converge\n",
      "  \"the coef_ did not converge\", ConvergenceWarning)\n",
      "/Users/bryancombs/anaconda3/lib/python3.6/site-packages/sklearn/linear_model/sag.py:334: ConvergenceWarning: The max_iter was reached which means the coef_ did not converge\n",
      "  \"the coef_ did not converge\", ConvergenceWarning)\n"
     ]
    },
    {
     "name": "stdout",
     "output_type": "stream",
     "text": [
      "0.6427566807313643\n"
     ]
    },
    {
     "name": "stderr",
     "output_type": "stream",
     "text": [
      "/Users/bryancombs/anaconda3/lib/python3.6/site-packages/sklearn/linear_model/sag.py:334: ConvergenceWarning: The max_iter was reached which means the coef_ did not converge\n",
      "  \"the coef_ did not converge\", ConvergenceWarning)\n"
     ]
    }
   ],
   "source": [
    "lr = LogisticRegressionCV(Cs = [1000],\n",
    "                         max_iter=1000,\n",
    "                         penalty = 'l1',\n",
    "                         tol = .00001,\n",
    "                         solver ='saga' )\n",
    "\n",
    "\n",
    "lr.fit(X_train_pc, y_train)\n",
    "print(lr.score(X_train_pc, y_train))\n"
   ]
  },
  {
   "cell_type": "code",
   "execution_count": 15,
   "metadata": {
    "scrolled": false
   },
   "outputs": [
    {
     "data": {
      "text/plain": [
       "0.5533333333333333"
      ]
     },
     "execution_count": 15,
     "metadata": {},
     "output_type": "execute_result"
    }
   ],
   "source": [
    "lr.score(X_test_pc, y_test)"
   ]
  },
  {
   "cell_type": "code",
   "execution_count": 16,
   "metadata": {},
   "outputs": [],
   "source": [
    "y_hat_lr   = lr.predict(X_train_pc)\n",
    "y_hat_lrp  = lr.predict_proba(X_train_pc)\n",
    "y_hat_lrt  = lr.predict(X_test_pc)\n",
    "y_hat_lrtp = lr.predict_proba(X_test_pc)"
   ]
  },
  {
   "cell_type": "code",
   "execution_count": 17,
   "metadata": {
    "scrolled": false
   },
   "outputs": [
    {
     "name": "stdout",
     "output_type": "stream",
     "text": [
      "              precision    recall  f1-score   support\n",
      "\n",
      "           0       0.62      0.59      0.61       333\n",
      "           1       0.66      0.69      0.67       378\n",
      "\n",
      "   micro avg       0.64      0.64      0.64       711\n",
      "   macro avg       0.64      0.64      0.64       711\n",
      "weighted avg       0.64      0.64      0.64       711\n",
      "\n"
     ]
    }
   ],
   "source": [
    "print(classification_report(y_train, y_hat_lr))"
   ]
  },
  {
   "cell_type": "code",
   "execution_count": 18,
   "metadata": {},
   "outputs": [
    {
     "name": "stdout",
     "output_type": "stream",
     "text": [
      "              precision    recall  f1-score   support\n",
      "\n",
      "           0       0.53      0.64      0.58        73\n",
      "           1       0.58      0.47      0.52        77\n",
      "\n",
      "   micro avg       0.55      0.55      0.55       150\n",
      "   macro avg       0.56      0.56      0.55       150\n",
      "weighted avg       0.56      0.55      0.55       150\n",
      "\n"
     ]
    }
   ],
   "source": [
    "print(classification_report(y_test, y_hat_lrt))"
   ]
  },
  {
   "cell_type": "code",
   "execution_count": 19,
   "metadata": {},
   "outputs": [
    {
     "data": {
      "text/plain": [
       "array([[198, 135],\n",
       "       [119, 259]])"
      ]
     },
     "execution_count": 19,
     "metadata": {},
     "output_type": "execute_result"
    }
   ],
   "source": [
    "confusion_matrix( y_train, y_hat_lr)"
   ]
  },
  {
   "cell_type": "code",
   "execution_count": 20,
   "metadata": {},
   "outputs": [
    {
     "data": {
      "text/plain": [
       "array([[47, 26],\n",
       "       [41, 36]])"
      ]
     },
     "execution_count": 20,
     "metadata": {},
     "output_type": "execute_result"
    }
   ],
   "source": [
    "confusion_matrix( y_test, y_hat_lrt)"
   ]
  },
  {
   "cell_type": "markdown",
   "metadata": {},
   "source": [
    "### Support Vector Machine\n",
    "\n",
    "The second model I tested is the Support Vector Machine Model I "
   ]
  },
  {
   "cell_type": "code",
   "execution_count": 21,
   "metadata": {
    "scrolled": true
   },
   "outputs": [],
   "source": [
    "svc = SVC(probability=True)\n",
    "svc_params = {\n",
    "    'kernel' : ['linear'  ], \n",
    "    'C'      : [.05, .15, .1]\n",
    "    }"
   ]
  },
  {
   "cell_type": "code",
   "execution_count": null,
   "metadata": {},
   "outputs": [],
   "source": []
  },
  {
   "cell_type": "code",
   "execution_count": 22,
   "metadata": {
    "scrolled": true
   },
   "outputs": [
    {
     "name": "stdout",
     "output_type": "stream",
     "text": [
      "0.5672842759646295\n",
      "{'C': 0.1, 'kernel': 'linear'}\n"
     ]
    }
   ],
   "source": [
    "gs = GridSearchCV(svc, \n",
    "                  param_grid=svc_params, \n",
    "                  scoring='precision', \n",
    "                  cv = 5)\n",
    "gs.fit(X_train_pc, y_train)\n",
    "print(gs.best_score_)\n",
    "print(gs.best_params_)"
   ]
  },
  {
   "cell_type": "code",
   "execution_count": 23,
   "metadata": {
    "scrolled": true
   },
   "outputs": [
    {
     "data": {
      "text/plain": [
       "0.5901639344262295"
      ]
     },
     "execution_count": 23,
     "metadata": {},
     "output_type": "execute_result"
    }
   ],
   "source": [
    "gs.score(X_test_pc, y_test)"
   ]
  },
  {
   "cell_type": "code",
   "execution_count": 24,
   "metadata": {},
   "outputs": [],
   "source": [
    "#predict categories and  probabilities for svc model\n",
    "\n",
    "y_hat_svc   = gs.predict(X_train_pc)\n",
    "y_hat_svcp  = gs.predict_proba(X_train_pc)\n",
    "y_hat_svct  = gs.predict(X_test_pc)\n",
    "y_hat_svctp = gs.predict_proba(X_test_pc)"
   ]
  },
  {
   "cell_type": "code",
   "execution_count": 25,
   "metadata": {
    "scrolled": false
   },
   "outputs": [
    {
     "name": "stdout",
     "output_type": "stream",
     "text": [
      "              precision    recall  f1-score   support\n",
      "\n",
      "           0       0.65      0.59      0.62       333\n",
      "           1       0.67      0.72      0.69       378\n",
      "\n",
      "   micro avg       0.66      0.66      0.66       711\n",
      "   macro avg       0.66      0.65      0.65       711\n",
      "weighted avg       0.66      0.66      0.66       711\n",
      "\n"
     ]
    }
   ],
   "source": [
    "print(classification_report(y_train, y_hat_svc))"
   ]
  },
  {
   "cell_type": "code",
   "execution_count": 26,
   "metadata": {},
   "outputs": [
    {
     "name": "stdout",
     "output_type": "stream",
     "text": [
      "              precision    recall  f1-score   support\n",
      "\n",
      "           0       0.54      0.66      0.59        73\n",
      "           1       0.59      0.47      0.52        77\n",
      "\n",
      "   micro avg       0.56      0.56      0.56       150\n",
      "   macro avg       0.56      0.56      0.56       150\n",
      "weighted avg       0.57      0.56      0.56       150\n",
      "\n"
     ]
    }
   ],
   "source": [
    "print(classification_report(y_test, y_hat_svct))"
   ]
  },
  {
   "cell_type": "code",
   "execution_count": 27,
   "metadata": {
    "scrolled": true
   },
   "outputs": [
    {
     "data": {
      "text/plain": [
       "array([[196, 137],\n",
       "       [106, 272]])"
      ]
     },
     "execution_count": 27,
     "metadata": {},
     "output_type": "execute_result"
    }
   ],
   "source": [
    "confusion_matrix( y_train, y_hat_svc)"
   ]
  },
  {
   "cell_type": "code",
   "execution_count": 28,
   "metadata": {},
   "outputs": [
    {
     "data": {
      "text/plain": [
       "array([[48, 25],\n",
       "       [41, 36]])"
      ]
     },
     "execution_count": 28,
     "metadata": {},
     "output_type": "execute_result"
    }
   ],
   "source": [
    "confusion_matrix( y_test, y_hat_svct)"
   ]
  },
  {
   "cell_type": "markdown",
   "metadata": {},
   "source": [
    "### Neural Network\n",
    "\n",
    "I also wanted to try fitting a neural network.  I do not care about the inference implications, but I found that the neural network had to much variance depending on starting weights so I decided not to use it in predictions.\n",
    "\n",
    "I need to do more research and practice with setting up Neural Networks before incorporating its predictions"
   ]
  },
  {
   "cell_type": "code",
   "execution_count": 29,
   "metadata": {},
   "outputs": [
    {
     "name": "stderr",
     "output_type": "stream",
     "text": [
      "/Users/bryancombs/anaconda3/lib/python3.6/site-packages/h5py/__init__.py:36: FutureWarning: Conversion of the second argument of issubdtype from `float` to `np.floating` is deprecated. In future, it will be treated as `np.float64 == np.dtype(float).type`.\n",
      "  from ._conv import register_converters as _register_converters\n",
      "Using TensorFlow backend.\n"
     ]
    },
    {
     "name": "stdout",
     "output_type": "stream",
     "text": [
      "Couldn't import dot_parser, loading of dot files will not be possible.\n"
     ]
    }
   ],
   "source": [
    "from keras.models import Sequential\n",
    "from keras.layers import Dense, Dropout\n",
    "from keras.utils import to_categorical\n",
    "from keras import regularizers"
   ]
  },
  {
   "cell_type": "code",
   "execution_count": 96,
   "metadata": {},
   "outputs": [],
   "source": [
    "model = Sequential()\n",
    "model.add(Dense(75, \n",
    "                activation = 'relu',\n",
    "                input_dim = X_train_pc.shape[1],\n",
    "                kernel_regularizer=regularizers.l2(0.01)))\n",
    "model.add(Dropout(0.85))\n",
    "\n",
    "#model.add(Dense(10, activation = 'relu'))\n",
    "model.add(Dense(1, activation = 'sigmoid')) #output layer "
   ]
  },
  {
   "cell_type": "code",
   "execution_count": null,
   "metadata": {},
   "outputs": [],
   "source": []
  },
  {
   "cell_type": "raw",
   "metadata": {},
   "source": []
  },
  {
   "cell_type": "code",
   "execution_count": 97,
   "metadata": {},
   "outputs": [
    {
     "name": "stdout",
     "output_type": "stream",
     "text": [
      "Train on 711 samples, validate on 150 samples\n",
      "Epoch 1/10\n",
      "711/711 [==============================] - 0s 497us/step - loss: 2.2097 - acc: 0.4796 - val_loss: 1.7867 - val_acc: 0.5133\n",
      "Epoch 2/10\n",
      "711/711 [==============================] - 0s 23us/step - loss: 2.1588 - acc: 0.4965 - val_loss: 1.6991 - val_acc: 0.5133\n",
      "Epoch 3/10\n",
      "711/711 [==============================] - 0s 19us/step - loss: 1.9733 - acc: 0.5077 - val_loss: 1.6215 - val_acc: 0.5200\n",
      "Epoch 4/10\n",
      "711/711 [==============================] - 0s 17us/step - loss: 2.1164 - acc: 0.4529 - val_loss: 1.5539 - val_acc: 0.5200\n",
      "Epoch 5/10\n",
      "711/711 [==============================] - 0s 17us/step - loss: 1.9657 - acc: 0.4979 - val_loss: 1.4970 - val_acc: 0.5133\n",
      "Epoch 6/10\n",
      "711/711 [==============================] - 0s 18us/step - loss: 1.8601 - acc: 0.5091 - val_loss: 1.4502 - val_acc: 0.5133\n",
      "Epoch 7/10\n",
      "711/711 [==============================] - 0s 23us/step - loss: 1.7867 - acc: 0.5035 - val_loss: 1.4087 - val_acc: 0.5200\n",
      "Epoch 8/10\n",
      "711/711 [==============================] - 0s 18us/step - loss: 1.6851 - acc: 0.5373 - val_loss: 1.3694 - val_acc: 0.5333\n",
      "Epoch 9/10\n",
      "711/711 [==============================] - 0s 18us/step - loss: 1.7193 - acc: 0.4866 - val_loss: 1.3355 - val_acc: 0.5400\n",
      "Epoch 10/10\n",
      "711/711 [==============================] - 0s 17us/step - loss: 1.6401 - acc: 0.5035 - val_loss: 1.3091 - val_acc: 0.5467\n"
     ]
    },
    {
     "data": {
      "text/plain": [
       "<keras.callbacks.History at 0x1a3ea094a8>"
      ]
     },
     "execution_count": 97,
     "metadata": {},
     "output_type": "execute_result"
    }
   ],
   "source": [
    "model.compile(loss = 'binary_crossentropy', optimizer='adam',\n",
    "              metrics = ['accuracy'])\n",
    "model.fit(X_train_pc, \n",
    "          y_train, epochs =10, \n",
    "          batch_size= 128, \n",
    "          validation_data=(X_test_pc, y_test))"
   ]
  },
  {
   "cell_type": "code",
   "execution_count": 98,
   "metadata": {},
   "outputs": [],
   "source": [
    "#returns a probability\n",
    "\n",
    "y_hat_nnp = model.predict(X_train_pc)\n",
    "y_hat_nntp = model.predict(X_test_pc)\n"
   ]
  },
  {
   "cell_type": "code",
   "execution_count": 99,
   "metadata": {
    "scrolled": true
   },
   "outputs": [
    {
     "name": "stdout",
     "output_type": "stream",
     "text": [
      "0.531133631413552\n",
      "{'max_depth': 3, 'min_samples_leaf': 10, 'min_samples_split': 120, 'n_estimators': 200}\n"
     ]
    }
   ],
   "source": [
    "rf = RandomForestClassifier()\n",
    "rf_params = {'n_estimators'      : [200],\n",
    "             'max_depth'         : [3],\n",
    "             'min_samples_split' : [120],\n",
    "             'min_samples_leaf'  : [10] }\n",
    "\n",
    "gs1 = GridSearchCV(rf, \n",
    "                  param_grid=rf_params,\n",
    "                  scoring='precision',\n",
    "                 cv =5)\n",
    "gs1.fit(X_train_pc, y_train)\n",
    "print(gs1.best_score_)\n",
    "print(gs1.best_params_)\n",
    "\n"
   ]
  },
  {
   "cell_type": "code",
   "execution_count": 100,
   "metadata": {
    "scrolled": false
   },
   "outputs": [
    {
     "data": {
      "text/plain": [
       "0.5396825396825397"
      ]
     },
     "execution_count": 100,
     "metadata": {},
     "output_type": "execute_result"
    }
   ],
   "source": [
    "gs1.score(X_test_pc, y_test)"
   ]
  },
  {
   "cell_type": "code",
   "execution_count": 101,
   "metadata": {},
   "outputs": [],
   "source": [
    "y_hat_rf   = gs1.predict(X_train_pc)\n",
    "y_hat_rfp  = gs1.predict_proba(X_train_pc)\n",
    "y_hat_rft  = gs1.predict(X_test_pc)\n",
    "y_hat_rftp = gs1.predict_proba(X_test_pc)"
   ]
  },
  {
   "cell_type": "code",
   "execution_count": 102,
   "metadata": {},
   "outputs": [
    {
     "name": "stdout",
     "output_type": "stream",
     "text": [
      "              precision    recall  f1-score   support\n",
      "\n",
      "           0       0.91      0.34      0.50       333\n",
      "           1       0.63      0.97      0.76       378\n",
      "\n",
      "   micro avg       0.68      0.68      0.68       711\n",
      "   macro avg       0.77      0.66      0.63       711\n",
      "weighted avg       0.76      0.68      0.64       711\n",
      "\n"
     ]
    }
   ],
   "source": [
    "print(classification_report(y_train, y_hat_rf))"
   ]
  },
  {
   "cell_type": "code",
   "execution_count": 103,
   "metadata": {
    "scrolled": true
   },
   "outputs": [
    {
     "name": "stdout",
     "output_type": "stream",
     "text": [
      "              precision    recall  f1-score   support\n",
      "\n",
      "           0       0.62      0.21      0.31        73\n",
      "           1       0.54      0.88      0.67        77\n",
      "\n",
      "   micro avg       0.55      0.55      0.55       150\n",
      "   macro avg       0.58      0.54      0.49       150\n",
      "weighted avg       0.58      0.55      0.49       150\n",
      "\n"
     ]
    }
   ],
   "source": [
    "print(classification_report(y_test, y_hat_rft))"
   ]
  },
  {
   "cell_type": "code",
   "execution_count": 104,
   "metadata": {
    "scrolled": true
   },
   "outputs": [
    {
     "data": {
      "text/plain": [
       "array([[114, 219],\n",
       "       [ 11, 367]])"
      ]
     },
     "execution_count": 104,
     "metadata": {},
     "output_type": "execute_result"
    }
   ],
   "source": [
    "confusion_matrix( y_train, y_hat_rf)"
   ]
  },
  {
   "cell_type": "code",
   "execution_count": 105,
   "metadata": {},
   "outputs": [
    {
     "data": {
      "text/plain": [
       "array([[15, 58],\n",
       "       [ 9, 68]])"
      ]
     },
     "execution_count": 105,
     "metadata": {},
     "output_type": "execute_result"
    }
   ],
   "source": [
    "confusion_matrix( y_test, y_hat_rft)"
   ]
  },
  {
   "cell_type": "code",
   "execution_count": 106,
   "metadata": {},
   "outputs": [],
   "source": [
    "#modifying train and testing data to allow for changing prob thresholds and printing the \n",
    "#roc curves \n",
    "#Random Forest\n",
    "nba_train.loc[:, 'actual_y'] = y_train\n",
    "nba_train.loc[:, 'predicted_label_rf'] = y_hat_rf\n",
    "nba_train.loc[:, 'predicted_proba_rfp'] = y_hat_rfp[:, 1]\n",
    "\n",
    "#SVC\n",
    "\n",
    "nba_train.loc[:, 'predicted_label_svc'] = y_hat_svc\n",
    "nba_train.loc[:, 'predicted_proba_svcp'] = y_hat_svcp[:, 1]\n",
    "\n",
    "#Logistic\n",
    "nba_train.loc[:, 'predicted_label_lr'] = y_hat_lr\n",
    "nba_train.loc[:, 'predicted_proba_lrp'] = y_hat_lrp[:, 1]\n",
    "\n"
   ]
  },
  {
   "cell_type": "code",
   "execution_count": 107,
   "metadata": {},
   "outputs": [],
   "source": [
    "#Random Forest\n",
    "nba_test.loc[:, 'actual_y'] = y_test\n",
    "nba_test.loc[:, 'predicted_label_rf'] = y_hat_rft\n",
    "nba_test.loc[:, 'predicted_proba_rfp'] = y_hat_rftp[:, 1]\n",
    "\n",
    "#SVC\n",
    "\n",
    "nba_test.loc[:, 'predicted_label_svc'] = y_hat_svct\n",
    "nba_test.loc[:, 'predicted_proba_svcp'] = y_hat_svctp[:,1]\n",
    "\n",
    "#Logistic\n",
    "nba_test.loc[:, 'predicted_label_lr'] = y_hat_lrt\n",
    "nba_test.loc[:, 'predicted_proba_lrp'] = y_hat_lrtp[:, 1]\n",
    "\n",
    "\n",
    "\n",
    "\n",
    "\n",
    "\n"
   ]
  },
  {
   "cell_type": "code",
   "execution_count": 108,
   "metadata": {
    "scrolled": true
   },
   "outputs": [
    {
     "name": "stdout",
     "output_type": "stream",
     "text": [
      "predicted_label_svc\n",
      "0   -8.731\n",
      "1    7.724\n",
      "Name: away_payout, dtype: float64\n",
      "predicted_label_svc\n",
      "0     0.814\n",
      "1   -13.275\n",
      "Name: home_payout, dtype: float64\n"
     ]
    }
   ],
   "source": [
    "print(nba_test.groupby(['predicted_label_svc'])['away_payout'].sum())\n",
    "print(nba_test.groupby(['predicted_label_svc'])['home_payout'].sum())"
   ]
  },
  {
   "cell_type": "code",
   "execution_count": 109,
   "metadata": {
    "scrolled": false
   },
   "outputs": [
    {
     "name": "stdout",
     "output_type": "stream",
     "text": [
      "predicted_label_lr\n",
      "0   -8.731\n",
      "1    7.724\n",
      "Name: away_payout, dtype: float64\n",
      "predicted_label_lr\n",
      "0     0.814\n",
      "1   -13.275\n",
      "Name: home_payout, dtype: float64\n"
     ]
    }
   ],
   "source": [
    "print(nba_test.groupby(['predicted_label_lr'])['away_payout'].sum())\n",
    "print(nba_test.groupby(['predicted_label_lr'])['home_payout'].sum())"
   ]
  },
  {
   "cell_type": "code",
   "execution_count": 110,
   "metadata": {},
   "outputs": [
    {
     "name": "stdout",
     "output_type": "stream",
     "text": [
      "predicted_label_rf\n",
      "0   -6.819\n",
      "1    5.812\n",
      "Name: away_payout, dtype: float64\n",
      "predicted_label_rf\n",
      "0     4.635\n",
      "1   -17.096\n",
      "Name: home_payout, dtype: float64\n"
     ]
    }
   ],
   "source": [
    "print(nba_test.groupby(['predicted_label_rf'])['away_payout'].sum())\n",
    "print(nba_test.groupby(['predicted_label_rf'])['home_payout'].sum())"
   ]
  },
  {
   "cell_type": "code",
   "execution_count": 111,
   "metadata": {},
   "outputs": [],
   "source": [
    "from sklearn.metrics import roc_curve, auc"
   ]
  },
  {
   "cell_type": "code",
   "execution_count": 112,
   "metadata": {},
   "outputs": [],
   "source": [
    "fpr, tpr, _ = roc_curve(y_test, nba_test['predicted_proba_lrp'])\n",
    "roc_auc = auc(fpr, tpr)"
   ]
  },
  {
   "cell_type": "code",
   "execution_count": 113,
   "metadata": {},
   "outputs": [],
   "source": [
    "fpr1, tpr1, _ = roc_curve(y_test, nba_test['predicted_proba_svcp'])\n",
    "roc_auc1 = auc(fpr1, tpr1)"
   ]
  },
  {
   "cell_type": "code",
   "execution_count": 114,
   "metadata": {},
   "outputs": [],
   "source": [
    "fpr2, tpr2, _ = roc_curve(y_test, nba_test['predicted_proba_rfp'])\n",
    "roc_auc2 = auc(fpr2, tpr2)"
   ]
  },
  {
   "cell_type": "code",
   "execution_count": 122,
   "metadata": {
    "scrolled": true
   },
   "outputs": [
    {
     "data": {
      "image/png": "[encoded data removed]",
      "text/plain": [
       "<matplotlib.figure.Figure at 0x1a410f1898>"
      ]
     },
     "metadata": {},
     "output_type": "display_data"
    }
   ],
   "source": [
    "# Plot \n",
    "plt.figure(figsize = (8,5))\n",
    "line_width = 3\n",
    "\n",
    "plt.plot(fpr, tpr, lw = line_width, color=\"darkorange\", \n",
    "         label = \"Log Reg ROC Curve %.2f\" % roc_auc)\n",
    "plt.plot(fpr1, tpr1, lw = line_width, color=\"red\", \n",
    "         label = \"SVC ROC Curve %.2f\" % roc_auc1)\n",
    "plt.plot(fpr2, tpr2, lw = line_width, color=\"yellow\", \n",
    "         label = \"Random Forest ROC Curve %.2f\" % roc_auc2)\n",
    "plt.plot([0,1], [0, 1], lw = line_width, linestyle=\"--\", color=\"navy\")\n",
    "\n",
    "plt.xlim([0.0, 1.0])\n",
    "plt.ylim([0.0, 1.05])\n",
    "plt.xlabel('False Positive Rate')\n",
    "plt.ylabel('True Positive Rate')\n",
    "plt.title('ROC Curve on Training Data')\n",
    "plt.legend(loc=\"lower right\")\n",
    "plt.show()"
   ]
  },
  {
   "cell_type": "code",
   "execution_count": 50,
   "metadata": {
    "scrolled": true
   },
   "outputs": [
    {
     "name": "stdout",
     "output_type": "stream",
     "text": [
      "Test Logistic Regression :0.42\n",
      "Return of Away Games:  predicted_label_lr\n",
      "0   -7.821\n",
      "1    6.814\n",
      "Name: away_payout, dtype: float64\n",
      "Return of Home Games:  predicted_label_lr\n",
      "0     1.724\n",
      "1   -14.185\n",
      "Name: home_payout, dtype: float64\n",
      " \n",
      "Test Logistic Regression :0.43\n",
      "Return of Away Games:  predicted_label_lr\n",
      "0   -9.821\n",
      "1    8.814\n",
      "Name: away_payout, dtype: float64\n",
      "Return of Home Games:  predicted_label_lr\n",
      "0     3.542\n",
      "1   -16.003\n",
      "Name: home_payout, dtype: float64\n",
      " \n",
      "Test Logistic Regression :0.44\n",
      "Return of Away Games:  predicted_label_lr\n",
      "0   -11.821\n",
      "1    10.814\n",
      "Name: away_payout, dtype: float64\n",
      "Return of Home Games:  predicted_label_lr\n",
      "0     5.360\n",
      "1   -17.821\n",
      "Name: home_payout, dtype: float64\n",
      " \n",
      "Test Logistic Regression :0.45\n",
      "Return of Away Games:  predicted_label_lr\n",
      "0   -10.003\n",
      "1     8.996\n",
      "Name: away_payout, dtype: float64\n",
      "Return of Home Games:  predicted_label_lr\n",
      "0     3.360\n",
      "1   -15.821\n",
      "Name: home_payout, dtype: float64\n",
      " \n",
      "Test Logistic Regression :0.46\n",
      "Return of Away Games:  predicted_label_lr\n",
      "0   -9.094\n",
      "1    8.087\n",
      "Name: away_payout, dtype: float64\n",
      "Return of Home Games:  predicted_label_lr\n",
      "0     2.360\n",
      "1   -14.821\n",
      "Name: home_payout, dtype: float64\n",
      " \n",
      "Test Logistic Regression :0.47\n",
      "Return of Away Games:  predicted_label_lr\n",
      "0   -6.549\n",
      "1    5.542\n",
      "Name: away_payout, dtype: float64\n",
      "Return of Home Games:  predicted_label_lr\n",
      "0    -0.822\n",
      "1   -11.639\n",
      "Name: home_payout, dtype: float64\n",
      " \n",
      "Test Logistic Regression :0.48\n",
      "Return of Away Games:  predicted_label_lr\n",
      "0   -10.549\n",
      "1     9.542\n",
      "Name: away_payout, dtype: float64\n",
      "Return of Home Games:  predicted_label_lr\n",
      "0     2.814\n",
      "1   -15.275\n",
      "Name: home_payout, dtype: float64\n",
      " \n",
      "Test Logistic Regression :0.49\n",
      "Return of Away Games:  predicted_label_lr\n",
      "0   -9.640\n",
      "1    8.633\n",
      "Name: away_payout, dtype: float64\n",
      "Return of Home Games:  predicted_label_lr\n",
      "0     1.814\n",
      "1   -14.275\n",
      "Name: home_payout, dtype: float64\n",
      " \n",
      "Test Logistic Regression :0.5\n",
      "Return of Away Games:  predicted_label_lr\n",
      "0   -8.731\n",
      "1    7.724\n",
      "Name: away_payout, dtype: float64\n",
      "Return of Home Games:  predicted_label_lr\n",
      "0     0.814\n",
      "1   -13.275\n",
      "Name: home_payout, dtype: float64\n",
      " \n",
      "Test Logistic Regression :0.51\n",
      "Return of Away Games:  predicted_label_lr\n",
      "0   -6.095\n",
      "1    5.088\n",
      "Name: away_payout, dtype: float64\n",
      "Return of Home Games:  predicted_label_lr\n",
      "0    -2.277\n",
      "1   -10.184\n",
      "Name: home_payout, dtype: float64\n",
      " \n",
      "Test Logistic Regression :0.52\n",
      "Return of Away Games:  predicted_label_lr\n",
      "0   -5.186\n",
      "1    4.179\n",
      "Name: away_payout, dtype: float64\n",
      "Return of Home Games:  predicted_label_lr\n",
      "0   -3.277\n",
      "1   -9.184\n",
      "Name: home_payout, dtype: float64\n",
      " \n",
      "Test Logistic Regression :0.53\n",
      "Return of Away Games:  predicted_label_lr\n",
      "0   -6.277\n",
      "1    5.270\n",
      "Name: away_payout, dtype: float64\n",
      "Return of Home Games:  predicted_label_lr\n",
      "0    -2.459\n",
      "1   -10.002\n",
      "Name: home_payout, dtype: float64\n",
      " \n",
      "Test Logistic Regression :0.54\n",
      "Return of Away Games:  predicted_label_lr\n",
      "0   -8.277\n",
      "1    7.270\n",
      "Name: away_payout, dtype: float64\n",
      "Return of Home Games:  predicted_label_lr\n",
      "0    -0.641\n",
      "1   -11.820\n",
      "Name: home_payout, dtype: float64\n",
      " \n"
     ]
    }
   ],
   "source": [
    "for prob in range(42, 55, 1):\n",
    "    proba = prob/100\n",
    "    \n",
    "    nba_test.loc[:, 'predicted_label_lr']= nba_test['predicted_proba_lrp'].map(\n",
    "        lambda p: 1 if p > proba else 0)\n",
    "    \n",
    "\n",
    "\n",
    "    \n",
    "    print('Test Logistic Regression :' + str(proba))\n",
    "\n",
    "    print (\"Return of Away Games: \", nba_test.groupby(\n",
    "        \"predicted_label_lr\").away_payout.sum())\n",
    "    print (\"Return of Home Games: \", nba_test.groupby(\n",
    "        \"predicted_label_lr\").home_payout.sum())\n",
    "    \n",
    "    print (\" \")\n",
    "   \n",
    "\n",
    "    \n",
    "  "
   ]
  },
  {
   "cell_type": "markdown",
   "metadata": {},
   "source": [
    "### Threshold Analysis\n",
    "\n",
    "For the Logisitic Regession Analysis .44 seems to consistently rank a the best threshold.   If you look at the ROC curve for logisitic regression you will see one jagged mark on the curve that might increase the ration at that point. Therefore, I change the classification to .44.  \n",
    "\n",
    "In the Threshold Analysis for Random Forest and SVC the numbers suggested that .5 was as good a number as any.   The Roc curve does not show any enormous jumps in precision.  Running the model a number of times.  The maximum precision is usually between .49 and .51, with slight variations between running models depending on splits of the variables.  Therefore, I think it is best to leave it at .5.\n",
    "\n"
   ]
  },
  {
   "cell_type": "code",
   "execution_count": 51,
   "metadata": {},
   "outputs": [],
   "source": [
    "    nba_test.loc[:, 'predicted_label_lr']= nba_test['predicted_proba_lrp'].map(\n",
    "    lambda p: 1 if p > .44 else 0)\n",
    "    \n",
    "    nba_test.loc[:, 'predicted_label_svc']= nba_test.predicted_proba_svcp.map(\n",
    "    lambda p: 1 if p > .50 else 0)"
   ]
  },
  {
   "cell_type": "code",
   "execution_count": 52,
   "metadata": {},
   "outputs": [
    {
     "name": "stdout",
     "output_type": "stream",
     "text": [
      "2    0.513333\n",
      "0    0.293333\n",
      "1    0.193333\n",
      "Name: vote, dtype: float64\n",
      "vote\n",
      "0   -3.911\n",
      "1   -7.001\n",
      "2    9.905\n",
      "Name: away_payout, dtype: float64\n",
      "vote\n",
      "0    -0.093\n",
      "1     4.453\n",
      "2   -16.821\n",
      "Name: home_payout, dtype: float64\n"
     ]
    }
   ],
   "source": [
    "nba_test['vote']= (nba_test.predicted_label_svc + \n",
    "                   nba_test.predicted_label_lr)\n",
    "\n",
    "print(nba_test.vote.value_counts(normalize = True))\n",
    "print(nba_test.groupby(['vote'])['away_payout'].sum())\n",
    "print(nba_test.groupby(['vote'])['home_payout'].sum())"
   ]
  },
  {
   "cell_type": "code",
   "execution_count": null,
   "metadata": {},
   "outputs": [],
   "source": []
  },
  {
   "cell_type": "code",
   "execution_count": null,
   "metadata": {},
   "outputs": [],
   "source": []
  },
  {
   "cell_type": "code",
   "execution_count": 53,
   "metadata": {},
   "outputs": [],
   "source": [
    "#Combined \n",
    "nba_test['vote_with_rf'] = (nba_test.predicted_label_svc + \n",
    "                            nba_test.predicted_label_lr +\n",
    "                            nba_test.predicted_label_rf)"
   ]
  },
  {
   "cell_type": "code",
   "execution_count": 54,
   "metadata": {},
   "outputs": [
    {
     "data": {
      "text/plain": [
       "3    0.493333\n",
       "2    0.200000\n",
       "1    0.173333\n",
       "0    0.133333\n",
       "Name: vote_with_rf, dtype: float64"
      ]
     },
     "execution_count": 54,
     "metadata": {},
     "output_type": "execute_result"
    }
   ],
   "source": [
    "nba_test.vote_with_rf.value_counts(normalize = True)"
   ]
  },
  {
   "cell_type": "code",
   "execution_count": 55,
   "metadata": {},
   "outputs": [
    {
     "data": {
      "text/plain": [
       "vote_with_rf\n",
       "0    -8.546\n",
       "1     4.544\n",
       "2    -8.001\n",
       "3    10.996\n",
       "Name: away_payout, dtype: float64"
      ]
     },
     "execution_count": 55,
     "metadata": {},
     "output_type": "execute_result"
    }
   ],
   "source": [
    "nba_test.groupby(['vote_with_rf'])['away_payout'].sum()"
   ]
  },
  {
   "cell_type": "code",
   "execution_count": 56,
   "metadata": {},
   "outputs": [
    {
     "data": {
      "text/plain": [
       "vote_with_rf\n",
       "0     6.726\n",
       "1    -6.910\n",
       "2     5.362\n",
       "3   -17.639\n",
       "Name: home_payout, dtype: float64"
      ]
     },
     "execution_count": 56,
     "metadata": {},
     "output_type": "execute_result"
    }
   ],
   "source": [
    "nba_test.groupby(['vote_with_rf'])['home_payout'].sum()"
   ]
  },
  {
   "cell_type": "code",
   "execution_count": 57,
   "metadata": {},
   "outputs": [
    {
     "name": "stdout",
     "output_type": "stream",
     "text": [
      "10206    1\n",
      "10207    1\n",
      "10208    1\n",
      "10242    1\n",
      "10243    0\n",
      "10244    1\n",
      "10245    0\n",
      "10246    0\n",
      "10247    0\n",
      "10248    0\n",
      "Name: predicted_label_svc, dtype: int64\n"
     ]
    },
    {
     "data": {
      "text/plain": [
       "predicted_label_svc\n",
       "0    0.484828\n",
       "1    0.533714\n",
       "Name: predicted_proba_svcp, dtype: float64"
      ]
     },
     "execution_count": 57,
     "metadata": {},
     "output_type": "execute_result"
    }
   ],
   "source": [
    "print(nba_test.predicted_label_svc.head(10))\n",
    "nba_test.groupby(['predicted_label_svc'])['predicted_proba_svcp'].mean()\n",
    "    "
   ]
  },
  {
   "cell_type": "markdown",
   "metadata": {},
   "source": [
    "### Results \n",
    "\n",
    "I created two ensemble models.  One containing a vote of the Logistic Regress and the Support Vector Machine.  The second model included the Random Forest Classifier as well.  \n",
    "\n",
    "The first model consistently returns positively for betting the away team when both models agree and betting the home team in all other cases.  It returns 14.265 units in 150 games for an average return of 9.5% per bet.\n",
    "\n",
    "The second model included the Random Forest Classifier and followed the same pattern.  Bet the away team if all three models predicted the away game else bet the home team.  It returned 16.174 or 10.8 percent return.  "
   ]
  },
  {
   "cell_type": "markdown",
   "metadata": {},
   "source": [
    "The Second model definitely had a little more variance but consistently return higher than the first model.   "
   ]
  },
  {
   "cell_type": "code",
   "execution_count": 120,
   "metadata": {},
   "outputs": [
    {
     "data": {
      "text/plain": [
       "<Container object of 150 artists>"
      ]
     },
     "execution_count": 120,
     "metadata": {},
     "output_type": "execute_result"
    },
    {
     "data": {
      "image/png": "[encoded data removed]",
      "text/plain": [
       "<matplotlib.figure.Figure at 0x1a40688160>"
      ]
     },
     "metadata": {},
     "output_type": "display_data"
    }
   ],
   "source": [
    "plt.bar(nba_test.date, nba_test.away_payout)"
   ]
  },
  {
   "cell_type": "code",
   "execution_count": null,
   "metadata": {},
   "outputs": [],
   "source": []
  }
 ],
 "metadata": {
  "kernelspec": {
   "display_name": "Python 3",
   "language": "python",
   "name": "python3"
  },
  "language_info": {
   "codemirror_mode": {
    "name": "ipython",
    "version": 3
   },
   "file_extension": ".py",
   "mimetype": "text/x-python",
   "name": "python",
   "nbconvert_exporter": "python",
   "pygments_lexer": "ipython3",
   "version": "3.6.6"
  }
 },
 "nbformat": 4,
 "nbformat_minor": 2
}
