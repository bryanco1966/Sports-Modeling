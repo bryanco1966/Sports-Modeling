{
 "cells": [
  {
   "cell_type": "code",
   "execution_count": 64,
   "metadata": {},
   "outputs": [],
   "source": [
    "from sklearn.ensemble import AdaBoostClassifier, RandomForestClassifier\n",
    "from sklearn.model_selection import train_test_split, cross_val_score\n",
    "import pandas as pd\n",
    "import numpy as np\n",
    "from sklearn.metrics import classification_report, confusion_matrix\n",
    "import matplotlib.pyplot as plt\n",
    "from sklearn.svm import SVC\n",
    "from sklearn.preprocessing import StandardScaler, PolynomialFeatures\n",
    "from sklearn.linear_model import LogisticRegressionCV\n",
    "from sklearn.model_selection import GridSearchCV\n",
    "from sklearn.naive_bayes import GaussianNB\n",
    "from datatools import DataGrapher\n",
    "\n",
    "\n",
    "%matplotlib inline"
   ]
  },
  {
   "cell_type": "code",
   "execution_count": 65,
   "metadata": {},
   "outputs": [],
   "source": [
    "#Bring in the data\n",
    "\n",
    "nba = pd.read_csv('./data/nba_analysis_data.csv')\n",
    "nba.dropna(inplace = True)"
   ]
  },
  {
   "cell_type": "code",
   "execution_count": 66,
   "metadata": {},
   "outputs": [],
   "source": [
    "#seperate test from train\n",
    "\n",
    "nba_train = nba[nba.test == 0]\n",
    "nba_test = nba[nba.test ==1]  #scott tarlow scotttarlow@gmail.com\n",
    "#learn a domain"
   ]
  },
  {
   "cell_type": "code",
   "execution_count": 67,
   "metadata": {},
   "outputs": [],
   "source": [
    "nba_train = nba_train[nba_train.playoff_game == 1]\n",
    "nba_test = nba_test[nba_test.playoff_game == 1]"
   ]
  },
  {
   "cell_type": "code",
   "execution_count": 68,
   "metadata": {},
   "outputs": [],
   "source": [
    "\n",
    "X_train = nba_train.drop(columns = ['cover','home_win_margin', \n",
    "                        'date', 'dataset','line_cv', \n",
    "                        'home_starter5', 'teams', 'away_team',\n",
    "                        'away_starter2', 'away_starter3',\n",
    "                        'away_starter4', 'away_starter5',\n",
    "                        'ref_1', 'ref_3', 'crew_referees',\n",
    "                        'away_pace', 'away_spread',\n",
    "                        'away_line_cv',  'away_cover',\n",
    "                        'home_payout', 'away_payout', 'over', 'under',\n",
    "                        'total_score', 'total_diff'         ])\n",
    "\n",
    "\n",
    "#X = nba[features]\n",
    "y_train = nba_train['cover']"
   ]
  },
  {
   "cell_type": "code",
   "execution_count": 69,
   "metadata": {},
   "outputs": [],
   "source": [
    "X_test= nba_test.drop(columns = ['cover','home_win_margin', \n",
    "                        'date', 'dataset','line_cv', \n",
    "                        'home_starter5', 'teams', 'away_team',\n",
    "                        'away_starter2', 'away_starter3',\n",
    "                        'away_starter4', 'away_starter5',\n",
    "                        'ref_1', 'ref_3', 'crew_referees',\n",
    "                        'away_pace', 'away_spread',\n",
    "                        'away_line_cv',  'away_cover',\n",
    "                        'home_payout', 'away_payout', 'over', 'under',\n",
    "                        'total_score', 'total_diff'       ])\n",
    "\n",
    "y_test = nba_test.away_cover"
   ]
  },
  {
   "cell_type": "code",
   "execution_count": 70,
   "metadata": {},
   "outputs": [
    {
     "data": {
      "text/plain": [
       "(150, 150)"
      ]
     },
     "execution_count": 70,
     "metadata": {},
     "output_type": "execute_result"
    }
   ],
   "source": [
    "\n",
    "X_test.shape"
   ]
  },
  {
   "cell_type": "code",
   "execution_count": 71,
   "metadata": {},
   "outputs": [
    {
     "data": {
      "text/plain": [
       "(711, 150)"
      ]
     },
     "execution_count": 71,
     "metadata": {},
     "output_type": "execute_result"
    }
   ],
   "source": [
    "X_train.shape"
   ]
  },
  {
   "cell_type": "markdown",
   "metadata": {},
   "source": [
    "### Interaction Terms\n",
    "\n",
    "At one point in the modeling process I hoped to get better results by including some interactions in the model.  They did not appear significant and added noise so they were removed, but I left the code in case I wanted to reinsert them later. "
   ]
  },
  {
   "cell_type": "code",
   "execution_count": 72,
   "metadata": {},
   "outputs": [],
   "source": [
    "\n",
    "# #create interactions  tested but did not help the model\n",
    "# poly = PolynomialFeatures(degree = 2, interaction_only= True)\n",
    "# X_poly = poly.fit_transform(X_train)\n",
    "# X_poly_test = poly.transform(X_test)\n",
    "# X_poly = pd.DataFrame(X_poly, \n",
    "#                       columns = poly.get_feature_names(X_train.columns))\n",
    "# X_poly_test = pd.DataFrame(X_poly_test, \n",
    "#                            columns = poly.get_feature_names(X_test.columns))\n"
   ]
  },
  {
   "cell_type": "markdown",
   "metadata": {},
   "source": [
    "### Scale and Transform the data\n",
    "\n",
    "I use standard scaler scale the data and then do a principal components analysis to transform the data.  I do not care about inference in this case only prediction and there is a good deal of correlation between variables. So I decided to transform the data to reduce the number and get orthoginal features without losing much information.  I retain 99% of the variance."
   ]
  },
  {
   "cell_type": "code",
   "execution_count": 73,
   "metadata": {
    "scrolled": true
   },
   "outputs": [
    {
     "name": "stderr",
     "output_type": "stream",
     "text": [
      "/Users/bryancombs/anaconda3/lib/python3.6/site-packages/sklearn/preprocessing/data.py:617: DataConversionWarning: Data with input dtype int64, float64 were all converted to float64 by StandardScaler.\n",
      "  return self.partial_fit(X, y)\n",
      "/Users/bryancombs/anaconda3/lib/python3.6/site-packages/sklearn/base.py:462: DataConversionWarning: Data with input dtype int64, float64 were all converted to float64 by StandardScaler.\n",
      "  return self.fit(X, **fit_params).transform(X)\n",
      "/Users/bryancombs/anaconda3/lib/python3.6/site-packages/ipykernel_launcher.py:5: DataConversionWarning: Data with input dtype int64, float64 were all converted to float64 by StandardScaler.\n",
      "  \"\"\"\n"
     ]
    }
   ],
   "source": [
    "\n",
    "#scaling data to use in various other methods\n",
    "ss = StandardScaler()\n",
    "X_train_scaled = ss.fit_transform(X_train)\n",
    "X_test_scaled = ss.transform(X_test)"
   ]
  },
  {
   "cell_type": "code",
   "execution_count": 74,
   "metadata": {},
   "outputs": [],
   "source": [
    "from sklearn.decomposition import PCA"
   ]
  },
  {
   "cell_type": "code",
   "execution_count": 75,
   "metadata": {},
   "outputs": [],
   "source": [
    "pc = PCA(n_components=70)\n",
    "X_train_pc = pc.fit_transform(X_train_scaled)\n",
    "X_test_pc = pc.transform(X_test_scaled)\n"
   ]
  },
  {
   "cell_type": "code",
   "execution_count": 76,
   "metadata": {
    "scrolled": true
   },
   "outputs": [
    {
     "name": "stdout",
     "output_type": "stream",
     "text": [
      "Explained variance:             [0.11779199 0.10546802 0.06201995 0.04434033 0.03990505 0.03690723\n",
      " 0.03447765 0.03165107 0.03116379 0.02742084 0.02710235 0.02477437\n",
      " 0.02341972 0.01969362 0.01891631 0.01764555 0.01653642 0.01566353\n",
      " 0.0151614  0.01437477 0.01401727 0.01332526 0.0130128  0.01212139\n",
      " 0.0116592  0.01065912 0.01006072 0.00983073 0.00920499 0.00871883\n",
      " 0.00826443 0.00819963 0.00752512 0.007357   0.00712612 0.00678459\n",
      " 0.00614287 0.00594805 0.00572655 0.00516833 0.00513162 0.00476264\n",
      " 0.00456495 0.00415466 0.00399994 0.00388919 0.00365491 0.00340652\n",
      " 0.00333786 0.00316325 0.00305489 0.00293599 0.00275122 0.00267653\n",
      " 0.00252507 0.00238437 0.0022981  0.00206362 0.00199281 0.00195163\n",
      " 0.0018501  0.00181444 0.00167024 0.00161227 0.00157333 0.00138521\n",
      " 0.00136838 0.00134111 0.00125999 0.00115001]\n",
      "Cumulative explained variance:  [0.11779199 0.22326    0.28527996 0.32962029 0.36952534 0.40643257\n",
      " 0.44091022 0.47256129 0.50372507 0.53114592 0.55824826 0.58302263\n",
      " 0.60644235 0.62613597 0.64505229 0.66269784 0.67923426 0.69489779\n",
      " 0.71005919 0.72443395 0.73845122 0.75177648 0.76478929 0.77691068\n",
      " 0.78856987 0.799229   0.80928971 0.81912045 0.82832544 0.83704427\n",
      " 0.8453087  0.85350833 0.86103345 0.86839045 0.87551657 0.88230116\n",
      " 0.88844404 0.89439209 0.90011864 0.90528696 0.91041859 0.91518123\n",
      " 0.91974618 0.92390083 0.92790078 0.93178997 0.93544487 0.9388514\n",
      " 0.94218925 0.94535251 0.9484074  0.95134339 0.95409461 0.95677114\n",
      " 0.9592962  0.96168057 0.96397868 0.96604229 0.9680351  0.96998673\n",
      " 0.97183684 0.97365127 0.97532152 0.97693379 0.97850712 0.97989233\n",
      " 0.9812607  0.98260181 0.9838618  0.98501181]\n"
     ]
    }
   ],
   "source": [
    "var_exp = pc.explained_variance_ratio_\n",
    "print('Explained variance:            ', var_exp)\n",
    "\n",
    "cum_var_exp = np.cumsum(var_exp)\n",
    "print('Cumulative explained variance: ', cum_var_exp)"
   ]
  },
  {
   "cell_type": "markdown",
   "metadata": {},
   "source": [
    "### Logistic Regression\n",
    "\n",
    "The first model I tested out was the logistic regression on good thing about the NBA data is that much of the data seemed to be normally distributed and my transformed features are uncorrelated so I thought"
   ]
  },
  {
   "cell_type": "code",
   "execution_count": 77,
   "metadata": {
    "scrolled": true
   },
   "outputs": [
    {
     "name": "stderr",
     "output_type": "stream",
     "text": [
      "/Users/bryancombs/anaconda3/lib/python3.6/site-packages/sklearn/model_selection/_split.py:1943: FutureWarning: You should specify a value for 'cv' instead of relying on the default value. The default value will change from 3 to 5 in version 0.22.\n",
      "  warnings.warn(CV_WARNING, FutureWarning)\n",
      "/Users/bryancombs/anaconda3/lib/python3.6/site-packages/sklearn/linear_model/sag.py:334: ConvergenceWarning: The max_iter was reached which means the coef_ did not converge\n",
      "  \"the coef_ did not converge\", ConvergenceWarning)\n",
      "/Users/bryancombs/anaconda3/lib/python3.6/site-packages/sklearn/linear_model/sag.py:334: ConvergenceWarning: The max_iter was reached which means the coef_ did not converge\n",
      "  \"the coef_ did not converge\", ConvergenceWarning)\n",
      "/Users/bryancombs/anaconda3/lib/python3.6/site-packages/sklearn/linear_model/sag.py:334: ConvergenceWarning: The max_iter was reached which means the coef_ did not converge\n",
      "  \"the coef_ did not converge\", ConvergenceWarning)\n"
     ]
    },
    {
     "name": "stdout",
     "output_type": "stream",
     "text": [
      "0.6497890295358649\n"
     ]
    },
    {
     "name": "stderr",
     "output_type": "stream",
     "text": [
      "/Users/bryancombs/anaconda3/lib/python3.6/site-packages/sklearn/linear_model/sag.py:334: ConvergenceWarning: The max_iter was reached which means the coef_ did not converge\n",
      "  \"the coef_ did not converge\", ConvergenceWarning)\n"
     ]
    }
   ],
   "source": [
    "lr = LogisticRegressionCV(Cs = [100000],\n",
    "                         max_iter=1000,\n",
    "                         penalty = 'l1',\n",
    "                         tol = .00001,\n",
    "                         solver ='saga' )\n",
    "\n",
    "\n",
    "lr.fit(X_train_pc, y_train)\n",
    "print(lr.score(X_train_pc, y_train))\n"
   ]
  },
  {
   "cell_type": "code",
   "execution_count": 78,
   "metadata": {
    "scrolled": false
   },
   "outputs": [
    {
     "data": {
      "text/plain": [
       "0.5533333333333333"
      ]
     },
     "execution_count": 78,
     "metadata": {},
     "output_type": "execute_result"
    }
   ],
   "source": [
    "lr.score(X_test_pc, y_test)"
   ]
  },
  {
   "cell_type": "code",
   "execution_count": 79,
   "metadata": {},
   "outputs": [],
   "source": [
    "y_hat_lr   = lr.predict(X_train_pc)\n",
    "y_hat_lrp  = lr.predict_proba(X_train_pc)\n",
    "y_hat_lrt  = lr.predict(X_test_pc)\n",
    "y_hat_lrtp = lr.predict_proba(X_test_pc)"
   ]
  },
  {
   "cell_type": "code",
   "execution_count": 80,
   "metadata": {
    "scrolled": false
   },
   "outputs": [
    {
     "name": "stdout",
     "output_type": "stream",
     "text": [
      "              precision    recall  f1-score   support\n",
      "\n",
      "           0       0.63      0.60      0.62       333\n",
      "           1       0.66      0.69      0.68       378\n",
      "\n",
      "   micro avg       0.65      0.65      0.65       711\n",
      "   macro avg       0.65      0.65      0.65       711\n",
      "weighted avg       0.65      0.65      0.65       711\n",
      "\n"
     ]
    }
   ],
   "source": [
    "print(classification_report(y_train, y_hat_lr))"
   ]
  },
  {
   "cell_type": "code",
   "execution_count": 81,
   "metadata": {},
   "outputs": [
    {
     "name": "stdout",
     "output_type": "stream",
     "text": [
      "              precision    recall  f1-score   support\n",
      "\n",
      "           0       0.53      0.67      0.59        73\n",
      "           1       0.59      0.44      0.50        77\n",
      "\n",
      "   micro avg       0.55      0.55      0.55       150\n",
      "   macro avg       0.56      0.56      0.55       150\n",
      "weighted avg       0.56      0.55      0.55       150\n",
      "\n"
     ]
    }
   ],
   "source": [
    "print(classification_report(y_test, y_hat_lrt))"
   ]
  },
  {
   "cell_type": "code",
   "execution_count": 82,
   "metadata": {},
   "outputs": [
    {
     "data": {
      "text/plain": [
       "array([[200, 133],\n",
       "       [116, 262]])"
      ]
     },
     "execution_count": 82,
     "metadata": {},
     "output_type": "execute_result"
    }
   ],
   "source": [
    "confusion_matrix( y_train, y_hat_lr)"
   ]
  },
  {
   "cell_type": "code",
   "execution_count": 83,
   "metadata": {},
   "outputs": [
    {
     "data": {
      "text/plain": [
       "array([[49, 24],\n",
       "       [43, 34]])"
      ]
     },
     "execution_count": 83,
     "metadata": {},
     "output_type": "execute_result"
    }
   ],
   "source": [
    "confusion_matrix( y_test, y_hat_lrt)"
   ]
  },
  {
   "cell_type": "markdown",
   "metadata": {},
   "source": [
    "### Support Vector Machine\n",
    "\n",
    "The second model I tested is the Support Vector Machine Model I "
   ]
  },
  {
   "cell_type": "code",
   "execution_count": 84,
   "metadata": {
    "scrolled": true
   },
   "outputs": [],
   "source": [
    "svc = SVC(probability=True)\n",
    "svc_params = {\n",
    "    'kernel' : ['linear'  ], \n",
    "    'C'      : [.4, .2, .3]\n",
    "    }"
   ]
  },
  {
   "cell_type": "code",
   "execution_count": null,
   "metadata": {},
   "outputs": [],
   "source": []
  },
  {
   "cell_type": "code",
   "execution_count": 85,
   "metadata": {
    "scrolled": true
   },
   "outputs": [
    {
     "name": "stdout",
     "output_type": "stream",
     "text": [
      "0.5701839680524923\n",
      "{'C': 0.2, 'kernel': 'linear'}\n"
     ]
    }
   ],
   "source": [
    "gs = GridSearchCV(svc, \n",
    "                  param_grid=svc_params, \n",
    "                  scoring='precision', \n",
    "                  cv = 5)\n",
    "gs.fit(X_train_pc, y_train)\n",
    "print(gs.best_score_)\n",
    "print(gs.best_params_)"
   ]
  },
  {
   "cell_type": "code",
   "execution_count": 86,
   "metadata": {
    "scrolled": true
   },
   "outputs": [
    {
     "data": {
      "text/plain": [
       "0.576271186440678"
      ]
     },
     "execution_count": 86,
     "metadata": {},
     "output_type": "execute_result"
    }
   ],
   "source": [
    "gs.score(X_test_pc, y_test)"
   ]
  },
  {
   "cell_type": "code",
   "execution_count": 87,
   "metadata": {},
   "outputs": [],
   "source": [
    "#predict categories and  probabilities for svc model\n",
    "\n",
    "y_hat_svc   = gs.predict(X_train_pc)\n",
    "y_hat_svcp  = gs.predict_proba(X_train_pc)\n",
    "y_hat_svct  = gs.predict(X_test_pc)\n",
    "y_hat_svctp = gs.predict_proba(X_test_pc)"
   ]
  },
  {
   "cell_type": "code",
   "execution_count": 88,
   "metadata": {
    "scrolled": false
   },
   "outputs": [
    {
     "name": "stdout",
     "output_type": "stream",
     "text": [
      "              precision    recall  f1-score   support\n",
      "\n",
      "           0       0.65      0.61      0.63       333\n",
      "           1       0.68      0.71      0.69       378\n",
      "\n",
      "   micro avg       0.67      0.67      0.67       711\n",
      "   macro avg       0.67      0.66      0.66       711\n",
      "weighted avg       0.67      0.67      0.67       711\n",
      "\n"
     ]
    }
   ],
   "source": [
    "print(classification_report(y_train, y_hat_svc))"
   ]
  },
  {
   "cell_type": "code",
   "execution_count": 89,
   "metadata": {
    "scrolled": true
   },
   "outputs": [
    {
     "data": {
      "text/plain": [
       "array([[204, 129],\n",
       "       [108, 270]])"
      ]
     },
     "execution_count": 89,
     "metadata": {},
     "output_type": "execute_result"
    }
   ],
   "source": [
    "confusion_matrix( y_train, y_hat_svc)"
   ]
  },
  {
   "cell_type": "code",
   "execution_count": 90,
   "metadata": {},
   "outputs": [
    {
     "data": {
      "text/plain": [
       "array([[48, 25],\n",
       "       [43, 34]])"
      ]
     },
     "execution_count": 90,
     "metadata": {},
     "output_type": "execute_result"
    }
   ],
   "source": [
    "confusion_matrix( y_test, y_hat_svct)"
   ]
  },
  {
   "cell_type": "markdown",
   "metadata": {},
   "source": [
    "### Neural Network"
   ]
  },
  {
   "cell_type": "code",
   "execution_count": 91,
   "metadata": {},
   "outputs": [],
   "source": [
    "from keras.models import Sequential\n",
    "from keras.layers import Dense, Dropout\n",
    "from keras.utils import to_categorical\n",
    "from keras import regularizers"
   ]
  },
  {
   "cell_type": "code",
   "execution_count": 92,
   "metadata": {},
   "outputs": [],
   "source": [
    "model = Sequential()\n",
    "model.add(Dense(70, \n",
    "                activation = 'relu',\n",
    "                input_dim = X_train_pc.shape[1],\n",
    "                kernel_regularizer=regularizers.l2(0.01)))\n",
    "model.add(Dropout(0.9))\n",
    "\n",
    "#model.add(Dense(10, activation = 'relu'))\n",
    "model.add(Dense(1, activation = 'sigmoid')) #output layer "
   ]
  },
  {
   "cell_type": "code",
   "execution_count": null,
   "metadata": {},
   "outputs": [],
   "source": []
  },
  {
   "cell_type": "raw",
   "metadata": {},
   "source": []
  },
  {
   "cell_type": "code",
   "execution_count": 93,
   "metadata": {},
   "outputs": [
    {
     "name": "stdout",
     "output_type": "stream",
     "text": [
      "Train on 711 samples, validate on 150 samples\n",
      "Epoch 1/20\n",
      "711/711 [==============================] - 0s 488us/step - loss: 2.3811 - acc: 0.4866 - val_loss: 1.4858 - val_acc: 0.4933\n",
      "Epoch 2/20\n",
      "711/711 [==============================] - 0s 21us/step - loss: 2.2267 - acc: 0.4937 - val_loss: 1.4632 - val_acc: 0.5000\n",
      "Epoch 3/20\n",
      "711/711 [==============================] - 0s 22us/step - loss: 2.2605 - acc: 0.5148 - val_loss: 1.4395 - val_acc: 0.5000\n",
      "Epoch 4/20\n",
      "711/711 [==============================] - 0s 22us/step - loss: 2.1037 - acc: 0.5120 - val_loss: 1.4167 - val_acc: 0.4800\n",
      "Epoch 5/20\n",
      "711/711 [==============================] - 0s 21us/step - loss: 2.0761 - acc: 0.5190 - val_loss: 1.3962 - val_acc: 0.4933\n",
      "Epoch 6/20\n",
      "711/711 [==============================] - 0s 21us/step - loss: 1.9276 - acc: 0.5120 - val_loss: 1.3768 - val_acc: 0.5000\n",
      "Epoch 7/20\n",
      "711/711 [==============================] - 0s 22us/step - loss: 1.9252 - acc: 0.5134 - val_loss: 1.3589 - val_acc: 0.5067\n",
      "Epoch 8/20\n",
      "711/711 [==============================] - 0s 23us/step - loss: 1.8407 - acc: 0.5190 - val_loss: 1.3419 - val_acc: 0.5067\n",
      "Epoch 9/20\n",
      "711/711 [==============================] - 0s 22us/step - loss: 1.8560 - acc: 0.5260 - val_loss: 1.3231 - val_acc: 0.5000\n",
      "Epoch 10/20\n",
      "711/711 [==============================] - 0s 22us/step - loss: 1.7544 - acc: 0.5091 - val_loss: 1.3034 - val_acc: 0.5000\n",
      "Epoch 11/20\n",
      "711/711 [==============================] - 0s 21us/step - loss: 1.7901 - acc: 0.5288 - val_loss: 1.2848 - val_acc: 0.5000\n",
      "Epoch 12/20\n",
      "711/711 [==============================] - 0s 21us/step - loss: 1.7866 - acc: 0.5232 - val_loss: 1.2654 - val_acc: 0.5067\n",
      "Epoch 13/20\n",
      "711/711 [==============================] - 0s 21us/step - loss: 1.6333 - acc: 0.5373 - val_loss: 1.2477 - val_acc: 0.5067\n",
      "Epoch 14/20\n",
      "711/711 [==============================] - 0s 21us/step - loss: 1.6478 - acc: 0.5218 - val_loss: 1.2304 - val_acc: 0.5067\n",
      "Epoch 15/20\n",
      "711/711 [==============================] - 0s 23us/step - loss: 1.6149 - acc: 0.5345 - val_loss: 1.2152 - val_acc: 0.4800\n",
      "Epoch 16/20\n",
      "711/711 [==============================] - 0s 24us/step - loss: 1.5361 - acc: 0.5232 - val_loss: 1.2010 - val_acc: 0.4733\n",
      "Epoch 17/20\n",
      "711/711 [==============================] - 0s 22us/step - loss: 1.5341 - acc: 0.5302 - val_loss: 1.1858 - val_acc: 0.4800\n",
      "Epoch 18/20\n",
      "711/711 [==============================] - 0s 23us/step - loss: 1.4583 - acc: 0.5204 - val_loss: 1.1712 - val_acc: 0.4733\n",
      "Epoch 19/20\n",
      "711/711 [==============================] - 0s 22us/step - loss: 1.3730 - acc: 0.5457 - val_loss: 1.1582 - val_acc: 0.4733\n",
      "Epoch 20/20\n",
      "711/711 [==============================] - 0s 21us/step - loss: 1.3868 - acc: 0.5260 - val_loss: 1.1461 - val_acc: 0.4800\n"
     ]
    },
    {
     "data": {
      "text/plain": [
       "<keras.callbacks.History at 0x1a42127470>"
      ]
     },
     "execution_count": 93,
     "metadata": {},
     "output_type": "execute_result"
    }
   ],
   "source": [
    "model.compile(loss = 'binary_crossentropy', optimizer='adam',\n",
    "              metrics = ['accuracy'])\n",
    "model.fit(X_train_pc, \n",
    "          y_train, epochs =20, \n",
    "          batch_size= 128, \n",
    "          validation_data=(X_test_pc, y_test))"
   ]
  },
  {
   "cell_type": "code",
   "execution_count": 94,
   "metadata": {},
   "outputs": [],
   "source": [
    "#returns a probability\n",
    "\n",
    "y_hat_nnp = model.predict(X_train_pc)\n",
    "y_hat_nntp = model.predict(X_test_pc)\n"
   ]
  },
  {
   "cell_type": "code",
   "execution_count": 95,
   "metadata": {
    "scrolled": true
   },
   "outputs": [
    {
     "name": "stdout",
     "output_type": "stream",
     "text": [
      "0.5343302704958972\n",
      "{'max_depth': 80, 'min_samples_split': 200, 'n_estimators': 200}\n"
     ]
    }
   ],
   "source": [
    "rf = RandomForestClassifier()\n",
    "rf_params = {'n_estimators'      : [200],\n",
    "             'max_depth'         : [80],\n",
    "             'min_samples_split' : [200]}\n",
    "\n",
    "gs = GridSearchCV(rf, \n",
    "                  param_grid=rf_params,\n",
    "                  scoring='precision',\n",
    "                 cv =5)\n",
    "gs.fit(X_train_pc, y_train)\n",
    "print(gs.best_score_)\n",
    "print(gs.best_params_)\n",
    "\n"
   ]
  },
  {
   "cell_type": "code",
   "execution_count": 96,
   "metadata": {
    "scrolled": false
   },
   "outputs": [
    {
     "data": {
      "text/plain": [
       "0.5045871559633027"
      ]
     },
     "execution_count": 96,
     "metadata": {},
     "output_type": "execute_result"
    }
   ],
   "source": [
    "gs.score(X_test_pc, y_test)"
   ]
  },
  {
   "cell_type": "code",
   "execution_count": 97,
   "metadata": {},
   "outputs": [],
   "source": [
    "y_hat_rf   = gs.predict(X_train_pc)\n",
    "y_hat_rfp  = gs.predict_proba(X_train_pc)\n",
    "y_hat_rft  = gs.predict(X_test_pc)\n",
    "y_hat_rftp = gs.predict_proba(X_test_pc)"
   ]
  },
  {
   "cell_type": "code",
   "execution_count": 98,
   "metadata": {},
   "outputs": [
    {
     "name": "stdout",
     "output_type": "stream",
     "text": [
      "              precision    recall  f1-score   support\n",
      "\n",
      "           0       0.94      0.42      0.58       333\n",
      "           1       0.66      0.98      0.79       378\n",
      "\n",
      "   micro avg       0.72      0.72      0.72       711\n",
      "   macro avg       0.80      0.70      0.68       711\n",
      "weighted avg       0.79      0.72      0.69       711\n",
      "\n"
     ]
    }
   ],
   "source": [
    "print(classification_report(y_train, y_hat_rf))"
   ]
  },
  {
   "cell_type": "code",
   "execution_count": 99,
   "metadata": {
    "scrolled": true
   },
   "outputs": [
    {
     "name": "stdout",
     "output_type": "stream",
     "text": [
      "              precision    recall  f1-score   support\n",
      "\n",
      "           0       0.46      0.26      0.33        73\n",
      "           1       0.50      0.71      0.59        77\n",
      "\n",
      "   micro avg       0.49      0.49      0.49       150\n",
      "   macro avg       0.48      0.49      0.46       150\n",
      "weighted avg       0.48      0.49      0.47       150\n",
      "\n"
     ]
    }
   ],
   "source": [
    "print(classification_report(y_test, y_hat_rft))"
   ]
  },
  {
   "cell_type": "code",
   "execution_count": 100,
   "metadata": {
    "scrolled": true
   },
   "outputs": [
    {
     "data": {
      "text/plain": [
       "array([[141, 192],\n",
       "       [  9, 369]])"
      ]
     },
     "execution_count": 100,
     "metadata": {},
     "output_type": "execute_result"
    }
   ],
   "source": [
    "confusion_matrix( y_train, y_hat_rf)"
   ]
  },
  {
   "cell_type": "code",
   "execution_count": 101,
   "metadata": {},
   "outputs": [
    {
     "data": {
      "text/plain": [
       "array([[19, 54],\n",
       "       [22, 55]])"
      ]
     },
     "execution_count": 101,
     "metadata": {},
     "output_type": "execute_result"
    }
   ],
   "source": [
    "confusion_matrix( y_test, y_hat_rft)"
   ]
  },
  {
   "cell_type": "code",
   "execution_count": 102,
   "metadata": {},
   "outputs": [
    {
     "name": "stdout",
     "output_type": "stream",
     "text": [
      "0.5428973277074542\n",
      "{'learning_rate': 0.55, 'n_estimators': 140}\n"
     ]
    }
   ],
   "source": [
    "from xgboost import XGBClassifier\n",
    "\n",
    "xgb = XGBClassifier()\n",
    "xgb_params = {'n_estimators'  : [140,150],\n",
    "              'learning_rate' : [ .55,.5]}\n",
    "\n",
    "gs = GridSearchCV(xgb, param_grid=xgb_params, cv =3)\n",
    "gs.fit(X_train_pc, y_train)\n",
    "print(gs.best_score_)\n",
    "print(gs.best_params_)"
   ]
  },
  {
   "cell_type": "code",
   "execution_count": 103,
   "metadata": {
    "scrolled": true
   },
   "outputs": [
    {
     "data": {
      "text/plain": [
       "0.49333333333333335"
      ]
     },
     "execution_count": 103,
     "metadata": {},
     "output_type": "execute_result"
    }
   ],
   "source": [
    "gs.score(X_test_pc, y_test)"
   ]
  },
  {
   "cell_type": "code",
   "execution_count": 104,
   "metadata": {},
   "outputs": [],
   "source": [
    "y_hat_xg   = gs.predict(X_train_pc)\n",
    "y_hat_xgp  = gs.predict_proba(X_train_pc)\n",
    "y_hat_xgt  = gs.predict(X_test_pc)\n",
    "y_hat_xgtp = gs.predict_proba(X_test_pc)"
   ]
  },
  {
   "cell_type": "code",
   "execution_count": 105,
   "metadata": {},
   "outputs": [
    {
     "data": {
      "text/plain": [
       "array([[333,   0],\n",
       "       [  0, 378]])"
      ]
     },
     "execution_count": 105,
     "metadata": {},
     "output_type": "execute_result"
    }
   ],
   "source": [
    "confusion_matrix( y_train, y_hat_xg)"
   ]
  },
  {
   "cell_type": "code",
   "execution_count": 106,
   "metadata": {},
   "outputs": [
    {
     "data": {
      "text/plain": [
       "array([[38, 35],\n",
       "       [41, 36]])"
      ]
     },
     "execution_count": 106,
     "metadata": {},
     "output_type": "execute_result"
    }
   ],
   "source": [
    "confusion_matrix( y_test, y_hat_xgt)"
   ]
  },
  {
   "cell_type": "code",
   "execution_count": 107,
   "metadata": {},
   "outputs": [],
   "source": [
    "#modifying train and testing data to allow for changing prob thresholds and printing the \n",
    "#roc curves \n",
    "#Random Forest\n",
    "nba_train.loc[:, 'actual_y'] = y_train\n",
    "nba_train.loc[:, 'predicted_label_rf'] = y_hat_rf\n",
    "nba_train.loc[:, 'predicted_proba_rfp'] = y_hat_rfp[:, 1]\n",
    "\n",
    "#SVC\n",
    "\n",
    "nba_train.loc[:, 'predicted_label_svc'] = y_hat_svc\n",
    "nba_train.loc[:, 'predicted_proba_svcp'] = y_hat_svcp[:, 1]\n",
    "\n",
    "#Logistic\n",
    "nba_train.loc[:, 'predicted_label_lr'] = y_hat_lr\n",
    "nba_train.loc[:, 'predicted_proba_lrp'] = y_hat_lrp[:, 1]\n",
    "\n",
    "#XGBOOST\n",
    "nba_train.loc[:, 'predicted_label_xg'] = y_hat_xg\n",
    "nba_train.loc[:, 'predicted_proba_xgp'] = y_hat_xgp[:, 1]\n"
   ]
  },
  {
   "cell_type": "code",
   "execution_count": 150,
   "metadata": {},
   "outputs": [],
   "source": [
    "#Random Forest\n",
    "nba_test.loc[:, 'actual_y'] = y_test\n",
    "nba_test.loc[:, 'predicted_label_rf'] = y_hat_rft\n",
    "nba_test.loc[:, 'predicted_proba_rfp'] = y_hat_rftp[:, 1]\n",
    "\n",
    "#SVC\n",
    "\n",
    "nba_test.loc[:, 'predicted_label_svc'] = y_hat_svct\n",
    "nba_test.loc[:, 'predicted_proba_svcp'] = y_hat_svctp[:, 1]\n",
    "\n",
    "#Logistic\n",
    "nba_test.loc[:, 'predicted_label_lr'] = y_hat_lrt\n",
    "nba_test.loc[:, 'predicted_proba_lrp'] = y_hat_lrtp[:, 1]\n",
    "\n",
    "#XGBOOST\n",
    "nba_test.loc[:, 'predicted_label_xg'] = y_hat_xgt\n",
    "nba_test.loc[:, 'predicted_proba_xgp'] = y_hat_xgtp[:, 1]\n",
    "\n",
    "#Neural Network\n",
    "nba_test.loc[:, 'predicted_proba_nnp'] = y_hat_nntp\n",
    "nba_test.loc[:, 'predicted_label_nn'] = nba_test.predicted_proba_nnp.map(\n",
    "                lambda x: 0 if x<=.5 else 1)\n",
    "\n",
    "#Combined \n",
    "nba_test['vote'] = (nba_test.predicted_label_lr +\n",
    "                nba_test.predicted_label_rf +\n",
    "                nba_test.predicted_label_svc +\n",
    "                nba_test.predicted_label_xg +\n",
    "                nba_test.predicted_label_nn\n",
    "                )\n",
    "\n",
    "\n"
   ]
  },
  {
   "cell_type": "code",
   "execution_count": 151,
   "metadata": {},
   "outputs": [
    {
     "data": {
      "text/plain": [
       "array([[32, 41],\n",
       "       [37, 40]])"
      ]
     },
     "execution_count": 151,
     "metadata": {},
     "output_type": "execute_result"
    }
   ],
   "source": [
    "confusion_matrix(y_test, nba_test.combined_actual)"
   ]
  },
  {
   "cell_type": "code",
   "execution_count": 152,
   "metadata": {},
   "outputs": [
    {
     "data": {
      "text/plain": [
       "5    0.213333\n",
       "3    0.206667\n",
       "2    0.206667\n",
       "1    0.166667\n",
       "4    0.106667\n",
       "0    0.100000\n",
       "Name: vote, dtype: float64"
      ]
     },
     "execution_count": 152,
     "metadata": {},
     "output_type": "execute_result"
    }
   ],
   "source": [
    "nba_test.vote.value_counts(normalize = True)"
   ]
  },
  {
   "cell_type": "code",
   "execution_count": 153,
   "metadata": {
    "scrolled": true
   },
   "outputs": [
    {
     "data": {
      "text/plain": [
       "vote\n",
       "0    0.466667\n",
       "1    0.560000\n",
       "2    0.483871\n",
       "3    0.419355\n",
       "4    0.687500\n",
       "5    0.531250\n",
       "Name: actual_y, dtype: float64"
      ]
     },
     "execution_count": 153,
     "metadata": {},
     "output_type": "execute_result"
    }
   ],
   "source": [
    "nba_test.groupby(['vote'])['actual_y'].mean()"
   ]
  },
  {
   "cell_type": "code",
   "execution_count": 111,
   "metadata": {},
   "outputs": [],
   "source": [
    "from sklearn.metrics import roc_curve, auc"
   ]
  },
  {
   "cell_type": "code",
   "execution_count": 112,
   "metadata": {},
   "outputs": [],
   "source": [
    "fpr, tpr, _ = roc_curve(y_train, nba_train['predicted_proba_svcp'])\n",
    "roc_auc = auc(fpr, tpr)"
   ]
  },
  {
   "cell_type": "code",
   "execution_count": 113,
   "metadata": {},
   "outputs": [],
   "source": [
    "fpr1, tpr1, _ = roc_curve(y_test, nba_test['predicted_proba_svcp'])\n",
    "roc_auc1 = auc(fpr1, tpr1)"
   ]
  },
  {
   "cell_type": "code",
   "execution_count": 114,
   "metadata": {},
   "outputs": [
    {
     "data": {
      "image/png": "[encoded data removed]",
      "text/plain": [
       "<matplotlib.figure.Figure at 0x1a420d5cf8>"
      ]
     },
     "metadata": {},
     "output_type": "display_data"
    }
   ],
   "source": [
    "# Plot \n",
    "plt.figure(figsize = (12,7))\n",
    "line_width = 3\n",
    "\n",
    "plt.plot(fpr, tpr, lw = line_width, color=\"darkorange\", \n",
    "         label = \"Log Reg ROC Curve %.2f\" % roc_auc)\n",
    "plt.plot(fpr1, tpr1, lw = line_width, color=\"red\", \n",
    "         label = \"Test ROC Curve %.2f\" % roc_auc1)\n",
    "plt.plot([0,1], [0, 1], lw = line_width, linestyle=\"--\", color=\"navy\")\n",
    "\n",
    "plt.xlim([0.0, 1.0])\n",
    "plt.ylim([0.0, 1.05])\n",
    "plt.xlabel('False Positive Rate')\n",
    "plt.ylabel('True Positive Rate')\n",
    "plt.title('ROC Curve on Training Data')\n",
    "plt.legend(loc=\"lower right\")\n",
    "plt.show()"
   ]
  },
  {
   "cell_type": "code",
   "execution_count": 115,
   "metadata": {},
   "outputs": [
    {
     "name": "stdout",
     "output_type": "stream",
     "text": [
      "Test  0.4\n",
      "Return of Home Games:  24.60199999999999\n",
      "Test  0.41\n",
      "Return of Home Games:  24.60199999999999\n",
      "Test  0.42\n",
      "Return of Home Games:  24.60199999999999\n",
      "Test  0.43\n",
      "Return of Home Games:  25.60199999999999\n",
      "Test  0.44\n",
      "Return of Home Games:  25.60199999999999\n",
      "Test  0.45\n",
      "Return of Home Games:  31.601999999999983\n",
      "Test  0.46\n",
      "Return of Home Games:  40.60199999999999\n",
      "Test  0.47\n",
      "Return of Home Games:  58.69299999999999\n",
      "Test  0.48\n",
      "Return of Home Games:  79.69299999999998\n",
      "Test  0.49\n",
      "Return of Home Games:  117.78399999999999\n",
      "Test  0.5\n",
      "Return of Home Games:  152.421\n",
      "Test  0.51\n",
      "Return of Home Games:  192.42200000000003\n",
      "Test  0.52\n",
      "Return of Home Games:  222.969\n",
      "Test  0.53\n",
      "Return of Home Games:  221.063\n",
      "Test  0.54\n",
      "Return of Home Games:  211.42999999999998\n",
      "Test  0.55\n",
      "Return of Home Games:  179.16200000000006\n",
      "Test  0.56\n",
      "Return of Home Games:  142.803\n",
      "Test  0.57\n",
      "Return of Home Games:  113.16999999999999\n",
      "Test  0.58\n",
      "Return of Home Games:  71.72000000000001\n",
      "Test  0.59\n",
      "Return of Home Games:  39.904999999999994\n",
      "Test  0.6\n",
      "Return of Home Games:  15.362000000000004\n",
      "Test  0.61\n",
      "Return of Home Games:  8.999\n",
      "Test  0.62\n",
      "Return of Home Games:  4.545\n",
      "Test  0.63\n",
      "Return of Home Games:  0.0\n",
      "Test  0.64\n",
      "Return of Home Games:  0.0\n"
     ]
    }
   ],
   "source": [
    "for prob in range(40, 65, 1):\n",
    "    proba = prob/100\n",
    "    \n",
    "    nba_train.loc[:, 'predicted_label']= nba_train['predicted_proba_rfp'].map(\n",
    "    lambda p: 1 if p > proba else 0)\n",
    "    \n",
    "    nba_test.loc[:, 'predicted_label']= nba_test['predicted_proba_rfp'].map(\n",
    "    lambda p: 1 if p > proba else 0)\n",
    "    \n",
    "#     X_train.loc[:, 'predicted_label']= X_train['predicted_proba_rfp'].map(\n",
    "#     lambda p: 1 if p > proba else 0)\n",
    "    \n",
    "#    results = X_test[X_test['predicted_label']==1]\n",
    "    print('Test  ' + str(proba))\n",
    "#     print (confusion_matrix(y_test, nba['predicted_label']))\n",
    "    results_neg = nba_train[nba_train['predicted_label']==1]\n",
    "    print (\"Return of Home Games: \", results_neg.home_payout.sum())\n",
    "#     print(' Train  ' + str(proba))\n",
    "#     print(confusion_matrix(y_train, X_train['predicted_label']))"
   ]
  },
  {
   "cell_type": "code",
   "execution_count": null,
   "metadata": {},
   "outputs": [],
   "source": []
  },
  {
   "cell_type": "code",
   "execution_count": 116,
   "metadata": {},
   "outputs": [
    {
     "name": "stderr",
     "output_type": "stream",
     "text": [
      "/Users/bryancombs/anaconda3/lib/python3.6/site-packages/sklearn/ensemble/forest.py:248: FutureWarning: The default value of n_estimators will change from 10 in version 0.20 to 100 in 0.22.\n",
      "  \"10 in version 0.20 to 100 in 0.22.\", FutureWarning)\n"
     ]
    },
    {
     "data": {
      "text/html": [
       "<div>\n",
       "<style scoped>\n",
       "    .dataframe tbody tr th:only-of-type {\n",
       "        vertical-align: middle;\n",
       "    }\n",
       "\n",
       "    .dataframe tbody tr th {\n",
       "        vertical-align: top;\n",
       "    }\n",
       "\n",
       "    .dataframe thead th {\n",
       "        text-align: right;\n",
       "    }\n",
       "</style>\n",
       "<table border=\"1\" class=\"dataframe\">\n",
       "  <thead>\n",
       "    <tr style=\"text-align: right;\">\n",
       "      <th></th>\n",
       "      <th>Feature Scores</th>\n",
       "    </tr>\n",
       "  </thead>\n",
       "  <tbody>\n",
       "    <tr>\n",
       "      <th>lastaway_assists</th>\n",
       "      <td>0.026854</td>\n",
       "    </tr>\n",
       "    <tr>\n",
       "      <th>mov_5_away_turnovers</th>\n",
       "      <td>0.020922</td>\n",
       "    </tr>\n",
       "    <tr>\n",
       "      <th>mov_5_away_def_eff</th>\n",
       "      <td>0.017220</td>\n",
       "    </tr>\n",
       "    <tr>\n",
       "      <th>moneyline</th>\n",
       "      <td>0.016953</td>\n",
       "    </tr>\n",
       "    <tr>\n",
       "      <th>mov_5_away_3p</th>\n",
       "      <td>0.016451</td>\n",
       "    </tr>\n",
       "    <tr>\n",
       "      <th>lastaway_off_eff</th>\n",
       "      <td>0.016122</td>\n",
       "    </tr>\n",
       "    <tr>\n",
       "      <th>mov_5_line_cv</th>\n",
       "      <td>0.016009</td>\n",
       "    </tr>\n",
       "    <tr>\n",
       "      <th>eff_ratio4</th>\n",
       "      <td>0.015970</td>\n",
       "    </tr>\n",
       "    <tr>\n",
       "      <th>lastaway_pace</th>\n",
       "      <td>0.015522</td>\n",
       "    </tr>\n",
       "    <tr>\n",
       "      <th>lastaway_fta</th>\n",
       "      <td>0.015236</td>\n",
       "    </tr>\n",
       "    <tr>\n",
       "      <th>lastaway_fga</th>\n",
       "      <td>0.014559</td>\n",
       "    </tr>\n",
       "    <tr>\n",
       "      <th>mov_5_ft</th>\n",
       "      <td>0.014511</td>\n",
       "    </tr>\n",
       "    <tr>\n",
       "      <th>mov_5_tot</th>\n",
       "      <td>0.014394</td>\n",
       "    </tr>\n",
       "    <tr>\n",
       "      <th>mov_5_home_win_margin</th>\n",
       "      <td>0.013892</td>\n",
       "    </tr>\n",
       "    <tr>\n",
       "      <th>lastaway_fg</th>\n",
       "      <td>0.013734</td>\n",
       "    </tr>\n",
       "    <tr>\n",
       "      <th>last_pf</th>\n",
       "      <td>0.013657</td>\n",
       "    </tr>\n",
       "    <tr>\n",
       "      <th>mov_5_away_assists</th>\n",
       "      <td>0.013449</td>\n",
       "    </tr>\n",
       "    <tr>\n",
       "      <th>mov_5_away_spread</th>\n",
       "      <td>0.013102</td>\n",
       "    </tr>\n",
       "    <tr>\n",
       "      <th>mov_5_away_total_reb</th>\n",
       "      <td>0.013062</td>\n",
       "    </tr>\n",
       "    <tr>\n",
       "      <th>mov_5_to</th>\n",
       "      <td>0.012761</td>\n",
       "    </tr>\n",
       "    <tr>\n",
       "      <th>lastaway_line_cv</th>\n",
       "      <td>0.012755</td>\n",
       "    </tr>\n",
       "    <tr>\n",
       "      <th>mov_5_a</th>\n",
       "      <td>0.012645</td>\n",
       "    </tr>\n",
       "    <tr>\n",
       "      <th>lastaway_def_eff</th>\n",
       "      <td>0.012244</td>\n",
       "    </tr>\n",
       "    <tr>\n",
       "      <th>mov_5_pace</th>\n",
       "      <td>0.012179</td>\n",
       "    </tr>\n",
       "    <tr>\n",
       "      <th>away_win_pct</th>\n",
       "      <td>0.011738</td>\n",
       "    </tr>\n",
       "    <tr>\n",
       "      <th>mov_5_away_dr</th>\n",
       "      <td>0.011684</td>\n",
       "    </tr>\n",
       "    <tr>\n",
       "      <th>lastaway_fouls</th>\n",
       "      <td>0.011558</td>\n",
       "    </tr>\n",
       "    <tr>\n",
       "      <th>mov_5_fta</th>\n",
       "      <td>0.011517</td>\n",
       "    </tr>\n",
       "    <tr>\n",
       "      <th>last_tot</th>\n",
       "      <td>0.011355</td>\n",
       "    </tr>\n",
       "    <tr>\n",
       "      <th>lastaway_spread</th>\n",
       "      <td>0.011338</td>\n",
       "    </tr>\n",
       "    <tr>\n",
       "      <th>...</th>\n",
       "      <td>...</td>\n",
       "    </tr>\n",
       "    <tr>\n",
       "      <th>lastaway_ot1</th>\n",
       "      <td>0.000400</td>\n",
       "    </tr>\n",
       "    <tr>\n",
       "      <th>home_conference</th>\n",
       "      <td>0.000375</td>\n",
       "    </tr>\n",
       "    <tr>\n",
       "      <th>playoff_game</th>\n",
       "      <td>0.000000</td>\n",
       "    </tr>\n",
       "    <tr>\n",
       "      <th>last_over</th>\n",
       "      <td>0.000000</td>\n",
       "    </tr>\n",
       "    <tr>\n",
       "      <th>rest_days_4IN5</th>\n",
       "      <td>0.000000</td>\n",
       "    </tr>\n",
       "    <tr>\n",
       "      <th>test</th>\n",
       "      <td>0.000000</td>\n",
       "    </tr>\n",
       "    <tr>\n",
       "      <th>rest_days_B2B</th>\n",
       "      <td>0.000000</td>\n",
       "    </tr>\n",
       "    <tr>\n",
       "      <th>rest_days_5IN6-B2B2B</th>\n",
       "      <td>0.000000</td>\n",
       "    </tr>\n",
       "    <tr>\n",
       "      <th>rest_days_5IN6</th>\n",
       "      <td>0.000000</td>\n",
       "    </tr>\n",
       "    <tr>\n",
       "      <th>rest_days_5IN5-B2B2B</th>\n",
       "      <td>0.000000</td>\n",
       "    </tr>\n",
       "    <tr>\n",
       "      <th>rest_days_4IN5-B2B2B</th>\n",
       "      <td>0.000000</td>\n",
       "    </tr>\n",
       "    <tr>\n",
       "      <th>rest_days_4IN5-B2B</th>\n",
       "      <td>0.000000</td>\n",
       "    </tr>\n",
       "    <tr>\n",
       "      <th>rest_days_3IN4-B2B2B</th>\n",
       "      <td>0.000000</td>\n",
       "    </tr>\n",
       "    <tr>\n",
       "      <th>away_rest_2</th>\n",
       "      <td>0.000000</td>\n",
       "    </tr>\n",
       "    <tr>\n",
       "      <th>away_rest_4IN5-B2B2B</th>\n",
       "      <td>0.000000</td>\n",
       "    </tr>\n",
       "    <tr>\n",
       "      <th>away_rest_3+</th>\n",
       "      <td>0.000000</td>\n",
       "    </tr>\n",
       "    <tr>\n",
       "      <th>away_rest_3IN4</th>\n",
       "      <td>0.000000</td>\n",
       "    </tr>\n",
       "    <tr>\n",
       "      <th>away_rest_3IN4-B2B</th>\n",
       "      <td>0.000000</td>\n",
       "    </tr>\n",
       "    <tr>\n",
       "      <th>away_rest_3IN4-B2B2B</th>\n",
       "      <td>0.000000</td>\n",
       "    </tr>\n",
       "    <tr>\n",
       "      <th>away_rest_4IN5</th>\n",
       "      <td>0.000000</td>\n",
       "    </tr>\n",
       "    <tr>\n",
       "      <th>away_rest_4IN5-B2B</th>\n",
       "      <td>0.000000</td>\n",
       "    </tr>\n",
       "    <tr>\n",
       "      <th>away_rest_5IN6</th>\n",
       "      <td>0.000000</td>\n",
       "    </tr>\n",
       "    <tr>\n",
       "      <th>rest_days_3IN4-B2B</th>\n",
       "      <td>0.000000</td>\n",
       "    </tr>\n",
       "    <tr>\n",
       "      <th>lastaway_win</th>\n",
       "      <td>0.000000</td>\n",
       "    </tr>\n",
       "    <tr>\n",
       "      <th>away_rest_B2B</th>\n",
       "      <td>0.000000</td>\n",
       "    </tr>\n",
       "    <tr>\n",
       "      <th>away_rest_B2B2B</th>\n",
       "      <td>0.000000</td>\n",
       "    </tr>\n",
       "    <tr>\n",
       "      <th>rest_days_2</th>\n",
       "      <td>0.000000</td>\n",
       "    </tr>\n",
       "    <tr>\n",
       "      <th>last_under</th>\n",
       "      <td>0.000000</td>\n",
       "    </tr>\n",
       "    <tr>\n",
       "      <th>rest_days_3IN4</th>\n",
       "      <td>0.000000</td>\n",
       "    </tr>\n",
       "    <tr>\n",
       "      <th>away_rest_5IN6-B2B2B</th>\n",
       "      <td>0.000000</td>\n",
       "    </tr>\n",
       "  </tbody>\n",
       "</table>\n",
       "<p>150 rows × 1 columns</p>\n",
       "</div>"
      ],
      "text/plain": [
       "                       Feature Scores\n",
       "lastaway_assists             0.026854\n",
       "mov_5_away_turnovers         0.020922\n",
       "mov_5_away_def_eff           0.017220\n",
       "moneyline                    0.016953\n",
       "mov_5_away_3p                0.016451\n",
       "lastaway_off_eff             0.016122\n",
       "mov_5_line_cv                0.016009\n",
       "eff_ratio4                   0.015970\n",
       "lastaway_pace                0.015522\n",
       "lastaway_fta                 0.015236\n",
       "lastaway_fga                 0.014559\n",
       "mov_5_ft                     0.014511\n",
       "mov_5_tot                    0.014394\n",
       "mov_5_home_win_margin        0.013892\n",
       "lastaway_fg                  0.013734\n",
       "last_pf                      0.013657\n",
       "mov_5_away_assists           0.013449\n",
       "mov_5_away_spread            0.013102\n",
       "mov_5_away_total_reb         0.013062\n",
       "mov_5_to                     0.012761\n",
       "lastaway_line_cv             0.012755\n",
       "mov_5_a                      0.012645\n",
       "lastaway_def_eff             0.012244\n",
       "mov_5_pace                   0.012179\n",
       "away_win_pct                 0.011738\n",
       "mov_5_away_dr                0.011684\n",
       "lastaway_fouls               0.011558\n",
       "mov_5_fta                    0.011517\n",
       "last_tot                     0.011355\n",
       "lastaway_spread              0.011338\n",
       "...                               ...\n",
       "lastaway_ot1                 0.000400\n",
       "home_conference              0.000375\n",
       "playoff_game                 0.000000\n",
       "last_over                    0.000000\n",
       "rest_days_4IN5               0.000000\n",
       "test                         0.000000\n",
       "rest_days_B2B                0.000000\n",
       "rest_days_5IN6-B2B2B         0.000000\n",
       "rest_days_5IN6               0.000000\n",
       "rest_days_5IN5-B2B2B         0.000000\n",
       "rest_days_4IN5-B2B2B         0.000000\n",
       "rest_days_4IN5-B2B           0.000000\n",
       "rest_days_3IN4-B2B2B         0.000000\n",
       "away_rest_2                  0.000000\n",
       "away_rest_4IN5-B2B2B         0.000000\n",
       "away_rest_3+                 0.000000\n",
       "away_rest_3IN4               0.000000\n",
       "away_rest_3IN4-B2B           0.000000\n",
       "away_rest_3IN4-B2B2B         0.000000\n",
       "away_rest_4IN5               0.000000\n",
       "away_rest_4IN5-B2B           0.000000\n",
       "away_rest_5IN6               0.000000\n",
       "rest_days_3IN4-B2B           0.000000\n",
       "lastaway_win                 0.000000\n",
       "away_rest_B2B                0.000000\n",
       "away_rest_B2B2B              0.000000\n",
       "rest_days_2                  0.000000\n",
       "last_under                   0.000000\n",
       "rest_days_3IN4               0.000000\n",
       "away_rest_5IN6-B2B2B         0.000000\n",
       "\n",
       "[150 rows x 1 columns]"
      ]
     },
     "execution_count": 116,
     "metadata": {},
     "output_type": "execute_result"
    }
   ],
   "source": [
    "rf = RandomForestClassifier()\n",
    "rf.fit(X_train, y_train)\n",
    "rf.feature_importances_\n",
    "\n",
    "feature_scores = pd.DataFrame(rf.feature_importances_,\n",
    "                            index = X_train.columns,\n",
    "                            columns=['Feature Scores']).sort_values(\n",
    "                            'Feature Scores',ascending=False)\n",
    "\n",
    "feature_scores"
   ]
  },
  {
   "cell_type": "code",
   "execution_count": 117,
   "metadata": {},
   "outputs": [
    {
     "data": {
      "text/plain": [
       "0.9845288326300985"
      ]
     },
     "execution_count": 117,
     "metadata": {},
     "output_type": "execute_result"
    }
   ],
   "source": [
    "rf.score(X_train, y_train)"
   ]
  },
  {
   "cell_type": "code",
   "execution_count": 118,
   "metadata": {},
   "outputs": [
    {
     "data": {
      "text/plain": [
       "0.5"
      ]
     },
     "execution_count": 118,
     "metadata": {},
     "output_type": "execute_result"
    }
   ],
   "source": [
    "rf.score(X_test, y_test)"
   ]
  },
  {
   "cell_type": "code",
   "execution_count": null,
   "metadata": {},
   "outputs": [],
   "source": []
  }
 ],
 "metadata": {
  "kernelspec": {
   "display_name": "Python 3",
   "language": "python",
   "name": "python3"
  },
  "language_info": {
   "codemirror_mode": {
    "name": "ipython",
    "version": 3
   },
   "file_extension": ".py",
   "mimetype": "text/x-python",
   "name": "python",
   "nbconvert_exporter": "python",
   "pygments_lexer": "ipython3",
   "version": "3.6.6"
  }
 },
 "nbformat": 4,
 "nbformat_minor": 2
}
