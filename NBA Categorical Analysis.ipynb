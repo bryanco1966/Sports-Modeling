{
 "cells": [
  {
   "cell_type": "code",
   "execution_count": 811,
   "metadata": {},
   "outputs": [],
   "source": [
    "from sklearn.ensemble import AdaBoostClassifier, RandomForestClassifier\n",
    "from sklearn.model_selection import train_test_split, cross_val_score\n",
    "import pandas as pd\n",
    "import numpy as np\n",
    "from sklearn.metrics import classification_report, confusion_matrix\n",
    "import matplotlib.pyplot as plt\n",
    "from sklearn.svm import SVC\n",
    "from sklearn.preprocessing import StandardScaler, PolynomialFeatures\n",
    "from sklearn.linear_model import LogisticRegressionCV\n",
    "from sklearn.model_selection import GridSearchCV\n",
    "from sklearn.naive_bayes import GaussianNB\n",
    "from datatools import DataGrapher\n",
    "\n",
    "\n",
    "%matplotlib inline"
   ]
  },
  {
   "cell_type": "code",
   "execution_count": 812,
   "metadata": {},
   "outputs": [],
   "source": [
    "#Bring in the data\n",
    "\n",
    "nba = pd.read_csv('./data/nba_analysis_data.csv')\n",
    "nba.dropna(inplace = True)"
   ]
  },
  {
   "cell_type": "code",
   "execution_count": 813,
   "metadata": {},
   "outputs": [],
   "source": [
    "#seperate test from train\n",
    "\n",
    "nba_train = nba[nba.test == 0]\n",
    "nba_test = nba[nba.test ==1]  #scott tarlow scotttarlow@gmail.com\n",
    "#learn a domain"
   ]
  },
  {
   "cell_type": "code",
   "execution_count": 814,
   "metadata": {},
   "outputs": [],
   "source": [
    "nba_train = nba_train[nba_train.playoff_game == 1]\n",
    "nba_test = nba_test[nba_test.playoff_game == 1]"
   ]
  },
  {
   "cell_type": "code",
   "execution_count": 815,
   "metadata": {},
   "outputs": [],
   "source": [
    "\n",
    "X_train = nba_train.drop(columns = ['cover','home_win_margin', \n",
    "                        'date', 'dataset','line_cv', \n",
    "                        'home_starter5', 'teams', 'away_team',\n",
    "                        'away_starter2', 'away_starter3',\n",
    "                        'away_starter4', 'away_starter5',\n",
    "                        'ref_1', 'ref_3', 'crew_referees',\n",
    "                        'away_pace', 'away_spread',\n",
    "                        'away_line_cv',  'away_cover',\n",
    "                        'home_payout', 'away_payout', 'over', 'under',\n",
    "                        'total_score', 'total_diff'         ])\n",
    "\n",
    "\n",
    "#X = nba[features]\n",
    "y_train = nba_train['cover']"
   ]
  },
  {
   "cell_type": "code",
   "execution_count": 816,
   "metadata": {},
   "outputs": [],
   "source": [
    "X_test= nba_test.drop(columns = ['cover','home_win_margin', \n",
    "                        'date', 'dataset','line_cv', \n",
    "                        'home_starter5', 'teams', 'away_team',\n",
    "                        'away_starter2', 'away_starter3',\n",
    "                        'away_starter4', 'away_starter5',\n",
    "                        'ref_1', 'ref_3', 'crew_referees',\n",
    "                        'away_pace', 'away_spread',\n",
    "                        'away_line_cv',  'away_cover',\n",
    "                        'home_payout', 'away_payout', 'over', 'under',\n",
    "                        'total_score', 'total_diff'       ])\n",
    "\n",
    "y_test = nba_test.away_cover"
   ]
  },
  {
   "cell_type": "code",
   "execution_count": 817,
   "metadata": {},
   "outputs": [
    {
     "data": {
      "text/plain": [
       "(150, 148)"
      ]
     },
     "execution_count": 817,
     "metadata": {},
     "output_type": "execute_result"
    }
   ],
   "source": [
    "\n",
    "X_test.shape"
   ]
  },
  {
   "cell_type": "code",
   "execution_count": 818,
   "metadata": {},
   "outputs": [
    {
     "data": {
      "text/plain": [
       "(711, 148)"
      ]
     },
     "execution_count": 818,
     "metadata": {},
     "output_type": "execute_result"
    }
   ],
   "source": [
    "X_train.shape"
   ]
  },
  {
   "cell_type": "markdown",
   "metadata": {},
   "source": [
    "### Interaction Terms\n",
    "\n",
    "At one point in the modeling process I hoped to get better results by including some interactions in the model.  They did not appear significant and added noise so they were removed, but I left the code in case I wanted to reinsert them later. "
   ]
  },
  {
   "cell_type": "code",
   "execution_count": 819,
   "metadata": {},
   "outputs": [],
   "source": [
    "\n",
    "# #create interactions  tested but did not help the model\n",
    "# poly = PolynomialFeatures(degree = 2, interaction_only= True)\n",
    "# X_poly = poly.fit_transform(X_train)\n",
    "# X_poly_test = poly.transform(X_test)\n",
    "# X_poly = pd.DataFrame(X_poly, \n",
    "#                       columns = poly.get_feature_names(X_train.columns))\n",
    "# X_poly_test = pd.DataFrame(X_poly_test, \n",
    "#                            columns = poly.get_feature_names(X_test.columns))\n"
   ]
  },
  {
   "cell_type": "markdown",
   "metadata": {},
   "source": [
    "### Scale and Transform the data\n",
    "\n",
    "I use standard scaler scale the data and then do a principal components analysis to transform the data.  I do not care about inference in this case only prediction and there is a good deal of correlation between variables. So I decided to transform the data to reduce the number and get orthoginal features without losing much information.  I retain 99% of the variance."
   ]
  },
  {
   "cell_type": "code",
   "execution_count": 820,
   "metadata": {
    "scrolled": true
   },
   "outputs": [
    {
     "name": "stderr",
     "output_type": "stream",
     "text": [
      "/Users/bryancombs/anaconda3/lib/python3.6/site-packages/sklearn/preprocessing/data.py:617: DataConversionWarning: Data with input dtype int64, float64 were all converted to float64 by StandardScaler.\n",
      "  return self.partial_fit(X, y)\n",
      "/Users/bryancombs/anaconda3/lib/python3.6/site-packages/sklearn/base.py:462: DataConversionWarning: Data with input dtype int64, float64 were all converted to float64 by StandardScaler.\n",
      "  return self.fit(X, **fit_params).transform(X)\n",
      "/Users/bryancombs/anaconda3/lib/python3.6/site-packages/ipykernel_launcher.py:5: DataConversionWarning: Data with input dtype int64, float64 were all converted to float64 by StandardScaler.\n",
      "  \"\"\"\n"
     ]
    }
   ],
   "source": [
    "\n",
    "#scaling data to use in various other methods\n",
    "ss = StandardScaler()\n",
    "X_train_scaled = ss.fit_transform(X_train)\n",
    "X_test_scaled = ss.transform(X_test)"
   ]
  },
  {
   "cell_type": "code",
   "execution_count": 821,
   "metadata": {},
   "outputs": [],
   "source": [
    "from sklearn.decomposition import PCA"
   ]
  },
  {
   "cell_type": "code",
   "execution_count": 822,
   "metadata": {},
   "outputs": [],
   "source": [
    "pc = PCA(n_components=70)\n",
    "X_train_pc = pc.fit_transform(X_train_scaled)\n",
    "X_test_pc = pc.transform(X_test_scaled)\n"
   ]
  },
  {
   "cell_type": "code",
   "execution_count": 823,
   "metadata": {
    "scrolled": true
   },
   "outputs": [
    {
     "name": "stdout",
     "output_type": "stream",
     "text": [
      "Explained variance:             [0.11834685 0.104883   0.06266254 0.04411775 0.04018636 0.03734666\n",
      " 0.03476068 0.03171364 0.03139363 0.02753802 0.02744268 0.02399141\n",
      " 0.02344819 0.01998734 0.01883975 0.01781687 0.01662342 0.01571055\n",
      " 0.01524122 0.01448081 0.01423059 0.01298795 0.01231318 0.01210623\n",
      " 0.01140447 0.0102714  0.01001335 0.00975316 0.00923449 0.00848232\n",
      " 0.00833255 0.00792014 0.00744979 0.00729155 0.00692119 0.00671727\n",
      " 0.00622452 0.00601655 0.00566995 0.00522665 0.00491279 0.00467794\n",
      " 0.00460015 0.00420859 0.00404255 0.003902   0.00363442 0.00344473\n",
      " 0.00337061 0.00319926 0.00308048 0.00296615 0.00273093 0.00265916\n",
      " 0.00255381 0.00241488 0.00232506 0.00208458 0.00199288 0.00193634\n",
      " 0.0018755  0.00182403 0.00168129 0.00159446 0.0014911  0.00140418\n",
      " 0.00136849 0.00133268 0.00128145 0.00116141]\n",
      "Cumulative explained variance:  [0.11834685 0.22322985 0.28589239 0.33001014 0.3701965  0.40754316\n",
      " 0.44230384 0.47401748 0.5054111  0.53294913 0.5603918  0.58438321\n",
      " 0.6078314  0.62781874 0.64665849 0.66447536 0.68109878 0.69680932\n",
      " 0.71205054 0.72653135 0.74076194 0.75374988 0.76606306 0.77816929\n",
      " 0.78957376 0.79984517 0.80985852 0.81961168 0.82884617 0.83732849\n",
      " 0.84566104 0.85358118 0.86103097 0.86832252 0.87524371 0.88196098\n",
      " 0.8881855  0.89420205 0.899872   0.90509866 0.91001145 0.91468938\n",
      " 0.91928953 0.92349812 0.92754068 0.93144268 0.9350771  0.93852182\n",
      " 0.94189243 0.94509169 0.94817217 0.95113832 0.95386925 0.95652841\n",
      " 0.95908222 0.96149709 0.96382215 0.96590673 0.96789961 0.96983596\n",
      " 0.97171146 0.97353549 0.97521678 0.97681124 0.97830234 0.97970652\n",
      " 0.98107501 0.98240769 0.98368915 0.98485056]\n"
     ]
    }
   ],
   "source": [
    "var_exp = pc.explained_variance_ratio_\n",
    "print('Explained variance:            ', var_exp)\n",
    "\n",
    "cum_var_exp = np.cumsum(var_exp)\n",
    "print('Cumulative explained variance: ', cum_var_exp)"
   ]
  },
  {
   "cell_type": "markdown",
   "metadata": {},
   "source": [
    "### Logistic Regression\n",
    "\n",
    "The first model I tested out was the logistic regression on good thing about the NBA data is that much of the data seemed to be normally distributed and my transformed features are uncorrelated so I thought"
   ]
  },
  {
   "cell_type": "code",
   "execution_count": 824,
   "metadata": {
    "scrolled": true
   },
   "outputs": [
    {
     "name": "stderr",
     "output_type": "stream",
     "text": [
      "/Users/bryancombs/anaconda3/lib/python3.6/site-packages/sklearn/model_selection/_split.py:1943: FutureWarning: You should specify a value for 'cv' instead of relying on the default value. The default value will change from 3 to 5 in version 0.22.\n",
      "  warnings.warn(CV_WARNING, FutureWarning)\n",
      "/Users/bryancombs/anaconda3/lib/python3.6/site-packages/sklearn/linear_model/sag.py:334: ConvergenceWarning: The max_iter was reached which means the coef_ did not converge\n",
      "  \"the coef_ did not converge\", ConvergenceWarning)\n",
      "/Users/bryancombs/anaconda3/lib/python3.6/site-packages/sklearn/linear_model/sag.py:334: ConvergenceWarning: The max_iter was reached which means the coef_ did not converge\n",
      "  \"the coef_ did not converge\", ConvergenceWarning)\n",
      "/Users/bryancombs/anaconda3/lib/python3.6/site-packages/sklearn/linear_model/sag.py:334: ConvergenceWarning: The max_iter was reached which means the coef_ did not converge\n",
      "  \"the coef_ did not converge\", ConvergenceWarning)\n"
     ]
    },
    {
     "name": "stdout",
     "output_type": "stream",
     "text": [
      "0.6483825597749648\n"
     ]
    },
    {
     "name": "stderr",
     "output_type": "stream",
     "text": [
      "/Users/bryancombs/anaconda3/lib/python3.6/site-packages/sklearn/linear_model/sag.py:334: ConvergenceWarning: The max_iter was reached which means the coef_ did not converge\n",
      "  \"the coef_ did not converge\", ConvergenceWarning)\n"
     ]
    }
   ],
   "source": [
    "lr = LogisticRegressionCV(Cs = [100000],\n",
    "                         max_iter=1000,\n",
    "                         penalty = 'l1',\n",
    "                         tol = .00001,\n",
    "                         solver ='saga' )\n",
    "\n",
    "\n",
    "lr.fit(X_train_pc, y_train)\n",
    "print(lr.score(X_train_pc, y_train))\n"
   ]
  },
  {
   "cell_type": "code",
   "execution_count": 825,
   "metadata": {
    "scrolled": false
   },
   "outputs": [
    {
     "data": {
      "text/plain": [
       "0.5466666666666666"
      ]
     },
     "execution_count": 825,
     "metadata": {},
     "output_type": "execute_result"
    }
   ],
   "source": [
    "lr.score(X_test_pc, y_test)"
   ]
  },
  {
   "cell_type": "code",
   "execution_count": 826,
   "metadata": {},
   "outputs": [],
   "source": [
    "y_hat_lr   = lr.predict(X_train_pc)\n",
    "y_hat_lrp  = lr.predict_proba(X_train_pc)\n",
    "y_hat_lrt  = lr.predict(X_test_pc)\n",
    "y_hat_lrtp = lr.predict_proba(X_test_pc)"
   ]
  },
  {
   "cell_type": "code",
   "execution_count": 827,
   "metadata": {
    "scrolled": false
   },
   "outputs": [
    {
     "name": "stdout",
     "output_type": "stream",
     "text": [
      "              precision    recall  f1-score   support\n",
      "\n",
      "           0       0.63      0.60      0.62       333\n",
      "           1       0.66      0.69      0.68       378\n",
      "\n",
      "   micro avg       0.65      0.65      0.65       711\n",
      "   macro avg       0.65      0.65      0.65       711\n",
      "weighted avg       0.65      0.65      0.65       711\n",
      "\n"
     ]
    }
   ],
   "source": [
    "print(classification_report(y_train, y_hat_lr))"
   ]
  },
  {
   "cell_type": "code",
   "execution_count": 828,
   "metadata": {},
   "outputs": [
    {
     "name": "stdout",
     "output_type": "stream",
     "text": [
      "              precision    recall  f1-score   support\n",
      "\n",
      "           0       0.53      0.67      0.59        73\n",
      "           1       0.58      0.43      0.49        77\n",
      "\n",
      "   micro avg       0.55      0.55      0.55       150\n",
      "   macro avg       0.55      0.55      0.54       150\n",
      "weighted avg       0.55      0.55      0.54       150\n",
      "\n"
     ]
    }
   ],
   "source": [
    "print(classification_report(y_test, y_hat_lrt))"
   ]
  },
  {
   "cell_type": "code",
   "execution_count": 829,
   "metadata": {},
   "outputs": [
    {
     "data": {
      "text/plain": [
       "array([[200, 133],\n",
       "       [117, 261]])"
      ]
     },
     "execution_count": 829,
     "metadata": {},
     "output_type": "execute_result"
    }
   ],
   "source": [
    "confusion_matrix( y_train, y_hat_lr)"
   ]
  },
  {
   "cell_type": "code",
   "execution_count": 830,
   "metadata": {},
   "outputs": [
    {
     "data": {
      "text/plain": [
       "array([[49, 24],\n",
       "       [44, 33]])"
      ]
     },
     "execution_count": 830,
     "metadata": {},
     "output_type": "execute_result"
    }
   ],
   "source": [
    "confusion_matrix( y_test, y_hat_lrt)"
   ]
  },
  {
   "cell_type": "markdown",
   "metadata": {},
   "source": [
    "### Support Vector Machine\n",
    "\n",
    "The second model I tested is the Support Vector Machine Model I "
   ]
  },
  {
   "cell_type": "code",
   "execution_count": 831,
   "metadata": {
    "scrolled": true
   },
   "outputs": [],
   "source": [
    "svc = SVC(probability=True)\n",
    "svc_params = {\n",
    "    'kernel' : ['linear'  ], \n",
    "    'C'      : [.1, .2, .3]\n",
    "    }"
   ]
  },
  {
   "cell_type": "code",
   "execution_count": null,
   "metadata": {},
   "outputs": [],
   "source": []
  },
  {
   "cell_type": "code",
   "execution_count": 832,
   "metadata": {
    "scrolled": true
   },
   "outputs": [
    {
     "name": "stderr",
     "output_type": "stream",
     "text": [
      "/Users/bryancombs/anaconda3/lib/python3.6/site-packages/sklearn/model_selection/_search.py:841: DeprecationWarning: The default of the `iid` parameter will change from True to False in version 0.22 and will be removed in 0.24. This will change numeric results when test-set sizes are unequal.\n",
      "  DeprecationWarning)\n"
     ]
    },
    {
     "name": "stdout",
     "output_type": "stream",
     "text": [
      "0.568954386836048\n",
      "{'C': 0.2, 'kernel': 'linear'}\n"
     ]
    }
   ],
   "source": [
    "gs = GridSearchCV(svc, \n",
    "                  param_grid=svc_params, \n",
    "                  scoring='precision', \n",
    "                  cv = 5)\n",
    "gs.fit(X_train_pc, y_train)\n",
    "print(gs.best_score_)\n",
    "print(gs.best_params_)"
   ]
  },
  {
   "cell_type": "code",
   "execution_count": 833,
   "metadata": {
    "scrolled": true
   },
   "outputs": [
    {
     "data": {
      "text/plain": [
       "0.5901639344262295"
      ]
     },
     "execution_count": 833,
     "metadata": {},
     "output_type": "execute_result"
    }
   ],
   "source": [
    "gs.score(X_test_pc, y_test)"
   ]
  },
  {
   "cell_type": "code",
   "execution_count": 834,
   "metadata": {},
   "outputs": [],
   "source": [
    "#predict categories and  probabilities for svc model\n",
    "\n",
    "y_hat_svc   = gs.predict(X_train_pc)\n",
    "y_hat_svcp  = gs.predict_proba(X_train_pc)\n",
    "y_hat_svct  = gs.predict(X_test_pc)\n",
    "y_hat_svctp = gs.predict_proba(X_test_pc)"
   ]
  },
  {
   "cell_type": "code",
   "execution_count": 835,
   "metadata": {
    "scrolled": false
   },
   "outputs": [
    {
     "name": "stdout",
     "output_type": "stream",
     "text": [
      "              precision    recall  f1-score   support\n",
      "\n",
      "           0       0.66      0.62      0.64       333\n",
      "           1       0.68      0.72      0.70       378\n",
      "\n",
      "   micro avg       0.67      0.67      0.67       711\n",
      "   macro avg       0.67      0.67      0.67       711\n",
      "weighted avg       0.67      0.67      0.67       711\n",
      "\n"
     ]
    }
   ],
   "source": [
    "print(classification_report(y_train, y_hat_svc))"
   ]
  },
  {
   "cell_type": "code",
   "execution_count": 836,
   "metadata": {},
   "outputs": [
    {
     "name": "stdout",
     "output_type": "stream",
     "text": [
      "              precision    recall  f1-score   support\n",
      "\n",
      "           0       0.54      0.66      0.59        73\n",
      "           1       0.59      0.47      0.52        77\n",
      "\n",
      "   micro avg       0.56      0.56      0.56       150\n",
      "   macro avg       0.56      0.56      0.56       150\n",
      "weighted avg       0.57      0.56      0.56       150\n",
      "\n"
     ]
    }
   ],
   "source": [
    "print(classification_report(y_test, y_hat_svct))"
   ]
  },
  {
   "cell_type": "code",
   "execution_count": 837,
   "metadata": {
    "scrolled": true
   },
   "outputs": [
    {
     "data": {
      "text/plain": [
       "array([[206, 127],\n",
       "       [106, 272]])"
      ]
     },
     "execution_count": 837,
     "metadata": {},
     "output_type": "execute_result"
    }
   ],
   "source": [
    "confusion_matrix( y_train, y_hat_svc)"
   ]
  },
  {
   "cell_type": "code",
   "execution_count": 838,
   "metadata": {},
   "outputs": [
    {
     "data": {
      "text/plain": [
       "array([[48, 25],\n",
       "       [41, 36]])"
      ]
     },
     "execution_count": 838,
     "metadata": {},
     "output_type": "execute_result"
    }
   ],
   "source": [
    "confusion_matrix( y_test, y_hat_svct)"
   ]
  },
  {
   "cell_type": "markdown",
   "metadata": {},
   "source": [
    "### Neural Network\n",
    "\n",
    "I also wanted to try fitting a neural network.  I do not care about the inference implications, but I found that the neural network had to much variance depending on starting weights so I decided not to use it in predictions.  "
   ]
  },
  {
   "cell_type": "code",
   "execution_count": 839,
   "metadata": {},
   "outputs": [],
   "source": [
    "from keras.models import Sequential\n",
    "from keras.layers import Dense, Dropout\n",
    "from keras.utils import to_categorical\n",
    "from keras import regularizers"
   ]
  },
  {
   "cell_type": "code",
   "execution_count": 840,
   "metadata": {},
   "outputs": [],
   "source": [
    "model = Sequential()\n",
    "model.add(Dense(70, \n",
    "                activation = 'relu',\n",
    "                input_dim = X_train_pc.shape[1],\n",
    "                kernel_regularizer=regularizers.l2(0.01)))\n",
    "model.add(Dropout(0.8))\n",
    "\n",
    "#model.add(Dense(10, activation = 'relu'))\n",
    "model.add(Dense(1, activation = 'sigmoid')) #output layer "
   ]
  },
  {
   "cell_type": "code",
   "execution_count": null,
   "metadata": {},
   "outputs": [],
   "source": []
  },
  {
   "cell_type": "raw",
   "metadata": {},
   "source": []
  },
  {
   "cell_type": "code",
   "execution_count": 841,
   "metadata": {},
   "outputs": [
    {
     "name": "stdout",
     "output_type": "stream",
     "text": [
      "Train on 711 samples, validate on 150 samples\n",
      "Epoch 1/50\n",
      "711/711 [==============================] - 1s 995us/step - loss: 1.9300 - acc: 0.5556 - val_loss: 1.4078 - val_acc: 0.5467\n",
      "Epoch 2/50\n",
      "711/711 [==============================] - 0s 19us/step - loss: 1.9645 - acc: 0.5077 - val_loss: 1.3780 - val_acc: 0.5400\n",
      "Epoch 3/50\n",
      "711/711 [==============================] - 0s 16us/step - loss: 1.8519 - acc: 0.5007 - val_loss: 1.3507 - val_acc: 0.5267\n",
      "Epoch 4/50\n",
      "711/711 [==============================] - 0s 16us/step - loss: 1.8580 - acc: 0.4951 - val_loss: 1.3264 - val_acc: 0.5533\n",
      "Epoch 5/50\n",
      "711/711 [==============================] - 0s 17us/step - loss: 1.7177 - acc: 0.5260 - val_loss: 1.3018 - val_acc: 0.5667\n",
      "Epoch 6/50\n",
      "711/711 [==============================] - 0s 17us/step - loss: 1.7582 - acc: 0.4852 - val_loss: 1.2793 - val_acc: 0.5600\n",
      "Epoch 7/50\n",
      "711/711 [==============================] - 0s 16us/step - loss: 1.6866 - acc: 0.5246 - val_loss: 1.2577 - val_acc: 0.5600\n",
      "Epoch 8/50\n",
      "711/711 [==============================] - 0s 15us/step - loss: 1.6882 - acc: 0.5105 - val_loss: 1.2352 - val_acc: 0.5667\n",
      "Epoch 9/50\n",
      "711/711 [==============================] - 0s 23us/step - loss: 1.6053 - acc: 0.5302 - val_loss: 1.2128 - val_acc: 0.5800\n",
      "Epoch 10/50\n",
      "711/711 [==============================] - 0s 20us/step - loss: 1.5883 - acc: 0.5302 - val_loss: 1.1926 - val_acc: 0.5867\n",
      "Epoch 11/50\n",
      "711/711 [==============================] - 0s 16us/step - loss: 1.5149 - acc: 0.5232 - val_loss: 1.1743 - val_acc: 0.5800\n",
      "Epoch 12/50\n",
      "711/711 [==============================] - 0s 17us/step - loss: 1.5065 - acc: 0.5105 - val_loss: 1.1567 - val_acc: 0.6000\n",
      "Epoch 13/50\n",
      "711/711 [==============================] - 0s 16us/step - loss: 1.3998 - acc: 0.5331 - val_loss: 1.1404 - val_acc: 0.6133\n",
      "Epoch 14/50\n",
      "711/711 [==============================] - 0s 23us/step - loss: 1.3771 - acc: 0.5443 - val_loss: 1.1257 - val_acc: 0.6000\n",
      "Epoch 15/50\n",
      "711/711 [==============================] - 0s 16us/step - loss: 1.4040 - acc: 0.5316 - val_loss: 1.1115 - val_acc: 0.5867\n",
      "Epoch 16/50\n",
      "711/711 [==============================] - 0s 18us/step - loss: 1.3645 - acc: 0.5176 - val_loss: 1.0988 - val_acc: 0.5800\n",
      "Epoch 17/50\n",
      "711/711 [==============================] - 0s 18us/step - loss: 1.3311 - acc: 0.5387 - val_loss: 1.0863 - val_acc: 0.6000\n",
      "Epoch 18/50\n",
      "711/711 [==============================] - 0s 16us/step - loss: 1.3080 - acc: 0.5331 - val_loss: 1.0749 - val_acc: 0.6067\n",
      "Epoch 19/50\n",
      "711/711 [==============================] - 0s 22us/step - loss: 1.2460 - acc: 0.5485 - val_loss: 1.0634 - val_acc: 0.6133\n",
      "Epoch 20/50\n",
      "711/711 [==============================] - 0s 18us/step - loss: 1.2187 - acc: 0.5401 - val_loss: 1.0525 - val_acc: 0.6000\n",
      "Epoch 21/50\n",
      "711/711 [==============================] - 0s 19us/step - loss: 1.1896 - acc: 0.5429 - val_loss: 1.0412 - val_acc: 0.5867\n",
      "Epoch 22/50\n",
      "711/711 [==============================] - 0s 16us/step - loss: 1.1612 - acc: 0.5612 - val_loss: 1.0308 - val_acc: 0.5867\n",
      "Epoch 23/50\n",
      "711/711 [==============================] - 0s 16us/step - loss: 1.1382 - acc: 0.5612 - val_loss: 1.0206 - val_acc: 0.5933\n",
      "Epoch 24/50\n",
      "711/711 [==============================] - 0s 21us/step - loss: 1.1665 - acc: 0.5443 - val_loss: 1.0106 - val_acc: 0.5800\n",
      "Epoch 25/50\n",
      "711/711 [==============================] - 0s 26us/step - loss: 1.0778 - acc: 0.5612 - val_loss: 1.0017 - val_acc: 0.5800\n",
      "Epoch 26/50\n",
      "711/711 [==============================] - 0s 21us/step - loss: 1.0897 - acc: 0.5626 - val_loss: 0.9932 - val_acc: 0.5733\n",
      "Epoch 27/50\n",
      "711/711 [==============================] - 0s 18us/step - loss: 1.1129 - acc: 0.5527 - val_loss: 0.9840 - val_acc: 0.5800\n",
      "Epoch 28/50\n",
      "711/711 [==============================] - 0s 16us/step - loss: 1.0700 - acc: 0.5823 - val_loss: 0.9755 - val_acc: 0.5733\n",
      "Epoch 29/50\n",
      "711/711 [==============================] - 0s 16us/step - loss: 1.0582 - acc: 0.5795 - val_loss: 0.9672 - val_acc: 0.5667\n",
      "Epoch 30/50\n",
      "711/711 [==============================] - 0s 20us/step - loss: 1.0553 - acc: 0.5640 - val_loss: 0.9600 - val_acc: 0.5733\n",
      "Epoch 31/50\n",
      "711/711 [==============================] - 0s 23us/step - loss: 1.0079 - acc: 0.5977 - val_loss: 0.9538 - val_acc: 0.5667\n",
      "Epoch 32/50\n",
      "711/711 [==============================] - 0s 19us/step - loss: 1.0471 - acc: 0.5443 - val_loss: 0.9476 - val_acc: 0.5600\n",
      "Epoch 33/50\n",
      "711/711 [==============================] - 0s 19us/step - loss: 1.0022 - acc: 0.5654 - val_loss: 0.9411 - val_acc: 0.5600\n",
      "Epoch 34/50\n",
      "711/711 [==============================] - 0s 16us/step - loss: 0.9617 - acc: 0.5781 - val_loss: 0.9347 - val_acc: 0.5667\n",
      "Epoch 35/50\n",
      "711/711 [==============================] - 0s 16us/step - loss: 1.0285 - acc: 0.5401 - val_loss: 0.9285 - val_acc: 0.5600\n",
      "Epoch 36/50\n",
      "711/711 [==============================] - 0s 20us/step - loss: 0.9509 - acc: 0.5752 - val_loss: 0.9221 - val_acc: 0.5533\n",
      "Epoch 37/50\n",
      "711/711 [==============================] - 0s 23us/step - loss: 0.9531 - acc: 0.5415 - val_loss: 0.9162 - val_acc: 0.5533\n",
      "Epoch 38/50\n",
      "711/711 [==============================] - 0s 19us/step - loss: 0.9491 - acc: 0.5738 - val_loss: 0.9105 - val_acc: 0.5600\n",
      "Epoch 39/50\n",
      "711/711 [==============================] - 0s 16us/step - loss: 0.9384 - acc: 0.5865 - val_loss: 0.9050 - val_acc: 0.5533\n",
      "Epoch 40/50\n",
      "711/711 [==============================] - 0s 19us/step - loss: 0.9189 - acc: 0.5851 - val_loss: 0.8996 - val_acc: 0.5467\n",
      "Epoch 41/50\n",
      "711/711 [==============================] - 0s 16us/step - loss: 0.9209 - acc: 0.5598 - val_loss: 0.8945 - val_acc: 0.5467\n",
      "Epoch 42/50\n",
      "711/711 [==============================] - 0s 18us/step - loss: 0.9161 - acc: 0.5851 - val_loss: 0.8895 - val_acc: 0.5400\n",
      "Epoch 43/50\n",
      "711/711 [==============================] - 0s 25us/step - loss: 0.9142 - acc: 0.5879 - val_loss: 0.8847 - val_acc: 0.5333\n",
      "Epoch 44/50\n",
      "711/711 [==============================] - 0s 18us/step - loss: 0.8749 - acc: 0.5949 - val_loss: 0.8801 - val_acc: 0.5333\n",
      "Epoch 45/50\n",
      "711/711 [==============================] - 0s 20us/step - loss: 0.8770 - acc: 0.5851 - val_loss: 0.8759 - val_acc: 0.5333\n",
      "Epoch 46/50\n",
      "711/711 [==============================] - 0s 16us/step - loss: 0.9029 - acc: 0.5724 - val_loss: 0.8713 - val_acc: 0.5200\n",
      "Epoch 47/50\n",
      "711/711 [==============================] - 0s 17us/step - loss: 0.8397 - acc: 0.6090 - val_loss: 0.8667 - val_acc: 0.5400\n",
      "Epoch 48/50\n",
      "711/711 [==============================] - 0s 17us/step - loss: 0.8490 - acc: 0.6231 - val_loss: 0.8619 - val_acc: 0.5333\n",
      "Epoch 49/50\n",
      "711/711 [==============================] - 0s 15us/step - loss: 0.8424 - acc: 0.6048 - val_loss: 0.8575 - val_acc: 0.5333\n",
      "Epoch 50/50\n",
      "711/711 [==============================] - 0s 19us/step - loss: 0.8546 - acc: 0.5949 - val_loss: 0.8530 - val_acc: 0.5333\n"
     ]
    },
    {
     "data": {
      "text/plain": [
       "<keras.callbacks.History at 0x1a44851240>"
      ]
     },
     "execution_count": 841,
     "metadata": {},
     "output_type": "execute_result"
    }
   ],
   "source": [
    "model.compile(loss = 'binary_crossentropy', optimizer='adam',\n",
    "              metrics = ['accuracy'])\n",
    "model.fit(X_train_pc, \n",
    "          y_train, epochs =50, \n",
    "          batch_size= 128, \n",
    "          validation_data=(X_test_pc, y_test))"
   ]
  },
  {
   "cell_type": "code",
   "execution_count": 842,
   "metadata": {},
   "outputs": [],
   "source": [
    "#returns a probability\n",
    "\n",
    "y_hat_nnp = model.predict(X_train_pc)\n",
    "y_hat_nntp = model.predict(X_test_pc)\n"
   ]
  },
  {
   "cell_type": "code",
   "execution_count": 843,
   "metadata": {
    "scrolled": true
   },
   "outputs": [
    {
     "name": "stdout",
     "output_type": "stream",
     "text": [
      "0.5543848652566185\n",
      "{'max_depth': 50, 'min_samples_leaf': 10, 'min_samples_split': 120, 'n_estimators': 70}\n"
     ]
    }
   ],
   "source": [
    "rf = RandomForestClassifier()\n",
    "rf_params = {'n_estimators'      : [70],\n",
    "             'max_depth'         : [50],\n",
    "             'min_samples_split' : [120],\n",
    "             'min_samples_leaf'  : [10] }\n",
    "\n",
    "gs1 = GridSearchCV(rf, \n",
    "                  param_grid=rf_params,\n",
    "                  scoring='precision',\n",
    "                 cv =5)\n",
    "gs1.fit(X_train_pc, y_train)\n",
    "print(gs1.best_score_)\n",
    "print(gs1.best_params_)\n",
    "\n"
   ]
  },
  {
   "cell_type": "code",
   "execution_count": 844,
   "metadata": {
    "scrolled": false
   },
   "outputs": [
    {
     "data": {
      "text/plain": [
       "0.5816326530612245"
      ]
     },
     "execution_count": 844,
     "metadata": {},
     "output_type": "execute_result"
    }
   ],
   "source": [
    "gs1.score(X_test_pc, y_test)"
   ]
  },
  {
   "cell_type": "code",
   "execution_count": 845,
   "metadata": {},
   "outputs": [],
   "source": [
    "y_hat_rf   = gs1.predict(X_train_pc)\n",
    "y_hat_rfp  = gs1.predict_proba(X_train_pc)\n",
    "y_hat_rft  = gs1.predict(X_test_pc)\n",
    "y_hat_rftp = gs1.predict_proba(X_test_pc)"
   ]
  },
  {
   "cell_type": "code",
   "execution_count": 846,
   "metadata": {},
   "outputs": [
    {
     "name": "stdout",
     "output_type": "stream",
     "text": [
      "              precision    recall  f1-score   support\n",
      "\n",
      "           0       0.94      0.65      0.77       333\n",
      "           1       0.76      0.96      0.85       378\n",
      "\n",
      "   micro avg       0.82      0.82      0.82       711\n",
      "   macro avg       0.85      0.81      0.81       711\n",
      "weighted avg       0.84      0.82      0.81       711\n",
      "\n"
     ]
    }
   ],
   "source": [
    "print(classification_report(y_train, y_hat_rf))"
   ]
  },
  {
   "cell_type": "code",
   "execution_count": 847,
   "metadata": {
    "scrolled": true
   },
   "outputs": [
    {
     "name": "stdout",
     "output_type": "stream",
     "text": [
      "              precision    recall  f1-score   support\n",
      "\n",
      "           0       0.62      0.44      0.51        73\n",
      "           1       0.58      0.74      0.65        77\n",
      "\n",
      "   micro avg       0.59      0.59      0.59       150\n",
      "   macro avg       0.60      0.59      0.58       150\n",
      "weighted avg       0.60      0.59      0.58       150\n",
      "\n"
     ]
    }
   ],
   "source": [
    "print(classification_report(y_test, y_hat_rft))"
   ]
  },
  {
   "cell_type": "code",
   "execution_count": 848,
   "metadata": {
    "scrolled": true
   },
   "outputs": [
    {
     "data": {
      "text/plain": [
       "array([[216, 117],\n",
       "       [ 14, 364]])"
      ]
     },
     "execution_count": 848,
     "metadata": {},
     "output_type": "execute_result"
    }
   ],
   "source": [
    "confusion_matrix( y_train, y_hat_rf)"
   ]
  },
  {
   "cell_type": "code",
   "execution_count": 849,
   "metadata": {},
   "outputs": [
    {
     "data": {
      "text/plain": [
       "array([[32, 41],\n",
       "       [20, 57]])"
      ]
     },
     "execution_count": 849,
     "metadata": {},
     "output_type": "execute_result"
    }
   ],
   "source": [
    "confusion_matrix( y_test, y_hat_rft)"
   ]
  },
  {
   "cell_type": "code",
   "execution_count": 866,
   "metadata": {},
   "outputs": [],
   "source": [
    "#modifying train and testing data to allow for changing prob thresholds and printing the \n",
    "#roc curves \n",
    "#Random Forest\n",
    "nba_train.loc[:, 'actual_y'] = y_train\n",
    "nba_train.loc[:, 'predicted_label_rf'] = y_hat_rf\n",
    "nba_train.loc[:, 'predicted_proba_rfp'] = y_hat_rfp[:, 1]\n",
    "\n",
    "#SVC\n",
    "\n",
    "nba_train.loc[:, 'predicted_label_svc'] = y_hat_svc\n",
    "nba_train.loc[:, 'predicted_proba_svcp'] = y_hat_svcp[:, 1]\n",
    "\n",
    "#Logistic\n",
    "nba_train.loc[:, 'predicted_label_lr'] = y_hat_lr\n",
    "nba_train.loc[:, 'predicted_proba_lrp'] = y_hat_lrp[:, 1]\n",
    "\n"
   ]
  },
  {
   "cell_type": "code",
   "execution_count": 892,
   "metadata": {},
   "outputs": [],
   "source": [
    "#Random Forest\n",
    "nba_test.loc[:, 'actual_y'] = y_test\n",
    "nba_test.loc[:, 'predicted_label_rf'] = y_hat_rft\n",
    "nba_test.loc[:, 'predicted_proba_rfp'] = y_hat_rftp[:, 1]\n",
    "\n",
    "#SVC\n",
    "\n",
    "nba_test.loc[:, 'predicted_label_svc'] = y_hat_svct\n",
    "nba_test.loc[:, 'predicted_proba_svcp'] = y_hat_svctp[:,1]\n",
    "\n",
    "#Logistic\n",
    "nba_test.loc[:, 'predicted_label_lr'] = y_hat_lrt\n",
    "nba_test.loc[:, 'predicted_proba_lrp'] = y_hat_lrtp[:, 1]\n",
    "\n",
    "\n",
    "\n",
    "#Neural Network\n",
    "nba_test.loc[:, 'predicted_proba_nnp'] = y_hat_nntp\n",
    "nba_test.loc[:, 'predicted_label_nn'] = nba_test.predicted_proba_nnp.map(\n",
    "                lambda x: 0 if x<=.5 else 1)\n",
    "\n",
    "\n",
    "\n"
   ]
  },
  {
   "cell_type": "code",
   "execution_count": 893,
   "metadata": {
    "scrolled": true
   },
   "outputs": [
    {
     "name": "stdout",
     "output_type": "stream",
     "text": [
      "predicted_label_svc\n",
      "0   -9.731\n",
      "1    8.724\n",
      "Name: away_payout, dtype: float64\n",
      "predicted_label_svc\n",
      "0     1.723\n",
      "1   -14.184\n",
      "Name: home_payout, dtype: float64\n"
     ]
    }
   ],
   "source": [
    "print(nba_test.groupby(['predicted_label_svc'])['away_payout'].sum())\n",
    "print(nba_test.groupby(['predicted_label_svc'])['home_payout'].sum())"
   ]
  },
  {
   "cell_type": "code",
   "execution_count": 894,
   "metadata": {
    "scrolled": true
   },
   "outputs": [
    {
     "name": "stdout",
     "output_type": "stream",
     "text": [
      "predicted_label_lr\n",
      "0   -8.004\n",
      "1    6.997\n",
      "Name: away_payout, dtype: float64\n",
      "predicted_label_lr\n",
      "0    -0.368\n",
      "1   -12.093\n",
      "Name: home_payout, dtype: float64\n"
     ]
    }
   ],
   "source": [
    "print(nba_test.groupby(['predicted_label_lr'])['away_payout'].sum())\n",
    "print(nba_test.groupby(['predicted_label_lr'])['home_payout'].sum())"
   ]
  },
  {
   "cell_type": "code",
   "execution_count": 887,
   "metadata": {},
   "outputs": [],
   "source": [
    "from sklearn.metrics import roc_curve, auc"
   ]
  },
  {
   "cell_type": "code",
   "execution_count": 888,
   "metadata": {},
   "outputs": [],
   "source": [
    "fpr, tpr, _ = roc_curve(y_test, nba_test['predicted_proba_lrp'])\n",
    "roc_auc = auc(fpr, tpr)"
   ]
  },
  {
   "cell_type": "code",
   "execution_count": 889,
   "metadata": {},
   "outputs": [],
   "source": [
    "fpr1, tpr1, _ = roc_curve(y_test, nba_test['predicted_proba_svcp'])\n",
    "roc_auc1 = auc(fpr1, tpr1)"
   ]
  },
  {
   "cell_type": "code",
   "execution_count": 890,
   "metadata": {},
   "outputs": [
    {
     "data": {
      "image/png": "[encoded data removed]",
      "text/plain": [
       "<matplotlib.figure.Figure at 0x1a44b01470>"
      ]
     },
     "metadata": {},
     "output_type": "display_data"
    }
   ],
   "source": [
    "# Plot \n",
    "plt.figure(figsize = (12,7))\n",
    "line_width = 3\n",
    "\n",
    "plt.plot(fpr, tpr, lw = line_width, color=\"darkorange\", \n",
    "         label = \"Log Reg ROC Curve %.2f\" % roc_auc)\n",
    "plt.plot(fpr1, tpr1, lw = line_width, color=\"red\", \n",
    "         label = \"Test ROC Curve %.2f\" % roc_auc1)\n",
    "plt.plot([0,1], [0, 1], lw = line_width, linestyle=\"--\", color=\"navy\")\n",
    "\n",
    "plt.xlim([0.0, 1.0])\n",
    "plt.ylim([0.0, 1.05])\n",
    "plt.xlabel('False Positive Rate')\n",
    "plt.ylabel('True Positive Rate')\n",
    "plt.title('ROC Curve on Training Data')\n",
    "plt.legend(loc=\"lower right\")\n",
    "plt.show()"
   ]
  },
  {
   "cell_type": "code",
   "execution_count": 891,
   "metadata": {},
   "outputs": [
    {
     "name": "stdout",
     "output_type": "stream",
     "text": [
      "Test Logistic Regression :0.4\n",
      "Return of Away Games:  predicted_label_lr\n",
      "0   -3.730\n",
      "1    2.723\n",
      "Name: away_payout, dtype: float64\n",
      "Return of Home Games:  predicted_label_lr\n",
      "0    -1.821\n",
      "1   -10.640\n",
      "Name: home_payout, dtype: float64\n",
      " \n",
      "Test SVC :0.4\n",
      "Return of Away Games SVC:  predicted_label_svc\n",
      "1   -1.007\n",
      "Name: away_payout, dtype: float64\n",
      "Return of Home Games SVC:  predicted_label_svc\n",
      "1   -12.461\n",
      "Name: home_payout, dtype: float64\n",
      "\n",
      "Test Logistic Regression :0.41\n",
      "Return of Away Games:  predicted_label_lr\n",
      "0   -5.821\n",
      "1    4.814\n",
      "Name: away_payout, dtype: float64\n",
      "Return of Home Games:  predicted_label_lr\n",
      "0    -0.094\n",
      "1   -12.367\n",
      "Name: home_payout, dtype: float64\n",
      " \n",
      "Test SVC :0.41\n",
      "Return of Away Games SVC:  predicted_label_svc\n",
      "1   -1.007\n",
      "Name: away_payout, dtype: float64\n",
      "Return of Home Games SVC:  predicted_label_svc\n",
      "1   -12.461\n",
      "Name: home_payout, dtype: float64\n",
      "\n",
      "Test Logistic Regression :0.42\n",
      "Return of Away Games:  predicted_label_lr\n",
      "0   -6.821\n",
      "1    5.814\n",
      "Name: away_payout, dtype: float64\n",
      "Return of Home Games:  predicted_label_lr\n",
      "0     0.815\n",
      "1   -13.276\n",
      "Name: home_payout, dtype: float64\n",
      " \n",
      "Test SVC :0.42\n",
      "Return of Away Games SVC:  predicted_label_svc\n",
      "1   -1.007\n",
      "Name: away_payout, dtype: float64\n",
      "Return of Home Games SVC:  predicted_label_svc\n",
      "1   -12.461\n",
      "Name: home_payout, dtype: float64\n",
      "\n",
      "Test Logistic Regression :0.43\n",
      "Return of Away Games:  predicted_label_lr\n",
      "0   -8.821\n",
      "1    7.814\n",
      "Name: away_payout, dtype: float64\n",
      "Return of Home Games:  predicted_label_lr\n",
      "0     2.633\n",
      "1   -15.094\n",
      "Name: home_payout, dtype: float64\n",
      " \n",
      "Test SVC :0.43\n",
      "Return of Away Games SVC:  predicted_label_svc\n",
      "1   -1.007\n",
      "Name: away_payout, dtype: float64\n",
      "Return of Home Games SVC:  predicted_label_svc\n",
      "1   -12.461\n",
      "Name: home_payout, dtype: float64\n",
      "\n",
      "Test Logistic Regression :0.44\n",
      "Return of Away Games:  predicted_label_lr\n",
      "0   -8.912\n",
      "1    7.905\n",
      "Name: away_payout, dtype: float64\n",
      "Return of Home Games:  predicted_label_lr\n",
      "0     2.542\n",
      "1   -15.003\n",
      "Name: home_payout, dtype: float64\n",
      " \n",
      "Test SVC :0.44\n",
      "Return of Away Games SVC:  predicted_label_svc\n",
      "1   -1.007\n",
      "Name: away_payout, dtype: float64\n",
      "Return of Home Games SVC:  predicted_label_svc\n",
      "1   -12.461\n",
      "Name: home_payout, dtype: float64\n",
      "\n",
      "Test Logistic Regression :0.45\n",
      "Return of Away Games:  predicted_label_lr\n",
      "0   -10.912\n",
      "1     9.905\n",
      "Name: away_payout, dtype: float64\n",
      "Return of Home Games:  predicted_label_lr\n",
      "0     4.360\n",
      "1   -16.821\n",
      "Name: home_payout, dtype: float64\n",
      " \n",
      "Test SVC :0.45\n",
      "Return of Away Games SVC:  predicted_label_svc\n",
      "1   -1.007\n",
      "Name: away_payout, dtype: float64\n",
      "Return of Home Games SVC:  predicted_label_svc\n",
      "1   -12.461\n",
      "Name: home_payout, dtype: float64\n",
      "\n",
      "Test Logistic Regression :0.46\n",
      "Return of Away Games:  predicted_label_lr\n",
      "0   -7.276\n",
      "1    6.269\n",
      "Name: away_payout, dtype: float64\n",
      "Return of Home Games:  predicted_label_lr\n",
      "0     0.360\n",
      "1   -12.821\n",
      "Name: home_payout, dtype: float64\n",
      " \n",
      "Test SVC :0.46\n",
      "Return of Away Games SVC:  predicted_label_svc\n",
      "0   -1.000\n",
      "1   -0.007\n",
      "Name: away_payout, dtype: float64\n",
      "Return of Home Games SVC:  predicted_label_svc\n",
      "0     0.909\n",
      "1   -13.370\n",
      "Name: home_payout, dtype: float64\n",
      "\n",
      "Test Logistic Regression :0.47\n",
      "Return of Away Games:  predicted_label_lr\n",
      "0   -8.276\n",
      "1    7.269\n",
      "Name: away_payout, dtype: float64\n",
      "Return of Home Games:  predicted_label_lr\n",
      "0     1.269\n",
      "1   -13.730\n",
      "Name: home_payout, dtype: float64\n",
      " \n",
      "Test SVC :0.47\n",
      "Return of Away Games SVC:  predicted_label_svc\n",
      "0   -3.000\n",
      "1    1.993\n",
      "Name: away_payout, dtype: float64\n",
      "Return of Home Games SVC:  predicted_label_svc\n",
      "0     2.727\n",
      "1   -15.188\n",
      "Name: home_payout, dtype: float64\n",
      "\n",
      "Test Logistic Regression :0.48\n",
      "Return of Away Games:  predicted_label_lr\n",
      "0   -10.367\n",
      "1     9.360\n",
      "Name: away_payout, dtype: float64\n",
      "Return of Home Games:  predicted_label_lr\n",
      "0     2.996\n",
      "1   -15.457\n",
      "Name: home_payout, dtype: float64\n",
      " \n",
      "Test SVC :0.48\n",
      "Return of Away Games SVC:  predicted_label_svc\n",
      "0   -0.455\n",
      "1   -0.552\n",
      "Name: away_payout, dtype: float64\n",
      "Return of Home Games SVC:  predicted_label_svc\n",
      "0    -0.455\n",
      "1   -12.006\n",
      "Name: home_payout, dtype: float64\n",
      "\n",
      "Test Logistic Regression :0.49\n",
      "Return of Away Games:  predicted_label_lr\n",
      "0   -9.731\n",
      "1    8.724\n",
      "Name: away_payout, dtype: float64\n",
      "Return of Home Games:  predicted_label_lr\n",
      "0     1.723\n",
      "1   -14.184\n",
      "Name: home_payout, dtype: float64\n",
      " \n",
      "Test SVC :0.49\n",
      "Return of Away Games SVC:  predicted_label_svc\n",
      "0   -1.728\n",
      "1    0.721\n",
      "Name: away_payout, dtype: float64\n",
      "Return of Home Games SVC:  predicted_label_svc\n",
      "0     0.181\n",
      "1   -12.642\n",
      "Name: home_payout, dtype: float64\n",
      "\n",
      "Test Logistic Regression :0.5\n",
      "Return of Away Games:  predicted_label_lr\n",
      "0   -8.004\n",
      "1    6.997\n",
      "Name: away_payout, dtype: float64\n",
      "Return of Home Games:  predicted_label_lr\n",
      "0    -0.368\n",
      "1   -12.093\n",
      "Name: home_payout, dtype: float64\n",
      " \n",
      "Test SVC :0.5\n",
      "Return of Away Games SVC:  predicted_label_svc\n",
      "0   -1.547\n",
      "1    0.540\n",
      "Name: away_payout, dtype: float64\n",
      "Return of Home Games SVC:  predicted_label_svc\n",
      "0    -1.547\n",
      "1   -10.914\n",
      "Name: home_payout, dtype: float64\n",
      "\n",
      "Test Logistic Regression :0.51\n",
      "Return of Away Games:  predicted_label_lr\n",
      "0   -10.004\n",
      "1     8.997\n",
      "Name: away_payout, dtype: float64\n",
      "Return of Home Games:  predicted_label_lr\n",
      "0     1.450\n",
      "1   -13.911\n",
      "Name: home_payout, dtype: float64\n",
      " \n",
      "Test SVC :0.51\n",
      "Return of Away Games SVC:  predicted_label_svc\n",
      "0   -4.638\n",
      "1    3.631\n",
      "Name: away_payout, dtype: float64\n",
      "Return of Home Games SVC:  predicted_label_svc\n",
      "0     1.089\n",
      "1   -13.550\n",
      "Name: home_payout, dtype: float64\n",
      "\n",
      "Test Logistic Regression :0.52\n",
      "Return of Away Games:  predicted_label_lr\n",
      "0   -9.095\n",
      "1    8.088\n",
      "Name: away_payout, dtype: float64\n",
      "Return of Home Games:  predicted_label_lr\n",
      "0     0.450\n",
      "1   -12.911\n",
      "Name: home_payout, dtype: float64\n",
      " \n",
      "Test SVC :0.52\n",
      "Return of Away Games SVC:  predicted_label_svc\n",
      "0   -7.094\n",
      "1    6.087\n",
      "Name: away_payout, dtype: float64\n",
      "Return of Home Games SVC:  predicted_label_svc\n",
      "0     0.542\n",
      "1   -13.003\n",
      "Name: home_payout, dtype: float64\n",
      "\n",
      "Test Logistic Regression :0.53\n",
      "Return of Away Games:  predicted_label_lr\n",
      "0   -7.277\n",
      "1    6.270\n",
      "Name: away_payout, dtype: float64\n",
      "Return of Home Games:  predicted_label_lr\n",
      "0    -1.550\n",
      "1   -10.911\n",
      "Name: home_payout, dtype: float64\n",
      " \n",
      "Test SVC :0.53\n",
      "Return of Away Games SVC:  predicted_label_svc\n",
      "0   -9.004\n",
      "1    7.997\n",
      "Name: away_payout, dtype: float64\n",
      "Return of Home Games SVC:  predicted_label_svc\n",
      "0     0.541\n",
      "1   -13.002\n",
      "Name: home_payout, dtype: float64\n",
      "\n",
      "Test Logistic Regression :0.54\n",
      "Return of Away Games:  predicted_label_lr\n",
      "0   -5.459\n",
      "1    4.452\n",
      "Name: away_payout, dtype: float64\n",
      "Return of Home Games:  predicted_label_lr\n",
      "0   -3.550\n",
      "1   -8.911\n",
      "Name: home_payout, dtype: float64\n",
      " \n",
      "Test SVC :0.54\n",
      "Return of Away Games SVC:  predicted_label_svc\n",
      "0   -6.914\n",
      "1    5.907\n",
      "Name: away_payout, dtype: float64\n",
      "Return of Home Games SVC:  predicted_label_svc\n",
      "0   -3.096\n",
      "1   -9.365\n",
      "Name: home_payout, dtype: float64\n",
      "\n",
      "Test Logistic Regression :0.55\n",
      "Return of Away Games:  predicted_label_lr\n",
      "0   -4.550\n",
      "1    3.543\n",
      "Name: away_payout, dtype: float64\n",
      "Return of Home Games:  predicted_label_lr\n",
      "0   -4.550\n",
      "1   -7.911\n",
      "Name: home_payout, dtype: float64\n",
      " \n",
      "Test SVC :0.55\n",
      "Return of Away Games SVC:  predicted_label_svc\n",
      "0   -3.097\n",
      "1    2.090\n",
      "Name: away_payout, dtype: float64\n",
      "Return of Home Games SVC:  predicted_label_svc\n",
      "0   -8.824\n",
      "1   -3.637\n",
      "Name: home_payout, dtype: float64\n",
      "\n",
      "Test Logistic Regression :0.56\n",
      "Return of Away Games:  predicted_label_lr\n",
      "0   -7.641\n",
      "1    6.634\n",
      "Name: away_payout, dtype: float64\n",
      "Return of Home Games:  predicted_label_lr\n",
      "0    -1.914\n",
      "1   -10.547\n",
      "Name: home_payout, dtype: float64\n",
      " \n",
      "Test SVC :0.56\n",
      "Return of Away Games SVC:  predicted_label_svc\n",
      "0   -2.461\n",
      "1    1.454\n",
      "Name: away_payout, dtype: float64\n",
      "Return of Home Games SVC:  predicted_label_svc\n",
      "0   -10.097\n",
      "1    -2.364\n",
      "Name: home_payout, dtype: float64\n",
      "\n",
      "Test Logistic Regression :0.57\n",
      "Return of Away Games:  predicted_label_lr\n",
      "0   -5.914\n",
      "1    4.907\n",
      "Name: away_payout, dtype: float64\n",
      "Return of Home Games:  predicted_label_lr\n",
      "0   -4.005\n",
      "1   -8.456\n",
      "Name: home_payout, dtype: float64\n",
      " \n",
      "Test SVC :0.57\n",
      "Return of Away Games SVC:  predicted_label_svc\n",
      "0   -2.734\n",
      "1    1.727\n",
      "Name: away_payout, dtype: float64\n",
      "Return of Home Games SVC:  predicted_label_svc\n",
      "0   -10.370\n",
      "1    -2.091\n",
      "Name: home_payout, dtype: float64\n",
      "\n",
      "Test Logistic Regression :0.58\n",
      "Return of Away Games:  predicted_label_lr\n",
      "0   -7.914\n",
      "1    6.907\n",
      "Name: away_payout, dtype: float64\n",
      "Return of Home Games:  predicted_label_lr\n",
      "0    -2.187\n",
      "1   -10.274\n",
      "Name: home_payout, dtype: float64\n",
      " \n",
      "Test SVC :0.58\n",
      "Return of Away Games SVC:  predicted_label_svc\n",
      "0   -1.916\n",
      "1    0.909\n",
      "Name: away_payout, dtype: float64\n",
      "Return of Home Games SVC:  predicted_label_svc\n",
      "0   -11.461\n",
      "1    -1.000\n",
      "Name: home_payout, dtype: float64\n",
      "\n",
      "Test Logistic Regression :0.59\n",
      "Return of Away Games:  predicted_label_lr\n",
      "0   -7.914\n",
      "1    6.907\n",
      "Name: away_payout, dtype: float64\n",
      "Return of Home Games:  predicted_label_lr\n",
      "0    -2.187\n",
      "1   -10.274\n",
      "Name: home_payout, dtype: float64\n",
      " \n",
      "Test SVC :0.59\n",
      "Return of Away Games SVC:  predicted_label_svc\n",
      "0   -1.916\n",
      "1    0.909\n",
      "Name: away_payout, dtype: float64\n",
      "Return of Home Games SVC:  predicted_label_svc\n",
      "0   -11.461\n",
      "1    -1.000\n",
      "Name: home_payout, dtype: float64\n",
      "\n"
     ]
    }
   ],
   "source": [
    "for prob in range(40, 60, 1):\n",
    "    proba = prob/100\n",
    "    \n",
    "    nba_test.loc[:, 'predicted_label_lr']= nba_test['predicted_proba_lrp'].map(\n",
    "        lambda p: 1 if p > proba else 0)\n",
    "    \n",
    "    nba_test.loc[:, 'predicted_label_svc']= nba_test['predicted_proba_svcp'].map(\n",
    "        lambda p: 1 if p > proba else 0)\n",
    "    \n",
    "\n",
    "    \n",
    "    print('Test Logistic Regression :' + str(proba))\n",
    "\n",
    "    print (\"Return of Away Games: \", nba_test.groupby(\n",
    "        \"predicted_label_lr\").away_payout.sum())\n",
    "    print (\"Return of Home Games: \", nba_test.groupby(\n",
    "        \"predicted_label_lr\").home_payout.sum())\n",
    "    \n",
    "    print (\" \")\n",
    "   \n",
    "    print('Test SVC :' + str(proba))    \n",
    "    print (\"Return of Away Games SVC: \", nba_test.groupby(\n",
    "        \"predicted_label_svc\").away_payout.sum())\n",
    "    print (\"Return of Home Games SVC: \", nba_test.groupby(\n",
    "        \"predicted_label_svc\").home_payout.sum())\n",
    "    print(\"\")\n",
    "    \n",
    "  "
   ]
  },
  {
   "cell_type": "code",
   "execution_count": 876,
   "metadata": {},
   "outputs": [],
   "source": [
    "    nba_test.loc[:, 'predicted_label_lr']= nba_test['predicted_proba_lrp'].map(\n",
    "    lambda p: 1 if p > .48 else 0)\n",
    "    \n",
    "    nba_test.loc[:, 'predicted_label_svc']= nba_test.predicted_proba_svcp.map(\n",
    "    lambda p: 1 if p > .50 else 0)"
   ]
  },
  {
   "cell_type": "code",
   "execution_count": 897,
   "metadata": {},
   "outputs": [],
   "source": [
    "#Combined \n",
    "nba_test['vote'] = nba_test.predicted_label_svc + nba_test.predicted_label_lr\n",
    "              "
   ]
  },
  {
   "cell_type": "code",
   "execution_count": 898,
   "metadata": {},
   "outputs": [
    {
     "data": {
      "text/plain": [
       "0    0.573333\n",
       "2    0.360000\n",
       "1    0.066667\n",
       "Name: vote, dtype: float64"
      ]
     },
     "execution_count": 898,
     "metadata": {},
     "output_type": "execute_result"
    }
   ],
   "source": [
    "nba_test.vote.value_counts(normalize = True)"
   ]
  },
  {
   "cell_type": "code",
   "execution_count": 899,
   "metadata": {},
   "outputs": [
    {
     "data": {
      "text/plain": [
       "vote\n",
       "0   -6.731\n",
       "1   -4.273\n",
       "2    9.997\n",
       "Name: away_payout, dtype: float64"
      ]
     },
     "execution_count": 899,
     "metadata": {},
     "output_type": "execute_result"
    }
   ],
   "source": [
    "nba_test.groupby(['vote'])['away_payout'].sum()"
   ]
  },
  {
   "cell_type": "code",
   "execution_count": 900,
   "metadata": {},
   "outputs": [
    {
     "data": {
      "text/plain": [
       "vote\n",
       "0    -1.004\n",
       "1     3.363\n",
       "2   -14.820\n",
       "Name: home_payout, dtype: float64"
      ]
     },
     "execution_count": 900,
     "metadata": {},
     "output_type": "execute_result"
    }
   ],
   "source": [
    "nba_test.groupby(['vote'])['home_payout'].sum()"
   ]
  },
  {
   "cell_type": "code",
   "execution_count": 901,
   "metadata": {},
   "outputs": [
    {
     "data": {
      "text/plain": [
       "predicted_label_svc\n",
       "0    0.506014\n",
       "1    0.545067\n",
       "Name: predicted_proba_svcp, dtype: float64"
      ]
     },
     "execution_count": 901,
     "metadata": {},
     "output_type": "execute_result"
    }
   ],
   "source": [
    "nba_test.predicted_label_svc\n",
    "nba_test.groupby(['predicted_label_svc'])['predicted_proba_svcp'].mean()\n",
    "    "
   ]
  },
  {
   "cell_type": "code",
   "execution_count": 895,
   "metadata": {},
   "outputs": [
    {
     "data": {
      "text/plain": [
       "array([[0.5       , 0.5       ],\n",
       "       [0.48040954, 0.51959046],\n",
       "       [0.44856839, 0.55143161],\n",
       "       [0.45263482, 0.54736518],\n",
       "       [0.5       , 0.5       ],\n",
       "       [0.48033721, 0.51966279],\n",
       "       [0.54310277, 0.45689723],\n",
       "       [0.51623095, 0.48376905],\n",
       "       [0.52803415, 0.47196585],\n",
       "       [0.51681794, 0.48318206],\n",
       "       [0.5       , 0.5       ],\n",
       "       [0.46619345, 0.53380655],\n",
       "       [0.5       , 0.5       ],\n",
       "       [0.49436465, 0.50563535],\n",
       "       [0.42997078, 0.57002922],\n",
       "       [0.43372491, 0.56627509],\n",
       "       [0.45472612, 0.54527388],\n",
       "       [0.44087805, 0.55912195],\n",
       "       [0.45359186, 0.54640814],\n",
       "       [0.46974645, 0.53025355],\n",
       "       [0.48509434, 0.51490566],\n",
       "       [0.42866194, 0.57133806],\n",
       "       [0.45939148, 0.54060852],\n",
       "       [0.48947643, 0.51052357],\n",
       "       [0.48324261, 0.51675739],\n",
       "       [0.48813584, 0.51186416],\n",
       "       [0.48683349, 0.51316651],\n",
       "       [0.48208651, 0.51791349],\n",
       "       [0.45927496, 0.54072504],\n",
       "       [0.47703639, 0.52296361],\n",
       "       [0.48982104, 0.51017896],\n",
       "       [0.48692549, 0.51307451],\n",
       "       [0.40745396, 0.59254604],\n",
       "       [0.45189429, 0.54810571],\n",
       "       [0.47212154, 0.52787846],\n",
       "       [0.44948148, 0.55051852],\n",
       "       [0.46318563, 0.53681437],\n",
       "       [0.48465057, 0.51534943],\n",
       "       [0.44897369, 0.55102631],\n",
       "       [0.45809633, 0.54190367],\n",
       "       [0.45285337, 0.54714663],\n",
       "       [0.5       , 0.5       ],\n",
       "       [0.5       , 0.5       ],\n",
       "       [0.48986631, 0.51013369],\n",
       "       [0.47915754, 0.52084246],\n",
       "       [0.48067538, 0.51932462],\n",
       "       [0.43599888, 0.56400112],\n",
       "       [0.44891378, 0.55108622],\n",
       "       [0.43688291, 0.56311709],\n",
       "       [0.43978363, 0.56021637],\n",
       "       [0.47562731, 0.52437269],\n",
       "       [0.42621898, 0.57378102],\n",
       "       [0.43446689, 0.56553311],\n",
       "       [0.4426888 , 0.5573112 ],\n",
       "       [0.46782409, 0.53217591],\n",
       "       [0.47699346, 0.52300654],\n",
       "       [0.4894389 , 0.5105611 ],\n",
       "       [0.49049323, 0.50950677],\n",
       "       [0.51807199, 0.48192801],\n",
       "       [0.5       , 0.5       ],\n",
       "       [0.48018249, 0.51981751],\n",
       "       [0.45504108, 0.54495892],\n",
       "       [0.4812567 , 0.5187433 ],\n",
       "       [0.47054507, 0.52945493],\n",
       "       [0.46652927, 0.53347073],\n",
       "       [0.45892699, 0.54107301],\n",
       "       [0.48316637, 0.51683363],\n",
       "       [0.44787879, 0.55212121],\n",
       "       [0.49043424, 0.50956576],\n",
       "       [0.46983939, 0.53016061],\n",
       "       [0.46702191, 0.53297809],\n",
       "       [0.4619457 , 0.5380543 ],\n",
       "       [0.48453296, 0.51546704],\n",
       "       [0.47344837, 0.52655163],\n",
       "       [0.46894113, 0.53105887],\n",
       "       [0.47336432, 0.52663568],\n",
       "       [0.47977272, 0.52022728],\n",
       "       [0.4340401 , 0.5659599 ],\n",
       "       [0.45729066, 0.54270934],\n",
       "       [0.49278669, 0.50721331],\n",
       "       [0.49446712, 0.50553288],\n",
       "       [0.48164316, 0.51835684],\n",
       "       [0.46082826, 0.53917174],\n",
       "       [0.47535118, 0.52464882],\n",
       "       [0.47176166, 0.52823834],\n",
       "       [0.5       , 0.5       ],\n",
       "       [0.48533617, 0.51466383],\n",
       "       [0.45765805, 0.54234195],\n",
       "       [0.48974987, 0.51025013],\n",
       "       [0.47509957, 0.52490043],\n",
       "       [0.51062812, 0.48937188],\n",
       "       [0.45691919, 0.54308081],\n",
       "       [0.48732203, 0.51267797],\n",
       "       [0.48027464, 0.51972536],\n",
       "       [0.50557055, 0.49442945],\n",
       "       [0.52721548, 0.47278452],\n",
       "       [0.5       , 0.5       ],\n",
       "       [0.47127877, 0.52872123],\n",
       "       [0.48901798, 0.51098202],\n",
       "       [0.46035022, 0.53964978],\n",
       "       [0.45420005, 0.54579995],\n",
       "       [0.48554499, 0.51445501],\n",
       "       [0.47963555, 0.52036445],\n",
       "       [0.51430167, 0.48569833],\n",
       "       [0.48621915, 0.51378085],\n",
       "       [0.45820589, 0.54179411],\n",
       "       [0.46605505, 0.53394495],\n",
       "       [0.47705252, 0.52294748],\n",
       "       [0.5       , 0.5       ],\n",
       "       [0.47000044, 0.52999956],\n",
       "       [0.47032785, 0.52967215],\n",
       "       [0.48074156, 0.51925844],\n",
       "       [0.46779669, 0.53220331],\n",
       "       [0.48358076, 0.51641924],\n",
       "       [0.46181468, 0.53818532],\n",
       "       [0.45587437, 0.54412563],\n",
       "       [0.46601771, 0.53398229],\n",
       "       [0.48166014, 0.51833986],\n",
       "       [0.5       , 0.5       ],\n",
       "       [0.4763844 , 0.5236156 ],\n",
       "       [0.47511029, 0.52488971],\n",
       "       [0.45149816, 0.54850184],\n",
       "       [0.48163874, 0.51836126],\n",
       "       [0.47275108, 0.52724892],\n",
       "       [0.5       , 0.5       ],\n",
       "       [0.52802976, 0.47197024],\n",
       "       [0.52389079, 0.47610921],\n",
       "       [0.52542533, 0.47457467],\n",
       "       [0.52899099, 0.47100901],\n",
       "       [0.52159897, 0.47840103],\n",
       "       [0.5       , 0.5       ],\n",
       "       [0.48149326, 0.51850674],\n",
       "       [0.51144264, 0.48855736],\n",
       "       [0.53041345, 0.46958655],\n",
       "       [0.45993341, 0.54006659],\n",
       "       [0.45073077, 0.54926923],\n",
       "       [0.45893368, 0.54106632],\n",
       "       [0.46966342, 0.53033658],\n",
       "       [0.45840143, 0.54159857],\n",
       "       [0.50645033, 0.49354967],\n",
       "       [0.5       , 0.5       ],\n",
       "       [0.5       , 0.5       ],\n",
       "       [0.46933988, 0.53066012],\n",
       "       [0.48333469, 0.51666531],\n",
       "       [0.47528816, 0.52471184],\n",
       "       [0.486134  , 0.513866  ],\n",
       "       [0.46323955, 0.53676045],\n",
       "       [0.48946778, 0.51053222],\n",
       "       [0.53467197, 0.46532803],\n",
       "       [0.51785946, 0.48214054]])"
      ]
     },
     "execution_count": 895,
     "metadata": {},
     "output_type": "execute_result"
    }
   ],
   "source": [
    "y_hat_svctp"
   ]
  },
  {
   "cell_type": "code",
   "execution_count": 896,
   "metadata": {
    "scrolled": true
   },
   "outputs": [
    {
     "data": {
      "text/plain": [
       "10206    0.500000\n",
       "10207    0.519590\n",
       "10208    0.551432\n",
       "10242    0.547365\n",
       "10243    0.500000\n",
       "10244    0.519663\n",
       "10245    0.456897\n",
       "10246    0.483769\n",
       "10247    0.471966\n",
       "10248    0.483182\n",
       "10249    0.500000\n",
       "10315    0.533807\n",
       "10316    0.500000\n",
       "10317    0.505635\n",
       "10352    0.570029\n",
       "10353    0.566275\n",
       "10354    0.545274\n",
       "10355    0.559122\n",
       "10356    0.546408\n",
       "10357    0.530254\n",
       "10358    0.514906\n",
       "10359    0.571338\n",
       "10360    0.540609\n",
       "10361    0.510524\n",
       "10493    0.516757\n",
       "10494    0.511864\n",
       "10495    0.513167\n",
       "10496    0.517913\n",
       "10497    0.540725\n",
       "10498    0.522964\n",
       "           ...   \n",
       "11723    0.524890\n",
       "11757    0.548502\n",
       "11758    0.518361\n",
       "11759    0.527249\n",
       "11791    0.500000\n",
       "11792    0.471970\n",
       "11793    0.476109\n",
       "11794    0.474575\n",
       "11795    0.471009\n",
       "11894    0.478401\n",
       "11895    0.500000\n",
       "11896    0.518507\n",
       "11897    0.488557\n",
       "11898    0.469587\n",
       "11966    0.540067\n",
       "11967    0.549269\n",
       "12032    0.541066\n",
       "12033    0.530337\n",
       "12034    0.541599\n",
       "12068    0.493550\n",
       "12069    0.500000\n",
       "12070    0.500000\n",
       "12071    0.530660\n",
       "12072    0.516665\n",
       "12106    0.524712\n",
       "12107    0.513866\n",
       "12108    0.536760\n",
       "12142    0.510532\n",
       "12143    0.465328\n",
       "12144    0.482141\n",
       "Name: predicted_proba_svcp, Length: 150, dtype: float64"
      ]
     },
     "execution_count": 896,
     "metadata": {},
     "output_type": "execute_result"
    }
   ],
   "source": [
    "nba_test.predicted_proba_svcp"
   ]
  },
  {
   "cell_type": "code",
   "execution_count": null,
   "metadata": {},
   "outputs": [],
   "source": []
  }
 ],
 "metadata": {
  "kernelspec": {
   "display_name": "Python 3",
   "language": "python",
   "name": "python3"
  },
  "language_info": {
   "codemirror_mode": {
    "name": "ipython",
    "version": 3
   },
   "file_extension": ".py",
   "mimetype": "text/x-python",
   "name": "python",
   "nbconvert_exporter": "python",
   "pygments_lexer": "ipython3",
   "version": "3.6.6"
  }
 },
 "nbformat": 4,
 "nbformat_minor": 2
}
