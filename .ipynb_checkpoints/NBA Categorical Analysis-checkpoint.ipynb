{
 "cells": [
  {
   "cell_type": "code",
   "execution_count": 1,
   "metadata": {},
   "outputs": [],
   "source": [
    "from sklearn.ensemble import AdaBoostClassifier\n",
    "from sklearn.model_selection import train_test_split, cross_val_score\n",
    "import pandas as pd\n",
    "import numpy as np\n",
    "from sklearn.metrics import classification_report, confusion_matrix\n",
    "import matplotlib.pyplot as plt\n",
    "from sklearn.svm import SVC\n",
    "from sklearn.preprocessing import StandardScaler\n",
    "from sklearn.linear_model import LogisticRegressionCV\n",
    "from sklearn.model_selection import GridSearchCV\n",
    "from sklearn.naive_bayes import GaussianNB\n",
    "from datatools import DataGrapher\n",
    "\n",
    "\n",
    "%matplotlib inline"
   ]
  },
  {
   "cell_type": "code",
   "execution_count": 2,
   "metadata": {},
   "outputs": [],
   "source": [
    "#Bring in the data\n",
    "\n",
    "nba = pd.read_csv('./data/nba_analysis_data.csv')\n"
   ]
  },
  {
   "cell_type": "code",
   "execution_count": 3,
   "metadata": {},
   "outputs": [],
   "source": [
    "\n",
    "\n",
    "X = nba.drop(columns = ['cover','home_win_margin', 'win_margin_ratio',\n",
    "                        'date', 'dataset','line_cv',\n",
    "                       'home_starter5',\n",
    "                       'away_starter2', 'away_starter3',\n",
    "                       'away_starter4', 'away_starter5',])\n",
    "\n",
    "y = nba['cover']"
   ]
  },
  {
   "cell_type": "code",
   "execution_count": null,
   "metadata": {},
   "outputs": [],
   "source": [
    "\n"
   ]
  },
  {
   "cell_type": "code",
   "execution_count": 4,
   "metadata": {},
   "outputs": [],
   "source": [
    "#splitting data for a train-test split\n",
    "X_train, X_test, y_train, y_test = train_test_split(X, \n",
    "                                                    y ,\n",
    "                                                    stratify=y,\n",
    "                                                    random_state = 23)"
   ]
  },
  {
   "cell_type": "code",
   "execution_count": 5,
   "metadata": {},
   "outputs": [
    {
     "name": "stdout",
     "output_type": "stream",
     "text": [
      "<class 'pandas.core.frame.DataFrame'>\n",
      "Int64Index: 6499 entries, 2375 to 1024\n",
      "Data columns (total 434 columns):\n",
      "spread                               float64\n",
      "total                                float64\n",
      "moneyline                            float64\n",
      "away_pace                            float64\n",
      "mov_5_1q                             float64\n",
      "mov_3_1q                             float64\n",
      "mov_5_2q                             float64\n",
      "mov_3_2q                             float64\n",
      "mov_5_3q                             float64\n",
      "mov_3_3q                             float64\n",
      "mov_5_4q                             float64\n",
      "mov_3_4q                             float64\n",
      "mov_5_ot1                            float64\n",
      "mov_3_ot1                            float64\n",
      "mov_5_ot2                            float64\n",
      "mov_3_ot2                            float64\n",
      "mov_5_ot3                            float64\n",
      "mov_3_ot3                            float64\n",
      "mov_5_ot4                            float64\n",
      "mov_3_ot4                            float64\n",
      "mov_5_home_score                     float64\n",
      "mov_3_home_score                     float64\n",
      "mov_5_min                            float64\n",
      "mov_3_min                            float64\n",
      "mov_5_fg                             float64\n",
      "mov_3_fg                             float64\n",
      "mov_5_fga                            float64\n",
      "mov_3_fga                            float64\n",
      "mov_5_3p                             float64\n",
      "mov_3_3p                             float64\n",
      "mov_5_3pa                            float64\n",
      "mov_3_3pa                            float64\n",
      "mov_5_ft                             float64\n",
      "mov_3_ft                             float64\n",
      "mov_5_fta                            float64\n",
      "mov_3_fta                            float64\n",
      "mov_5_or                             float64\n",
      "mov_3_or                             float64\n",
      "mov_5_dr                             float64\n",
      "mov_3_dr                             float64\n",
      "mov_5_tot                            float64\n",
      "mov_3_tot                            float64\n",
      "mov_5_a                              float64\n",
      "mov_3_a                              float64\n",
      "mov_5_pf                             float64\n",
      "mov_3_pf                             float64\n",
      "mov_5_st                             float64\n",
      "mov_3_st                             float64\n",
      "mov_5_to                             float64\n",
      "mov_3_to                             float64\n",
      "mov_5_pts                            float64\n",
      "mov_3_pts                            float64\n",
      "mov_5_pace                           float64\n",
      "mov_3_pace                           float64\n",
      "mov_5_oeff                           float64\n",
      "mov_3_oeff                           float64\n",
      "mov_5_deff                           float64\n",
      "mov_3_deff                           float64\n",
      "mov_5_bl                             float64\n",
      "mov_3_bl                             float64\n",
      "mov_5_win                            float64\n",
      "mov_3_win                            float64\n",
      "mov_5_home_win_margin                float64\n",
      "mov_3_home_win_margin                float64\n",
      "mov_5_away_score                     float64\n",
      "mov_3_away_score                     float64\n",
      "home_win_pct                         float64\n",
      "home_ave_win_margin                  float64\n",
      "mov_5_away_1q                        float64\n",
      "mov_3_away_1q                        float64\n",
      "mov_5_away_2q                        float64\n",
      "mov_3_away_2q                        float64\n",
      "mov_5_away_3q                        float64\n",
      "mov_3_away_3q                        float64\n",
      "mov_5_away_4q                        float64\n",
      "mov_3_away_4q                        float64\n",
      "mov_5_away_ot1                       float64\n",
      "mov_3_away_ot1                       float64\n",
      "mov_5_away_ot2                       float64\n",
      "mov_3_away_ot2                       float64\n",
      "mov_5_away_ot3                       float64\n",
      "mov_3_away_ot3                       float64\n",
      "mov_5_away_ot4                       float64\n",
      "mov_3_away_ot4                       float64\n",
      "mov_5_away_min                       float64\n",
      "mov_3_away_min                       float64\n",
      "mov_5_away_fg                        float64\n",
      "mov_3_away_fg                        float64\n",
      "mov_5_away_fga                       float64\n",
      "mov_3_away_fga                       float64\n",
      "mov_5_away_3p                        float64\n",
      "mov_3_away_3p                        float64\n",
      "mov_5_away_3pa                       float64\n",
      "mov_3_away_3pa                       float64\n",
      "mov_5_away_ft                        float64\n",
      "mov_3_away_ft                        float64\n",
      "mov_5_away_fta                       float64\n",
      "mov_3_away_fta                       float64\n",
      "mov_5_away_or                        float64\n",
      "mov_3_away_or                        float64\n",
      "mov_5_away_dr                        float64\n",
      "mov_3_away_dr                        float64\n",
      "mov_5_away_total_reb                 float64\n",
      "mov_3_away_total_reb                 float64\n",
      "mov_5_away_assists                   float64\n",
      "mov_3_away_assists                   float64\n",
      "mov_5_away_fouls                     float64\n",
      "mov_3_away_fouls                     float64\n",
      "mov_5_away_steals                    float64\n",
      "mov_3_away_steals                    float64\n",
      "mov_5_away_turnovers                 float64\n",
      "mov_3_away_turnovers                 float64\n",
      "mov_5_away_blocks                    float64\n",
      "mov_3_away_blocks                    float64\n",
      "mov_5_away_off_eff                   float64\n",
      "mov_3_away_off_eff                   float64\n",
      "mov_5_away_def_eff                   float64\n",
      "mov_3_away_def_eff                   float64\n",
      "mov_5_away_win                       float64\n",
      "mov_3_away_win                       float64\n",
      "mov_5_away_win_margin                float64\n",
      "mov_3_away_win_margin                float64\n",
      "away_win_pct                         float64\n",
      "away_ave_win_margin                  float64\n",
      "high_alt                             int64\n",
      "away_rest_2                          int64\n",
      "away_rest_3+                         int64\n",
      "away_rest_3IN4                       int64\n",
      "away_rest_3IN4-B2B                   int64\n",
      "away_rest_3IN4-B2B2B                 int64\n",
      "away_rest_4IN5                       int64\n",
      "away_rest_4IN5-B2B                   int64\n",
      "away_rest_4IN5-B2B2B                 int64\n",
      "away_rest_5IN6                       int64\n",
      "away_rest_5IN6-B2B2B                 int64\n",
      "away_rest_B2B                        int64\n",
      "away_rest_B2B2B                      int64\n",
      "rest_days_2                          int64\n",
      "rest_days_3+                         int64\n",
      "rest_days_3IN4                       int64\n",
      "rest_days_3IN4-B2B                   int64\n",
      "rest_days_3IN4-B2B2B                 int64\n",
      "rest_days_4IN5                       int64\n",
      "rest_days_4IN5-B2B                   int64\n",
      "rest_days_4IN5-B2B2B                 int64\n",
      "rest_days_5IN6                       int64\n",
      "rest_days_5IN6-B2B2B                 int64\n",
      "rest_days_B2B                        int64\n",
      "teams_Boston                         int64\n",
      "teams_Charlotte                      int64\n",
      "teams_Chicago                        int64\n",
      "teams_Cleveland                      int64\n",
      "teams_Dallas                         int64\n",
      "teams_Denver                         int64\n",
      "teams_Detroit                        int64\n",
      "teams_Golden_State                   int64\n",
      "teams_Houston                        int64\n",
      "teams_Indiana                        int64\n",
      "teams_LA_Clippers                    int64\n",
      "teams_LA_Lakers                      int64\n",
      "teams_Memphis                        int64\n",
      "teams_Miami                          int64\n",
      "teams_Milwaukee                      int64\n",
      "teams_Minnesota                      int64\n",
      "teams_New_Jersey                     int64\n",
      "teams_New_Orleans                    int64\n",
      "teams_New_York                       int64\n",
      "teams_Orlando                        int64\n",
      "teams_Philadelphia                   int64\n",
      "teams_Phoenix                        int64\n",
      "teams_Portland                       int64\n",
      "teams_Sacramento                     int64\n",
      "teams_San_Antonio                    int64\n",
      "teams_Seattle                        int64\n",
      "teams_Toronto                        int64\n",
      "teams_Utah                           int64\n",
      "teams_Washington                     int64\n",
      "away_team_Boston                     int64\n",
      "away_team_Charlotte                  int64\n",
      "away_team_Chicago                    int64\n",
      "away_team_Cleveland                  int64\n",
      "away_team_Dallas                     int64\n",
      "away_team_Denver                     int64\n",
      "away_team_Detroit                    int64\n",
      "away_team_Golden_State               int64\n",
      "away_team_Houston                    int64\n",
      "away_team_Indiana                    int64\n",
      "away_team_LA_Clippers                int64\n",
      "away_team_LA_Lakers                  int64\n",
      "away_team_Memphis                    int64\n",
      "away_team_Miami                      int64\n",
      "away_team_Milwaukee                  int64\n",
      "away_team_Minnesota                  int64\n",
      "away_team_New_Jersey                 int64\n",
      "away_team_New_Orleans                int64\n",
      "away_team_New_York                   int64\n",
      "away_team_Orlando                    int64\n",
      "away_team_Philadelphia               int64\n",
      "away_team_Phoenix                    int64\n",
      "away_team_Portland                   int64\n",
      "away_team_Sacramento                 int64\n",
      "away_team_San_Antonio                int64\n",
      "away_team_Seattle                    int64\n",
      "away_team_Toronto                    int64\n",
      "away_team_Utah                       int64\n",
      "away_team_Washington                 int64\n",
      "ref_1_Bennett Salvatore              int64\n",
      "ref_1_Bennie Adams                   int64\n",
      "ref_1_Bernie Fryer                   int64\n",
      "ref_1_Bill Kennedy                   int64\n",
      "ref_1_Bill Spooner                   int64\n",
      "ref_1_Bob Delaney                    int64\n",
      "ref_1_Brian Forte                    int64\n",
      "ref_1_Courtney Kirkland              int64\n",
      "ref_1_Dan Crawford                   int64\n",
      "ref_1_David Guthrie                  int64\n",
      "ref_1_David Jones                    int64\n",
      "ref_1_Derek Richardson               int64\n",
      "ref_1_Derrick Collins                int64\n",
      "ref_1_Derrick Stafford               int64\n",
      "ref_1_Dick Bavetta                   int64\n",
      "ref_1_Ed Malloy                      int64\n",
      "ref_1_Eddie Rush                     int64\n",
      "ref_1_Eli Roe                        int64\n",
      "ref_1_Gary Zielinski                 int64\n",
      "ref_1_Greg Willard                   int64\n",
      "ref_1_Jack Nies                      int64\n",
      "ref_1_James Capers                   int64\n",
      "ref_1_Jason Phillips                 int64\n",
      "ref_1_Jimmy Clark                    int64\n",
      "ref_1_Joe Crawford                   int64\n",
      "ref_1_Joe DeRosa                     int64\n",
      "ref_1_Joe Forte                      int64\n",
      "ref_1_John Goble                     int64\n",
      "ref_1_Ken Mauer                      int64\n",
      "ref_1_Kevin Fehr                     int64\n",
      "ref_1_Leon Wood                      int64\n",
      "ref_1_Leroy Richardson               int64\n",
      "ref_1_Luis Grillo                    int64\n",
      "ref_1_Marc Davis                     int64\n",
      "ref_1_Mark Ayotte                    int64\n",
      "ref_1_Mark Wunderlich                int64\n",
      "ref_1_Matt Boland                    int64\n",
      "ref_1_Michael Smith                  int64\n",
      "ref_1_Mike Callahan                  int64\n",
      "ref_1_Monty McCutchen                int64\n",
      "ref_1_Not available                  int64\n",
      "ref_1_Olandis Poole                  int64\n",
      "ref_1_Pat Fraher                     int64\n",
      "ref_1_Phil Robinson                  int64\n",
      "ref_1_Rodney Mott                    int64\n",
      "ref_1_Ron Garretson                  int64\n",
      "ref_1_Ron Olesiak                    int64\n",
      "ref_1_Scott Foster                   int64\n",
      "ref_1_Scott Wall                     int64\n",
      "ref_1_Sean Corbin                    int64\n",
      "ref_1_Sean Wright                    int64\n",
      "ref_1_Steve Javie                    int64\n",
      "ref_1_Tim Donaghy                    int64\n",
      "ref_1_Tom Washington                 int64\n",
      "ref_1_Tony Brothers                  int64\n",
      "ref_1_Tony Brown                     int64\n",
      "ref_1_Violet Palmer                  int64\n",
      "ref_1_Zach Zarba                     int64\n",
      "crew_referees_Ben Taylor             int64\n",
      "crew_referees_Bennett Salvatore      int64\n",
      "crew_referees_Bennie Adams           int64\n",
      "crew_referees_Bernie Fryer           int64\n",
      "crew_referees_Bill Kennedy           int64\n",
      "crew_referees_Bill Spooner           int64\n",
      "crew_referees_Bob Delaney            int64\n",
      "crew_referees_Brenda Pantoja         int64\n",
      "crew_referees_Brent Barnaky          int64\n",
      "crew_referees_Brett Nansel           int64\n",
      "crew_referees_Brian Forte            int64\n",
      "crew_referees_CJ Washington          int64\n",
      "crew_referees_Courtney Kirkland      int64\n",
      "crew_referees_Curtis Blair           int64\n",
      "crew_referees_David Guthrie          int64\n",
      "crew_referees_David Jones            int64\n",
      "crew_referees_Dedric Taylor          int64\n",
      "crew_referees_Derek Richardson       int64\n",
      "crew_referees_Derrick Collins        int64\n",
      "crew_referees_Derrick Stafford       int64\n",
      "crew_referees_Ed Malloy              int64\n",
      "crew_referees_Eddie Rush             int64\n",
      "crew_referees_Eli Roe                int64\n",
      "crew_referees_Eric Dalen             int64\n",
      "crew_referees_Eric Lewis             int64\n",
      "crew_referees_Gary Zielinski         int64\n",
      "crew_referees_Gediminas Petraitis    int64\n",
      "crew_referees_Greg Willard           int64\n",
      "crew_referees_Haywoode Workman       int64\n",
      "crew_referees_JT Orr                 int64\n",
      "crew_referees_Jack Nies              int64\n",
      "crew_referees_James Capers           int64\n",
      "crew_referees_James Williams         int64\n",
      "crew_referees_Jason Phillips         int64\n",
      "crew_referees_Jess Kersey            int64\n",
      "crew_referees_Joe Crawford           int64\n",
      "crew_referees_Joe DeRosa             int64\n",
      "crew_referees_Joe Forte              int64\n",
      "crew_referees_John Goble             int64\n",
      "crew_referees_Josh Tiven             int64\n",
      "crew_referees_Justin VanDuyne        int64\n",
      "crew_referees_Kane Fitzgerald        int64\n",
      "crew_referees_Karl Lane              int64\n",
      "crew_referees_Ken Mauer              int64\n",
      "crew_referees_Kevin Cutler           int64\n",
      "crew_referees_Kevin Fehr             int64\n",
      "crew_referees_Kevin Scott            int64\n",
      "crew_referees_Lauren Holtkamp        int64\n",
      "crew_referees_Leon Wood              int64\n",
      "crew_referees_Leroy Richardson       int64\n",
      "crew_referees_Luis Grillo            int64\n",
      "crew_referees_Marat Kogut            int64\n",
      "crew_referees_Marc Davis             int64\n",
      "crew_referees_Mark Ayotte            int64\n",
      "crew_referees_Mark Lindsay           int64\n",
      "crew_referees_Mark Wunderlich        int64\n",
      "crew_referees_Matt Boland            int64\n",
      "crew_referees_Matt Myers             int64\n",
      "crew_referees_Michael Smith          int64\n",
      "crew_referees_Mitchell Ervin         int64\n",
      "crew_referees_Monty McCutchen        int64\n",
      "crew_referees_Nick Buchert           int64\n",
      "crew_referees_Not available          int64\n",
      "crew_referees_Olandis Poole          int64\n",
      "crew_referees_Pat Fraher             int64\n",
      "crew_referees_Phil Robinson          int64\n",
      "crew_referees_Robbie Robinson        int64\n",
      "crew_referees_Rodney Mott            int64\n",
      "crew_referees_Ron Garretson          int64\n",
      "crew_referees_Ron Olesiak            int64\n",
      "crew_referees_Scott Bolnick          int64\n",
      "crew_referees_Scott Foster           int64\n",
      "crew_referees_Scott Twardoski        int64\n",
      "crew_referees_Scott Wall             int64\n",
      "crew_referees_Sean Corbin            int64\n",
      "crew_referees_Sean Wright            int64\n",
      "crew_referees_SirAllen Connor        int64\n",
      "crew_referees_Sirallen Conner        int64\n",
      "crew_referees_Steve Javie            int64\n",
      "crew_referees_Steven Anderson        int64\n",
      "crew_referees_Tim Donaghy            int64\n",
      "crew_referees_Tom Washington         int64\n",
      "crew_referees_Tommy Nunez Jr.        int64\n",
      "crew_referees_Tony Brown             int64\n",
      "crew_referees_Tre Maddox             int64\n",
      "crew_referees_Tyler Ford             int64\n",
      "crew_referees_Violet Palmer          int64\n",
      "crew_referees_Zach Zarba             int64\n",
      "ref_3_Bennett Salvatore              int64\n",
      "ref_3_Bennie Adams                   int64\n",
      "ref_3_Bernie Fryer                   int64\n",
      "ref_3_Bill Kennedy                   int64\n",
      "ref_3_Bill Spooner                   int64\n",
      "ref_3_Bob Delaney                    int64\n",
      "ref_3_Brent Barnaky                  int64\n",
      "ref_3_Brian Forte                    int64\n",
      "ref_3_Courtney Kirkland              int64\n",
      "ref_3_Curtis Blair                   int64\n",
      "ref_3_Dan Crawford                   int64\n",
      "ref_3_David Guthrie                  int64\n",
      "ref_3_David Jones                    int64\n",
      "ref_3_Derek Richardson               int64\n",
      "ref_3_Derrick Collins                int64\n",
      "ref_3_Derrick Stafford               int64\n",
      "ref_3_Ed Malloy                      int64\n",
      "ref_3_Eddie Rush                     int64\n",
      "ref_3_Eli Roe                        int64\n",
      "ref_3_Eric Dalen                     int64\n",
      "ref_3_Eric Lewis                     int64\n",
      "ref_3_Gary Zielinski                 int64\n",
      "ref_3_Greg Willard                   int64\n",
      "ref_3_Haywoode Workman               int64\n",
      "ref_3_JT Orr                         int64\n",
      "ref_3_Jack Nies                      int64\n",
      "ref_3_James Capers                   int64\n",
      "ref_3_Jason Phillips                 int64\n",
      "ref_3_Jess Kersey                    int64\n",
      "ref_3_Jimmy Clark                    int64\n",
      "ref_3_Joe Crawford                   int64\n",
      "ref_3_Joe DeRosa                     int64\n",
      "ref_3_Joe Forte                      int64\n",
      "ref_3_John Goble                     int64\n",
      "ref_3_Josh Tiven                     int64\n",
      "ref_3_Kane Fitzgerald                int64\n",
      "ref_3_Karl Lane                      int64\n",
      "ref_3_Ken Mauer                      int64\n",
      "ref_3_Kevin Cutler                   int64\n",
      "ref_3_Kevin Fehr                     int64\n",
      "ref_3_Kevin Scott                    int64\n",
      "ref_3_Leon Wood                      int64\n",
      "ref_3_Leroy Richardson               int64\n",
      "ref_3_Luis Grillo                    int64\n",
      "ref_3_Marat Kogut                    int64\n",
      "ref_3_Marc Davis                     int64\n",
      "ref_3_Mark Ayotte                    int64\n",
      "ref_3_Mark Lindsay                   int64\n",
      "ref_3_Mark Wunderlich                int64\n",
      "ref_3_Matt Boland                    int64\n",
      "ref_3_Michael Smith                  int64\n",
      "ref_3_Mike Callahan                  int64\n",
      "ref_3_Monty McCutchen                int64\n",
      "ref_3_Nick Buchert                   int64\n",
      "ref_3_Not available                  int64\n",
      "ref_3_Olandis Poole                  int64\n",
      "ref_3_Pat Fraher                     int64\n",
      "ref_3_Phil Robinson                  int64\n",
      "ref_3_Rodney Mott                    int64\n",
      "ref_3_Ron Garretson                  int64\n",
      "ref_3_Ron Olesiak                    int64\n",
      "ref_3_Scott Foster                   int64\n",
      "ref_3_Scott Wall                     int64\n",
      "ref_3_Sean Corbin                    int64\n",
      "ref_3_Sean Wright                    int64\n",
      "ref_3_Steve Javie                    int64\n",
      "ref_3_Steven Anderson                int64\n",
      "ref_3_Tim Donaghy                    int64\n",
      "ref_3_Tom Washington                 int64\n",
      "ref_3_Tommy Nunez Jr.                int64\n",
      "ref_3_Tony Brothers                  int64\n",
      "ref_3_Tony Brown                     int64\n",
      "ref_3_Tre Maddox                     int64\n",
      "ref_3_Violet Palmer                  int64\n",
      "ref_3_Zach Zarba                     int64\n",
      "eff_ratio1                           float64\n",
      "eff_ratio2                           float64\n",
      "eff_ratio3                           float64\n",
      "eff_ratio4                           float64\n",
      "home_score_margin                    float64\n",
      "away_score_margin                    float64\n",
      "playoff_game                         int64\n",
      "dtypes: float64(130), int64(304)\n",
      "memory usage: 21.6 MB\n"
     ]
    }
   ],
   "source": [
    "X_train.info(verbose = True)"
   ]
  },
  {
   "cell_type": "code",
   "execution_count": 6,
   "metadata": {},
   "outputs": [
    {
     "data": {
      "text/plain": [
       "(array([], dtype=int64), array([], dtype=int64))"
      ]
     },
     "execution_count": 6,
     "metadata": {},
     "output_type": "execute_result"
    }
   ],
   "source": [
    "np.where(X_train.values >= np.finfo(np.float64).max)\n"
   ]
  },
  {
   "cell_type": "code",
   "execution_count": 7,
   "metadata": {},
   "outputs": [
    {
     "name": "stderr",
     "output_type": "stream",
     "text": [
      "/Users/bryancombs/anaconda3/lib/python3.6/site-packages/sklearn/preprocessing/data.py:617: DataConversionWarning: Data with input dtype int64, float64 were all converted to float64 by StandardScaler.\n",
      "  return self.partial_fit(X, y)\n",
      "/Users/bryancombs/anaconda3/lib/python3.6/site-packages/sklearn/base.py:462: DataConversionWarning: Data with input dtype int64, float64 were all converted to float64 by StandardScaler.\n",
      "  return self.fit(X, **fit_params).transform(X)\n",
      "/Users/bryancombs/anaconda3/lib/python3.6/site-packages/ipykernel_launcher.py:4: DataConversionWarning: Data with input dtype int64, float64 were all converted to float64 by StandardScaler.\n",
      "  after removing the cwd from sys.path.\n"
     ]
    }
   ],
   "source": [
    "#scaling data to use in various other methods\n",
    "ss = StandardScaler()\n",
    "X_train_scaled = ss.fit_transform(X_train)\n",
    "X_test_scaled = ss.transform(X_test)"
   ]
  },
  {
   "cell_type": "code",
   "execution_count": 8,
   "metadata": {},
   "outputs": [],
   "source": [
    "from sklearn.decomposition import PCA"
   ]
  },
  {
   "cell_type": "code",
   "execution_count": 9,
   "metadata": {},
   "outputs": [],
   "source": [
    "pc = PCA(n_components=330)\n",
    "X_train_pc = pc.fit_transform(X_train_scaled)\n",
    "X_test_pc = pc.transform(X_test_scaled)\n"
   ]
  },
  {
   "cell_type": "code",
   "execution_count": 10,
   "metadata": {},
   "outputs": [
    {
     "name": "stdout",
     "output_type": "stream",
     "text": [
      "Explained variance:             [0.03428207 0.02814723 0.01611594 0.01551474 0.01415412 0.01166162\n",
      " 0.01061315 0.00941504 0.00881336 0.0074524  0.00730858 0.00717563\n",
      " 0.00656968 0.00631975 0.00613764 0.00553475 0.00524219 0.00496107\n",
      " 0.00492845 0.00468393 0.00462979 0.00442545 0.00430439 0.00421197\n",
      " 0.00407963 0.00404056 0.00395464 0.00394198 0.00388035 0.00382944\n",
      " 0.0038012  0.00376271 0.00372635 0.00369966 0.00365821 0.00365213\n",
      " 0.00363193 0.00360109 0.00359561 0.00356649 0.00355393 0.00352551\n",
      " 0.00348932 0.0034564  0.00345162 0.00342357 0.00338426 0.00337446\n",
      " 0.00336737 0.00333338 0.00331229 0.00330739 0.00330136 0.00329358\n",
      " 0.00327154 0.00324499 0.00322702 0.00322214 0.00321521 0.00320364\n",
      " 0.00319419 0.00317852 0.003167   0.00315084 0.00314107 0.00312933\n",
      " 0.00311656 0.00311274 0.003103   0.00308245 0.00306772 0.00306629\n",
      " 0.00305851 0.00304339 0.00304085 0.00302522 0.00301146 0.00299624\n",
      " 0.00298338 0.00298013 0.00297384 0.00296461 0.00295362 0.00295236\n",
      " 0.00293658 0.00292384 0.00291835 0.00290983 0.00290396 0.00289835\n",
      " 0.00288423 0.0028809  0.0028734  0.00286691 0.00285565 0.00284541\n",
      " 0.00283417 0.00282973 0.00282017 0.00281466 0.00281211 0.00280077\n",
      " 0.00279636 0.00279125 0.00278753 0.00277759 0.00276872 0.00276054\n",
      " 0.00274602 0.00274283 0.00273627 0.00272619 0.00272222 0.002717\n",
      " 0.00270971 0.00269768 0.00269595 0.0026934  0.00268188 0.00267665\n",
      " 0.00266223 0.00265615 0.00264839 0.00264429 0.00264128 0.00262878\n",
      " 0.002625   0.00261953 0.00261806 0.00260874 0.00259966 0.00259742\n",
      " 0.00259352 0.00257971 0.0025664  0.00256321 0.00255491 0.00255052\n",
      " 0.00254351 0.00254124 0.00253591 0.00252319 0.0025192  0.00251066\n",
      " 0.0025028  0.00249857 0.00249138 0.00248709 0.00248166 0.00247352\n",
      " 0.0024673  0.00246095 0.00245896 0.00245393 0.00244863 0.00244339\n",
      " 0.00243911 0.00243444 0.00242967 0.00242041 0.00241426 0.00240934\n",
      " 0.00240039 0.002392   0.00238823 0.00238461 0.00238023 0.00237666\n",
      " 0.00236943 0.00236614 0.00235589 0.00235386 0.00234064 0.00234028\n",
      " 0.00233695 0.00232529 0.00232351 0.0023195  0.00231665 0.00230812\n",
      " 0.00229874 0.00229614 0.00229342 0.00228191 0.00227764 0.00227525\n",
      " 0.0022678  0.00226553 0.0022612  0.00225726 0.00224767 0.00224086\n",
      " 0.00223977 0.00223619 0.00222892 0.00222087 0.00221621 0.00220806\n",
      " 0.00220078 0.00219498 0.0021914  0.00218476 0.00217897 0.00217451\n",
      " 0.00217157 0.00216787 0.00216014 0.0021531  0.00214511 0.00214103\n",
      " 0.00214001 0.00213425 0.0021317  0.00212612 0.00212304 0.00211153\n",
      " 0.00210999 0.00210711 0.00210133 0.00209474 0.00208757 0.00208449\n",
      " 0.00207906 0.00207132 0.00206736 0.00205824 0.00204953 0.00204253\n",
      " 0.00203775 0.00203529 0.00203077 0.00202174 0.00201258 0.00201027\n",
      " 0.00200366 0.00199691 0.00199171 0.00198501 0.00197957 0.0019732\n",
      " 0.00197035 0.00195955 0.00195229 0.00195072 0.00194438 0.00193785\n",
      " 0.00192904 0.001925   0.0019208  0.0019115  0.00191038 0.00190807\n",
      " 0.00190016 0.00189541 0.00189454 0.00188818 0.0018851  0.00187623\n",
      " 0.00186799 0.00185846 0.00185041 0.00184415 0.00183504 0.00183022\n",
      " 0.00182454 0.00182056 0.00181123 0.00180622 0.00180334 0.0017947\n",
      " 0.00178678 0.0017786  0.00177363 0.00176189 0.00175948 0.00174658\n",
      " 0.00174327 0.0017378  0.00173203 0.00172379 0.0017182  0.00171588\n",
      " 0.00170592 0.00170061 0.0016932  0.00168783 0.0016756  0.00166718\n",
      " 0.00166535 0.00165118 0.00164719 0.0016369  0.00162829 0.00162524\n",
      " 0.00161237 0.0016068  0.00159598 0.0015949  0.00159156 0.00157335\n",
      " 0.00156151 0.00155459 0.00153857 0.00153243 0.00152926 0.00150876\n",
      " 0.00150466 0.00149784 0.00149224 0.00147589 0.00145447 0.00144391\n",
      " 0.00143226 0.00142007 0.00141912 0.00139193 0.00138208 0.00137759\n",
      " 0.00135681 0.0013542  0.00132225 0.00132031 0.00130598 0.00128154\n",
      " 0.00127497 0.00124734 0.00122807 0.00121227 0.00119526 0.00117107]\n",
      "Cumulative explained variance:  [0.03428207 0.06242931 0.07854525 0.09405999 0.10821411 0.11987573\n",
      " 0.13048887 0.13990391 0.14871727 0.15616967 0.16347826 0.17065388\n",
      " 0.17722356 0.18354331 0.18968094 0.19521569 0.20045789 0.20541895\n",
      " 0.2103474  0.21503133 0.21966113 0.22408658 0.22839097 0.23260295\n",
      " 0.23668258 0.24072314 0.24467778 0.24861976 0.25250012 0.25632956\n",
      " 0.26013075 0.26389346 0.26761981 0.27131947 0.27497768 0.27862981\n",
      " 0.28226174 0.28586284 0.28945844 0.29302494 0.29657887 0.30010437\n",
      " 0.3035937  0.30705009 0.31050172 0.31392528 0.31730955 0.32068401\n",
      " 0.32405138 0.32738476 0.33069705 0.33400443 0.3373058  0.34059937\n",
      " 0.34387091 0.3471159  0.35034292 0.35356506 0.35678027 0.35998391\n",
      " 0.3631781  0.36635662 0.36952362 0.37267447 0.37581554 0.37894487\n",
      " 0.38206143 0.38517417 0.38827718 0.39135962 0.39442735 0.39749363\n",
      " 0.40055214 0.40359553 0.40663638 0.4096616  0.41267306 0.4156693\n",
      " 0.41865268 0.42163282 0.42460666 0.42757127 0.43052488 0.43347724\n",
      " 0.43641382 0.43933766 0.44225601 0.44516584 0.4480698  0.45096815\n",
      " 0.45385238 0.45673328 0.45960668 0.46247359 0.46532924 0.46817465\n",
      " 0.47100882 0.47383855 0.47665873 0.47947339 0.48228549 0.48508626\n",
      " 0.48788262 0.49067387 0.4934614  0.496239   0.49900772 0.50176826\n",
      " 0.50451428 0.50725711 0.50999338 0.51271957 0.51544179 0.51815879\n",
      " 0.5208685  0.52356618 0.52626214 0.52895554 0.53163742 0.53431407\n",
      " 0.5369763  0.53963245 0.54228084 0.54492513 0.54756641 0.55019519\n",
      " 0.55282019 0.55543972 0.55805779 0.56066653 0.56326619 0.5658636\n",
      " 0.56845712 0.57103683 0.57360323 0.57616644 0.57872135 0.58127187\n",
      " 0.58381538 0.58635663 0.58889254 0.59141573 0.59393493 0.59644558\n",
      " 0.59894838 0.60144695 0.60393833 0.60642542 0.60890708 0.6113806\n",
      " 0.61384791 0.61630885 0.61876781 0.62122174 0.62367037 0.62611376\n",
      " 0.62855287 0.63098731 0.63341698 0.6358374  0.63825166 0.640661\n",
      " 0.6430614  0.6454534  0.64784163 0.65022624 0.65260646 0.65498313\n",
      " 0.65735256 0.6597187  0.66207458 0.66442844 0.66676908 0.66910936\n",
      " 0.67144631 0.67377159 0.67609511 0.67841461 0.68073126 0.68303937\n",
      " 0.68533812 0.68763426 0.68992768 0.69220959 0.69448723 0.69676248\n",
      " 0.69903028 0.7012958  0.703557   0.70581426 0.70806192 0.71030278\n",
      " 0.71254255 0.71477873 0.71700765 0.71922853 0.72144474 0.7236528\n",
      " 0.72585358 0.72804857 0.73023997 0.73242473 0.73460369 0.7367782\n",
      " 0.73894978 0.74111764 0.74327778 0.74543088 0.747576   0.74971703\n",
      " 0.75185703 0.75399128 0.75612298 0.7582491  0.76037214 0.76248367\n",
      " 0.76459365 0.76670076 0.76880209 0.77089683 0.77298441 0.7750689\n",
      " 0.77714796 0.77921928 0.78128664 0.78334488 0.78539441 0.78743694\n",
      " 0.78947469 0.79150998 0.79354075 0.7955625  0.79757508 0.79958535\n",
      " 0.80158902 0.80358593 0.80557764 0.80756265 0.80954222 0.81151543\n",
      " 0.81348578 0.81544533 0.81739762 0.81934834 0.82129271 0.82323056\n",
      " 0.8251596  0.8270846  0.8290054  0.83091691 0.83282729 0.83473536\n",
      " 0.83663552 0.83853093 0.84042548 0.84231365 0.84419875 0.84607498\n",
      " 0.84794297 0.84980143 0.85165185 0.853496   0.85533105 0.85716127\n",
      " 0.85898581 0.86080637 0.8626176  0.86442382 0.86622716 0.86802186\n",
      " 0.86980864 0.87158724 0.87336087 0.87512276 0.87688224 0.87862883\n",
      " 0.8803721  0.88210989 0.88384193 0.88556572 0.88728392 0.8889998\n",
      " 0.89070572 0.89240632 0.89409953 0.89578736 0.89746297 0.89913015\n",
      " 0.9007955  0.90244668 0.90409387 0.90573077 0.90735906 0.90898431\n",
      " 0.91059668 0.91220348 0.91379947 0.91539437 0.91698593 0.91855928\n",
      " 0.92012079 0.92167539 0.92321396 0.92474639 0.92627565 0.92778441\n",
      " 0.92928907 0.93078691 0.93227915 0.93375504 0.93520952 0.93665342\n",
      " 0.93808568 0.93950575 0.94092487 0.9423168  0.94369888 0.94507646\n",
      " 0.94643328 0.94778748 0.94910973 0.95043005 0.95173603 0.95301757\n",
      " 0.95429254 0.95553988 0.95676794 0.95798022 0.95917548 0.96034655]\n"
     ]
    }
   ],
   "source": [
    "var_exp = pc.explained_variance_ratio_\n",
    "print('Explained variance:            ', var_exp)\n",
    "\n",
    "cum_var_exp = np.cumsum(var_exp)\n",
    "print('Cumulative explained variance: ', cum_var_exp)"
   ]
  },
  {
   "cell_type": "code",
   "execution_count": 11,
   "metadata": {},
   "outputs": [
    {
     "name": "stderr",
     "output_type": "stream",
     "text": [
      "/Users/bryancombs/anaconda3/lib/python3.6/site-packages/sklearn/linear_model/sag.py:334: ConvergenceWarning: The max_iter was reached which means the coef_ did not converge\n",
      "  \"the coef_ did not converge\", ConvergenceWarning)\n",
      "/Users/bryancombs/anaconda3/lib/python3.6/site-packages/sklearn/linear_model/sag.py:334: ConvergenceWarning: The max_iter was reached which means the coef_ did not converge\n",
      "  \"the coef_ did not converge\", ConvergenceWarning)\n",
      "/Users/bryancombs/anaconda3/lib/python3.6/site-packages/sklearn/linear_model/sag.py:334: ConvergenceWarning: The max_iter was reached which means the coef_ did not converge\n",
      "  \"the coef_ did not converge\", ConvergenceWarning)\n"
     ]
    },
    {
     "data": {
      "text/plain": [
       "0.5594706877981228"
      ]
     },
     "execution_count": 11,
     "metadata": {},
     "output_type": "execute_result"
    }
   ],
   "source": [
    "lr = LogisticRegressionCV(penalty='l2', solver ='saga', cv =3 )\n",
    "lr.fit(X_train_pc, y_train)\n",
    "lr.score(X_train_pc, y_train)"
   ]
  },
  {
   "cell_type": "code",
   "execution_count": 12,
   "metadata": {},
   "outputs": [
    {
     "data": {
      "text/plain": [
       "0.5163820950622982"
      ]
     },
     "execution_count": 12,
     "metadata": {},
     "output_type": "execute_result"
    }
   ],
   "source": [
    "lr.score(X_test_pc, y_test)"
   ]
  },
  {
   "cell_type": "code",
   "execution_count": 61,
   "metadata": {},
   "outputs": [],
   "source": [
    "y_hat_lr = lr.predict(X_test_pc)\n",
    "y_hat_lrp = lr.predict_proba(X_test_pc)\n"
   ]
  },
  {
   "cell_type": "code",
   "execution_count": 67,
   "metadata": {},
   "outputs": [],
   "source": [
    " score = y_hat_lrp[:, 1] + y_test"
   ]
  },
  {
   "cell_type": "code",
   "execution_count": 68,
   "metadata": {},
   "outputs": [
    {
     "data": {
      "text/plain": [
       "2855    0.462609\n",
       "4323    0.453814\n",
       "5774    0.463276\n",
       "5793    0.464645\n",
       "1156    0.443722\n",
       "1950    1.485029\n",
       "3696    0.475750\n",
       "5122    1.472575\n",
       "2352    0.467191\n",
       "64      1.477873\n",
       "7708    0.459906\n",
       "8465    0.484268\n",
       "708     0.471472\n",
       "1530    0.510126\n",
       "4242    0.482037\n",
       "7154    1.479633\n",
       "6746    0.479192\n",
       "2712    0.490890\n",
       "5787    0.479043\n",
       "2300    0.472360\n",
       "5815    1.500985\n",
       "1557    0.499089\n",
       "7163    1.474828\n",
       "6872    0.473589\n",
       "3498    0.487433\n",
       "3927    1.473862\n",
       "6427    0.440502\n",
       "3489    1.483612\n",
       "936     1.460307\n",
       "1248    1.471131\n",
       "          ...   \n",
       "5645    0.526778\n",
       "6523    1.469095\n",
       "2750    1.490958\n",
       "1636    1.451554\n",
       "6258    1.518902\n",
       "6301    1.455190\n",
       "6848    1.476479\n",
       "7107    1.492616\n",
       "4068    0.445428\n",
       "8187    1.538218\n",
       "3123    1.537059\n",
       "8301    1.476065\n",
       "6307    0.457267\n",
       "7725    1.450451\n",
       "5642    0.460767\n",
       "7795    0.479532\n",
       "6071    0.462337\n",
       "8208    0.465636\n",
       "1296    0.467842\n",
       "846     1.471065\n",
       "5839    1.474664\n",
       "391     1.475101\n",
       "5941    1.479365\n",
       "868     1.495089\n",
       "8536    0.464794\n",
       "3775    0.489455\n",
       "5914    1.483446\n",
       "2543    0.474613\n",
       "6311    1.481957\n",
       "7414    0.485200\n",
       "Name: cover, Length: 2167, dtype: float64"
      ]
     },
     "execution_count": 68,
     "metadata": {},
     "output_type": "execute_result"
    }
   ],
   "source": []
  },
  {
   "cell_type": "code",
   "execution_count": 14,
   "metadata": {},
   "outputs": [
    {
     "name": "stdout",
     "output_type": "stream",
     "text": [
      "              precision    recall  f1-score   support\n",
      "\n",
      "           0       0.52      0.86      0.65      1129\n",
      "           1       0.48      0.14      0.22      1038\n",
      "\n",
      "   micro avg       0.52      0.52      0.52      2167\n",
      "   macro avg       0.50      0.50      0.43      2167\n",
      "weighted avg       0.50      0.52      0.44      2167\n",
      "\n"
     ]
    }
   ],
   "source": [
    "print(classification_report(y_test, y_hat_lr))"
   ]
  },
  {
   "cell_type": "code",
   "execution_count": 15,
   "metadata": {},
   "outputs": [
    {
     "data": {
      "text/plain": [
       "array([[971, 158],\n",
       "       [890, 148]])"
      ]
     },
     "execution_count": 15,
     "metadata": {},
     "output_type": "execute_result"
    }
   ],
   "source": [
    "confusion_matrix( y_test, y_hat_lr)"
   ]
  },
  {
   "cell_type": "markdown",
   "metadata": {},
   "source": [
    "### Naive Bayes\n",
    "\n",
    "Model seems to work best with bare bones information.  More information confused the model."
   ]
  },
  {
   "cell_type": "code",
   "execution_count": 16,
   "metadata": {},
   "outputs": [],
   "source": [
    "nb = GaussianNB()\n",
    "nb_params = {\n",
    "    'var_smoothing' : [.2,.3,.4 ] \n",
    "    }"
   ]
  },
  {
   "cell_type": "code",
   "execution_count": null,
   "metadata": {},
   "outputs": [],
   "source": []
  },
  {
   "cell_type": "code",
   "execution_count": 17,
   "metadata": {},
   "outputs": [
    {
     "name": "stderr",
     "output_type": "stream",
     "text": [
      "/Users/bryancombs/anaconda3/lib/python3.6/site-packages/sklearn/model_selection/_split.py:1943: FutureWarning: You should specify a value for 'cv' instead of relying on the default value. The default value will change from 3 to 5 in version 0.22.\n",
      "  warnings.warn(CV_WARNING, FutureWarning)\n"
     ]
    },
    {
     "name": "stdout",
     "output_type": "stream",
     "text": [
      "0.502518955170822\n",
      "{'var_smoothing': 0.3}\n"
     ]
    }
   ],
   "source": [
    "gs = GridSearchCV(nb, param_grid=nb_params, scoring='precision')\n",
    "gs.fit(X_train_pc, y_train)\n",
    "print(gs.best_score_)\n",
    "print(gs.best_params_)"
   ]
  },
  {
   "cell_type": "code",
   "execution_count": 18,
   "metadata": {},
   "outputs": [
    {
     "data": {
      "text/plain": [
       "0.48314606741573035"
      ]
     },
     "execution_count": 18,
     "metadata": {},
     "output_type": "execute_result"
    }
   ],
   "source": [
    "gs.score(X_test_pc, y_test)"
   ]
  },
  {
   "cell_type": "code",
   "execution_count": 19,
   "metadata": {},
   "outputs": [],
   "source": [
    "y_hat_nb = gs.predict(X_test_pc)"
   ]
  },
  {
   "cell_type": "code",
   "execution_count": 20,
   "metadata": {
    "scrolled": false
   },
   "outputs": [
    {
     "name": "stdout",
     "output_type": "stream",
     "text": [
      "              precision    recall  f1-score   support\n",
      "\n",
      "           0       0.52      0.96      0.68      1129\n",
      "           1       0.48      0.04      0.08      1038\n",
      "\n",
      "   micro avg       0.52      0.52      0.52      2167\n",
      "   macro avg       0.50      0.50      0.38      2167\n",
      "weighted avg       0.50      0.52      0.39      2167\n",
      "\n"
     ]
    }
   ],
   "source": [
    "print(classification_report(y_test, y_hat_nb))"
   ]
  },
  {
   "cell_type": "code",
   "execution_count": 21,
   "metadata": {},
   "outputs": [
    {
     "data": {
      "text/plain": [
       "array([[1083,   46],\n",
       "       [ 995,   43]])"
      ]
     },
     "execution_count": 21,
     "metadata": {},
     "output_type": "execute_result"
    }
   ],
   "source": [
    "confusion_matrix( y_test, y_hat_nb)"
   ]
  },
  {
   "cell_type": "code",
   "execution_count": 22,
   "metadata": {},
   "outputs": [
    {
     "name": "stderr",
     "output_type": "stream",
     "text": [
      "/Users/bryancombs/anaconda3/lib/python3.6/site-packages/h5py/__init__.py:36: FutureWarning: Conversion of the second argument of issubdtype from `float` to `np.floating` is deprecated. In future, it will be treated as `np.float64 == np.dtype(float).type`.\n",
      "  from ._conv import register_converters as _register_converters\n",
      "Using TensorFlow backend.\n"
     ]
    },
    {
     "name": "stdout",
     "output_type": "stream",
     "text": [
      "Couldn't import dot_parser, loading of dot files will not be possible.\n"
     ]
    }
   ],
   "source": [
    "from keras.models import Sequential\n",
    "from keras.layers import Dense\n",
    "from keras.utils import to_categorical"
   ]
  },
  {
   "cell_type": "code",
   "execution_count": 38,
   "metadata": {},
   "outputs": [],
   "source": [
    "model = Sequential()\n",
    "model.add(Dense(250, \n",
    "                activation = 'relu',\n",
    "                input_dim = X_train_pc.shape[1]))\n",
    "\n",
    "model.add(Dense(200, activation = 'relu'))\n",
    "model.add(Dense(50, activation = 'relu'))\n",
    "model.add(Dense(10, activation = 'relu'))\n",
    "model.add(Dense(1, activation = 'sigmoid')) #output layer "
   ]
  },
  {
   "cell_type": "code",
   "execution_count": null,
   "metadata": {},
   "outputs": [],
   "source": []
  },
  {
   "cell_type": "raw",
   "metadata": {},
   "source": []
  },
  {
   "cell_type": "code",
   "execution_count": 42,
   "metadata": {},
   "outputs": [
    {
     "name": "stdout",
     "output_type": "stream",
     "text": [
      "Train on 6499 samples, validate on 2167 samples\n",
      "Epoch 1/3\n",
      "6499/6499 [==============================] - 1s 152us/step - loss: 0.5222 - acc: 0.7446 - val_loss: 0.8185 - val_acc: 0.5002\n",
      "Epoch 2/3\n",
      "6499/6499 [==============================] - 0s 56us/step - loss: 0.3449 - acc: 0.8589 - val_loss: 1.0350 - val_acc: 0.4855\n",
      "Epoch 3/3\n",
      "6499/6499 [==============================] - 0s 56us/step - loss: 0.1920 - acc: 0.9320 - val_loss: 1.3433 - val_acc: 0.4938\n"
     ]
    },
    {
     "data": {
      "text/plain": [
       "<keras.callbacks.History at 0x1a41bb9f98>"
      ]
     },
     "execution_count": 42,
     "metadata": {},
     "output_type": "execute_result"
    }
   ],
   "source": [
    "model.compile(loss = 'binary_crossentropy', optimizer='adam',\n",
    "              metrics = ['accuracy'])\n",
    "model.fit(X_train_pc, \n",
    "          y_train, epochs =3, \n",
    "          batch_size= 64, \n",
    "          validation_data=(X_test_pc, y_test))"
   ]
  },
  {
   "cell_type": "code",
   "execution_count": 29,
   "metadata": {},
   "outputs": [],
   "source": [
    "y_hat_nn = gs.predict(X_test_pc)"
   ]
  },
  {
   "cell_type": "code",
   "execution_count": null,
   "metadata": {},
   "outputs": [],
   "source": []
  }
 ],
 "metadata": {
  "kernelspec": {
   "display_name": "Python 3",
   "language": "python",
   "name": "python3"
  },
  "language_info": {
   "codemirror_mode": {
    "name": "ipython",
    "version": 3
   },
   "file_extension": ".py",
   "mimetype": "text/x-python",
   "name": "python",
   "nbconvert_exporter": "python",
   "pygments_lexer": "ipython3",
   "version": "3.6.6"
  }
 },
 "nbformat": 4,
 "nbformat_minor": 2
}
